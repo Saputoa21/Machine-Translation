{
  "nbformat": 4,
  "nbformat_minor": 0,
  "metadata": {
    "colab": {
      "provenance": [],
      "include_colab_link": true
    },
    "kernelspec": {
      "name": "python3",
      "display_name": "Python 3"
    },
    "accelerator": "GPU"
  },
  "cells": [
    {
      "cell_type": "markdown",
      "metadata": {
        "id": "view-in-github",
        "colab_type": "text"
      },
      "source": [
        "<a href=\"https://colab.research.google.com/github/Saputoa21/Machine-Translation/blob/main/Kopie_von_toy_lstm_pytorch_binaryclassifier_BasicsMT2025s.ipynb\" target=\"_parent\"><img src=\"https://colab.research.google.com/assets/colab-badge.svg\" alt=\"Open In Colab\"/></a>"
      ]
    },
    {
      "cell_type": "code",
      "metadata": {
        "id": "WSEZpJgvew2h",
        "colab": {
          "base_uri": "https://localhost:8080/"
        },
        "outputId": "5eba6db3-5c23-415d-e331-80b4f22b841a"
      },
      "source": [
        "#import libraries\n",
        "import torch\n",
        "import torch.nn as nn\n",
        "import torch.optim as optim\n",
        "\n",
        "import matplotlib.pyplot as plt\n",
        "%matplotlib inline\n",
        "\n",
        "#uncomment for reproducibility\n",
        "#torch.manual_seed(42)\n",
        "#import numpy as np\n",
        "#np.random.seed(42)\n",
        "\n",
        "# create data with positive instances (X2, Y2) and negative (X1, Y1)\n",
        "#[N, T, F] number of instances, time, features\n",
        "X1 = torch.randn(500, 2000, 100)\n",
        "X2 = torch.randn(500, 2000, 100) + 1.5\n",
        "X = torch.cat([X1, X2], dim=0)\n",
        "Y1 = torch.zeros(500, 1)\n",
        "Y2 = torch.ones(500, 1)\n",
        "Y = torch.cat([Y1, Y2], dim=0)\n",
        "#[N, F] instances, time, features\n",
        "print(X.size())\n",
        "#[N, 1] instances, label [0,1]\n",
        "print(Y.size())"
      ],
      "execution_count": 104,
      "outputs": [
        {
          "output_type": "stream",
          "name": "stdout",
          "text": [
            "torch.Size([1000, 2000, 100])\n",
            "torch.Size([1000, 1])\n"
          ]
        }
      ]
    },
    {
      "cell_type": "code",
      "metadata": {
        "id": "AP5rAdq-fn_X",
        "colab": {
          "base_uri": "https://localhost:8080/"
        },
        "outputId": "72e03d6c-0662-42b2-8ddd-ad5cc767ed59"
      },
      "source": [
        "#define model\n",
        "class Net(nn.Module):\n",
        "\n",
        "    def __init__(self, feat_size=100, hidden_size=100, num_labels=1, dropout=0.2, bidirectional=False, feat_representation='mean'):\n",
        "      super().__init__()\n",
        "      self.feat_representation = feat_representation\n",
        "      self.bidirectional = bidirectional\n",
        "      self.fc1 = nn.Linear(feat_size, feat_size)\n",
        "      self.relu = nn.ReLU()\n",
        "      self.dout = nn.Dropout(dropout)\n",
        "      self.lstm = nn.LSTM(feat_size, hidden_size, batch_first=True,\n",
        "                          bidirectional=bidirectional)\n",
        "      encoding_size = hidden_size * 2 if bidirectional else hidden_size\n",
        "      self.fc2 = nn.Linear(encoding_size, hidden_size)\n",
        "      self.out = nn.Linear(hidden_size, num_labels)\n",
        "      self.out_act = nn.Sigmoid()\n",
        "\n",
        "    def forward(self, x):\n",
        "      #[B, T, F] batch, time, features\n",
        "      h1 = self.fc1(x)\n",
        "      h1 = self.relu(h1)\n",
        "      # [B, T, H] batch, time, hidden or hidden * 2\n",
        "      outputs, (final, _) = self.lstm(h1) #mke gru!!\n",
        "\n",
        "      if self.feat_representation == 'mean':\n",
        "        # mean over hidden states of LSTM\n",
        "        outputs = self.dout(outputs)\n",
        "        h = self.relu(self.fc2(outputs))\n",
        "        #[B, H]\n",
        "        h = h.mean(dim=1)\n",
        "      elif self.feat_representation == 'last_state':\n",
        "        # last hidden state of the lstm or concat of bidirectional forward and backward states\n",
        "        if self.bidirectional:\n",
        "            h_T_fwd = final[0]\n",
        "            h_T_bwd = final[1]\n",
        "            h = torch.cat([h_T_fwd, h_T_bwd], dim=-1)\n",
        "        else:\n",
        "            h = final[-1]\n",
        "        h = self.relu(self.fc2(h))\n",
        "        h = self.dout(h)\n",
        "      #[B, 1]\n",
        "      logits = self.out(h)\n",
        "      probs = self.out_act(logits)\n",
        "      return logits, probs\n",
        "\n",
        "# model\n",
        "model = Net()\n",
        "#check for device\n",
        "device = torch.device(\"cuda:0\") if torch.cuda.is_available() else torch.device(\"cpu\")\n",
        "model = model.to(device)\n",
        "#print architecture\n",
        "print(model)\n",
        "#define adam optimizer\n",
        "opt = optim.Adam(model.parameters(), lr=1e-3)\n",
        "#define binary loss\n",
        "criterion = nn.BCEWithLogitsLoss()"
      ],
      "execution_count": 105,
      "outputs": [
        {
          "output_type": "stream",
          "name": "stdout",
          "text": [
            "Net(\n",
            "  (fc1): Linear(in_features=100, out_features=100, bias=True)\n",
            "  (relu): ReLU()\n",
            "  (dout): Dropout(p=0.2, inplace=False)\n",
            "  (lstm): LSTM(100, 100, batch_first=True)\n",
            "  (fc2): Linear(in_features=100, out_features=100, bias=True)\n",
            "  (out): Linear(in_features=100, out_features=1, bias=True)\n",
            "  (out_act): Sigmoid()\n",
            ")\n"
          ]
        }
      ]
    },
    {
      "cell_type": "code",
      "metadata": {
        "id": "NFJPqMFDhXvj",
        "colab": {
          "base_uri": "https://localhost:8080/",
          "height": 472
        },
        "outputId": "a014999d-d1f2-43fa-80eb-ecf5b3a3a48f"
      },
      "source": [
        "#define hyperparameters\n",
        "e_losses = []\n",
        "e_losses_per_epoch = []\n",
        "num_epochs = 20\n",
        "batch_size=64\n",
        "\n",
        "for e in range(num_epochs):\n",
        "  model.train()\n",
        "  loss_batch = []\n",
        "  for beg_i in range(0, X.size(0), batch_size):\n",
        "    #batch instances given batch size\n",
        "    x_batch = X[beg_i:beg_i + batch_size, :]\n",
        "    y_batch = Y[beg_i:beg_i + batch_size, :]\n",
        "    x_batch = x_batch.to(device)\n",
        "    y_batch = y_batch.to(device)\n",
        "\n",
        "    opt.zero_grad()\n",
        "    # (1) Forward\n",
        "\n",
        "    y_logits, y_probs = model(x_batch)\n",
        "    #print(y_probs.size())\n",
        "    # (2) Compute loss\n",
        "    loss = criterion(y_logits, y_batch)\n",
        "    #save loss of batch\n",
        "    loss_batch.append(loss.item())\n",
        "    # (3) Compute gradients\n",
        "    loss.backward()\n",
        "    #print('backprop')\n",
        "    # (4) update weights\n",
        "    opt.step()\n",
        "\n",
        "  e_losses += loss_batch\n",
        "\n",
        "  # calculate the average loss for the current epoch\n",
        "  average_loss_per_epoch = sum(loss_batch) / len(loss_batch)\n",
        "  e_losses_per_epoch.append(average_loss_per_epoch)\n",
        "\n",
        "#plot loss over epochs\n",
        "plt.plot(e_losses)"
      ],
      "execution_count": 109,
      "outputs": [
        {
          "output_type": "display_data",
          "data": {
            "text/plain": [
              "<Figure size 640x480 with 1 Axes>"
            ],
            "image/png": "[encoded data removed]"
          },
          "metadata": {}
        }
      ]
    },
    {
      "cell_type": "code",
      "source": [
        "# plot loss over epochs\n",
        "plt.plot(range(1, num_epochs + 1), e_losses_per_epoch)\n",
        "plt.xlabel(\"Epoch\")\n",
        "plt.ylabel(\"Average Loss\")\n",
        "plt.title(\"Average Loss Per Epoch\")\n",
        "plt.show()"
      ],
      "metadata": {
        "id": "tqfM_JqC8LFy",
        "outputId": "e389d36a-5656-44ec-986b-7ed8ffcc39b1",
        "colab": {
          "base_uri": "https://localhost:8080/",
          "height": 472
        }
      },
      "execution_count": 110,
      "outputs": [
        {
          "output_type": "display_data",
          "data": {
            "text/plain": [
              "<Figure size 640x480 with 1 Axes>"
            ],
            "image/png": "[encoded data removed]"
          },
          "metadata": {}
        }
      ]
    },
    {
      "cell_type": "code",
      "source": [
        "print(len(e_losses))"
      ],
      "metadata": {
        "id": "ccpjh7Yg66Xi",
        "outputId": "8c1fe538-0e68-4583-b205-dc2adc8471ef",
        "colab": {
          "base_uri": "https://localhost:8080/"
        }
      },
      "execution_count": 107,
      "outputs": [
        {
          "output_type": "stream",
          "name": "stdout",
          "text": [
            "320\n"
          ]
        }
      ]
    },
    {
      "cell_type": "code",
      "source": [
        "print(len(loss_batch))"
      ],
      "metadata": {
        "id": "NLpZp9Xz6_D7",
        "outputId": "f6617b18-704f-4ff6-c1e1-23c10554e392",
        "colab": {
          "base_uri": "https://localhost:8080/"
        }
      },
      "execution_count": 108,
      "outputs": [
        {
          "output_type": "stream",
          "name": "stdout",
          "text": [
            "16\n"
          ]
        }
      ]
    },
    {
      "cell_type": "code",
      "metadata": {
        "id": "qOqlotxYkHxQ",
        "colab": {
          "base_uri": "https://localhost:8080/"
        },
        "outputId": "9b6cbaa3-f138-4b2e-e1fb-45da46e12297"
      },
      "source": [
        "#prediction\n",
        "x_t = torch.randn(1, 2000, 100)\n",
        "x_t = x_t.to(device)\n",
        "\n",
        "model.eval()\n",
        "y_logit, y_prob = model(x_t)\n",
        "print(y_prob.item())\n",
        "x_1_t = torch.randn(1, 200, 100) + 1.5\n",
        "x_1_t = x_1_t.to(device)\n",
        "y1_logit, y1_prob = model(x_1_t)\n",
        "print(y1_prob.item())"
      ],
      "execution_count": 67,
      "outputs": [
        {
          "output_type": "stream",
          "name": "stdout",
          "text": [
            "5.442787369247526e-05\n",
            "0.9999228715896606\n"
          ]
        }
      ]
    },
    {
      "cell_type": "markdown",
      "source": [
        "# TODO\n",
        "\n",
        "Make a new section for each new model NetLast(), NetBiLSTM(), NetDropout()....\n",
        "\n",
        "- Try different feature representations: last state and bidirectional LSTM\n",
        "- try different feature sizes, and dropout [0.1, 0.5, 0.8]\n",
        "- try different non linearities: sigmod, tanh\n",
        "- Use a GRU instead of LSTM: [GRU pytorch](https://pytorch.org/docs/stable/generated/torch.nn.GRU.html)\n",
        "- what if we predict a sequence instead of classification?\n",
        "```python\n",
        "#[N, T, F] number of instances, time, features\n",
        "X1 = torch.randn(1000, 48, 50)\n",
        "X2 = torch.randn(1000, 48, 50) + 1.5\n",
        "X = torch.cat([X1, X2], dim=0)\n",
        "mask = torch.cuda.FloatTensor(2000, 48, 1).uniform_() > 0.8\n",
        "Y1 = torch.zeros(1000, 1)\n",
        "Y2 = torch.ones(1000, 1)\n",
        "#[B, 1]\n",
        "Y_mean = torch.cat([Y1, Y2], dim=0)\n",
        "#[B, T, 1]\n",
        "Y_seq = Y_mean.unsqueeze(1).repeat(1, 48, 1)\n",
        "#[N, F] instances, time, features\n",
        "print(X.size())\n",
        "#[N, 1] instances, label [0,1]\n",
        "print(Y_seq.size())\n",
        "#print(Y_mean.size())\n",
        "print(mask.size())\n",
        "#in model\n",
        "def forward(self, x):\n",
        "    #...\n",
        "    #[B, T, H]\n",
        "    #h_mean = h_time.mean(1)\n",
        "    #[B, T, H] logits is a seq\n",
        "    #logits_mean = self.out_mean(h_mean)\n",
        "    return logits_seq\n",
        "#criterion\n",
        "criterion = nn.BCEWithLogitsLoss(reduction='none')\n",
        "#[B, 1] mean (0)\n",
        "#loss\n",
        "#[B, T, 1]\n",
        "loss_seq = loss_seq * x_mask\n",
        "loss_seq = loss_seq.sum(1)\n",
        "loss_seq = loss_seq.mean(0)\n",
        "```\n",
        "- change BCElogits to probs https://pytorch.org/docs/stable/generated/torch.nn.BCELoss.html\n"
      ],
      "metadata": {
        "id": "_19uyVjK9Bml"
      }
    },
    {
      "cell_type": "markdown",
      "source": [
        "## Model 1: Last state"
      ],
      "metadata": {
        "id": "OZ5mg7w_-ltR"
      }
    },
    {
      "cell_type": "code",
      "source": [
        "# model\n",
        "model = Net()\n",
        "model.feat_representation = 'last_state'\n",
        "print(model.feat_representation)\n",
        "\n",
        "#check for device\n",
        "device = torch.device(\"cuda:0\") if torch.cuda.is_available() else torch.device(\"cpu\")\n",
        "model = model.to(device)\n",
        "\n",
        "#print architecture\n",
        "print(model)\n",
        "\n",
        "#define adam optimizer\n",
        "opt = optim.Adam(model.parameters(), lr=1e-3)\n",
        "\n",
        "#define binary loss\n",
        "criterion = nn.BCEWithLogitsLoss()"
      ],
      "metadata": {
        "id": "fchTq2Ql-r5y",
        "outputId": "596d5cf1-2801-48dc-9392-09ad8561c491",
        "colab": {
          "base_uri": "https://localhost:8080/"
        }
      },
      "execution_count": 57,
      "outputs": [
        {
          "output_type": "stream",
          "name": "stdout",
          "text": [
            "last_state\n",
            "Net(\n",
            "  (fc1): Linear(in_features=100, out_features=100, bias=True)\n",
            "  (relu): ReLU()\n",
            "  (dout): Dropout(p=0.2, inplace=False)\n",
            "  (lstm): LSTM(100, 100, batch_first=True)\n",
            "  (fc2): Linear(in_features=100, out_features=100, bias=True)\n",
            "  (out): Linear(in_features=100, out_features=1, bias=True)\n",
            "  (out_act): Sigmoid()\n",
            ")\n"
          ]
        }
      ]
    },
    {
      "cell_type": "code",
      "source": [
        "e_losses = []\n",
        "num_epochs = 20\n",
        "batch_size=64\n",
        "\n",
        "for e in range(num_epochs):\n",
        "  model.train()\n",
        "  loss_batch = []\n",
        "  for beg_i in range(0, X.size(0), batch_size):\n",
        "    #batch instances given batch size\n",
        "    x_batch = X[beg_i:beg_i + batch_size, :]\n",
        "    y_batch = Y[beg_i:beg_i + batch_size, :]\n",
        "    x_batch = x_batch.to(device)\n",
        "    y_batch = y_batch.to(device)\n",
        "\n",
        "    opt.zero_grad()\n",
        "    # (1) Forward\n",
        "\n",
        "    y_logits, y_probs = model(x_batch)\n",
        "    #print(y_probs.size())\n",
        "    # (2) Compute loss\n",
        "    loss = criterion(y_logits, y_batch)\n",
        "    #save loss of batch\n",
        "    loss_batch.append(loss.item())\n",
        "    # (3) Compute gradients\n",
        "    loss.backward()\n",
        "    #print('backprop')\n",
        "    # (4) update weights\n",
        "    opt.step()\n",
        "\n",
        "  e_losses += loss_batch\n",
        "\n",
        "#plot loss over epochs\n",
        "plt.plot(e_losses)"
      ],
      "metadata": {
        "id": "uPQ34kor_f23",
        "outputId": "bfad3a3f-2f20-439c-fdb2-69a86a576e18",
        "colab": {
          "base_uri": "https://localhost:8080/",
          "height": 447
        }
      },
      "execution_count": 58,
      "outputs": [
        {
          "output_type": "execute_result",
          "data": {
            "text/plain": [
              "[<matplotlib.lines.Line2D at 0x7df449937050>]"
            ]
          },
          "metadata": {},
          "execution_count": 58
        },
        {
          "output_type": "display_data",
          "data": {
            "text/plain": [
              "<Figure size 640x480 with 1 Axes>"
            ],
            "image/png": "[encoded data removed]"
          },
          "metadata": {}
        }
      ]
    },
    {
      "cell_type": "code",
      "source": [
        "#prediction\n",
        "x_t = torch.randn(1, 5000, 100)\n",
        "x_t = x_t.to(device)\n",
        "\n",
        "model.eval()\n",
        "y_logit, y_prob = model(x_t)\n",
        "print(y_prob.item())\n",
        "x_1_t = torch.randn(1, 5000, 100) + 1.5\n",
        "x_1_t = x_1_t.to(device)\n",
        "y1_logit, y1_prob = model(x_1_t)\n",
        "print(y1_prob.item())"
      ],
      "metadata": {
        "id": "JTltjHXB_gsS",
        "outputId": "b76568ab-0b3e-4b82-efef-f1b80652a0cc",
        "colab": {
          "base_uri": "https://localhost:8080/"
        }
      },
      "execution_count": 59,
      "outputs": [
        {
          "output_type": "stream",
          "name": "stdout",
          "text": [
            "0.00027288575074635446\n",
            "0.9999750852584839\n"
          ]
        }
      ]
    },
    {
      "cell_type": "markdown",
      "source": [
        "## Model 2: Bidirectional"
      ],
      "metadata": {
        "id": "RDAEkdPy_XjJ"
      }
    },
    {
      "cell_type": "code",
      "source": [
        "# model\n",
        "model = Net()\n",
        "model.bidirectional = 'True'\n",
        "print(model.bidirectional)\n",
        "\n",
        "#check for device\n",
        "device = torch.device(\"cuda:0\") if torch.cuda.is_available() else torch.device(\"cpu\")\n",
        "model = model.to(device)\n",
        "\n",
        "#define adam optimizer\n",
        "opt = optim.Adam(model.parameters(), lr=1e-3)\n",
        "\n",
        "#define binary loss\n",
        "criterion = nn.BCEWithLogitsLoss()"
      ],
      "metadata": {
        "id": "x2P9HZmv_eLK",
        "outputId": "2dd7c0f7-5cf8-4e3f-e369-e19a7d022667",
        "colab": {
          "base_uri": "https://localhost:8080/"
        }
      },
      "execution_count": 60,
      "outputs": [
        {
          "output_type": "stream",
          "name": "stdout",
          "text": [
            "True\n"
          ]
        }
      ]
    },
    {
      "cell_type": "code",
      "source": [
        "e_losses = []\n",
        "num_epochs = 20\n",
        "batch_size=64\n",
        "\n",
        "for e in range(num_epochs):\n",
        "  model.train()\n",
        "  loss_batch = []\n",
        "  for beg_i in range(0, X.size(0), batch_size):\n",
        "    #batch instances given batch size\n",
        "    x_batch = X[beg_i:beg_i + batch_size, :]\n",
        "    y_batch = Y[beg_i:beg_i + batch_size, :]\n",
        "    x_batch = x_batch.to(device)\n",
        "    y_batch = y_batch.to(device)\n",
        "\n",
        "    opt.zero_grad()\n",
        "    # (1) Forward\n",
        "\n",
        "    y_logits, y_probs = model(x_batch)\n",
        "    #print(y_probs.size())\n",
        "    # (2) Compute loss\n",
        "    loss = criterion(y_logits, y_batch)\n",
        "    #save loss of batch\n",
        "    loss_batch.append(loss.item())\n",
        "    # (3) Compute gradients\n",
        "    loss.backward()\n",
        "    #print('backprop')\n",
        "    # (4) update weights\n",
        "    opt.step()\n",
        "\n",
        "  e_losses += loss_batch\n",
        "\n",
        "#plot loss over epochs\n",
        "plt.plot(e_losses)"
      ],
      "metadata": {
        "id": "DXSXWpMUzBTp",
        "outputId": "cc339375-488a-41a3-ee8e-abaa647ae1d9",
        "colab": {
          "base_uri": "https://localhost:8080/",
          "height": 447
        }
      },
      "execution_count": 61,
      "outputs": [
        {
          "output_type": "execute_result",
          "data": {
            "text/plain": [
              "[<matplotlib.lines.Line2D at 0x7df430031250>]"
            ]
          },
          "metadata": {},
          "execution_count": 61
        },
        {
          "output_type": "display_data",
          "data": {
            "text/plain": [
              "<Figure size 640x480 with 1 Axes>"
            ],
            "image/png": "[encoded data removed]"
          },
          "metadata": {}
        }
      ]
    },
    {
      "cell_type": "code",
      "source": [
        "#prediction\n",
        "x_t = torch.randn(1, 5000, 100)\n",
        "x_t = x_t.to(device)\n",
        "\n",
        "model.eval()\n",
        "y_logit, y_prob = model(x_t)\n",
        "print(y_prob.item())\n",
        "x_1_t = torch.randn(1, 200, 100) + 1.5\n",
        "x_1_t = x_1_t.to(device)\n",
        "y1_logit, y1_prob = model(x_1_t)\n",
        "print(y1_prob.item())"
      ],
      "metadata": {
        "id": "1gtVeEIu1plw",
        "outputId": "1ccde65f-11f5-4974-fe5f-d00f5af612ad",
        "colab": {
          "base_uri": "https://localhost:8080/"
        }
      },
      "execution_count": 62,
      "outputs": [
        {
          "output_type": "stream",
          "name": "stdout",
          "text": [
            "0.00011270835238974541\n",
            "0.9999017715454102\n"
          ]
        }
      ]
    },
    {
      "cell_type": "markdown",
      "source": [
        "Model 3: Dropout 0.1"
      ],
      "metadata": {
        "id": "wE-IbECC_7qA"
      }
    },
    {
      "cell_type": "code",
      "source": [
        "# model\n",
        "model3 = Net()\n",
        "model3.dout = 0.1\n",
        "\n",
        "#check for device\n",
        "device = torch.device(\"cuda:0\") if torch.cuda.is_available() else torch.device(\"cpu\")\n",
        "model3 = model.to(device)\n",
        "\n",
        "#print architecture\n",
        "print(model3)\n",
        "\n",
        "#define adam optimizer\n",
        "opt = optim.Adam(model3.parameters(), lr=1e-3)\n",
        "\n",
        "#define binary loss\n",
        "criterion = nn.BCEWithLogitsLoss()"
      ],
      "metadata": {
        "id": "o3tcQwhNAOxI"
      },
      "execution_count": null,
      "outputs": []
    },
    {
      "cell_type": "markdown",
      "source": [
        "Model 4: Dropout 0.5"
      ],
      "metadata": {
        "id": "rV3Xl7_PAEiC"
      }
    },
    {
      "cell_type": "code",
      "source": [
        "# model\n",
        "model4 = Net\n",
        "model4.dout = 0.5\n",
        "\n",
        "#check for device\n",
        "device = torch.device(\"cuda:0\") if torch.cuda.is_available() else torch.device(\"cpu\")\n",
        "model4 = model.to(device)\n",
        "\n",
        "#print architecture\n",
        "print(model4)\n",
        "\n",
        "#define adam optimizer\n",
        "opt = optim.Adam(model4.parameters(), lr=1e-3)\n",
        "\n",
        "#define binary loss\n",
        "criterion = nn.BCEWithLogitsLoss()"
      ],
      "metadata": {
        "id": "5sSZleOYAPHx"
      },
      "execution_count": null,
      "outputs": []
    },
    {
      "cell_type": "markdown",
      "source": [
        "Model 5: Dropout 0.8"
      ],
      "metadata": {
        "id": "kdqjIDzkAIE1"
      }
    },
    {
      "cell_type": "code",
      "source": [
        "# model\n",
        "model5 = Net()\n",
        "model5.dout = 0.8\n",
        "\n",
        "#check for device\n",
        "device = torch.device(\"cuda:0\") if torch.cuda.is_available() else torch.device(\"cpu\")\n",
        "model5 = model5.to(device)\n",
        "\n",
        "#print architecture\n",
        "print(model5)\n",
        "\n",
        "#define adam optimizer\n",
        "opt = optim.Adam(model5.parameters(), lr=1e-3)\n",
        "\n",
        "#define binary loss\n",
        "criterion = nn.BCEWithLogitsLoss()"
      ],
      "metadata": {
        "id": "SkVoz8IpAPhF"
      },
      "execution_count": null,
      "outputs": []
    },
    {
      "cell_type": "markdown",
      "source": [
        "Model 6: Non linearity with sigmoid"
      ],
      "metadata": {
        "id": "HMqkOLDqAQMC"
      }
    },
    {
      "cell_type": "code",
      "source": [
        "#define model\n",
        "class Net_sigm(nn.Module):\n",
        "\n",
        "    def __init__(self, feat_size=100, hidden_size=100, num_labels=1, dropout=0.2, bidirectional=False, feat_representation='mean'):\n",
        "      super().__init__()\n",
        "      self.feat_representation = feat_representation\n",
        "      self.bidirectional = bidirectional\n",
        "      self.fc1 = nn.Linear(feat_size, feat_size)\n",
        "      self.relu = nn.ReLU()\n",
        "      self.dout = nn.Dropout(dropout)\n",
        "      self.lstm = nn.LSTM(feat_size, hidden_size, batch_first=True,\n",
        "                          bidirectional=bidirectional)\n",
        "      encoding_size = hidden_size * 2 if bidirectional else hidden_size\n",
        "      self.fc2 = nn.Linear(encoding_size, hidden_size)\n",
        "      self.out = nn.Linear(hidden_size, num_labels)\n",
        "      self.out_act = nn.Sigmoid()\n",
        "\n",
        "    def forward(self, x):\n",
        "      #[B, T, F] batch, time, features\n",
        "      h1 = self.fc1(x)\n",
        "      h1 = self.relu(h1)\n",
        "      # [B, T, H] batch, time, hidden or hidden * 2\n",
        "      outputs, (final, _) = self.lstm(h1) #mke gru!!\n",
        "\n",
        "      if self.feat_representation == 'mean':\n",
        "        # mean over hidden states of LSTM\n",
        "        outputs = self.dout(outputs)\n",
        "        h = self.relu(self.fc2(outputs))\n",
        "        #[B, H]\n",
        "        h = h.mean(dim=1)\n",
        "      elif self.feat_representation == 'last_state':\n",
        "        # last hidden state of the lstm or concat of bidirectional forward and backward states\n",
        "        if self.bidirectional:\n",
        "            h_T_fwd = final[0]\n",
        "            h_T_bwd = final[1]\n",
        "            h = torch.cat([h_T_fwd, h_T_bwd], dim=-1)\n",
        "        else:\n",
        "            h = final[-1]\n",
        "        h = self.relu(self.fc2(h))\n",
        "        h = self.dout(h)\n",
        "      #[B, 1]\n",
        "      logits = self.out(h)\n",
        "      probs = self.out_act(logits)\n",
        "      return logits, probs\n",
        "\n",
        "# model\n",
        "model6 = Net_sigm()\n",
        "\n",
        "#check for device\n",
        "device = torch.device(\"cuda:0\") if torch.cuda.is_available() else torch.device(\"cpu\")\n",
        "model6 = model6.to(device)\n",
        "\n",
        "#print architecture\n",
        "print(model6)\n",
        "\n",
        "#define adam optimizer\n",
        "opt = optim.Adam(model6.parameters(), lr=1e-3)\n",
        "\n",
        "#define binary loss\n",
        "criterion = nn.BCEWithLogitsLoss()"
      ],
      "metadata": {
        "id": "6xJlGYCnCpEF"
      },
      "execution_count": null,
      "outputs": []
    },
    {
      "cell_type": "markdown",
      "source": [
        "Model 7: Non linearity with tanh"
      ],
      "metadata": {
        "id": "PEKUpmYSC0u_"
      }
    },
    {
      "cell_type": "code",
      "source": [
        "#define model\n",
        "class Net_tanh(nn.Module):\n",
        "\n",
        "    def __init__(self, feat_size=100, hidden_size=100, num_labels=1, dropout=0.2, bidirectional=False, feat_representation='mean'):\n",
        "      super().__init__()\n",
        "      self.feat_representation = feat_representation\n",
        "      self.bidirectional = bidirectional\n",
        "      self.fc1 = nn.Linear(feat_size, feat_size)\n",
        "      self.tanh = nn.Tanh()\n",
        "      self.dout = nn.Dropout(dropout)\n",
        "      self.lstm = nn.LSTM(feat_size, hidden_size, batch_first=True,\n",
        "                          bidirectional=bidirectional)\n",
        "      encoding_size = hidden_size * 2 if bidirectional else hidden_size\n",
        "      self.fc2 = nn.Linear(encoding_size, hidden_size)\n",
        "      self.out = nn.Linear(hidden_size, num_labels)\n",
        "      self.out_act = nn.Sigmoid()\n",
        "\n",
        "    def forward(self, x):\n",
        "      #[B, T, F] batch, time, features\n",
        "      h1 = self.fc1(x)\n",
        "      h1 = self.relu(h1)\n",
        "      # [B, T, H] batch, time, hidden or hidden * 2\n",
        "      outputs, (final, _) = self.lstm(h1) #mke gru!!\n",
        "\n",
        "      if self.feat_representation == 'mean':\n",
        "        # mean over hidden states of LSTM\n",
        "        outputs = self.dout(outputs)\n",
        "        h = self.relu(self.fc2(outputs))\n",
        "        #[B, H]\n",
        "        h = h.mean(dim=1)\n",
        "      elif self.feat_representation == 'last_state':\n",
        "        # last hidden state of the lstm or concat of bidirectional forward and backward states\n",
        "        if self.bidirectional:\n",
        "            h_T_fwd = final[0]\n",
        "            h_T_bwd = final[1]\n",
        "            h = torch.cat([h_T_fwd, h_T_bwd], dim=-1)\n",
        "        else:\n",
        "            h = final[-1]\n",
        "        h = self.relu(self.fc2(h))\n",
        "        h = self.dout(h)\n",
        "      #[B, 1]\n",
        "      logits = self.out(h)\n",
        "      probs = self.out_act(logits)\n",
        "      return logits, probs\n",
        "\n",
        "# model\n",
        "model7 = Net_tanh()\n",
        "\n",
        "#check for device\n",
        "device = torch.device(\"cuda:0\") if torch.cuda.is_available() else torch.device(\"cpu\")\n",
        "model7 = model7.to(device)\n",
        "\n",
        "#print architecture\n",
        "print(model7)\n",
        "\n",
        "#define adam optimizer\n",
        "opt = optim.Adam(model7.parameters(), lr=1e-3)\n",
        "\n",
        "#define binary loss\n",
        "criterion = nn.BCEWithLogitsLoss()"
      ],
      "metadata": {
        "id": "a9Jn8lCrC-rv"
      },
      "execution_count": null,
      "outputs": []
    },
    {
      "cell_type": "markdown",
      "source": [
        "Model 8: GRU"
      ],
      "metadata": {
        "id": "kYijBZqbDWbZ"
      }
    },
    {
      "cell_type": "code",
      "source": [
        "#define model\n",
        "class Net_gru(nn.Module):\n",
        "\n",
        "    def __init__(self, feat_size=100, hidden_size=100, num_labels=1, dropout=0.2, bidirectional=False, feat_representation='mean'):\n",
        "      super().__init__()\n",
        "      self.feat_representation = feat_representation\n",
        "      self.bidirectional = bidirectional\n",
        "      self.fc1 = nn.Linear(feat_size, feat_size)\n",
        "      self.relu = nn.Relu()\n",
        "      self.dout = nn.Dropout(dropout)\n",
        "      self.gru = nn.GRU() #copy parameters\n",
        "      encoding_size = hidden_size * 2 if bidirectional else hidden_size\n",
        "      self.fc2 = nn.Linear(encoding_size, hidden_size)\n",
        "      self.out = nn.Linear(hidden_size, num_labels)\n",
        "      self.out_act = nn.Sigmoid()\n",
        "\n",
        "    def forward(self, x):\n",
        "      #[B, T, F] batch, time, features\n",
        "      h1 = self.fc1(x)\n",
        "      h1 = self.relu(h1)\n",
        "      # [B, T, H] batch, time, hidden or hidden * 2\n",
        "      outputs, (final, _) = self.lstm(h1) #mke gru!!\n",
        "\n",
        "      if self.feat_representation == 'mean':\n",
        "        # mean over hidden states of LSTM\n",
        "        outputs = self.dout(outputs)\n",
        "        h = self.relu(self.fc2(outputs))\n",
        "        #[B, H]\n",
        "        h = h.mean(dim=1)\n",
        "      elif self.feat_representation == 'last_state':\n",
        "        # last hidden state of the lstm or concat of bidirectional forward and backward states\n",
        "        if self.bidirectional:\n",
        "            h_T_fwd = final[0]\n",
        "            h_T_bwd = final[1]\n",
        "            h = torch.cat([h_T_fwd, h_T_bwd], dim=-1)\n",
        "        else:\n",
        "            h = final[-1]\n",
        "        h = self.relu(self.fc2(h))\n",
        "        h = self.dout(h)\n",
        "      #[B, 1]\n",
        "      logits = self.out(h)\n",
        "      probs = self.out_act(logits)\n",
        "      return logits, probs\n",
        "\n",
        "# model\n",
        "model8 = Net_gru()\n",
        "\n",
        "#check for device\n",
        "device = torch.device(\"cuda:0\") if torch.cuda.is_available() else torch.device(\"cpu\")\n",
        "model8 = model8.to(device)\n",
        "\n",
        "#print architecture\n",
        "print(model8)\n",
        "\n",
        "#define adam optimizer\n",
        "opt = optim.Adam(model8.parameters(), lr=1e-3)\n",
        "\n",
        "#define binary loss\n",
        "criterion = nn.BCEWithLogitsLoss()"
      ],
      "metadata": {
        "id": "zXvpB0r9DbF3"
      },
      "execution_count": null,
      "outputs": []
    },
    {
      "cell_type": "code",
      "source": [
        "torch.nn.GRU(input_size, hidden_size, num_layers=1, bias=True, batch_first=False, dropout=0.0, bidirectional=False, device=None, dtype=None)"
      ],
      "metadata": {
        "id": "PilbbMhtEJg8"
      },
      "execution_count": null,
      "outputs": []
    },
    {
      "cell_type": "markdown",
      "source": [
        "Model 9: Prediciting a sequence"
      ],
      "metadata": {
        "id": "B8lZTYpeEVBQ"
      }
    },
    {
      "cell_type": "code",
      "source": [],
      "metadata": {
        "id": "Y7FNeGglPgle"
      },
      "execution_count": null,
      "outputs": []
    },
    {
      "cell_type": "markdown",
      "source": [
        "Model 10: Different feature size"
      ],
      "metadata": {
        "id": "Zv4y0TgNPg2V"
      }
    },
    {
      "cell_type": "markdown",
      "source": [
        "Model 11: Probs instead of BCElogits"
      ],
      "metadata": {
        "id": "8MyZtbpbPlIm"
      }
    }
  ]
}