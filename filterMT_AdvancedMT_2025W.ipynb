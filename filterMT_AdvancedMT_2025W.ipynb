{
  "nbformat": 4,
  "nbformat_minor": 0,
  "metadata": {
    "colab": {
      "provenance": [],
      "gpuType": "T4",
      "include_colab_link": true
    },
    "kernelspec": {
      "name": "python3",
      "display_name": "Python 3"
    },
    "language_info": {
      "name": "python"
    },
    "accelerator": "GPU"
  },
  "cells": [
    {
      "cell_type": "markdown",
      "metadata": {
        "id": "view-in-github",
        "colab_type": "text"
      },
      "source": [
        "<a href=\"https://colab.research.google.com/github/Saputoa21/Machine-Translation/blob/main/filterMT_AdvancedMT_2025W.ipynb\" target=\"_parent\"><img src=\"https://colab.research.google.com/assets/colab-badge.svg\" alt=\"Open In Colab\"/></a>"
      ]
    },
    {
      "cell_type": "code",
      "source": [
        "#https://github.com/ymoslem/Adaptive-MT-LLM-Fine-tuning/blob/main/Data-Processing-Adaptive-MT.ipynb\n",
        "#https://github.com/ymoslem/MT-Preparation/tree/main"
      ],
      "metadata": {
        "id": "kswpUoj6GbYM"
      },
      "execution_count": null,
      "outputs": []
    },
    {
      "cell_type": "code",
      "source": [
        "!git clone https://github.com/ymoslem/MT-Preparation.git"
      ],
      "metadata": {
        "colab": {
          "base_uri": "https://localhost:8080/"
        },
        "id": "Ksb3SbK4-gaB",
        "outputId": "d9a5a9e5-e805-4b6f-9b2b-8f82b4a01e4e"
      },
      "execution_count": null,
      "outputs": [
        {
          "output_type": "stream",
          "name": "stdout",
          "text": [
            "fatal: destination path 'MT-Preparation' already exists and is not an empty directory.\n"
          ]
        }
      ]
    },
    {
      "cell_type": "code",
      "source": [
        "%cd MT-Preparation"
      ],
      "metadata": {
        "colab": {
          "base_uri": "https://localhost:8080/"
        },
        "id": "SGa81qmR-oKp",
        "outputId": "52c70801-6689-46ef-c044-f9b32c78fd90"
      },
      "execution_count": null,
      "outputs": [
        {
          "output_type": "stream",
          "name": "stdout",
          "text": [
            "/MT-Preparation\n"
          ]
        }
      ]
    },
    {
      "cell_type": "code",
      "source": [
        "!pip3 install --user -r requirements.txt"
      ],
      "metadata": {
        "colab": {
          "base_uri": "https://localhost:8080/"
        },
        "id": "8cY_cMx4-uyp",
        "outputId": "318f7fc4-3d2a-43fd-e9fa-d0ac88da7c2b"
      },
      "execution_count": null,
      "outputs": [
        {
          "output_type": "stream",
          "name": "stdout",
          "text": [
            "Requirement already satisfied: numpy in /usr/local/lib/python3.12/dist-packages (from -r requirements.txt (line 1)) (2.0.2)\n",
            "Requirement already satisfied: pandas in /usr/local/lib/python3.12/dist-packages (from -r requirements.txt (line 2)) (2.2.2)\n",
            "Requirement already satisfied: sentencepiece in /usr/local/lib/python3.12/dist-packages (from -r requirements.txt (line 3)) (0.2.1)\n",
            "Requirement already satisfied: python-dateutil>=2.8.2 in /usr/local/lib/python3.12/dist-packages (from pandas->-r requirements.txt (line 2)) (2.9.0.post0)\n",
            "Requirement already satisfied: pytz>=2020.1 in /usr/local/lib/python3.12/dist-packages (from pandas->-r requirements.txt (line 2)) (2025.2)\n",
            "Requirement already satisfied: tzdata>=2022.7 in /usr/local/lib/python3.12/dist-packages (from pandas->-r requirements.txt (line 2)) (2025.2)\n",
            "Requirement already satisfied: six>=1.5 in /usr/local/lib/python3.12/dist-packages (from python-dateutil>=2.8.2->pandas->-r requirements.txt (line 2)) (1.17.0)\n"
          ]
        }
      ]
    },
    {
      "cell_type": "code",
      "source": [
        "%cd .."
      ],
      "metadata": {
        "colab": {
          "base_uri": "https://localhost:8080/"
        },
        "id": "5on0MOYf-z2q",
        "outputId": "965a85d9-6a7a-4b1c-aa70-7d16fb07458a"
      },
      "execution_count": null,
      "outputs": [
        {
          "output_type": "stream",
          "name": "stdout",
          "text": [
            "/\n"
          ]
        }
      ]
    },
    {
      "cell_type": "code",
      "source": [
        "!ls"
      ],
      "metadata": {
        "colab": {
          "base_uri": "https://localhost:8080/"
        },
        "id": "xEp8fRSD-4Xi",
        "outputId": "bbe144ae-251e-48ce-e103-58e85d20af88"
      },
      "execution_count": null,
      "outputs": [
        {
          "output_type": "stream",
          "name": "stdout",
          "text": [
            "bin\t\t\t    kaggle\t    NGC-DL-CONTAINER-LICENSE  srv\n",
            "boot\t\t\t    lib\t\t    opt\t\t\t      sys\n",
            "content\t\t\t    lib32\t    proc\t\t      tmp\n",
            "cuda-keyring_1.1-1_all.deb  lib64\t    python-apt\t\t      tools\n",
            "datalab\t\t\t    libx32\t    python-apt.tar.xz\t      usr\n",
            "dev\t\t\t    media\t    root\t\t      var\n",
            "etc\t\t\t    mnt\t\t    run\n",
            "home\t\t\t    MT-Preparation  sbin\n"
          ]
        }
      ]
    },
    {
      "cell_type": "code",
      "source": [
        "!python3 MT-Preparation/filtering/filter.py train.en-de.en train.en-de.de en de"
      ],
      "metadata": {
        "colab": {
          "base_uri": "https://localhost:8080/"
        },
        "id": "SFb2r0Wd-6Yj",
        "outputId": "0111616e-f05f-4785-9346-9d198b1e4187"
      },
      "execution_count": null,
      "outputs": [
        {
          "output_type": "stream",
          "name": "stdout",
          "text": [
            "Traceback (most recent call last):\n",
            "  File \"//MT-Preparation/filtering/filter.py\", line 152, in <module>\n",
            "    prepare(source_file, target_file, source_lang, target_lang, lower=False)\n",
            "  File \"//MT-Preparation/filtering/filter.py\", line 21, in prepare\n",
            "    df_source = pd.read_csv(source_file, names=['Source'], sep=\"\\0\", quoting=csv.QUOTE_NONE, skip_blank_lines=False, on_bad_lines=\"skip\")\n",
            "                ^^^^^^^^^^^^^^^^^^^^^^^^^^^^^^^^^^^^^^^^^^^^^^^^^^^^^^^^^^^^^^^^^^^^^^^^^^^^^^^^^^^^^^^^^^^^^^^^^^^^^^^^^^^^^^^^^^^^^^^^^\n",
            "  File \"/usr/local/lib/python3.12/dist-packages/pandas/io/parsers/readers.py\", line 1026, in read_csv\n",
            "    return _read(filepath_or_buffer, kwds)\n",
            "           ^^^^^^^^^^^^^^^^^^^^^^^^^^^^^^^\n",
            "  File \"/usr/local/lib/python3.12/dist-packages/pandas/io/parsers/readers.py\", line 620, in _read\n",
            "    parser = TextFileReader(filepath_or_buffer, **kwds)\n",
            "             ^^^^^^^^^^^^^^^^^^^^^^^^^^^^^^^^^^^^^^^^^^\n",
            "  File \"/usr/local/lib/python3.12/dist-packages/pandas/io/parsers/readers.py\", line 1620, in __init__\n",
            "    self._engine = self._make_engine(f, self.engine)\n",
            "                   ^^^^^^^^^^^^^^^^^^^^^^^^^^^^^^^^^\n",
            "  File \"/usr/local/lib/python3.12/dist-packages/pandas/io/parsers/readers.py\", line 1880, in _make_engine\n",
            "    self.handles = get_handle(\n",
            "                   ^^^^^^^^^^^\n",
            "  File \"/usr/local/lib/python3.12/dist-packages/pandas/io/common.py\", line 873, in get_handle\n",
            "    handle = open(\n",
            "             ^^^^^\n",
            "FileNotFoundError: [Errno 2] No such file or directory: 'train.en-de.en'\n"
          ]
        }
      ]
    },
    {
      "cell_type": "code",
      "source": [
        "!python3 MT-Preparation/filtering/semantic_filter.py train.en-de.en-filtered.en train.en-de.de-filtered.de en de 10000 0.45"
      ],
      "metadata": {
        "colab": {
          "base_uri": "https://localhost:8080/"
        },
        "id": "aD8KDZV_gBRa",
        "outputId": "a2723e88-da38-4a77-cb85-082be81d416b"
      },
      "execution_count": null,
      "outputs": [
        {
          "output_type": "stream",
          "name": "stdout",
          "text": [
            "Traceback (most recent call last):\n",
            "  File \"//MT-Preparation/filtering/semantic_filter.py\", line 3, in <module>\n",
            "    from sentence_transformers import SentenceTransformer\n",
            "  File \"/usr/local/lib/python3.12/dist-packages/sentence_transformers/__init__.py\", line 15, in <module>\n",
            "    from sentence_transformers.cross_encoder import (\n",
            "  File \"/usr/local/lib/python3.12/dist-packages/sentence_transformers/cross_encoder/__init__.py\", line 3, in <module>\n",
            "    from .CrossEncoder import CrossEncoder\n",
            "  File \"/usr/local/lib/python3.12/dist-packages/sentence_transformers/cross_encoder/CrossEncoder.py\", line 16, in <module>\n",
            "object address  : 0x7cd1c6228d60\n",
            "object refcount : 3\n",
            "object type     : 0xa2a4e0\n",
            "object type name: KeyboardInterrupt\n",
            "object repr     : KeyboardInterrupt()\n",
            "lost sys.stderr\n",
            "^C\n"
          ]
        }
      ]
    },
    {
      "cell_type": "code",
      "source": [
        "!wc -l *"
      ],
      "metadata": {
        "colab": {
          "base_uri": "https://localhost:8080/"
        },
        "id": "b-zztIwvfqfi",
        "outputId": "67d811c0-c2fc-4fbe-89b2-aae5e1ee9a72"
      },
      "execution_count": null,
      "outputs": [
        {
          "output_type": "stream",
          "name": "stdout",
          "text": [
            "wc: model_cache: Is a directory\n",
            "       0 model_cache\n",
            "wc: MT-Preparation: Is a directory\n",
            "       0 MT-Preparation\n",
            "wc: sample_data: Is a directory\n",
            "       0 sample_data\n",
            "   50000 train.en-de.de\n",
            "   48315 train.en-de.de-filtered.de\n",
            "   47614 train.en-de.de-filtered.de.semantic.de\n",
            "   50000 train.en-de.en\n",
            "   48315 train.en-de.en-filtered.en\n",
            "   47614 train.en-de.en-filtered.en.semantic.en\n",
            "  291858 total\n"
          ]
        }
      ]
    },
    {
      "cell_type": "markdown",
      "source": [
        "# **My corpus text**\n",
        "\n",
        "I have chosen MultiUN (v1) corpus with the language pair EN-RU and size of 11,654,416 sentences. I splitted it into train (80k), validation (10k) and test (10k) sets.\n",
        "\n",
        "The created files are:\n",
        "\n",
        "*   UN-train.en-ru.en\n",
        "*   UN-train.en-ru.ru\n",
        "*   UN-test.en-ru.en\n",
        "*   UN-test.en-ru.ru\n",
        "*   UN-val.en-ru.en\n",
        "*   UN-val.en-ru.ru\n",
        "\n",
        "Link: https://opus.nlpl.eu/MultiUN/en&ru/v1/MultiUN\n"
      ],
      "metadata": {
        "id": "YMRXnGc_dv84"
      }
    },
    {
      "cell_type": "markdown",
      "source": [
        "## Corpus splitting"
      ],
      "metadata": {
        "id": "sZdugQoOtAU8"
      }
    },
    {
      "cell_type": "code",
      "source": [
        "from google.colab import drive\n",
        "drive.mount('/content/drive')"
      ],
      "metadata": {
        "id": "P26rpHVzrsUV",
        "colab": {
          "base_uri": "https://localhost:8080/"
        },
        "outputId": "9b949629-f5a9-4ce4-e962-371a3bb8a584"
      },
      "execution_count": 94,
      "outputs": [
        {
          "output_type": "stream",
          "name": "stdout",
          "text": [
            "Drive already mounted at /content/drive; to attempt to forcibly remount, call drive.mount(\"/content/drive\", force_remount=True).\n"
          ]
        }
      ]
    },
    {
      "cell_type": "code",
      "source": [
        "file_ru = \"/content/drive/MyDrive/Colab Notebooks/ru.txt.gz\"\n",
        "file_en = \"/content/drive/MyDrive/Colab Notebooks/en.txt.gz\""
      ],
      "metadata": {
        "id": "so-CUgt-rtvE"
      },
      "execution_count": 95,
      "outputs": []
    },
    {
      "cell_type": "code",
      "source": [
        "import gzip\n",
        "\n",
        "def extract_first_n_lines(gz_path, n_lines=100000):\n",
        "    lines = []\n",
        "    with gzip.open(gz_path, 'rt', encoding='utf-8') as f:\n",
        "        for i, line in enumerate(f):\n",
        "            if i >= n_lines:\n",
        "                break\n",
        "            lines.append(line)\n",
        "    print(f\"Extracted {len(lines):,} lines from {gz_path}\")\n",
        "    return lines"
      ],
      "metadata": {
        "id": "qG36tEJerhsj"
      },
      "execution_count": 96,
      "outputs": []
    },
    {
      "cell_type": "code",
      "source": [
        "lines_ru = extract_first_n_lines(file_ru, n_lines=100000)\n",
        "lines_en = extract_first_n_lines(file_en, n_lines=100000)"
      ],
      "metadata": {
        "colab": {
          "base_uri": "https://localhost:8080/"
        },
        "id": "vitogPUvusp1",
        "outputId": "724b5b90-7831-4f70-d38c-92bef78bc26a"
      },
      "execution_count": 97,
      "outputs": [
        {
          "output_type": "stream",
          "name": "stdout",
          "text": [
            "Extracted 100,000 lines from /content/drive/MyDrive/Colab Notebooks/ru.txt.gz\n",
            "Extracted 100,000 lines from /content/drive/MyDrive/Colab Notebooks/en.txt.gz\n"
          ]
        }
      ]
    },
    {
      "cell_type": "code",
      "source": [
        "import random\n",
        "\n",
        "def split_data(lines, train_ratio=0.8, val_ratio=0.1, test_ratio=0.1):\n",
        "    n = len(lines)\n",
        "    n_train = int(n * train_ratio)\n",
        "    n_val = int(n * val_ratio)\n",
        "\n",
        "    train = lines[:n_train]\n",
        "    val = lines[n_train:n_train + n_val]\n",
        "    test = lines[n_train + n_val:]\n",
        "\n",
        "    return train, val, test"
      ],
      "metadata": {
        "id": "sQBnv_Kzr6Bd"
      },
      "execution_count": 98,
      "outputs": []
    },
    {
      "cell_type": "code",
      "source": [
        "train_ru, val_ru, test_ru = split_data(lines_ru)\n",
        "train_en, val_en, test_en = split_data(lines_en)\n",
        "\n",
        "print(len(train_ru))\n",
        "print(len(val_ru))\n",
        "print(len(test_ru))"
      ],
      "metadata": {
        "id": "H1DogTFJsOC-",
        "colab": {
          "base_uri": "https://localhost:8080/"
        },
        "outputId": "52a3161f-635e-4dd3-c08e-a492f21c4f97"
      },
      "execution_count": 99,
      "outputs": [
        {
          "output_type": "stream",
          "name": "stdout",
          "text": [
            "80000\n",
            "10000\n",
            "10000\n"
          ]
        }
      ]
    },
    {
      "cell_type": "code",
      "source": [
        "def save_bilingual_splits(prefix=\"UN\", src_lang=\"en\", tgt_lang=\"ru\",\n",
        "                          train_src=None, train_tgt=None,\n",
        "                          val_src=None, val_tgt=None,\n",
        "                          test_src=None, test_tgt=None):\n",
        "\n",
        "    def save(name, src_data, tgt_data):\n",
        "        src_file = f\"{prefix}.{src_lang}-{tgt_lang}.{name}.{src_lang}\"\n",
        "        tgt_file = f\"{prefix}.{src_lang}-{tgt_lang}.{name}.{tgt_lang}\"\n",
        "\n",
        "        with open(src_file, \"w\", encoding=\"utf-8\") as f_src:\n",
        "            f_src.writelines(src_data)\n",
        "        with open(tgt_file, \"w\", encoding=\"utf-8\") as f_tgt:\n",
        "            f_tgt.writelines(tgt_data)\n",
        "\n",
        "        print(f\"Saved {src_file} ({len(src_data):,} lines)\")\n",
        "        print(f\"Saved {tgt_file} ({len(tgt_data):,} lines)\")\n",
        "\n",
        "    if train_src and train_tgt:\n",
        "        save(\"train\", train_src, train_tgt)\n",
        "    if val_src and val_tgt:\n",
        "        save(\"val\", val_src, val_tgt)\n",
        "    if test_src and test_tgt:\n",
        "        save(\"test\", test_src, test_tgt)\n"
      ],
      "metadata": {
        "id": "41VPwY6FyaLS"
      },
      "execution_count": 100,
      "outputs": []
    },
    {
      "cell_type": "code",
      "source": [
        "save_bilingual_splits(\n",
        "    prefix=\"UN\",\n",
        "    src_lang=\"en\",\n",
        "    tgt_lang=\"ru\",\n",
        "    train_src=train_en, train_tgt=train_ru,\n",
        "    val_src=val_en, val_tgt=val_ru,\n",
        "    test_src=test_en, test_tgt=test_ru\n",
        ")"
      ],
      "metadata": {
        "colab": {
          "base_uri": "https://localhost:8080/"
        },
        "id": "RZmSsfOcyf-A",
        "outputId": "4e39c812-9533-49b4-ac3b-bcbc244cc912"
      },
      "execution_count": 101,
      "outputs": [
        {
          "output_type": "stream",
          "name": "stdout",
          "text": [
            "Saved UN.en-ru.train.en (80,000 lines)\n",
            "Saved UN.en-ru.train.ru (80,000 lines)\n",
            "Saved UN.en-ru.val.en (10,000 lines)\n",
            "Saved UN.en-ru.val.ru (10,000 lines)\n",
            "Saved UN.en-ru.test.en (10,000 lines)\n",
            "Saved UN.en-ru.test.ru (10,000 lines)\n"
          ]
        }
      ]
    },
    {
      "cell_type": "markdown",
      "source": [
        "## Corpus preparation"
      ],
      "metadata": {
        "id": "FWfGkPBbtEu2"
      }
    },
    {
      "cell_type": "code",
      "source": [
        "!git clone https://github.com/ymoslem/MT-Preparation.git"
      ],
      "metadata": {
        "colab": {
          "base_uri": "https://localhost:8080/"
        },
        "outputId": "3a255b0f-8ce5-43e3-d6f4-0086dc05ca4e",
        "id": "6PFLEherd3ov"
      },
      "execution_count": 102,
      "outputs": [
        {
          "output_type": "stream",
          "name": "stdout",
          "text": [
            "fatal: destination path 'MT-Preparation' already exists and is not an empty directory.\n"
          ]
        }
      ]
    },
    {
      "cell_type": "code",
      "source": [
        "%cd MT-Preparation"
      ],
      "metadata": {
        "colab": {
          "base_uri": "https://localhost:8080/"
        },
        "outputId": "701a5ad7-defb-4e45-cc54-7dd515a2a638",
        "id": "yXBJCxC4d3ox"
      },
      "execution_count": 103,
      "outputs": [
        {
          "output_type": "stream",
          "name": "stdout",
          "text": [
            "/MT-Preparation\n"
          ]
        }
      ]
    },
    {
      "cell_type": "code",
      "source": [
        "!pip3 install --user -r requirements.txt"
      ],
      "metadata": {
        "colab": {
          "base_uri": "https://localhost:8080/"
        },
        "outputId": "8da19e70-d642-4878-ea4d-f87ef19bdad4",
        "id": "9slE7yqYd3oz"
      },
      "execution_count": 104,
      "outputs": [
        {
          "output_type": "stream",
          "name": "stdout",
          "text": [
            "Requirement already satisfied: numpy in /usr/local/lib/python3.12/dist-packages (from -r requirements.txt (line 1)) (2.0.2)\n",
            "Requirement already satisfied: pandas in /usr/local/lib/python3.12/dist-packages (from -r requirements.txt (line 2)) (2.2.2)\n",
            "Requirement already satisfied: sentencepiece in /usr/local/lib/python3.12/dist-packages (from -r requirements.txt (line 3)) (0.2.1)\n",
            "Requirement already satisfied: python-dateutil>=2.8.2 in /usr/local/lib/python3.12/dist-packages (from pandas->-r requirements.txt (line 2)) (2.9.0.post0)\n",
            "Requirement already satisfied: pytz>=2020.1 in /usr/local/lib/python3.12/dist-packages (from pandas->-r requirements.txt (line 2)) (2025.2)\n",
            "Requirement already satisfied: tzdata>=2022.7 in /usr/local/lib/python3.12/dist-packages (from pandas->-r requirements.txt (line 2)) (2025.2)\n",
            "Requirement already satisfied: six>=1.5 in /usr/local/lib/python3.12/dist-packages (from python-dateutil>=2.8.2->pandas->-r requirements.txt (line 2)) (1.17.0)\n"
          ]
        }
      ]
    },
    {
      "cell_type": "code",
      "source": [
        "%cd .."
      ],
      "metadata": {
        "colab": {
          "base_uri": "https://localhost:8080/"
        },
        "outputId": "29af9cef-b396-4a2f-b3d3-d8df4517d28e",
        "id": "yIeNrcMcd3o0"
      },
      "execution_count": 105,
      "outputs": [
        {
          "output_type": "stream",
          "name": "stdout",
          "text": [
            "/\n"
          ]
        }
      ]
    },
    {
      "cell_type": "code",
      "source": [
        "!ls"
      ],
      "metadata": {
        "colab": {
          "base_uri": "https://localhost:8080/"
        },
        "outputId": "c71cf41d-66d8-430c-d6f5-32c32531ef46",
        "id": "Sysb_ev8d3o2"
      },
      "execution_count": 106,
      "outputs": [
        {
          "output_type": "stream",
          "name": "stdout",
          "text": [
            " bin\t\t\t      tmp\n",
            " boot\t\t\t      tools\n",
            " content\t\t      UN.en-ru.test.en\n",
            " cuda-keyring_1.1-1_all.deb   UN.en-ru.test.en-filtered.en\n",
            " datalab\t\t     'UN.en-ru.test, en.txt'\n",
            " dev\t\t\t      UN.en-ru.test.ru\n",
            " etc\t\t\t      UN.en-ru.test.ru-filtered.ru\n",
            " home\t\t\t     'UN.en-ru..test, ru.txt'\n",
            " kaggle\t\t\t     'UN.en-ru.test, ru.txt'\n",
            " lib\t\t\t      UN.en-ru._test.txt\n",
            " lib32\t\t\t      UN.en-ru.train.en\n",
            " lib64\t\t\t      UN.en-ru.train.en-filtered.en\n",
            " libx32\t\t\t      UN.en-ru.train.en-filtered.en.semantic.en\n",
            " media\t\t\t      UN.en-ru.train.en.txt\n",
            " mnt\t\t\t      UN.en-ru.train.ru\n",
            " model_cache\t\t      UN.en-ru.train.ru-filtered.ru\n",
            " MT-Preparation\t\t      UN.en-ru.train.ru-filtered.ru.semantic.ru\n",
            " NGC-DL-CONTAINER-LICENSE     UN.en-ru..train.ru.txt\n",
            " opt\t\t\t      UN.en-ru.train.ru.txt\n",
            " proc\t\t\t      UN.en-ru._train.txt\n",
            " python-apt\t\t      UN.en-ru.val.en\n",
            " python-apt.tar.xz\t      UN.en-ru.val.en-filtered.en\n",
            " root\t\t\t      UN.en-ru.val.en.txt\n",
            " run\t\t\t      UN.en-ru.val.ru\n",
            " sample_corpus_test.txt       UN.en-ru.val.ru-filtered.ru\n",
            " sample_corpus_train.txt      UN.en-ru..val.ru.txt\n",
            " sample_corpus_val.txt\t      UN.en-ru.val.ru.txt\n",
            " sbin\t\t\t      UN.en-ru._val.txt\n",
            " srv\t\t\t      usr\n",
            " sys\t\t\t      var\n"
          ]
        }
      ]
    },
    {
      "cell_type": "code",
      "source": [
        "!python3 MT-Preparation/filtering/filter.py UN.en-ru.train.en UN.en-ru.train.ru en ru"
      ],
      "metadata": {
        "colab": {
          "base_uri": "https://localhost:8080/"
        },
        "outputId": "45b226f5-717a-4e01-8e29-36908781da4f",
        "id": "ay1lOqXvd3o3"
      },
      "execution_count": 107,
      "outputs": [
        {
          "output_type": "stream",
          "name": "stdout",
          "text": [
            "Dataframe shape (rows, columns): (80000, 2)\n",
            "--- Rows with Empty Cells Deleted\t--> Rows: 80000\n",
            "--- Duplicates Deleted\t\t\t--> Rows: 79972\n",
            "--- Source-Copied Rows Deleted\t\t--> Rows: 79971\n",
            "--- Too Long Source/Target Deleted\t--> Rows: 39271\n",
            "--- Too Short Source/Target Deleted\t--> Rows: 39242\n",
            "--- HTML Removed\t\t\t--> Rows: 39242\n",
            "--- Rows will remain true-cased\t\t--> Rows: 39242\n",
            "--- Rows with Empty Cells Deleted\t--> Rows: 39242\n",
            "--- Rows Shuffled\t\t\t--> Rows: 39242\n",
            "--- Source Saved: UN.en-ru.train.en-filtered.en\n",
            "--- Target Saved: UN.en-ru.train.ru-filtered.ru\n"
          ]
        }
      ]
    },
    {
      "cell_type": "code",
      "source": [
        "!python3 MT-Preparation/filtering/filter.py UN.en-ru.val.en UN.en-ru.val.ru en ru"
      ],
      "metadata": {
        "colab": {
          "base_uri": "https://localhost:8080/"
        },
        "id": "wANNKCUR2TkX",
        "outputId": "71a1686e-ec64-47da-f073-d13f521936d3"
      },
      "execution_count": 108,
      "outputs": [
        {
          "output_type": "stream",
          "name": "stdout",
          "text": [
            "Dataframe shape (rows, columns): (10000, 2)\n",
            "--- Rows with Empty Cells Deleted\t--> Rows: 10000\n",
            "--- Duplicates Deleted\t\t\t--> Rows: 9998\n",
            "--- Source-Copied Rows Deleted\t\t--> Rows: 9998\n",
            "--- Too Long Source/Target Deleted\t--> Rows: 4739\n",
            "--- Too Short Source/Target Deleted\t--> Rows: 4738\n",
            "--- HTML Removed\t\t\t--> Rows: 4738\n",
            "--- Rows will remain true-cased\t\t--> Rows: 4738\n",
            "--- Rows with Empty Cells Deleted\t--> Rows: 4738\n",
            "--- Rows Shuffled\t\t\t--> Rows: 4738\n",
            "--- Source Saved: UN.en-ru.val.en-filtered.en\n",
            "--- Target Saved: UN.en-ru.val.ru-filtered.ru\n"
          ]
        }
      ]
    },
    {
      "cell_type": "code",
      "source": [
        "!python3 MT-Preparation/filtering/filter.py UN.en-ru.test.en UN.en-ru.test.ru en ru"
      ],
      "metadata": {
        "colab": {
          "base_uri": "https://localhost:8080/"
        },
        "id": "ezZWDCM92XZU",
        "outputId": "58bd1266-5c12-48c4-859f-076f19571079"
      },
      "execution_count": 109,
      "outputs": [
        {
          "output_type": "stream",
          "name": "stdout",
          "text": [
            "Dataframe shape (rows, columns): (10000, 2)\n",
            "--- Rows with Empty Cells Deleted\t--> Rows: 10000\n",
            "--- Duplicates Deleted\t\t\t--> Rows: 10000\n",
            "--- Source-Copied Rows Deleted\t\t--> Rows: 10000\n",
            "--- Too Long Source/Target Deleted\t--> Rows: 4686\n",
            "--- Too Short Source/Target Deleted\t--> Rows: 4685\n",
            "--- HTML Removed\t\t\t--> Rows: 4685\n",
            "--- Rows will remain true-cased\t\t--> Rows: 4685\n",
            "--- Rows with Empty Cells Deleted\t--> Rows: 4685\n",
            "--- Rows Shuffled\t\t\t--> Rows: 4685\n",
            "--- Source Saved: UN.en-ru.test.en-filtered.en\n",
            "--- Target Saved: UN.en-ru.test.ru-filtered.ru\n"
          ]
        }
      ]
    },
    {
      "cell_type": "code",
      "source": [
        "!python3 MT-Preparation/filtering/semantic_filter.py UN.en-ru.train.en-filtered.en UN.en-ru.train.ru-filtered.ru en ru 5000 #batch 0.45 #treshhold"
      ],
      "metadata": {
        "colab": {
          "base_uri": "https://localhost:8080/"
        },
        "id": "5CyrVwzl2mOx",
        "outputId": "4d3cc828-0cba-44aa-e31a-e18609dd39e4"
      },
      "execution_count": 110,
      "outputs": [
        {
          "output_type": "stream",
          "name": "stdout",
          "text": [
            "2025-10-26 14:17:13.511377: E external/local_xla/xla/stream_executor/cuda/cuda_fft.cc:467] Unable to register cuFFT factory: Attempting to register factory for plugin cuFFT when one has already been registered\n",
            "WARNING: All log messages before absl::InitializeLog() is called are written to STDERR\n",
            "E0000 00:00:1761488233.545069   38353 cuda_dnn.cc:8579] Unable to register cuDNN factory: Attempting to register factory for plugin cuDNN when one has already been registered\n",
            "E0000 00:00:1761488233.554892   38353 cuda_blas.cc:1407] Unable to register cuBLAS factory: Attempting to register factory for plugin cuBLAS when one has already been registered\n",
            "W0000 00:00:1761488233.578074   38353 computation_placer.cc:177] computation placer already registered. Please check linkage and avoid linking the same target more than once.\n",
            "W0000 00:00:1761488233.578105   38353 computation_placer.cc:177] computation placer already registered. Please check linkage and avoid linking the same target more than once.\n",
            "W0000 00:00:1761488233.578112   38353 computation_placer.cc:177] computation placer already registered. Please check linkage and avoid linking the same target more than once.\n",
            "W0000 00:00:1761488233.578119   38353 computation_placer.cc:177] computation placer already registered. Please check linkage and avoid linking the same target more than once.\n",
            "2025-10-26 14:17:13.584674: I tensorflow/core/platform/cpu_feature_guard.cc:210] This TensorFlow binary is optimized to use available CPU instructions in performance-critical operations.\n",
            "To enable the following instructions: AVX2 AVX512F FMA, in other operations, rebuild TensorFlow with the appropriate compiler flags.\n",
            "Traceback (most recent call last):\n",
            "  File \"//MT-Preparation/filtering/semantic_filter.py\", line 93, in <module>\n",
            "    threshold = float(sys.argv[6])  # try 0.45\n",
            "                      ~~~~~~~~^^^\n",
            "IndexError: list index out of range\n"
          ]
        }
      ]
    },
    {
      "cell_type": "code",
      "source": [
        "!python3 MT-Preparation/filtering/semantic_filter.py UN.en-ru.val.en-filtered.en UN.en-ru.val.ru-filtered.ru en ru 5000 0.45"
      ],
      "metadata": {
        "colab": {
          "base_uri": "https://localhost:8080/"
        },
        "id": "5bMJU9od2udN",
        "outputId": "65575037-ef8b-4dec-9bc8-e31eaa5d721c"
      },
      "execution_count": 91,
      "outputs": [
        {
          "output_type": "stream",
          "name": "stdout",
          "text": [
            "Traceback (most recent call last):\n",
            "object address  : 0x7980ff3059c0\n",
            "object refcount : 3\n",
            "object type     : 0xa2a4e0\n",
            "object type name: KeyboardInterrupt\n",
            "object repr     : KeyboardInterrupt()\n",
            "lost sys.stderr\n"
          ]
        }
      ]
    },
    {
      "cell_type": "code",
      "source": [
        "!python3 MT-Preparation/filtering/semantic_filter.py UN.en-ru.test.en-filtered.en UN.en-ru.test.ru-filtered.ru en ru 5000 0.45"
      ],
      "metadata": {
        "colab": {
          "base_uri": "https://localhost:8080/"
        },
        "id": "AmF18ivb2uua",
        "outputId": "57f0cfd0-5781-4434-d59c-2e6e2c364835"
      },
      "execution_count": 92,
      "outputs": [
        {
          "output_type": "stream",
          "name": "stdout",
          "text": [
            "Traceback (most recent call last):\n",
            "  File \"<frozen importlib._bootstrap>\", line 1331, in _find_and_load_unlocked\n",
            "  File \"<frozen importlib._bootstrap>\", line 935, in _load_unlocked\n",
            "  File \"<frozen importlib._bootstrap_external>\", line 999, in exec_module\n",
            "  File \"<frozen importlib._bootstrap>\", line 488, in _call_with_frames_removed\n",
            "  File \"/usr/local/lib/python3.12/dist-packages/torch/_subclasses/meta_utils.py\", line 599, in <module>\n",
            "    @dataclass(frozen=True)\n",
            "     ^^^^^^^^^^^^^^^^^^^^^^\n",
            "  File \"/usr/lib/python3.12/dataclasses.py\", line 1265, in wrap\n",
            "    return _process_class(cls, init, repr, eq, order, unsafe_hash,\n",
            "           ^^^^^^^^^^^^^^^^^^^^^^^^^^^^^^^^^^^^^^^^^^^^^^^^^^^^^^^\n",
            "  File \"/usr/lib/python3.12/dataclasses.py\", line 1063, in _process_class\n",
            "    _init_fn(all_init_fields,\n",
            "  File \"/usr/lib/python3.12/dataclasses.py\", line 619, in _init_fn\n",
            "    return _create_fn('__init__',\n",
            "           ^^^^^^^^^^^^^^^^^^^^^^\n",
            "  File \"/usr/lib/python3.12/dataclasses.py\", line 473, in _create_fn\n",
            "    exec(txt, globals, ns)\n",
            "  File \"<string>\", line 0, in <module>\n",
            "KeyboardInterrupt\n",
            "\n",
            "During handling of the above exception, another exception occurred:\n",
            "\n",
            "Traceback (most recent call last):\n",
            "  File \"//MT-Preparation/filtering/semantic_filter.py\", line 3, in <module>\n",
            "    from sentence_transformers import SentenceTransformer\n",
            "  File \"/usr/local/lib/python3.12/dist-packages/sentence_transformers/__init__.py\", line 10, in <module>\n",
            "    from sentence_transformers.backend import (\n",
            "  File \"/usr/local/lib/python3.12/dist-packages/sentence_transformers/backend/__init__.py\", line 3, in <module>\n",
            "    from .load import load_onnx_model, load_openvino_model\n",
            "  File \"/usr/local/lib/python3.12/dist-packages/sentence_transformers/backend/load.py\", line 7, in <module>\n",
            "    from transformers.configuration_utils import PretrainedConfig\n",
            "  File \"/usr/local/lib/python3.12/dist-packages/transformers/__init__.py\", line 27, in <module>\n",
            "    from . import dependency_versions_check\n",
            "  File \"/usr/local/lib/python3.12/dist-packages/transformers/dependency_versions_check.py\", line 16, in <module>\n",
            "    from .utils.versions import require_version, require_version_core\n",
            "  File \"/usr/local/lib/python3.12/dist-packages/transformers/utils/__init__.py\", line 24, in <module>\n",
            "    from .auto_docstring import (\n",
            "  File \"/usr/local/lib/python3.12/dist-packages/transformers/utils/auto_docstring.py\", line 30, in <module>\n",
            "    from .generic import ModelOutput\n",
            "  File \"/usr/local/lib/python3.12/dist-packages/transformers/utils/generic.py\", line 51, in <module>\n",
            "    import torch\n",
            "  File \"/usr/local/lib/python3.12/dist-packages/torch/__init__.py\", line 2264, in <module>\n",
            "    from torch import quantization as quantization  # usort: skip\n",
            "    ^^^^^^^^^^^^^^^^^^^^^^^^^^^^^^^^^^^^^^^^^^^^^^\n",
            "  File \"/usr/local/lib/python3.12/dist-packages/torch/quantization/__init__.py\", line 2, in <module>\n",
            "    from .fake_quantize import *  # noqa: F403\n",
            "    ^^^^^^^^^^^^^^^^^^^^^^^^^^^^\n",
            "  File \"/usr/local/lib/python3.12/dist-packages/torch/quantization/fake_quantize.py\", line 10, in <module>\n",
            "    from torch.ao.quantization.fake_quantize import (\n",
            "  File \"/usr/local/lib/python3.12/dist-packages/torch/ao/quantization/__init__.py\", line 12, in <module>\n",
            "    from .pt2e._numeric_debugger import (  # noqa: F401\n",
            "  File \"/usr/local/lib/python3.12/dist-packages/torch/ao/quantization/pt2e/_numeric_debugger.py\", line 9, in <module>\n",
            "    from torch.ao.quantization.pt2e.graph_utils import bfs_trace_with_node_process\n",
            "  File \"/usr/local/lib/python3.12/dist-packages/torch/ao/quantization/pt2e/graph_utils.py\", line 9, in <module>\n",
            "    from torch.export import ExportedProgram\n",
            "  File \"/usr/local/lib/python3.12/dist-packages/torch/export/__init__.py\", line 17, in <module>\n",
            "    from torch.fx.passes.infra.pass_base import PassResult\n",
            "  File \"/usr/local/lib/python3.12/dist-packages/torch/fx/passes/__init__.py\", line 1, in <module>\n",
            "    from . import (\n",
            "  File \"/usr/local/lib/python3.12/dist-packages/torch/fx/passes/graph_drawer.py\", line 14, in <module>\n",
            "    from torch.fx.passes.shape_prop import TensorMetadata\n",
            "  File \"/usr/local/lib/python3.12/dist-packages/torch/fx/passes/shape_prop.py\", line 11, in <module>\n",
            "    from torch._subclasses.meta_utils import is_sparse_any\n",
            "  File \"/usr/local/lib/python3.12/dist-packages/torch/_subclasses/__init__.py\", line 2, in <module>\n",
            "    from torch._subclasses.fake_tensor import (\n",
            "  File \"/usr/local/lib/python3.12/dist-packages/torch/_subclasses/fake_tensor.py\", line 30, in <module>\n",
            "    from torch._subclasses.meta_utils import (\n",
            "  File \"<frozen importlib._bootstrap>\", line 1360, in _find_and_load\n",
            "  File \"<frozen importlib._bootstrap>\", line 1334, in _find_and_load_unlocked\n",
            "KeyboardInterrupt\n",
            "^C\n"
          ]
        }
      ]
    }
  ]
}