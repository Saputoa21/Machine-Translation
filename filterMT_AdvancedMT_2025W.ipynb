{
  "nbformat": 4,
  "nbformat_minor": 0,
  "metadata": {
    "colab": {
      "provenance": [],
      "gpuType": "T4",
      "include_colab_link": true
    },
    "kernelspec": {
      "name": "python3",
      "display_name": "Python 3"
    },
    "language_info": {
      "name": "python"
    },
    "accelerator": "GPU"
  },
  "cells": [
    {
      "cell_type": "markdown",
      "metadata": {
        "id": "view-in-github",
        "colab_type": "text"
      },
      "source": [
        "<a href=\"https://colab.research.google.com/github/Saputoa21/Machine-Translation/blob/main/filterMT_AdvancedMT_2025W.ipynb\" target=\"_parent\"><img src=\"https://colab.research.google.com/assets/colab-badge.svg\" alt=\"Open In Colab\"/></a>"
      ]
    },
    {
      "cell_type": "code",
      "source": [
        "#https://github.com/ymoslem/Adaptive-MT-LLM-Fine-tuning/blob/main/Data-Processing-Adaptive-MT.ipynb\n",
        "#https://github.com/ymoslem/MT-Preparation/tree/main"
      ],
      "metadata": {
        "id": "kswpUoj6GbYM"
      },
      "execution_count": 1,
      "outputs": []
    },
    {
      "cell_type": "code",
      "source": [
        "!git clone https://github.com/ymoslem/MT-Preparation.git"
      ],
      "metadata": {
        "colab": {
          "base_uri": "https://localhost:8080/"
        },
        "id": "Ksb3SbK4-gaB",
        "outputId": "7c34dca2-22a0-4a76-aff8-a27ffb6868db"
      },
      "execution_count": 2,
      "outputs": [
        {
          "output_type": "stream",
          "name": "stdout",
          "text": [
            "Cloning into 'MT-Preparation'...\n",
            "remote: Enumerating objects: 323, done.\u001b[K\n",
            "remote: Counting objects: 100% (55/55), done.\u001b[K\n",
            "remote: Compressing objects: 100% (35/35), done.\u001b[K\n",
            "remote: Total 323 (delta 35), reused 21 (delta 20), pack-reused 268 (from 2)\u001b[K\n",
            "Receiving objects: 100% (323/323), 94.95 KiB | 1.48 MiB/s, done.\n",
            "Resolving deltas: 100% (156/156), done.\n"
          ]
        }
      ]
    },
    {
      "cell_type": "code",
      "source": [
        "%cd MT-Preparation"
      ],
      "metadata": {
        "colab": {
          "base_uri": "https://localhost:8080/"
        },
        "id": "SGa81qmR-oKp",
        "outputId": "566d400f-d848-492f-92d2-9a48ebfa74fb"
      },
      "execution_count": 3,
      "outputs": [
        {
          "output_type": "stream",
          "name": "stdout",
          "text": [
            "/content/MT-Preparation\n"
          ]
        }
      ]
    },
    {
      "cell_type": "code",
      "source": [
        "!pip3 install --user -r requirements.txt"
      ],
      "metadata": {
        "colab": {
          "base_uri": "https://localhost:8080/"
        },
        "id": "8cY_cMx4-uyp",
        "outputId": "262f9a4f-fb4c-49d8-acbb-09872d4200ee"
      },
      "execution_count": 4,
      "outputs": [
        {
          "output_type": "stream",
          "name": "stdout",
          "text": [
            "Requirement already satisfied: numpy in /usr/local/lib/python3.12/dist-packages (from -r requirements.txt (line 1)) (2.0.2)\n",
            "Requirement already satisfied: pandas in /usr/local/lib/python3.12/dist-packages (from -r requirements.txt (line 2)) (2.2.2)\n",
            "Requirement already satisfied: sentencepiece in /usr/local/lib/python3.12/dist-packages (from -r requirements.txt (line 3)) (0.2.1)\n",
            "Requirement already satisfied: python-dateutil>=2.8.2 in /usr/local/lib/python3.12/dist-packages (from pandas->-r requirements.txt (line 2)) (2.9.0.post0)\n",
            "Requirement already satisfied: pytz>=2020.1 in /usr/local/lib/python3.12/dist-packages (from pandas->-r requirements.txt (line 2)) (2025.2)\n",
            "Requirement already satisfied: tzdata>=2022.7 in /usr/local/lib/python3.12/dist-packages (from pandas->-r requirements.txt (line 2)) (2025.2)\n",
            "Requirement already satisfied: six>=1.5 in /usr/local/lib/python3.12/dist-packages (from python-dateutil>=2.8.2->pandas->-r requirements.txt (line 2)) (1.17.0)\n"
          ]
        }
      ]
    },
    {
      "cell_type": "code",
      "source": [
        "%cd .."
      ],
      "metadata": {
        "colab": {
          "base_uri": "https://localhost:8080/"
        },
        "id": "5on0MOYf-z2q",
        "outputId": "e9af17c0-c91a-4635-c625-e1248356c648"
      },
      "execution_count": 5,
      "outputs": [
        {
          "output_type": "stream",
          "name": "stdout",
          "text": [
            "/content\n"
          ]
        }
      ]
    },
    {
      "cell_type": "code",
      "source": [
        "!ls"
      ],
      "metadata": {
        "colab": {
          "base_uri": "https://localhost:8080/"
        },
        "id": "xEp8fRSD-4Xi",
        "outputId": "1fd7ebf6-5fe0-4710-972e-dad002916603"
      },
      "execution_count": 7,
      "outputs": [
        {
          "output_type": "stream",
          "name": "stdout",
          "text": [
            "MT-Preparation\t\t    train.en-de.de-filtered.de.semantic.de\n",
            "sample_data\t\t    train.en-de.en\n",
            "train.en-de.de\t\t    train.en-de.en-filtered.en\n",
            "train.en-de.de-filtered.de  train.en-de.en-filtered.en.semantic.en\n"
          ]
        }
      ]
    },
    {
      "cell_type": "code",
      "source": [
        "!python3 MT-Preparation/filtering/filter.py train.en-de.en train.en-de.de en de"
      ],
      "metadata": {
        "colab": {
          "base_uri": "https://localhost:8080/"
        },
        "id": "SFb2r0Wd-6Yj",
        "outputId": "63e4b32b-628f-40fd-9fe0-889aa82fe795"
      },
      "execution_count": 8,
      "outputs": [
        {
          "output_type": "stream",
          "name": "stdout",
          "text": [
            "Dataframe shape (rows, columns): (50000, 2)\n",
            "--- Rows with Empty Cells Deleted\t--> Rows: 49997\n",
            "--- Duplicates Deleted\t\t\t--> Rows: 49997\n",
            "--- Source-Copied Rows Deleted\t\t--> Rows: 49997\n",
            "--- Too Long Source/Target Deleted\t--> Rows: 48399\n",
            "--- Too Short Source/Target Deleted\t--> Rows: 48321\n",
            "--- HTML Removed\t\t\t--> Rows: 48321\n",
            "--- Rows will remain true-cased\t\t--> Rows: 48321\n",
            "--- Rows with Empty Cells Deleted\t--> Rows: 48315\n",
            "--- Rows Shuffled\t\t\t--> Rows: 48315\n",
            "--- Source Saved: train.en-de.en-filtered.en\n",
            "--- Target Saved: train.en-de.de-filtered.de\n"
          ]
        }
      ]
    },
    {
      "cell_type": "code",
      "source": [
        "!python3 MT-Preparation/filtering/semantic_filter.py train.en-de.en-filtered.en train.en-de.de-filtered.de en de 10000 0.45"
      ],
      "metadata": {
        "colab": {
          "base_uri": "https://localhost:8080/"
        },
        "id": "aD8KDZV_gBRa",
        "outputId": "66952d90-29f1-4f33-eef8-a445e33bc77b"
      },
      "execution_count": 9,
      "outputs": [
        {
          "output_type": "stream",
          "name": "stdout",
          "text": [
            "2025-10-26 12:16:06.232973: E external/local_xla/xla/stream_executor/cuda/cuda_fft.cc:467] Unable to register cuFFT factory: Attempting to register factory for plugin cuFFT when one has already been registered\n",
            "WARNING: All log messages before absl::InitializeLog() is called are written to STDERR\n",
            "E0000 00:00:1761480966.256444    7649 cuda_dnn.cc:8579] Unable to register cuDNN factory: Attempting to register factory for plugin cuDNN when one has already been registered\n",
            "E0000 00:00:1761480966.267883    7649 cuda_blas.cc:1407] Unable to register cuBLAS factory: Attempting to register factory for plugin cuBLAS when one has already been registered\n",
            "W0000 00:00:1761480966.292401    7649 computation_placer.cc:177] computation placer already registered. Please check linkage and avoid linking the same target more than once.\n",
            "W0000 00:00:1761480966.292437    7649 computation_placer.cc:177] computation placer already registered. Please check linkage and avoid linking the same target more than once.\n",
            "W0000 00:00:1761480966.292445    7649 computation_placer.cc:177] computation placer already registered. Please check linkage and avoid linking the same target more than once.\n",
            "W0000 00:00:1761480966.292452    7649 computation_placer.cc:177] computation placer already registered. Please check linkage and avoid linking the same target more than once.\n",
            "2025-10-26 12:16:06.299428: I tensorflow/core/platform/cpu_feature_guard.cc:210] This TensorFlow binary is optimized to use available CPU instructions in performance-critical operations.\n",
            "To enable the following instructions: AVX2 AVX512F FMA, in other operations, rebuild TensorFlow with the appropriate compiler flags.\n",
            "Line count: 48315\n",
            "modules.json: 100% 341/341 [00:00<00:00, 2.41MB/s]\n",
            "config_sentence_transformers.json: 100% 122/122 [00:00<00:00, 1.30MB/s]\n",
            "README.md: 2.24kB [00:00, 14.4MB/s]\n",
            "sentence_bert_config.json: 100% 53.0/53.0 [00:00<00:00, 442kB/s]\n",
            "config.json: 100% 556/556 [00:00<00:00, 6.15MB/s]\n",
            "model.safetensors: 100% 539M/539M [00:09<00:00, 56.1MB/s]\n",
            "tokenizer_config.json: 100% 452/452 [00:00<00:00, 4.72MB/s]\n",
            "vocab.txt: 996kB [00:00, 33.7MB/s]\n",
            "tokenizer.json: 1.96MB [00:00, 135MB/s]\n",
            "special_tokens_map.json: 100% 112/112 [00:00<00:00, 1.17MB/s]\n",
            "config.json: 100% 190/190 [00:00<00:00, 1.61MB/s]\n",
            "config.json: 100% 114/114 [00:00<00:00, 1.03MB/s]\n",
            "2_Dense/model.safetensors: 100% 1.58M/1.58M [00:00<00:00, 5.31MB/s]\n",
            "Model loaded: distiluse-base-multilingual-cased-v1\n",
            "2025-10-26 12:16:33.781491: E external/local_xla/xla/stream_executor/cuda/cuda_fft.cc:467] Unable to register cuFFT factory: Attempting to register factory for plugin cuFFT when one has already been registered\n",
            "WARNING: All log messages before absl::InitializeLog() is called are written to STDERR\n",
            "E0000 00:00:1761480993.801207    7821 cuda_dnn.cc:8579] Unable to register cuDNN factory: Attempting to register factory for plugin cuDNN when one has already been registered\n",
            "E0000 00:00:1761480993.807152    7821 cuda_blas.cc:1407] Unable to register cuBLAS factory: Attempting to register factory for plugin cuBLAS when one has already been registered\n",
            "W0000 00:00:1761480993.821711    7821 computation_placer.cc:177] computation placer already registered. Please check linkage and avoid linking the same target more than once.\n",
            "W0000 00:00:1761480993.821736    7821 computation_placer.cc:177] computation placer already registered. Please check linkage and avoid linking the same target more than once.\n",
            "W0000 00:00:1761480993.821740    7821 computation_placer.cc:177] computation placer already registered. Please check linkage and avoid linking the same target more than once.\n",
            "W0000 00:00:1761480993.821745    7821 computation_placer.cc:177] computation placer already registered. Please check linkage and avoid linking the same target more than once.\n",
            "10000 | /content/MT-Preparation/filtering/semantic_filter.py:47: DeprecationWarning: The `encode_multi_process` method has been deprecated, and its functionality has been integrated into `encode`. You can now call `encode` with the same parameters to achieve multi-process encoding.\n",
            "  source_embeddings = model.encode_multi_process(source, pool=pool, batch_size=2048)\n",
            "/content/MT-Preparation/filtering/semantic_filter.py:48: DeprecationWarning: The `encode_multi_process` method has been deprecated, and its functionality has been integrated into `encode`. You can now call `encode` with the same parameters to achieve multi-process encoding.\n",
            "  target_embeddings = model.encode_multi_process(target, pool=pool, batch_size=2048)\n",
            "20000 | 30000 | 40000 | 48315 | /usr/lib/python3.12/multiprocessing/resource_tracker.py:279: UserWarning: resource_tracker: There appear to be 1 leaked semaphore objects to clean up at shutdown\n",
            "  warnings.warn('resource_tracker: There appear to be %d '\n"
          ]
        }
      ]
    },
    {
      "cell_type": "code",
      "source": [
        "!wc -l *"
      ],
      "metadata": {
        "colab": {
          "base_uri": "https://localhost:8080/"
        },
        "id": "b-zztIwvfqfi",
        "outputId": "67d811c0-c2fc-4fbe-89b2-aae5e1ee9a72"
      },
      "execution_count": 10,
      "outputs": [
        {
          "output_type": "stream",
          "name": "stdout",
          "text": [
            "wc: model_cache: Is a directory\n",
            "       0 model_cache\n",
            "wc: MT-Preparation: Is a directory\n",
            "       0 MT-Preparation\n",
            "wc: sample_data: Is a directory\n",
            "       0 sample_data\n",
            "   50000 train.en-de.de\n",
            "   48315 train.en-de.de-filtered.de\n",
            "   47614 train.en-de.de-filtered.de.semantic.de\n",
            "   50000 train.en-de.en\n",
            "   48315 train.en-de.en-filtered.en\n",
            "   47614 train.en-de.en-filtered.en.semantic.en\n",
            "  291858 total\n"
          ]
        }
      ]
    },
    {
      "cell_type": "markdown",
      "source": [
        "# **My corpus text**\n",
        "\n",
        "\n",
        "I have chosen MultiUN (v1) corpus with the language pair EN-RU and size of ... sentences. I splitted it into train () and test () sets.\n",
        "\n",
        "The files are:\n",
        "\n",
        "*   UN-train.en-ru.en\n",
        "*   UN-train.en-ru.ru\n",
        "*   UN-test.en-ru.en\n",
        "*   UN-test.en-ru.ru"
      ],
      "metadata": {
        "id": "YMRXnGc_dv84"
      }
    },
    {
      "cell_type": "code",
      "source": [
        "!git clone https://github.com/ymoslem/MT-Preparation.git"
      ],
      "metadata": {
        "colab": {
          "base_uri": "https://localhost:8080/"
        },
        "outputId": "7c34dca2-22a0-4a76-aff8-a27ffb6868db",
        "id": "6PFLEherd3ov"
      },
      "execution_count": null,
      "outputs": [
        {
          "output_type": "stream",
          "name": "stdout",
          "text": [
            "Cloning into 'MT-Preparation'...\n",
            "remote: Enumerating objects: 323, done.\u001b[K\n",
            "remote: Counting objects: 100% (55/55), done.\u001b[K\n",
            "remote: Compressing objects: 100% (35/35), done.\u001b[K\n",
            "remote: Total 323 (delta 35), reused 21 (delta 20), pack-reused 268 (from 2)\u001b[K\n",
            "Receiving objects: 100% (323/323), 94.95 KiB | 1.48 MiB/s, done.\n",
            "Resolving deltas: 100% (156/156), done.\n"
          ]
        }
      ]
    },
    {
      "cell_type": "code",
      "source": [
        "%cd MT-Preparation"
      ],
      "metadata": {
        "colab": {
          "base_uri": "https://localhost:8080/"
        },
        "outputId": "566d400f-d848-492f-92d2-9a48ebfa74fb",
        "id": "yXBJCxC4d3ox"
      },
      "execution_count": null,
      "outputs": [
        {
          "output_type": "stream",
          "name": "stdout",
          "text": [
            "/content/MT-Preparation\n"
          ]
        }
      ]
    },
    {
      "cell_type": "code",
      "source": [
        "!pip3 install --user -r requirements.txt"
      ],
      "metadata": {
        "colab": {
          "base_uri": "https://localhost:8080/"
        },
        "outputId": "262f9a4f-fb4c-49d8-acbb-09872d4200ee",
        "id": "9slE7yqYd3oz"
      },
      "execution_count": null,
      "outputs": [
        {
          "output_type": "stream",
          "name": "stdout",
          "text": [
            "Requirement already satisfied: numpy in /usr/local/lib/python3.12/dist-packages (from -r requirements.txt (line 1)) (2.0.2)\n",
            "Requirement already satisfied: pandas in /usr/local/lib/python3.12/dist-packages (from -r requirements.txt (line 2)) (2.2.2)\n",
            "Requirement already satisfied: sentencepiece in /usr/local/lib/python3.12/dist-packages (from -r requirements.txt (line 3)) (0.2.1)\n",
            "Requirement already satisfied: python-dateutil>=2.8.2 in /usr/local/lib/python3.12/dist-packages (from pandas->-r requirements.txt (line 2)) (2.9.0.post0)\n",
            "Requirement already satisfied: pytz>=2020.1 in /usr/local/lib/python3.12/dist-packages (from pandas->-r requirements.txt (line 2)) (2025.2)\n",
            "Requirement already satisfied: tzdata>=2022.7 in /usr/local/lib/python3.12/dist-packages (from pandas->-r requirements.txt (line 2)) (2025.2)\n",
            "Requirement already satisfied: six>=1.5 in /usr/local/lib/python3.12/dist-packages (from python-dateutil>=2.8.2->pandas->-r requirements.txt (line 2)) (1.17.0)\n"
          ]
        }
      ]
    },
    {
      "cell_type": "code",
      "source": [
        "%cd .."
      ],
      "metadata": {
        "colab": {
          "base_uri": "https://localhost:8080/"
        },
        "outputId": "e9af17c0-c91a-4635-c625-e1248356c648",
        "id": "yIeNrcMcd3o0"
      },
      "execution_count": null,
      "outputs": [
        {
          "output_type": "stream",
          "name": "stdout",
          "text": [
            "/content\n"
          ]
        }
      ]
    },
    {
      "cell_type": "code",
      "source": [
        "!ls"
      ],
      "metadata": {
        "colab": {
          "base_uri": "https://localhost:8080/"
        },
        "outputId": "1fd7ebf6-5fe0-4710-972e-dad002916603",
        "id": "Sysb_ev8d3o2"
      },
      "execution_count": null,
      "outputs": [
        {
          "output_type": "stream",
          "name": "stdout",
          "text": [
            "MT-Preparation\t\t    train.en-de.de-filtered.de.semantic.de\n",
            "sample_data\t\t    train.en-de.en\n",
            "train.en-de.de\t\t    train.en-de.en-filtered.en\n",
            "train.en-de.de-filtered.de  train.en-de.en-filtered.en.semantic.en\n"
          ]
        }
      ]
    },
    {
      "cell_type": "code",
      "source": [
        "!python3 MT-Preparation/filtering/filter.py train.en-de.en train.en-de.de en de"
      ],
      "metadata": {
        "colab": {
          "base_uri": "https://localhost:8080/"
        },
        "outputId": "63e4b32b-628f-40fd-9fe0-889aa82fe795",
        "id": "ay1lOqXvd3o3"
      },
      "execution_count": null,
      "outputs": [
        {
          "output_type": "stream",
          "name": "stdout",
          "text": [
            "Dataframe shape (rows, columns): (50000, 2)\n",
            "--- Rows with Empty Cells Deleted\t--> Rows: 49997\n",
            "--- Duplicates Deleted\t\t\t--> Rows: 49997\n",
            "--- Source-Copied Rows Deleted\t\t--> Rows: 49997\n",
            "--- Too Long Source/Target Deleted\t--> Rows: 48399\n",
            "--- Too Short Source/Target Deleted\t--> Rows: 48321\n",
            "--- HTML Removed\t\t\t--> Rows: 48321\n",
            "--- Rows will remain true-cased\t\t--> Rows: 48321\n",
            "--- Rows with Empty Cells Deleted\t--> Rows: 48315\n",
            "--- Rows Shuffled\t\t\t--> Rows: 48315\n",
            "--- Source Saved: train.en-de.en-filtered.en\n",
            "--- Target Saved: train.en-de.de-filtered.de\n"
          ]
        }
      ]
    }
  ]
}