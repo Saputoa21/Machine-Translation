{
  "nbformat": 4,
  "nbformat_minor": 0,
  "metadata": {
    "colab": {
      "provenance": [],
      "gpuType": "T4",
      "include_colab_link": true
    },
    "kernelspec": {
      "name": "python3",
      "display_name": "Python 3"
    },
    "language_info": {
      "name": "python"
    },
    "accelerator": "GPU"
  },
  "cells": [
    {
      "cell_type": "markdown",
      "metadata": {
        "id": "view-in-github",
        "colab_type": "text"
      },
      "source": [
        "<a href=\"https://colab.research.google.com/github/Saputoa21/Machine-Translation/blob/main/filterMT_AdvancedMT_2025W.ipynb\" target=\"_parent\"><img src=\"https://colab.research.google.com/assets/colab-badge.svg\" alt=\"Open In Colab\"/></a>"
      ]
    },
    {
      "cell_type": "code",
      "source": [
        "#https://github.com/ymoslem/Adaptive-MT-LLM-Fine-tuning/blob/main/Data-Processing-Adaptive-MT.ipynb\n",
        "#https://github.com/ymoslem/MT-Preparation/tree/main"
      ],
      "metadata": {
        "id": "kswpUoj6GbYM"
      },
      "execution_count": 1,
      "outputs": []
    },
    {
      "cell_type": "code",
      "source": [
        "!git clone https://github.com/ymoslem/MT-Preparation.git"
      ],
      "metadata": {
        "colab": {
          "base_uri": "https://localhost:8080/"
        },
        "id": "Ksb3SbK4-gaB",
        "outputId": "0bcc72cf-dd5c-46fa-b3d8-9dcfa0712089"
      },
      "execution_count": 2,
      "outputs": [
        {
          "output_type": "stream",
          "name": "stdout",
          "text": [
            "Cloning into 'MT-Preparation'...\n",
            "remote: Enumerating objects: 323, done.\u001b[K\n",
            "remote: Counting objects: 100% (55/55), done.\u001b[K\n",
            "remote: Compressing objects: 100% (35/35), done.\u001b[K\n",
            "remote: Total 323 (delta 35), reused 21 (delta 20), pack-reused 268 (from 2)\u001b[K\n",
            "Receiving objects: 100% (323/323), 94.95 KiB | 1.38 MiB/s, done.\n",
            "Resolving deltas: 100% (156/156), done.\n"
          ]
        }
      ]
    },
    {
      "cell_type": "code",
      "source": [
        "%cd MT-Preparation"
      ],
      "metadata": {
        "colab": {
          "base_uri": "https://localhost:8080/"
        },
        "id": "SGa81qmR-oKp",
        "outputId": "929e2021-5136-4b1d-9995-6cf91c0cf725"
      },
      "execution_count": 3,
      "outputs": [
        {
          "output_type": "stream",
          "name": "stdout",
          "text": [
            "/content/MT-Preparation\n"
          ]
        }
      ]
    },
    {
      "cell_type": "code",
      "source": [
        "!pip3 install --user -r requirements.txt"
      ],
      "metadata": {
        "colab": {
          "base_uri": "https://localhost:8080/"
        },
        "id": "8cY_cMx4-uyp",
        "outputId": "799e0b5c-58e4-4571-915f-011e31438050"
      },
      "execution_count": 4,
      "outputs": [
        {
          "output_type": "stream",
          "name": "stdout",
          "text": [
            "Requirement already satisfied: numpy in /usr/local/lib/python3.12/dist-packages (from -r requirements.txt (line 1)) (2.0.2)\n",
            "Requirement already satisfied: pandas in /usr/local/lib/python3.12/dist-packages (from -r requirements.txt (line 2)) (2.2.2)\n",
            "Requirement already satisfied: sentencepiece in /usr/local/lib/python3.12/dist-packages (from -r requirements.txt (line 3)) (0.2.1)\n",
            "Requirement already satisfied: python-dateutil>=2.8.2 in /usr/local/lib/python3.12/dist-packages (from pandas->-r requirements.txt (line 2)) (2.9.0.post0)\n",
            "Requirement already satisfied: pytz>=2020.1 in /usr/local/lib/python3.12/dist-packages (from pandas->-r requirements.txt (line 2)) (2025.2)\n",
            "Requirement already satisfied: tzdata>=2022.7 in /usr/local/lib/python3.12/dist-packages (from pandas->-r requirements.txt (line 2)) (2025.2)\n",
            "Requirement already satisfied: six>=1.5 in /usr/local/lib/python3.12/dist-packages (from python-dateutil>=2.8.2->pandas->-r requirements.txt (line 2)) (1.17.0)\n"
          ]
        }
      ]
    },
    {
      "cell_type": "code",
      "source": [
        "%cd .."
      ],
      "metadata": {
        "colab": {
          "base_uri": "https://localhost:8080/"
        },
        "id": "5on0MOYf-z2q",
        "outputId": "dfa9fa67-7b64-47a8-cca8-d1c9fd3915b6"
      },
      "execution_count": 5,
      "outputs": [
        {
          "output_type": "stream",
          "name": "stdout",
          "text": [
            "/content\n"
          ]
        }
      ]
    },
    {
      "cell_type": "code",
      "source": [
        "!ls"
      ],
      "metadata": {
        "colab": {
          "base_uri": "https://localhost:8080/"
        },
        "id": "xEp8fRSD-4Xi",
        "outputId": "90c707f7-de34-4fa7-abc8-618f091d3c38"
      },
      "execution_count": 6,
      "outputs": [
        {
          "output_type": "stream",
          "name": "stdout",
          "text": [
            "MT-Preparation\tsample_data\n"
          ]
        }
      ]
    },
    {
      "cell_type": "code",
      "source": [
        "!python3 MT-Preparation/filtering/filter.py train.en-de.en train.en-de.de en de"
      ],
      "metadata": {
        "colab": {
          "base_uri": "https://localhost:8080/"
        },
        "id": "SFb2r0Wd-6Yj",
        "outputId": "21a3ac25-49b3-49da-b269-0150818729d6"
      },
      "execution_count": 7,
      "outputs": [
        {
          "output_type": "stream",
          "name": "stdout",
          "text": [
            "Dataframe shape (rows, columns): (50000, 2)\n",
            "--- Rows with Empty Cells Deleted\t--> Rows: 49997\n",
            "--- Duplicates Deleted\t\t\t--> Rows: 49997\n",
            "--- Source-Copied Rows Deleted\t\t--> Rows: 49997\n",
            "--- Too Long Source/Target Deleted\t--> Rows: 48399\n",
            "--- Too Short Source/Target Deleted\t--> Rows: 48321\n",
            "--- HTML Removed\t\t\t--> Rows: 48321\n",
            "--- Rows will remain true-cased\t\t--> Rows: 48321\n",
            "--- Rows with Empty Cells Deleted\t--> Rows: 48315\n",
            "--- Rows Shuffled\t\t\t--> Rows: 48315\n",
            "--- Source Saved: train.en-de.en-filtered.en\n",
            "--- Target Saved: train.en-de.de-filtered.de\n"
          ]
        }
      ]
    },
    {
      "cell_type": "code",
      "source": [
        "!python3 MT-Preparation/filtering/semantic_filter.py train.en-de.en-filtered.en train.en-de.de-filtered.de en de 10000 0.45"
      ],
      "metadata": {
        "colab": {
          "base_uri": "https://localhost:8080/"
        },
        "id": "aD8KDZV_gBRa",
        "outputId": "67a5cb20-a826-431a-dd18-2c02aabc5555"
      },
      "execution_count": 8,
      "outputs": [
        {
          "output_type": "stream",
          "name": "stdout",
          "text": [
            "2025-10-28 09:29:05.171515: E external/local_xla/xla/stream_executor/cuda/cuda_fft.cc:467] Unable to register cuFFT factory: Attempting to register factory for plugin cuFFT when one has already been registered\n",
            "WARNING: All log messages before absl::InitializeLog() is called are written to STDERR\n",
            "E0000 00:00:1761643745.191420     893 cuda_dnn.cc:8579] Unable to register cuDNN factory: Attempting to register factory for plugin cuDNN when one has already been registered\n",
            "E0000 00:00:1761643745.197664     893 cuda_blas.cc:1407] Unable to register cuBLAS factory: Attempting to register factory for plugin cuBLAS when one has already been registered\n",
            "W0000 00:00:1761643745.212276     893 computation_placer.cc:177] computation placer already registered. Please check linkage and avoid linking the same target more than once.\n",
            "W0000 00:00:1761643745.212301     893 computation_placer.cc:177] computation placer already registered. Please check linkage and avoid linking the same target more than once.\n",
            "W0000 00:00:1761643745.212305     893 computation_placer.cc:177] computation placer already registered. Please check linkage and avoid linking the same target more than once.\n",
            "W0000 00:00:1761643745.212310     893 computation_placer.cc:177] computation placer already registered. Please check linkage and avoid linking the same target more than once.\n",
            "2025-10-28 09:29:05.216642: I tensorflow/core/platform/cpu_feature_guard.cc:210] This TensorFlow binary is optimized to use available CPU instructions in performance-critical operations.\n",
            "To enable the following instructions: AVX2 AVX512F FMA, in other operations, rebuild TensorFlow with the appropriate compiler flags.\n",
            "Line count: 48315\n",
            "modules.json: 100% 341/341 [00:00<00:00, 3.04MB/s]\n",
            "config_sentence_transformers.json: 100% 122/122 [00:00<00:00, 1.24MB/s]\n",
            "README.md: 2.24kB [00:00, 11.8MB/s]\n",
            "sentence_bert_config.json: 100% 53.0/53.0 [00:00<00:00, 570kB/s]\n",
            "config.json: 100% 556/556 [00:00<00:00, 6.01MB/s]\n",
            "model.safetensors: 100% 539M/539M [00:06<00:00, 78.4MB/s]\n",
            "tokenizer_config.json: 100% 452/452 [00:00<00:00, 5.12MB/s]\n",
            "vocab.txt: 996kB [00:00, 31.5MB/s]\n",
            "tokenizer.json: 1.96MB [00:00, 130MB/s]\n",
            "special_tokens_map.json: 100% 112/112 [00:00<00:00, 1.32MB/s]\n",
            "config.json: 100% 190/190 [00:00<00:00, 2.10MB/s]\n",
            "config.json: 100% 114/114 [00:00<00:00, 1.10MB/s]\n",
            "2_Dense/model.safetensors: 100% 1.58M/1.58M [00:00<00:00, 6.25MB/s]\n",
            "Model loaded: distiluse-base-multilingual-cased-v1\n",
            "2025-10-28 09:29:29.841033: E external/local_xla/xla/stream_executor/cuda/cuda_fft.cc:467] Unable to register cuFFT factory: Attempting to register factory for plugin cuFFT when one has already been registered\n",
            "WARNING: All log messages before absl::InitializeLog() is called are written to STDERR\n",
            "E0000 00:00:1761643769.863028    1060 cuda_dnn.cc:8579] Unable to register cuDNN factory: Attempting to register factory for plugin cuDNN when one has already been registered\n",
            "E0000 00:00:1761643769.869809    1060 cuda_blas.cc:1407] Unable to register cuBLAS factory: Attempting to register factory for plugin cuBLAS when one has already been registered\n",
            "W0000 00:00:1761643769.886609    1060 computation_placer.cc:177] computation placer already registered. Please check linkage and avoid linking the same target more than once.\n",
            "W0000 00:00:1761643769.886639    1060 computation_placer.cc:177] computation placer already registered. Please check linkage and avoid linking the same target more than once.\n",
            "W0000 00:00:1761643769.886644    1060 computation_placer.cc:177] computation placer already registered. Please check linkage and avoid linking the same target more than once.\n",
            "W0000 00:00:1761643769.886650    1060 computation_placer.cc:177] computation placer already registered. Please check linkage and avoid linking the same target more than once.\n",
            "10000 | /content/MT-Preparation/filtering/semantic_filter.py:47: DeprecationWarning: The `encode_multi_process` method has been deprecated, and its functionality has been integrated into `encode`. You can now call `encode` with the same parameters to achieve multi-process encoding.\n",
            "  source_embeddings = model.encode_multi_process(source, pool=pool, batch_size=2048)\n",
            "/content/MT-Preparation/filtering/semantic_filter.py:48: DeprecationWarning: The `encode_multi_process` method has been deprecated, and its functionality has been integrated into `encode`. You can now call `encode` with the same parameters to achieve multi-process encoding.\n",
            "  target_embeddings = model.encode_multi_process(target, pool=pool, batch_size=2048)\n",
            "20000 | 30000 | 40000 | 48315 | /usr/lib/python3.12/multiprocessing/resource_tracker.py:279: UserWarning: resource_tracker: There appear to be 1 leaked semaphore objects to clean up at shutdown\n",
            "  warnings.warn('resource_tracker: There appear to be %d '\n"
          ]
        }
      ]
    },
    {
      "cell_type": "code",
      "source": [
        "!wc -l *"
      ],
      "metadata": {
        "colab": {
          "base_uri": "https://localhost:8080/"
        },
        "id": "b-zztIwvfqfi",
        "outputId": "2bddd01e-8702-4f23-d791-7d670283e473"
      },
      "execution_count": 9,
      "outputs": [
        {
          "output_type": "stream",
          "name": "stdout",
          "text": [
            "wc: model_cache: Is a directory\n",
            "       0 model_cache\n",
            "wc: MT-Preparation: Is a directory\n",
            "       0 MT-Preparation\n",
            "wc: sample_data: Is a directory\n",
            "       0 sample_data\n",
            "   50000 train.en-de.de\n",
            "   48315 train.en-de.de-filtered.de\n",
            "   47614 train.en-de.de-filtered.de.semantic.de\n",
            "   50000 train.en-de.en\n",
            "   48315 train.en-de.en-filtered.en\n",
            "   47614 train.en-de.en-filtered.en.semantic.en\n",
            "  291858 total\n"
          ]
        }
      ]
    },
    {
      "cell_type": "markdown",
      "source": [
        "# **My corpus text**\n",
        "\n",
        "I have chosen MultiUN (v1) corpus with the language pair EN-RU and size of 11,654,416 sentences. I splitted it into train (80k), validation (10k) and test (10k) sets.\n",
        "\n",
        "The created files are:\n",
        "\n",
        "*   UN-train.en-ru.en\n",
        "*   UN-train.en-ru.ru\n",
        "*   UN-test.en-ru.en\n",
        "*   UN-test.en-ru.ru\n",
        "*   UN-val.en-ru.en\n",
        "*   UN-val.en-ru.ru\n",
        "\n",
        "Link: https://opus.nlpl.eu/MultiUN/en&ru/v1/MultiUN\n"
      ],
      "metadata": {
        "id": "YMRXnGc_dv84"
      }
    },
    {
      "cell_type": "markdown",
      "source": [
        "## Corpus splitting"
      ],
      "metadata": {
        "id": "sZdugQoOtAU8"
      }
    },
    {
      "cell_type": "code",
      "source": [
        "from google.colab import drive\n",
        "drive.mount('/content/drive')"
      ],
      "metadata": {
        "id": "P26rpHVzrsUV",
        "colab": {
          "base_uri": "https://localhost:8080/"
        },
        "outputId": "9e752fad-fa55-4dd4-9e04-be40516e9f41"
      },
      "execution_count": 10,
      "outputs": [
        {
          "output_type": "stream",
          "name": "stdout",
          "text": [
            "Mounted at /content/drive\n"
          ]
        }
      ]
    },
    {
      "cell_type": "code",
      "source": [
        "file_ru = \"/content/drive/MyDrive/Colab Notebooks/ru.txt.gz\"\n",
        "file_en = \"/content/drive/MyDrive/Colab Notebooks/en.txt.gz\""
      ],
      "metadata": {
        "id": "so-CUgt-rtvE"
      },
      "execution_count": 11,
      "outputs": []
    },
    {
      "cell_type": "code",
      "source": [
        "import gzip\n",
        "\n",
        "def extract_first_n_lines(gz_path, n_lines=50000):\n",
        "    lines = []\n",
        "    with gzip.open(gz_path, 'rt', encoding='utf-8') as f:\n",
        "        for i, line in enumerate(f):\n",
        "            if i >= n_lines:\n",
        "                break\n",
        "            lines.append(line)\n",
        "    print(f\"Extracted {len(lines):,} lines from {gz_path}\")\n",
        "    return lines"
      ],
      "metadata": {
        "id": "qG36tEJerhsj"
      },
      "execution_count": 30,
      "outputs": []
    },
    {
      "cell_type": "code",
      "source": [
        "train_ru = extract_first_n_lines(file_ru, n_lines=50000)\n",
        "train_en = extract_first_n_lines(file_en, n_lines=50000)"
      ],
      "metadata": {
        "colab": {
          "base_uri": "https://localhost:8080/"
        },
        "id": "vitogPUvusp1",
        "outputId": "084da60b-6798-4f5a-9415-bedfddb4396c"
      },
      "execution_count": 31,
      "outputs": [
        {
          "output_type": "stream",
          "name": "stdout",
          "text": [
            "Extracted 50,000 lines from /content/drive/MyDrive/Colab Notebooks/ru.txt.gz\n",
            "Extracted 50,000 lines from /content/drive/MyDrive/Colab Notebooks/en.txt.gz\n"
          ]
        }
      ]
    },
    {
      "cell_type": "code",
      "source": [
        "print(len(train_ru))\n",
        "print(len(train_en))"
      ],
      "metadata": {
        "colab": {
          "base_uri": "https://localhost:8080/"
        },
        "id": "SrzM7kyjWEW_",
        "outputId": "3775c40c-1022-44b0-80ba-7debbbb98828"
      },
      "execution_count": 32,
      "outputs": [
        {
          "output_type": "stream",
          "name": "stdout",
          "text": [
            "50000\n",
            "50000\n"
          ]
        }
      ]
    },
    {
      "cell_type": "code",
      "source": [
        "def save_bilingual_splits(prefix=\"UN\", src_lang=\"en\", tgt_lang=\"ru\",\n",
        "                          train_src=None, train_tgt=None):\n",
        "\n",
        "    def save(name, src_data, tgt_data):\n",
        "        src_file = f\"{prefix}.{src_lang}-{tgt_lang}.{name}.{src_lang}\"\n",
        "        tgt_file = f\"{prefix}.{src_lang}-{tgt_lang}.{name}.{tgt_lang}\"\n",
        "\n",
        "        with open(src_file, \"w\", encoding=\"utf-8\") as f_src:\n",
        "            f_src.writelines(src_data)\n",
        "        with open(tgt_file, \"w\", encoding=\"utf-8\") as f_tgt:\n",
        "            f_tgt.writelines(tgt_data)\n",
        "\n",
        "        print(f\"Saved {src_file} ({len(src_data):,} lines)\")\n",
        "        print(f\"Saved {tgt_file} ({len(tgt_data):,} lines)\")\n",
        "\n",
        "    if train_src and train_tgt:\n",
        "        save(\"train\", train_src, train_tgt)"
      ],
      "metadata": {
        "id": "41VPwY6FyaLS"
      },
      "execution_count": 34,
      "outputs": []
    },
    {
      "cell_type": "code",
      "source": [
        "save_bilingual_splits(\n",
        "    prefix=\"UN\",\n",
        "    src_lang=\"en\",\n",
        "    tgt_lang=\"ru\",\n",
        "    train_src=train_en, train_tgt=train_ru,\n",
        ")"
      ],
      "metadata": {
        "colab": {
          "base_uri": "https://localhost:8080/"
        },
        "id": "RZmSsfOcyf-A",
        "outputId": "a6e3ff7d-540e-4095-fbb4-2bf50e060b2d"
      },
      "execution_count": 35,
      "outputs": [
        {
          "output_type": "stream",
          "name": "stdout",
          "text": [
            "Saved UN.en-ru.train.en (50,000 lines)\n",
            "Saved UN.en-ru.train.ru (50,000 lines)\n"
          ]
        }
      ]
    },
    {
      "cell_type": "markdown",
      "source": [
        "## Corpus preparation"
      ],
      "metadata": {
        "id": "FWfGkPBbtEu2"
      }
    },
    {
      "cell_type": "code",
      "source": [
        "!git clone https://github.com/ymoslem/MT-Preparation.git"
      ],
      "metadata": {
        "colab": {
          "base_uri": "https://localhost:8080/"
        },
        "outputId": "78793582-2e75-4bf9-d646-267c2df903c5",
        "id": "6PFLEherd3ov"
      },
      "execution_count": 18,
      "outputs": [
        {
          "output_type": "stream",
          "name": "stdout",
          "text": [
            "fatal: destination path 'MT-Preparation' already exists and is not an empty directory.\n"
          ]
        }
      ]
    },
    {
      "cell_type": "code",
      "source": [
        "%cd MT-Preparation"
      ],
      "metadata": {
        "colab": {
          "base_uri": "https://localhost:8080/"
        },
        "outputId": "b1556381-0e2c-44a1-a8d6-300554ef4c12",
        "id": "yXBJCxC4d3ox"
      },
      "execution_count": 19,
      "outputs": [
        {
          "output_type": "stream",
          "name": "stdout",
          "text": [
            "/content/MT-Preparation\n"
          ]
        }
      ]
    },
    {
      "cell_type": "code",
      "source": [
        "!pip3 install --user -r requirements.txt"
      ],
      "metadata": {
        "colab": {
          "base_uri": "https://localhost:8080/"
        },
        "outputId": "72fe8d77-92cb-4e50-cbed-76621d0e32d3",
        "id": "9slE7yqYd3oz"
      },
      "execution_count": 20,
      "outputs": [
        {
          "output_type": "stream",
          "name": "stdout",
          "text": [
            "Requirement already satisfied: numpy in /usr/local/lib/python3.12/dist-packages (from -r requirements.txt (line 1)) (2.0.2)\n",
            "Requirement already satisfied: pandas in /usr/local/lib/python3.12/dist-packages (from -r requirements.txt (line 2)) (2.2.2)\n",
            "Requirement already satisfied: sentencepiece in /usr/local/lib/python3.12/dist-packages (from -r requirements.txt (line 3)) (0.2.1)\n",
            "Requirement already satisfied: python-dateutil>=2.8.2 in /usr/local/lib/python3.12/dist-packages (from pandas->-r requirements.txt (line 2)) (2.9.0.post0)\n",
            "Requirement already satisfied: pytz>=2020.1 in /usr/local/lib/python3.12/dist-packages (from pandas->-r requirements.txt (line 2)) (2025.2)\n",
            "Requirement already satisfied: tzdata>=2022.7 in /usr/local/lib/python3.12/dist-packages (from pandas->-r requirements.txt (line 2)) (2025.2)\n",
            "Requirement already satisfied: six>=1.5 in /usr/local/lib/python3.12/dist-packages (from python-dateutil>=2.8.2->pandas->-r requirements.txt (line 2)) (1.17.0)\n"
          ]
        }
      ]
    },
    {
      "cell_type": "code",
      "source": [
        "%cd .."
      ],
      "metadata": {
        "colab": {
          "base_uri": "https://localhost:8080/"
        },
        "outputId": "b7173104-1f94-4806-a766-33345b7a04cf",
        "id": "yIeNrcMcd3o0"
      },
      "execution_count": 21,
      "outputs": [
        {
          "output_type": "stream",
          "name": "stdout",
          "text": [
            "/content\n"
          ]
        }
      ]
    },
    {
      "cell_type": "code",
      "source": [
        "!ls"
      ],
      "metadata": {
        "colab": {
          "base_uri": "https://localhost:8080/"
        },
        "outputId": "08f57bb6-70bd-431e-a766-0ff96c1fc05b",
        "id": "Sysb_ev8d3o2"
      },
      "execution_count": 36,
      "outputs": [
        {
          "output_type": "stream",
          "name": "stdout",
          "text": [
            "drive\n",
            "model_cache\n",
            "MT-Preparation\n",
            "sample_data\n",
            "train.en-de.de\n",
            "train.en-de.de-filtered.de\n",
            "train.en-de.de-filtered.de.semantic.de\n",
            "train.en-de.en\n",
            "train.en-de.en-filtered.en\n",
            "train.en-de.en-filtered.en.semantic.en\n",
            "UN.en-ru.test.en\n",
            "UN.en-ru.test.en-filtered.en\n",
            "UN.en-ru.test.en-filtered.en.semantic.en\n",
            "UN.en-ru.test.ru\n",
            "UN.en-ru.test.ru-filtered.ru\n",
            "UN.en-ru.test.ru-filtered.ru.semantic.ru\n",
            "UN.en-ru.train.en\n",
            "UN.en-ru.train.en-filtered.en\n",
            "UN.en-ru.train.ru\n",
            "UN.en-ru.train.ru-filtered.ru\n",
            "UN.en-ru.val.en\n",
            "UN.en-ru.val.en-filtered.en\n",
            "UN.en-ru.val.en-filtered.en.semantic.en\n",
            "UN.en-ru.val.ru\n",
            "UN.en-ru.val.ru-filtered.ru\n",
            "UN.en-ru.val.ru-filtered.ru.semantic.ru\n"
          ]
        }
      ]
    },
    {
      "cell_type": "code",
      "source": [
        "!python3 MT-Preparation/filtering/filter.py UN.en-ru.train.en UN.en-ru.train.ru en ru"
      ],
      "metadata": {
        "colab": {
          "base_uri": "https://localhost:8080/"
        },
        "outputId": "cc22a072-7919-4fe5-ed20-9bfd7ea28eed",
        "id": "ay1lOqXvd3o3"
      },
      "execution_count": 37,
      "outputs": [
        {
          "output_type": "stream",
          "name": "stdout",
          "text": [
            "Dataframe shape (rows, columns): (50000, 2)\n",
            "--- Rows with Empty Cells Deleted\t--> Rows: 50000\n",
            "--- Duplicates Deleted\t\t\t--> Rows: 49998\n",
            "--- Source-Copied Rows Deleted\t\t--> Rows: 49998\n",
            "--- Too Long Source/Target Deleted\t--> Rows: 24997\n",
            "--- Too Short Source/Target Deleted\t--> Rows: 24994\n",
            "--- HTML Removed\t\t\t--> Rows: 24994\n",
            "--- Rows will remain true-cased\t\t--> Rows: 24994\n",
            "--- Rows with Empty Cells Deleted\t--> Rows: 24994\n",
            "--- Rows Shuffled\t\t\t--> Rows: 24994\n",
            "--- Source Saved: UN.en-ru.train.en-filtered.en\n",
            "--- Target Saved: UN.en-ru.train.ru-filtered.ru\n"
          ]
        }
      ]
    },
    {
      "cell_type": "code",
      "source": [
        "!python3 MT-Preparation/filtering/semantic_filter.py UN.en-ru.train.en-filtered.en UN.en-ru.train.ru-filtered.ru en ru 5000 #batch 0.45 #treshhold"
      ],
      "metadata": {
        "colab": {
          "base_uri": "https://localhost:8080/"
        },
        "id": "5CyrVwzl2mOx",
        "outputId": "49afa991-774b-4c50-ce00-6459196fcbc4"
      },
      "execution_count": 40,
      "outputs": [
        {
          "output_type": "stream",
          "name": "stdout",
          "text": [
            "2025-10-28 10:26:33.676653: E external/local_xla/xla/stream_executor/cuda/cuda_fft.cc:467] Unable to register cuFFT factory: Attempting to register factory for plugin cuFFT when one has already been registered\n",
            "WARNING: All log messages before absl::InitializeLog() is called are written to STDERR\n",
            "E0000 00:00:1761647193.696025   15697 cuda_dnn.cc:8579] Unable to register cuDNN factory: Attempting to register factory for plugin cuDNN when one has already been registered\n",
            "E0000 00:00:1761647193.701866   15697 cuda_blas.cc:1407] Unable to register cuBLAS factory: Attempting to register factory for plugin cuBLAS when one has already been registered\n",
            "W0000 00:00:1761647193.716921   15697 computation_placer.cc:177] computation placer already registered. Please check linkage and avoid linking the same target more than once.\n",
            "W0000 00:00:1761647193.716950   15697 computation_placer.cc:177] computation placer already registered. Please check linkage and avoid linking the same target more than once.\n",
            "W0000 00:00:1761647193.716956   15697 computation_placer.cc:177] computation placer already registered. Please check linkage and avoid linking the same target more than once.\n",
            "W0000 00:00:1761647193.716959   15697 computation_placer.cc:177] computation placer already registered. Please check linkage and avoid linking the same target more than once.\n",
            "2025-10-28 10:26:33.721332: I tensorflow/core/platform/cpu_feature_guard.cc:210] This TensorFlow binary is optimized to use available CPU instructions in performance-critical operations.\n",
            "To enable the following instructions: AVX2 AVX512F FMA, in other operations, rebuild TensorFlow with the appropriate compiler flags.\n",
            "Traceback (most recent call last):\n",
            "  File \"/content/MT-Preparation/filtering/semantic_filter.py\", line 93, in <module>\n",
            "    threshold = float(sys.argv[6])  # try 0.45\n",
            "                      ~~~~~~~~^^^\n",
            "IndexError: list index out of range\n"
          ]
        }
      ]
    },
    {
      "cell_type": "code",
      "source": [
        "!wc -l *"
      ],
      "metadata": {
        "colab": {
          "base_uri": "https://localhost:8080/"
        },
        "id": "fBVkzFTBRnNL",
        "outputId": "34086ae6-cfef-4435-d7e0-4c14d6e64899"
      },
      "execution_count": 42,
      "outputs": [
        {
          "output_type": "stream",
          "name": "stdout",
          "text": [
            "wc: drive: Is a directory\n",
            "       0 drive\n",
            "wc: model_cache: Is a directory\n",
            "       0 model_cache\n",
            "wc: MT-Preparation: Is a directory\n",
            "       0 MT-Preparation\n",
            "wc: sample_data: Is a directory\n",
            "       0 sample_data\n",
            "   50000 train.en-de.de\n",
            "   48315 train.en-de.de-filtered.de\n",
            "   47614 train.en-de.de-filtered.de.semantic.de\n",
            "   50000 train.en-de.en\n",
            "   48315 train.en-de.en-filtered.en\n",
            "   47614 train.en-de.en-filtered.en.semantic.en\n",
            "   10000 UN.en-ru.test.en\n",
            "    4685 UN.en-ru.test.en-filtered.en\n",
            "       2 UN.en-ru.test.en-filtered.en.semantic.en\n",
            "   10000 UN.en-ru.test.ru\n",
            "    4685 UN.en-ru.test.ru-filtered.ru\n",
            "       2 UN.en-ru.test.ru-filtered.ru.semantic.ru\n",
            "   50000 UN.en-ru.train.en\n",
            "   24994 UN.en-ru.train.en-filtered.en\n",
            "   50000 UN.en-ru.train.ru\n",
            "   24994 UN.en-ru.train.ru-filtered.ru\n",
            "   10000 UN.en-ru.val.en\n",
            "    4738 UN.en-ru.val.en-filtered.en\n",
            "       7 UN.en-ru.val.en-filtered.en.semantic.en\n",
            "   10000 UN.en-ru.val.ru\n",
            "    4738 UN.en-ru.val.ru-filtered.ru\n",
            "       7 UN.en-ru.val.ru-filtered.ru.semantic.ru\n",
            "  500710 total\n"
          ]
        }
      ]
    }
  ]
}