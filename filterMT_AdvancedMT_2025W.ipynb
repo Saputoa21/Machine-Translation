{
  "nbformat": 4,
  "nbformat_minor": 0,
  "metadata": {
    "colab": {
      "provenance": [],
      "gpuType": "T4",
      "include_colab_link": true
    },
    "kernelspec": {
      "name": "python3",
      "display_name": "Python 3"
    },
    "language_info": {
      "name": "python"
    },
    "accelerator": "GPU"
  },
  "cells": [
    {
      "cell_type": "markdown",
      "metadata": {
        "id": "view-in-github",
        "colab_type": "text"
      },
      "source": [
        "<a href=\"https://colab.research.google.com/github/Saputoa21/Machine-Translation/blob/main/filterMT_AdvancedMT_2025W.ipynb\" target=\"_parent\"><img src=\"https://colab.research.google.com/assets/colab-badge.svg\" alt=\"Open In Colab\"/></a>"
      ]
    },
    {
      "cell_type": "code",
      "source": [
        "#https://github.com/ymoslem/Adaptive-MT-LLM-Fine-tuning/blob/main/Data-Processing-Adaptive-MT.ipynb\n",
        "#https://github.com/ymoslem/MT-Preparation/tree/main"
      ],
      "metadata": {
        "id": "kswpUoj6GbYM"
      },
      "execution_count": 1,
      "outputs": []
    },
    {
      "cell_type": "code",
      "source": [
        "!git clone https://github.com/ymoslem/MT-Preparation.git"
      ],
      "metadata": {
        "colab": {
          "base_uri": "https://localhost:8080/"
        },
        "id": "Ksb3SbK4-gaB",
        "outputId": "9f0c0bc2-30a4-4075-a380-5867fe2ab685"
      },
      "execution_count": 2,
      "outputs": [
        {
          "output_type": "stream",
          "name": "stdout",
          "text": [
            "Cloning into 'MT-Preparation'...\n",
            "remote: Enumerating objects: 323, done.\u001b[K\n",
            "remote: Counting objects: 100% (55/55), done.\u001b[K\n",
            "remote: Compressing objects: 100% (35/35), done.\u001b[K\n",
            "remote: Total 323 (delta 35), reused 21 (delta 20), pack-reused 268 (from 2)\u001b[K\n",
            "Receiving objects: 100% (323/323), 94.95 KiB | 5.00 MiB/s, done.\n",
            "Resolving deltas: 100% (156/156), done.\n"
          ]
        }
      ]
    },
    {
      "cell_type": "code",
      "source": [
        "%cd MT-Preparation"
      ],
      "metadata": {
        "colab": {
          "base_uri": "https://localhost:8080/"
        },
        "id": "SGa81qmR-oKp",
        "outputId": "a8d4f787-f221-4b74-c929-5522da26194b"
      },
      "execution_count": 3,
      "outputs": [
        {
          "output_type": "stream",
          "name": "stdout",
          "text": [
            "/content/MT-Preparation\n"
          ]
        }
      ]
    },
    {
      "cell_type": "code",
      "source": [
        "!pip3 install --user -r requirements.txt"
      ],
      "metadata": {
        "colab": {
          "base_uri": "https://localhost:8080/"
        },
        "id": "8cY_cMx4-uyp",
        "outputId": "bad4b232-9209-43db-d1da-302c8e3ac9f3"
      },
      "execution_count": 4,
      "outputs": [
        {
          "output_type": "stream",
          "name": "stdout",
          "text": [
            "Requirement already satisfied: numpy in /usr/local/lib/python3.12/dist-packages (from -r requirements.txt (line 1)) (2.0.2)\n",
            "Requirement already satisfied: pandas in /usr/local/lib/python3.12/dist-packages (from -r requirements.txt (line 2)) (2.2.2)\n",
            "Requirement already satisfied: sentencepiece in /usr/local/lib/python3.12/dist-packages (from -r requirements.txt (line 3)) (0.2.1)\n",
            "Requirement already satisfied: python-dateutil>=2.8.2 in /usr/local/lib/python3.12/dist-packages (from pandas->-r requirements.txt (line 2)) (2.9.0.post0)\n",
            "Requirement already satisfied: pytz>=2020.1 in /usr/local/lib/python3.12/dist-packages (from pandas->-r requirements.txt (line 2)) (2025.2)\n",
            "Requirement already satisfied: tzdata>=2022.7 in /usr/local/lib/python3.12/dist-packages (from pandas->-r requirements.txt (line 2)) (2025.2)\n",
            "Requirement already satisfied: six>=1.5 in /usr/local/lib/python3.12/dist-packages (from python-dateutil>=2.8.2->pandas->-r requirements.txt (line 2)) (1.17.0)\n"
          ]
        }
      ]
    },
    {
      "cell_type": "code",
      "source": [
        "%cd .."
      ],
      "metadata": {
        "colab": {
          "base_uri": "https://localhost:8080/"
        },
        "id": "5on0MOYf-z2q",
        "outputId": "491f1a5a-b9ad-4a45-b820-c04d76761883"
      },
      "execution_count": 5,
      "outputs": [
        {
          "output_type": "stream",
          "name": "stdout",
          "text": [
            "/content\n"
          ]
        }
      ]
    },
    {
      "cell_type": "code",
      "source": [
        "!ls"
      ],
      "metadata": {
        "colab": {
          "base_uri": "https://localhost:8080/"
        },
        "id": "xEp8fRSD-4Xi",
        "outputId": "280262d5-daa1-424b-f60f-f90bb383492e"
      },
      "execution_count": 6,
      "outputs": [
        {
          "output_type": "stream",
          "name": "stdout",
          "text": [
            "MT-Preparation\tsample_data\n"
          ]
        }
      ]
    },
    {
      "cell_type": "code",
      "source": [
        "!python3 MT-Preparation/filtering/filter.py train.en-de.en train.en-de.de en de"
      ],
      "metadata": {
        "colab": {
          "base_uri": "https://localhost:8080/"
        },
        "id": "SFb2r0Wd-6Yj",
        "outputId": "c41cc57d-7c88-40b0-e3a5-1a1a25344322"
      },
      "execution_count": null,
      "outputs": [
        {
          "output_type": "stream",
          "name": "stdout",
          "text": [
            "Dataframe shape (rows, columns): (50000, 2)\n",
            "--- Rows with Empty Cells Deleted\t--> Rows: 49997\n",
            "--- Duplicates Deleted\t\t\t--> Rows: 49997\n",
            "--- Source-Copied Rows Deleted\t\t--> Rows: 49997\n",
            "--- Too Long Source/Target Deleted\t--> Rows: 48399\n",
            "--- Too Short Source/Target Deleted\t--> Rows: 48321\n",
            "--- HTML Removed\t\t\t--> Rows: 48321\n",
            "--- Rows will remain true-cased\t\t--> Rows: 48321\n",
            "--- Rows with Empty Cells Deleted\t--> Rows: 48315\n",
            "--- Rows Shuffled\t\t\t--> Rows: 48315\n",
            "--- Source Saved: train.en-de.en-filtered.en\n",
            "--- Target Saved: train.en-de.de-filtered.de\n"
          ]
        }
      ]
    },
    {
      "cell_type": "code",
      "source": [
        "!python3 MT-Preparation/filtering/semantic_filter.py train.en-de.en-filtered.en train.en-de.de-filtered.de en de 10000 0.45"
      ],
      "metadata": {
        "colab": {
          "base_uri": "https://localhost:8080/"
        },
        "id": "aD8KDZV_gBRa",
        "outputId": "ce26f9ee-ae22-4364-be5d-879f81d6cb44"
      },
      "execution_count": null,
      "outputs": [
        {
          "output_type": "stream",
          "name": "stdout",
          "text": [
            "2025-10-28 14:04:38.833889: E external/local_xla/xla/stream_executor/cuda/cuda_fft.cc:467] Unable to register cuFFT factory: Attempting to register factory for plugin cuFFT when one has already been registered\n",
            "WARNING: All log messages before absl::InitializeLog() is called are written to STDERR\n",
            "E0000 00:00:1761660278.853572    1551 cuda_dnn.cc:8579] Unable to register cuDNN factory: Attempting to register factory for plugin cuDNN when one has already been registered\n",
            "E0000 00:00:1761660278.859542    1551 cuda_blas.cc:1407] Unable to register cuBLAS factory: Attempting to register factory for plugin cuBLAS when one has already been registered\n",
            "W0000 00:00:1761660278.874791    1551 computation_placer.cc:177] computation placer already registered. Please check linkage and avoid linking the same target more than once.\n",
            "W0000 00:00:1761660278.874840    1551 computation_placer.cc:177] computation placer already registered. Please check linkage and avoid linking the same target more than once.\n",
            "W0000 00:00:1761660278.874844    1551 computation_placer.cc:177] computation placer already registered. Please check linkage and avoid linking the same target more than once.\n",
            "W0000 00:00:1761660278.874849    1551 computation_placer.cc:177] computation placer already registered. Please check linkage and avoid linking the same target more than once.\n",
            "2025-10-28 14:04:38.879599: I tensorflow/core/platform/cpu_feature_guard.cc:210] This TensorFlow binary is optimized to use available CPU instructions in performance-critical operations.\n",
            "To enable the following instructions: AVX2 AVX512F FMA, in other operations, rebuild TensorFlow with the appropriate compiler flags.\n",
            "Line count: 48315\n",
            "modules.json: 100% 341/341 [00:00<00:00, 3.16MB/s]\n",
            "config_sentence_transformers.json: 100% 122/122 [00:00<00:00, 1.22MB/s]\n",
            "README.md: 2.24kB [00:00, 15.6MB/s]\n",
            "sentence_bert_config.json: 100% 53.0/53.0 [00:00<00:00, 569kB/s]\n",
            "config.json: 100% 556/556 [00:00<00:00, 6.10MB/s]\n",
            "model.safetensors: 100% 539M/539M [00:10<00:00, 50.4MB/s]\n",
            "tokenizer_config.json: 100% 452/452 [00:00<00:00, 4.13MB/s]\n",
            "vocab.txt: 996kB [00:00, 35.2MB/s]\n",
            "tokenizer.json: 1.96MB [00:00, 130MB/s]\n",
            "special_tokens_map.json: 100% 112/112 [00:00<00:00, 1.28MB/s]\n",
            "config.json: 100% 190/190 [00:00<00:00, 1.91MB/s]\n",
            "config.json: 100% 114/114 [00:00<00:00, 1.13MB/s]\n",
            "2_Dense/model.safetensors: 100% 1.58M/1.58M [00:00<00:00, 1.81MB/s]\n",
            "Model loaded: distiluse-base-multilingual-cased-v1\n",
            "2025-10-28 14:05:07.724396: E external/local_xla/xla/stream_executor/cuda/cuda_fft.cc:467] Unable to register cuFFT factory: Attempting to register factory for plugin cuFFT when one has already been registered\n",
            "WARNING: All log messages before absl::InitializeLog() is called are written to STDERR\n",
            "E0000 00:00:1761660307.746907    1742 cuda_dnn.cc:8579] Unable to register cuDNN factory: Attempting to register factory for plugin cuDNN when one has already been registered\n",
            "E0000 00:00:1761660307.752705    1742 cuda_blas.cc:1407] Unable to register cuBLAS factory: Attempting to register factory for plugin cuBLAS when one has already been registered\n",
            "W0000 00:00:1761660307.767313    1742 computation_placer.cc:177] computation placer already registered. Please check linkage and avoid linking the same target more than once.\n",
            "W0000 00:00:1761660307.767344    1742 computation_placer.cc:177] computation placer already registered. Please check linkage and avoid linking the same target more than once.\n",
            "W0000 00:00:1761660307.767348    1742 computation_placer.cc:177] computation placer already registered. Please check linkage and avoid linking the same target more than once.\n",
            "W0000 00:00:1761660307.767352    1742 computation_placer.cc:177] computation placer already registered. Please check linkage and avoid linking the same target more than once.\n",
            "10000 | /content/MT-Preparation/filtering/semantic_filter.py:47: DeprecationWarning: The `encode_multi_process` method has been deprecated, and its functionality has been integrated into `encode`. You can now call `encode` with the same parameters to achieve multi-process encoding.\n",
            "  source_embeddings = model.encode_multi_process(source, pool=pool, batch_size=2048)\n",
            "/content/MT-Preparation/filtering/semantic_filter.py:48: DeprecationWarning: The `encode_multi_process` method has been deprecated, and its functionality has been integrated into `encode`. You can now call `encode` with the same parameters to achieve multi-process encoding.\n",
            "  target_embeddings = model.encode_multi_process(target, pool=pool, batch_size=2048)\n",
            "20000 | 30000 | 40000 | 48315 | /usr/lib/python3.12/multiprocessing/resource_tracker.py:279: UserWarning: resource_tracker: There appear to be 1 leaked semaphore objects to clean up at shutdown\n",
            "  warnings.warn('resource_tracker: There appear to be %d '\n"
          ]
        }
      ]
    },
    {
      "cell_type": "code",
      "source": [
        "!wc -l *"
      ],
      "metadata": {
        "colab": {
          "base_uri": "https://localhost:8080/"
        },
        "id": "b-zztIwvfqfi",
        "outputId": "eb2b1279-3701-47fd-adc0-a85215a0cc21"
      },
      "execution_count": null,
      "outputs": [
        {
          "output_type": "stream",
          "name": "stdout",
          "text": [
            "wc: model_cache: Is a directory\n",
            "       0 model_cache\n",
            "wc: MT-Preparation: Is a directory\n",
            "       0 MT-Preparation\n",
            "wc: sample_data: Is a directory\n",
            "       0 sample_data\n",
            "   50000 train.en-de.de\n",
            "   48315 train.en-de.de-filtered.de\n",
            "   47614 train.en-de.de-filtered.de.semantic.de\n",
            "   50000 train.en-de.en\n",
            "   48315 train.en-de.en-filtered.en\n",
            "   47614 train.en-de.en-filtered.en.semantic.en\n",
            "  291858 total\n"
          ]
        }
      ]
    },
    {
      "cell_type": "markdown",
      "source": [
        "# **My corpus text**\n",
        "\n",
        "I have chosen MultiUN (v1) corpus with the language pair EN-RU and size of 11,654,416 sentences. I took the first 100k sentences to create the corpus, which will be splitted in the following notebooks into train, val and test sets.\n",
        "\n",
        "As the corpus (txt.files) was too big to load into Colab, I uploaded the them into my Google Drive to open it here and take only some sentences.\n",
        "\n",
        "The created files are:\n",
        "\n",
        "*   MultiUN.en-ru.en\n",
        "*   MultiUN.en-ru.ru\n",
        "*   MultiUN.en-ru.en-filtered.en\n",
        "*   MultiUN.en-ru.ru-filtered.ru\n",
        "*   MultiUN.en-ru.en\n",
        "*   MultiUN.en-ru.ru\n",
        "\n",
        "\n",
        "Link: https://opus.nlpl.eu/MultiUN/en&ru/v1/MultiUN\n"
      ],
      "metadata": {
        "id": "YMRXnGc_dv84"
      }
    },
    {
      "cell_type": "markdown",
      "source": [
        "## Corpus creation"
      ],
      "metadata": {
        "id": "sZdugQoOtAU8"
      }
    },
    {
      "cell_type": "code",
      "source": [
        "from google.colab import drive\n",
        "drive.mount('/content/drive')"
      ],
      "metadata": {
        "id": "P26rpHVzrsUV",
        "colab": {
          "base_uri": "https://localhost:8080/"
        },
        "outputId": "f9dd37fa-0a90-4b68-93c3-627e69f7beff"
      },
      "execution_count": 7,
      "outputs": [
        {
          "output_type": "stream",
          "name": "stdout",
          "text": [
            "Mounted at /content/drive\n"
          ]
        }
      ]
    },
    {
      "cell_type": "code",
      "source": [
        "file_en = \"/content/drive/MyDrive/Colab Notebooks/MultiUN.en-ru.en\"\n",
        "file_ru = \"/content/drive/MyDrive/Colab Notebooks/MultiUN.en-ru.ru\""
      ],
      "metadata": {
        "id": "naf_oJh0WvI4"
      },
      "execution_count": 27,
      "outputs": []
    },
    {
      "cell_type": "code",
      "source": [
        "def extract_and_save_first_n_lines(file_path, output_path, n_lines):\n",
        "\n",
        "    extracted_lines = 0\n",
        "    with open(file_path, 'r', encoding='utf-8') as fin, \\\n",
        "         open(output_path, 'w', encoding='utf-8') as fout:\n",
        "        for i, line in enumerate(fin):\n",
        "            if i >= n_lines:\n",
        "                break\n",
        "            fout.write(line)\n",
        "            extracted_lines += 1\n",
        "\n",
        "    print(f\"Extracted and saved {extracted_lines:,} lines from '{file_path}' to '{output_path}'\")\n",
        "    return output_path"
      ],
      "metadata": {
        "id": "NeE8R7oxkoch"
      },
      "execution_count": 35,
      "outputs": []
    },
    {
      "cell_type": "code",
      "source": [
        "output_file_ru = \"/content/MultiUN.en-ru.ru\"\n",
        "output_file_en = \"/content/MultiUN.en-ru.en\"\n",
        "\n",
        "n_lines = 100000\n",
        "\n",
        "extract_and_save_first_n_lines(file_ru, output_file_ru, n_lines=n_lines)\n",
        "extract_and_save_first_n_lines(file_en, output_file_en, n_lines=n_lines)"
      ],
      "metadata": {
        "colab": {
          "base_uri": "https://localhost:8080/",
          "height": 72
        },
        "id": "M0So38rekpmD",
        "outputId": "692e5507-61bf-43e5-a701-6cedd16b70b3"
      },
      "execution_count": 36,
      "outputs": [
        {
          "output_type": "stream",
          "name": "stdout",
          "text": [
            "Extracted and saved 100,000 lines from '/content/drive/MyDrive/Colab Notebooks/MultiUN.en-ru.ru' to '/content/MultiUN.en-ru.ru'\n",
            "Extracted and saved 100,000 lines from '/content/drive/MyDrive/Colab Notebooks/MultiUN.en-ru.en' to '/content/MultiUN.en-ru.en'\n"
          ]
        },
        {
          "output_type": "execute_result",
          "data": {
            "text/plain": [
              "'/content/MultiUN.en-ru.en'"
            ],
            "application/vnd.google.colaboratory.intrinsic+json": {
              "type": "string"
            }
          },
          "metadata": {},
          "execution_count": 36
        }
      ]
    },
    {
      "cell_type": "code",
      "source": [
        "for i in range(7):\n",
        "  print(train_ru[i])\n",
        "  print(train_en[i])"
      ],
      "metadata": {
        "id": "0nDqXk3PJHqG",
        "colab": {
          "base_uri": "https://localhost:8080/"
        },
        "outputId": "3b9a3b5a-c0c1-46c1-98a7-4f24aef47180"
      },
      "execution_count": 37,
      "outputs": [
        {
          "output_type": "stream",
          "name": "stdout",
          "text": [
            "Совместное совещание ЕЭК/Евростата/ОЭСР по вопросам управления статистическими информационными системами (УСИС)\n",
            "\n",
            "Joint ECE/Eurostat/OECD Meeting on the Management of Statistical Information Systems (MSIS)\n",
            "\n",
            "(Братислава, Словакия, 18-20 апреля 2005 года)\n",
            "\n",
            "(Bratislava, Slovakia, 18-20 April 2005)\n",
            "\n",
            "Тема i): Практика управления ИТ в статистических управлениях\n",
            "\n",
            "Topic (i): IT governance in statistical offices\n",
            "\n",
            "УПРАВЛЕНИЕ ИНФОРМАЦИОННОЙ ТЕХНОЛОГИЕЙ В УНС -\n",
            "\n",
            "INFORMATION TECHNOLOGY GOVERNANCE @ ONS - DO WE NEED IT GOVERNANCE IN A STATISTICAL OFFICE?\n",
            "\n",
            "Специальный документ\n",
            "\n",
            "Invited Paper\n",
            "\n",
            "Представлен Управлением национальной статистики Соединенного Королевства\n",
            "\n",
            "Submitted by the Office for National Statistics, United Kingdom\n",
            "\n",
            "Резюме\n",
            "\n",
            "Summary\n",
            "\n"
          ]
        }
      ]
    },
    {
      "cell_type": "code",
      "source": [
        "print(len(train_ru))\n",
        "print(type(train_ru))\n",
        "print(len(train_en))\n",
        "print(type(train_en))"
      ],
      "metadata": {
        "colab": {
          "base_uri": "https://localhost:8080/"
        },
        "id": "Q6t0lsBvZb6Q",
        "outputId": "a2cf4551-0207-4cfa-e4bc-b0666cf60bcf"
      },
      "execution_count": 38,
      "outputs": [
        {
          "output_type": "stream",
          "name": "stdout",
          "text": [
            "100000\n",
            "<class 'list'>\n",
            "100000\n",
            "<class 'list'>\n"
          ]
        }
      ]
    },
    {
      "cell_type": "markdown",
      "source": [
        "## Corpus preparation"
      ],
      "metadata": {
        "id": "FWfGkPBbtEu2"
      }
    },
    {
      "cell_type": "code",
      "source": [
        "!python3 MT-Preparation/filtering/filter.py MultiUN.en-ru.en MultiUN.en-ru.ru en ru"
      ],
      "metadata": {
        "colab": {
          "base_uri": "https://localhost:8080/"
        },
        "outputId": "807d9724-cdb8-45ba-f479-4eda108d6661",
        "id": "ay1lOqXvd3o3"
      },
      "execution_count": 30,
      "outputs": [
        {
          "output_type": "stream",
          "name": "stdout",
          "text": [
            "Dataframe shape (rows, columns): (100000, 2)\n",
            "--- Rows with Empty Cells Deleted\t--> Rows: 99999\n",
            "--- Duplicates Deleted\t\t\t--> Rows: 93728\n",
            "--- Source-Copied Rows Deleted\t\t--> Rows: 91965\n",
            "--- Too Long Source/Target Deleted\t--> Rows: 86996\n",
            "--- Too Short Source/Target Deleted\t--> Rows: 86910\n",
            "--- HTML Removed\t\t\t--> Rows: 86910\n",
            "--- Rows will remain true-cased\t\t--> Rows: 86910\n",
            "--- Rows with Empty Cells Deleted\t--> Rows: 86910\n",
            "--- Rows Shuffled\t\t\t--> Rows: 86910\n",
            "--- Source Saved: MultiUN.en-ru.en-filtered.en\n",
            "--- Target Saved: MultiUN.en-ru.ru-filtered.ru\n"
          ]
        }
      ]
    },
    {
      "cell_type": "code",
      "source": [
        "with open('/content/MultiUN.en-ru.en-filtered.en', 'r') as f:\n",
        "    text = f.read()\n",
        "print(text[:100])\n",
        "print(len(text))"
      ],
      "metadata": {
        "id": "s-UN4AHeTBGt",
        "colab": {
          "base_uri": "https://localhost:8080/"
        },
        "outputId": "3d17c3b9-ffa3-42f8-cece-0f555b9bc194"
      },
      "execution_count": 43,
      "outputs": [
        {
          "output_type": "stream",
          "name": "stdout",
          "text": [
            "Women thus won a broad-based agenda for promoting and protecting their human rights worldwide, while\n",
            "14662673\n"
          ]
        }
      ]
    },
    {
      "cell_type": "code",
      "source": [
        "with open('/content/MultiUN.en-ru.ru-filtered.ru', 'r') as f:\n",
        "    text = f.read()\n",
        "print(text[:100])\n",
        "print(len(text))"
      ],
      "metadata": {
        "id": "YKTBoD-kTBiB",
        "colab": {
          "base_uri": "https://localhost:8080/"
        },
        "outputId": "95f76c87-8544-4e3f-a7a6-dbf57f107473"
      },
      "execution_count": 44,
      "outputs": [
        {
          "output_type": "stream",
          "name": "stdout",
          "text": [
            "Женщины добились принятия широкой программы поощрения и защиты их прав во всем мире, наряду с утверж\n",
            "16026119\n"
          ]
        }
      ]
    },
    {
      "cell_type": "code",
      "source": [
        "!python3 MT-Preparation/filtering/semantic_filter.py MultiUN.en-ru.en-filtered.en  MultiUN.en-ru.ru-filtered.ru  en ru 5000 0.45"
      ],
      "metadata": {
        "colab": {
          "base_uri": "https://localhost:8080/",
          "height": 1000
        },
        "id": "5CyrVwzl2mOx",
        "outputId": "7a75fceb-68cf-40ae-bd67-95e6a73ea3a8"
      },
      "execution_count": 42,
      "outputs": [
        {
          "output_type": "stream",
          "name": "stdout",
          "text": [
            "2025-10-31 23:29:41.895278: E external/local_xla/xla/stream_executor/cuda/cuda_fft.cc:467] Unable to register cuFFT factory: Attempting to register factory for plugin cuFFT when one has already been registered\n",
            "WARNING: All log messages before absl::InitializeLog() is called are written to STDERR\n",
            "E0000 00:00:1761953381.926572    6663 cuda_dnn.cc:8579] Unable to register cuDNN factory: Attempting to register factory for plugin cuDNN when one has already been registered\n",
            "E0000 00:00:1761953381.936350    6663 cuda_blas.cc:1407] Unable to register cuBLAS factory: Attempting to register factory for plugin cuBLAS when one has already been registered\n",
            "W0000 00:00:1761953381.959695    6663 computation_placer.cc:177] computation placer already registered. Please check linkage and avoid linking the same target more than once.\n",
            "W0000 00:00:1761953381.959729    6663 computation_placer.cc:177] computation placer already registered. Please check linkage and avoid linking the same target more than once.\n",
            "W0000 00:00:1761953381.959736    6663 computation_placer.cc:177] computation placer already registered. Please check linkage and avoid linking the same target more than once.\n",
            "W0000 00:00:1761953381.959743    6663 computation_placer.cc:177] computation placer already registered. Please check linkage and avoid linking the same target more than once.\n",
            "2025-10-31 23:29:41.966498: I tensorflow/core/platform/cpu_feature_guard.cc:210] This TensorFlow binary is optimized to use available CPU instructions in performance-critical operations.\n",
            "To enable the following instructions: AVX2 AVX512F FMA, in other operations, rebuild TensorFlow with the appropriate compiler flags.\n",
            "Line count: 86910\n",
            "modules.json: 100% 341/341 [00:00<00:00, 3.02MB/s]\n",
            "config_sentence_transformers.json: 100% 122/122 [00:00<00:00, 1.24MB/s]\n",
            "README.md: 2.24kB [00:00, 11.4MB/s]\n",
            "sentence_bert_config.json: 100% 53.0/53.0 [00:00<00:00, 612kB/s]\n",
            "config.json: 100% 556/556 [00:00<00:00, 4.61MB/s]\n",
            "model.safetensors: 100% 539M/539M [00:04<00:00, 132MB/s]\n",
            "tokenizer_config.json: 100% 452/452 [00:00<00:00, 3.75MB/s]\n",
            "vocab.txt: 996kB [00:00, 61.5MB/s]\n",
            "tokenizer.json: 1.96MB [00:00, 106MB/s]\n",
            "special_tokens_map.json: 100% 112/112 [00:00<00:00, 1.22MB/s]\n",
            "config.json: 100% 190/190 [00:00<00:00, 2.00MB/s]\n",
            "config.json: 100% 114/114 [00:00<00:00, 994kB/s]\n",
            "2_Dense/model.safetensors: 100% 1.58M/1.58M [00:00<00:00, 5.01MB/s]\n",
            "Model loaded: distiluse-base-multilingual-cased-v1\n",
            "2025-10-31 23:30:05.532499: E external/local_xla/xla/stream_executor/cuda/cuda_fft.cc:467] Unable to register cuFFT factory: Attempting to register factory for plugin cuFFT when one has already been registered\n",
            "WARNING: All log messages before absl::InitializeLog() is called are written to STDERR\n",
            "E0000 00:00:1761953405.551875    6826 cuda_dnn.cc:8579] Unable to register cuDNN factory: Attempting to register factory for plugin cuDNN when one has already been registered\n",
            "E0000 00:00:1761953405.557699    6826 cuda_blas.cc:1407] Unable to register cuBLAS factory: Attempting to register factory for plugin cuBLAS when one has already been registered\n",
            "W0000 00:00:1761953405.572925    6826 computation_placer.cc:177] computation placer already registered. Please check linkage and avoid linking the same target more than once.\n",
            "W0000 00:00:1761953405.572955    6826 computation_placer.cc:177] computation placer already registered. Please check linkage and avoid linking the same target more than once.\n",
            "W0000 00:00:1761953405.572959    6826 computation_placer.cc:177] computation placer already registered. Please check linkage and avoid linking the same target more than once.\n",
            "W0000 00:00:1761953405.572962    6826 computation_placer.cc:177] computation placer already registered. Please check linkage and avoid linking the same target more than once.\n",
            "5000 | /content/MT-Preparation/filtering/semantic_filter.py:47: DeprecationWarning: The `encode_multi_process` method has been deprecated, and its functionality has been integrated into `encode`. You can now call `encode` with the same parameters to achieve multi-process encoding.\n",
            "  source_embeddings = model.encode_multi_process(source, pool=pool, batch_size=2048)\n",
            "/content/MT-Preparation/filtering/semantic_filter.py:48: DeprecationWarning: The `encode_multi_process` method has been deprecated, and its functionality has been integrated into `encode`. You can now call `encode` with the same parameters to achieve multi-process encoding.\n",
            "  target_embeddings = model.encode_multi_process(target, pool=pool, batch_size=2048)\n",
            "10000 | 15000 | 20000 | 25000 | Process SpawnProcess-1:\n",
            "Traceback (most recent call last):\n",
            "  File \"/usr/lib/python3.12/multiprocessing/process.py\", line 314, in _bootstrap\n",
            "    self.run()\n",
            "  File \"/usr/lib/python3.12/multiprocessing/process.py\", line 108, in run\n",
            "    self._target(*self._args, **self._kwargs)\n",
            "  File \"/usr/local/lib/python3.12/dist-packages/sentence_transformers/SentenceTransformer.py\", line 1544, in _encode_multi_process_worker\n",
            "    embeddings = model.encode(inputs, device=target_device, **kwargs)\n",
            "                 ^^^^^^^^^^^^^^^^^^^^^^^^^^^^^^^^^^^^^^^^^^^^^^^^^^^^\n",
            "  File \"/usr/local/lib/python3.12/dist-packages/torch/utils/_contextlib.py\", line 120, in decorate_context\n",
            "    return func(*args, **kwargs)\n",
            "           ^^^^^^^^^^^^^^^^^^^^^\n",
            "  File \"/usr/local/lib/python3.12/dist-packages/sentence_transformers/SentenceTransformer.py\", line 1130, in encode\n",
            "    embeddings = embeddings.cpu()\n",
            "                 ^^^^^^^^^^^^^^^^\n",
            "KeyboardInterrupt\n"
          ]
        },
        {
          "output_type": "error",
          "ename": "KeyboardInterrupt",
          "evalue": "",
          "traceback": [
            "\u001b[0;31m---------------------------------------------------------------------------\u001b[0m",
            "\u001b[0;31mKeyboardInterrupt\u001b[0m                         Traceback (most recent call last)",
            "\u001b[0;32m/tmp/ipython-input-3538905214.py\u001b[0m in \u001b[0;36m<cell line: 0>\u001b[0;34m()\u001b[0m\n\u001b[0;32m----> 1\u001b[0;31m \u001b[0mget_ipython\u001b[0m\u001b[0;34m(\u001b[0m\u001b[0;34m)\u001b[0m\u001b[0;34m.\u001b[0m\u001b[0msystem\u001b[0m\u001b[0;34m(\u001b[0m\u001b[0;34m'python3 MT-Preparation/filtering/semantic_filter.py MultiUN.en-ru.en-filtered.en  MultiUN.en-ru.ru-filtered.ru  en ru 5000 0.45'\u001b[0m\u001b[0;34m)\u001b[0m\u001b[0;34m\u001b[0m\u001b[0;34m\u001b[0m\u001b[0m\n\u001b[0m",
            "\u001b[0;32m/usr/local/lib/python3.12/dist-packages/google/colab/_shell.py\u001b[0m in \u001b[0;36msystem\u001b[0;34m(self, *args, **kwargs)\u001b[0m\n\u001b[1;32m    147\u001b[0m       \u001b[0mkwargs\u001b[0m\u001b[0;34m.\u001b[0m\u001b[0mupdate\u001b[0m\u001b[0;34m(\u001b[0m\u001b[0;34m{\u001b[0m\u001b[0;34m'also_return_output'\u001b[0m\u001b[0;34m:\u001b[0m \u001b[0;32mTrue\u001b[0m\u001b[0;34m}\u001b[0m\u001b[0;34m)\u001b[0m\u001b[0;34m\u001b[0m\u001b[0;34m\u001b[0m\u001b[0m\n\u001b[1;32m    148\u001b[0m \u001b[0;34m\u001b[0m\u001b[0m\n\u001b[0;32m--> 149\u001b[0;31m     \u001b[0moutput\u001b[0m \u001b[0;34m=\u001b[0m \u001b[0m_system_commands\u001b[0m\u001b[0;34m.\u001b[0m\u001b[0m_system_compat\u001b[0m\u001b[0;34m(\u001b[0m\u001b[0mself\u001b[0m\u001b[0;34m,\u001b[0m \u001b[0;34m*\u001b[0m\u001b[0margs\u001b[0m\u001b[0;34m,\u001b[0m \u001b[0;34m**\u001b[0m\u001b[0mkwargs\u001b[0m\u001b[0;34m)\u001b[0m  \u001b[0;31m# pylint:disable=protected-access\u001b[0m\u001b[0;34m\u001b[0m\u001b[0;34m\u001b[0m\u001b[0m\n\u001b[0m\u001b[1;32m    150\u001b[0m \u001b[0;34m\u001b[0m\u001b[0m\n\u001b[1;32m    151\u001b[0m     \u001b[0;32mif\u001b[0m \u001b[0mpip_warn\u001b[0m\u001b[0;34m:\u001b[0m\u001b[0;34m\u001b[0m\u001b[0;34m\u001b[0m\u001b[0m\n",
            "\u001b[0;32m/usr/local/lib/python3.12/dist-packages/google/colab/_system_commands.py\u001b[0m in \u001b[0;36m_system_compat\u001b[0;34m(shell, cmd, also_return_output)\u001b[0m\n\u001b[1;32m    452\u001b[0m   \u001b[0;31m# is expected to call this function, thus adding one level of nesting to the\u001b[0m\u001b[0;34m\u001b[0m\u001b[0;34m\u001b[0m\u001b[0m\n\u001b[1;32m    453\u001b[0m   \u001b[0;31m# stack.\u001b[0m\u001b[0;34m\u001b[0m\u001b[0;34m\u001b[0m\u001b[0m\n\u001b[0;32m--> 454\u001b[0;31m   result = _run_command(\n\u001b[0m\u001b[1;32m    455\u001b[0m       \u001b[0mshell\u001b[0m\u001b[0;34m.\u001b[0m\u001b[0mvar_expand\u001b[0m\u001b[0;34m(\u001b[0m\u001b[0mcmd\u001b[0m\u001b[0;34m,\u001b[0m \u001b[0mdepth\u001b[0m\u001b[0;34m=\u001b[0m\u001b[0;36m2\u001b[0m\u001b[0;34m)\u001b[0m\u001b[0;34m,\u001b[0m \u001b[0mclear_streamed_output\u001b[0m\u001b[0;34m=\u001b[0m\u001b[0;32mFalse\u001b[0m\u001b[0;34m\u001b[0m\u001b[0;34m\u001b[0m\u001b[0m\n\u001b[1;32m    456\u001b[0m   )\n",
            "\u001b[0;32m/usr/local/lib/python3.12/dist-packages/google/colab/_system_commands.py\u001b[0m in \u001b[0;36m_run_command\u001b[0;34m(cmd, clear_streamed_output)\u001b[0m\n\u001b[1;32m    202\u001b[0m       \u001b[0mos\u001b[0m\u001b[0;34m.\u001b[0m\u001b[0mclose\u001b[0m\u001b[0;34m(\u001b[0m\u001b[0mchild_pty\u001b[0m\u001b[0;34m)\u001b[0m\u001b[0;34m\u001b[0m\u001b[0;34m\u001b[0m\u001b[0m\n\u001b[1;32m    203\u001b[0m \u001b[0;34m\u001b[0m\u001b[0m\n\u001b[0;32m--> 204\u001b[0;31m       \u001b[0;32mreturn\u001b[0m \u001b[0m_monitor_process\u001b[0m\u001b[0;34m(\u001b[0m\u001b[0mparent_pty\u001b[0m\u001b[0;34m,\u001b[0m \u001b[0mepoll\u001b[0m\u001b[0;34m,\u001b[0m \u001b[0mp\u001b[0m\u001b[0;34m,\u001b[0m \u001b[0mcmd\u001b[0m\u001b[0;34m,\u001b[0m \u001b[0mupdate_stdin_widget\u001b[0m\u001b[0;34m)\u001b[0m\u001b[0;34m\u001b[0m\u001b[0;34m\u001b[0m\u001b[0m\n\u001b[0m\u001b[1;32m    205\u001b[0m   \u001b[0;32mfinally\u001b[0m\u001b[0;34m:\u001b[0m\u001b[0;34m\u001b[0m\u001b[0;34m\u001b[0m\u001b[0m\n\u001b[1;32m    206\u001b[0m     \u001b[0mepoll\u001b[0m\u001b[0;34m.\u001b[0m\u001b[0mclose\u001b[0m\u001b[0;34m(\u001b[0m\u001b[0;34m)\u001b[0m\u001b[0;34m\u001b[0m\u001b[0;34m\u001b[0m\u001b[0m\n",
            "\u001b[0;32m/usr/local/lib/python3.12/dist-packages/google/colab/_system_commands.py\u001b[0m in \u001b[0;36m_monitor_process\u001b[0;34m(parent_pty, epoll, p, cmd, update_stdin_widget)\u001b[0m\n\u001b[1;32m    232\u001b[0m   \u001b[0;32mwhile\u001b[0m \u001b[0;32mTrue\u001b[0m\u001b[0;34m:\u001b[0m\u001b[0;34m\u001b[0m\u001b[0;34m\u001b[0m\u001b[0m\n\u001b[1;32m    233\u001b[0m     \u001b[0;32mtry\u001b[0m\u001b[0;34m:\u001b[0m\u001b[0;34m\u001b[0m\u001b[0;34m\u001b[0m\u001b[0m\n\u001b[0;32m--> 234\u001b[0;31m       \u001b[0mresult\u001b[0m \u001b[0;34m=\u001b[0m \u001b[0m_poll_process\u001b[0m\u001b[0;34m(\u001b[0m\u001b[0mparent_pty\u001b[0m\u001b[0;34m,\u001b[0m \u001b[0mepoll\u001b[0m\u001b[0;34m,\u001b[0m \u001b[0mp\u001b[0m\u001b[0;34m,\u001b[0m \u001b[0mcmd\u001b[0m\u001b[0;34m,\u001b[0m \u001b[0mdecoder\u001b[0m\u001b[0;34m,\u001b[0m \u001b[0mstate\u001b[0m\u001b[0;34m)\u001b[0m\u001b[0;34m\u001b[0m\u001b[0;34m\u001b[0m\u001b[0m\n\u001b[0m\u001b[1;32m    235\u001b[0m       \u001b[0;32mif\u001b[0m \u001b[0mresult\u001b[0m \u001b[0;32mis\u001b[0m \u001b[0;32mnot\u001b[0m \u001b[0;32mNone\u001b[0m\u001b[0;34m:\u001b[0m\u001b[0;34m\u001b[0m\u001b[0;34m\u001b[0m\u001b[0m\n\u001b[1;32m    236\u001b[0m         \u001b[0;32mreturn\u001b[0m \u001b[0mresult\u001b[0m\u001b[0;34m\u001b[0m\u001b[0;34m\u001b[0m\u001b[0m\n",
            "\u001b[0;32m/usr/local/lib/python3.12/dist-packages/google/colab/_system_commands.py\u001b[0m in \u001b[0;36m_poll_process\u001b[0;34m(parent_pty, epoll, p, cmd, decoder, state)\u001b[0m\n\u001b[1;32m    280\u001b[0m   \u001b[0moutput_available\u001b[0m \u001b[0;34m=\u001b[0m \u001b[0;32mFalse\u001b[0m\u001b[0;34m\u001b[0m\u001b[0;34m\u001b[0m\u001b[0m\n\u001b[1;32m    281\u001b[0m \u001b[0;34m\u001b[0m\u001b[0m\n\u001b[0;32m--> 282\u001b[0;31m   \u001b[0mevents\u001b[0m \u001b[0;34m=\u001b[0m \u001b[0mepoll\u001b[0m\u001b[0;34m.\u001b[0m\u001b[0mpoll\u001b[0m\u001b[0;34m(\u001b[0m\u001b[0;34m)\u001b[0m\u001b[0;34m\u001b[0m\u001b[0;34m\u001b[0m\u001b[0m\n\u001b[0m\u001b[1;32m    283\u001b[0m   \u001b[0minput_events\u001b[0m \u001b[0;34m=\u001b[0m \u001b[0;34m[\u001b[0m\u001b[0;34m]\u001b[0m\u001b[0;34m\u001b[0m\u001b[0;34m\u001b[0m\u001b[0m\n\u001b[1;32m    284\u001b[0m   \u001b[0;32mfor\u001b[0m \u001b[0m_\u001b[0m\u001b[0;34m,\u001b[0m \u001b[0mevent\u001b[0m \u001b[0;32min\u001b[0m \u001b[0mevents\u001b[0m\u001b[0;34m:\u001b[0m\u001b[0;34m\u001b[0m\u001b[0;34m\u001b[0m\u001b[0m\n",
            "\u001b[0;31mKeyboardInterrupt\u001b[0m: "
          ]
        }
      ]
    },
    {
      "cell_type": "code",
      "source": [
        "with open('/content/MultiUN.en-ru.en-filtered.en.semantic.en', 'r') as f:\n",
        "    text = f.read()\n",
        "print(text[:100])\n",
        "print(len(text))"
      ],
      "metadata": {
        "id": "n_v_yF_RS4lU"
      },
      "execution_count": null,
      "outputs": []
    },
    {
      "cell_type": "code",
      "source": [
        "with open('/content/MultiUN.en-ru.ru-filtered.ru.semantic.ru', 'r') as f:\n",
        "    text = f.read()\n",
        "print(text[:100])\n",
        "print(len(text))"
      ],
      "metadata": {
        "id": "TTCliiNRS_i0"
      },
      "execution_count": null,
      "outputs": []
    }
  ]
}