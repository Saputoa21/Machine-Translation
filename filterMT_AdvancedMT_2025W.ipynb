{
  "nbformat": 4,
  "nbformat_minor": 0,
  "metadata": {
    "colab": {
      "provenance": [],
      "gpuType": "T4",
      "include_colab_link": true
    },
    "kernelspec": {
      "name": "python3",
      "display_name": "Python 3"
    },
    "language_info": {
      "name": "python"
    },
    "accelerator": "GPU"
  },
  "cells": [
    {
      "cell_type": "markdown",
      "metadata": {
        "id": "view-in-github",
        "colab_type": "text"
      },
      "source": [
        "<a href=\"https://colab.research.google.com/github/Saputoa21/Machine-Translation/blob/main/filterMT_AdvancedMT_2025W.ipynb\" target=\"_parent\"><img src=\"https://colab.research.google.com/assets/colab-badge.svg\" alt=\"Open In Colab\"/></a>"
      ]
    },
    {
      "cell_type": "code",
      "source": [
        "#https://github.com/ymoslem/Adaptive-MT-LLM-Fine-tuning/blob/main/Data-Processing-Adaptive-MT.ipynb\n",
        "#https://github.com/ymoslem/MT-Preparation/tree/main"
      ],
      "metadata": {
        "id": "kswpUoj6GbYM"
      },
      "execution_count": null,
      "outputs": []
    },
    {
      "cell_type": "code",
      "source": [
        "!git clone https://github.com/ymoslem/MT-Preparation.git"
      ],
      "metadata": {
        "colab": {
          "base_uri": "https://localhost:8080/"
        },
        "id": "Ksb3SbK4-gaB",
        "outputId": "d9a5a9e5-e805-4b6f-9b2b-8f82b4a01e4e"
      },
      "execution_count": null,
      "outputs": [
        {
          "output_type": "stream",
          "name": "stdout",
          "text": [
            "fatal: destination path 'MT-Preparation' already exists and is not an empty directory.\n"
          ]
        }
      ]
    },
    {
      "cell_type": "code",
      "source": [
        "%cd MT-Preparation"
      ],
      "metadata": {
        "colab": {
          "base_uri": "https://localhost:8080/"
        },
        "id": "SGa81qmR-oKp",
        "outputId": "52c70801-6689-46ef-c044-f9b32c78fd90"
      },
      "execution_count": null,
      "outputs": [
        {
          "output_type": "stream",
          "name": "stdout",
          "text": [
            "/MT-Preparation\n"
          ]
        }
      ]
    },
    {
      "cell_type": "code",
      "source": [
        "!pip3 install --user -r requirements.txt"
      ],
      "metadata": {
        "colab": {
          "base_uri": "https://localhost:8080/"
        },
        "id": "8cY_cMx4-uyp",
        "outputId": "318f7fc4-3d2a-43fd-e9fa-d0ac88da7c2b"
      },
      "execution_count": null,
      "outputs": [
        {
          "output_type": "stream",
          "name": "stdout",
          "text": [
            "Requirement already satisfied: numpy in /usr/local/lib/python3.12/dist-packages (from -r requirements.txt (line 1)) (2.0.2)\n",
            "Requirement already satisfied: pandas in /usr/local/lib/python3.12/dist-packages (from -r requirements.txt (line 2)) (2.2.2)\n",
            "Requirement already satisfied: sentencepiece in /usr/local/lib/python3.12/dist-packages (from -r requirements.txt (line 3)) (0.2.1)\n",
            "Requirement already satisfied: python-dateutil>=2.8.2 in /usr/local/lib/python3.12/dist-packages (from pandas->-r requirements.txt (line 2)) (2.9.0.post0)\n",
            "Requirement already satisfied: pytz>=2020.1 in /usr/local/lib/python3.12/dist-packages (from pandas->-r requirements.txt (line 2)) (2025.2)\n",
            "Requirement already satisfied: tzdata>=2022.7 in /usr/local/lib/python3.12/dist-packages (from pandas->-r requirements.txt (line 2)) (2025.2)\n",
            "Requirement already satisfied: six>=1.5 in /usr/local/lib/python3.12/dist-packages (from python-dateutil>=2.8.2->pandas->-r requirements.txt (line 2)) (1.17.0)\n"
          ]
        }
      ]
    },
    {
      "cell_type": "code",
      "source": [
        "%cd .."
      ],
      "metadata": {
        "colab": {
          "base_uri": "https://localhost:8080/"
        },
        "id": "5on0MOYf-z2q",
        "outputId": "965a85d9-6a7a-4b1c-aa70-7d16fb07458a"
      },
      "execution_count": null,
      "outputs": [
        {
          "output_type": "stream",
          "name": "stdout",
          "text": [
            "/\n"
          ]
        }
      ]
    },
    {
      "cell_type": "code",
      "source": [
        "!ls"
      ],
      "metadata": {
        "colab": {
          "base_uri": "https://localhost:8080/"
        },
        "id": "xEp8fRSD-4Xi",
        "outputId": "bbe144ae-251e-48ce-e103-58e85d20af88"
      },
      "execution_count": null,
      "outputs": [
        {
          "output_type": "stream",
          "name": "stdout",
          "text": [
            "bin\t\t\t    kaggle\t    NGC-DL-CONTAINER-LICENSE  srv\n",
            "boot\t\t\t    lib\t\t    opt\t\t\t      sys\n",
            "content\t\t\t    lib32\t    proc\t\t      tmp\n",
            "cuda-keyring_1.1-1_all.deb  lib64\t    python-apt\t\t      tools\n",
            "datalab\t\t\t    libx32\t    python-apt.tar.xz\t      usr\n",
            "dev\t\t\t    media\t    root\t\t      var\n",
            "etc\t\t\t    mnt\t\t    run\n",
            "home\t\t\t    MT-Preparation  sbin\n"
          ]
        }
      ]
    },
    {
      "cell_type": "code",
      "source": [
        "!python3 MT-Preparation/filtering/filter.py train.en-de.en train.en-de.de en de"
      ],
      "metadata": {
        "colab": {
          "base_uri": "https://localhost:8080/"
        },
        "id": "SFb2r0Wd-6Yj",
        "outputId": "0111616e-f05f-4785-9346-9d198b1e4187"
      },
      "execution_count": null,
      "outputs": [
        {
          "output_type": "stream",
          "name": "stdout",
          "text": [
            "Traceback (most recent call last):\n",
            "  File \"//MT-Preparation/filtering/filter.py\", line 152, in <module>\n",
            "    prepare(source_file, target_file, source_lang, target_lang, lower=False)\n",
            "  File \"//MT-Preparation/filtering/filter.py\", line 21, in prepare\n",
            "    df_source = pd.read_csv(source_file, names=['Source'], sep=\"\\0\", quoting=csv.QUOTE_NONE, skip_blank_lines=False, on_bad_lines=\"skip\")\n",
            "                ^^^^^^^^^^^^^^^^^^^^^^^^^^^^^^^^^^^^^^^^^^^^^^^^^^^^^^^^^^^^^^^^^^^^^^^^^^^^^^^^^^^^^^^^^^^^^^^^^^^^^^^^^^^^^^^^^^^^^^^^^\n",
            "  File \"/usr/local/lib/python3.12/dist-packages/pandas/io/parsers/readers.py\", line 1026, in read_csv\n",
            "    return _read(filepath_or_buffer, kwds)\n",
            "           ^^^^^^^^^^^^^^^^^^^^^^^^^^^^^^^\n",
            "  File \"/usr/local/lib/python3.12/dist-packages/pandas/io/parsers/readers.py\", line 620, in _read\n",
            "    parser = TextFileReader(filepath_or_buffer, **kwds)\n",
            "             ^^^^^^^^^^^^^^^^^^^^^^^^^^^^^^^^^^^^^^^^^^\n",
            "  File \"/usr/local/lib/python3.12/dist-packages/pandas/io/parsers/readers.py\", line 1620, in __init__\n",
            "    self._engine = self._make_engine(f, self.engine)\n",
            "                   ^^^^^^^^^^^^^^^^^^^^^^^^^^^^^^^^^\n",
            "  File \"/usr/local/lib/python3.12/dist-packages/pandas/io/parsers/readers.py\", line 1880, in _make_engine\n",
            "    self.handles = get_handle(\n",
            "                   ^^^^^^^^^^^\n",
            "  File \"/usr/local/lib/python3.12/dist-packages/pandas/io/common.py\", line 873, in get_handle\n",
            "    handle = open(\n",
            "             ^^^^^\n",
            "FileNotFoundError: [Errno 2] No such file or directory: 'train.en-de.en'\n"
          ]
        }
      ]
    },
    {
      "cell_type": "code",
      "source": [
        "!python3 MT-Preparation/filtering/semantic_filter.py train.en-de.en-filtered.en train.en-de.de-filtered.de en de 10000 0.45"
      ],
      "metadata": {
        "colab": {
          "base_uri": "https://localhost:8080/"
        },
        "id": "aD8KDZV_gBRa",
        "outputId": "a2723e88-da38-4a77-cb85-082be81d416b"
      },
      "execution_count": null,
      "outputs": [
        {
          "output_type": "stream",
          "name": "stdout",
          "text": [
            "Traceback (most recent call last):\n",
            "  File \"//MT-Preparation/filtering/semantic_filter.py\", line 3, in <module>\n",
            "    from sentence_transformers import SentenceTransformer\n",
            "  File \"/usr/local/lib/python3.12/dist-packages/sentence_transformers/__init__.py\", line 15, in <module>\n",
            "    from sentence_transformers.cross_encoder import (\n",
            "  File \"/usr/local/lib/python3.12/dist-packages/sentence_transformers/cross_encoder/__init__.py\", line 3, in <module>\n",
            "    from .CrossEncoder import CrossEncoder\n",
            "  File \"/usr/local/lib/python3.12/dist-packages/sentence_transformers/cross_encoder/CrossEncoder.py\", line 16, in <module>\n",
            "object address  : 0x7cd1c6228d60\n",
            "object refcount : 3\n",
            "object type     : 0xa2a4e0\n",
            "object type name: KeyboardInterrupt\n",
            "object repr     : KeyboardInterrupt()\n",
            "lost sys.stderr\n",
            "^C\n"
          ]
        }
      ]
    },
    {
      "cell_type": "code",
      "source": [
        "!wc -l *"
      ],
      "metadata": {
        "colab": {
          "base_uri": "https://localhost:8080/"
        },
        "id": "b-zztIwvfqfi",
        "outputId": "67d811c0-c2fc-4fbe-89b2-aae5e1ee9a72"
      },
      "execution_count": null,
      "outputs": [
        {
          "output_type": "stream",
          "name": "stdout",
          "text": [
            "wc: model_cache: Is a directory\n",
            "       0 model_cache\n",
            "wc: MT-Preparation: Is a directory\n",
            "       0 MT-Preparation\n",
            "wc: sample_data: Is a directory\n",
            "       0 sample_data\n",
            "   50000 train.en-de.de\n",
            "   48315 train.en-de.de-filtered.de\n",
            "   47614 train.en-de.de-filtered.de.semantic.de\n",
            "   50000 train.en-de.en\n",
            "   48315 train.en-de.en-filtered.en\n",
            "   47614 train.en-de.en-filtered.en.semantic.en\n",
            "  291858 total\n"
          ]
        }
      ]
    },
    {
      "cell_type": "markdown",
      "source": [
        "# **My corpus text**\n",
        "\n",
        "I have chosen MultiUN (v1) corpus with the language pair EN-RU and size of 11,654,416 sentences. I splitted it into train (80k), validation (10k) and test (10k) sets.\n",
        "\n",
        "The created files are:\n",
        "\n",
        "*   UN-train.en-ru.en\n",
        "*   UN-train.en-ru.ru\n",
        "*   UN-test.en-ru.en\n",
        "*   UN-test.en-ru.ru\n",
        "*   UN-val.en-ru.en\n",
        "*   UN-val.en-ru.ru\n",
        "\n",
        "Link: https://opus.nlpl.eu/MultiUN/en&ru/v1/MultiUN\n"
      ],
      "metadata": {
        "id": "YMRXnGc_dv84"
      }
    },
    {
      "cell_type": "markdown",
      "source": [
        "## Corpus splitting"
      ],
      "metadata": {
        "id": "sZdugQoOtAU8"
      }
    },
    {
      "cell_type": "code",
      "source": [
        "from google.colab import drive\n",
        "drive.mount('/content/drive')"
      ],
      "metadata": {
        "id": "P26rpHVzrsUV",
        "colab": {
          "base_uri": "https://localhost:8080/"
        },
        "outputId": "5e326f7d-a6e9-4d6f-846c-f0b47e326d8a"
      },
      "execution_count": 33,
      "outputs": [
        {
          "output_type": "stream",
          "name": "stdout",
          "text": [
            "Mounted at /content/drive\n"
          ]
        }
      ]
    },
    {
      "cell_type": "code",
      "source": [
        "file_ru = \"/content/drive/MyDrive/Colab Notebooks/ru.txt.gz\"\n",
        "file_en = \"/content/drive/MyDrive/Colab Notebooks/en.txt.gz\""
      ],
      "metadata": {
        "id": "so-CUgt-rtvE"
      },
      "execution_count": 54,
      "outputs": []
    },
    {
      "cell_type": "code",
      "source": [
        "import gzip\n",
        "\n",
        "def extract_first_n_lines(gz_path, n_lines=100000):\n",
        "    lines = []\n",
        "    with gzip.open(gz_path, 'rt', encoding='utf-8') as f:\n",
        "        for i, line in enumerate(f):\n",
        "            if i >= n_lines:\n",
        "                break\n",
        "            lines.append(line)\n",
        "    print(f\"Extracted {len(lines):,} lines from {gz_path}\")\n",
        "    return lines"
      ],
      "metadata": {
        "id": "qG36tEJerhsj"
      },
      "execution_count": 35,
      "outputs": []
    },
    {
      "cell_type": "code",
      "source": [
        "lines_ru = extract_first_n_lines(file_ru, n_lines=100000)\n",
        "lines_en = extract_first_n_lines(file_en, n_lines=100000)"
      ],
      "metadata": {
        "colab": {
          "base_uri": "https://localhost:8080/"
        },
        "id": "vitogPUvusp1",
        "outputId": "7845b854-0016-496b-cf10-da46e3cd6c8b"
      },
      "execution_count": 55,
      "outputs": [
        {
          "output_type": "stream",
          "name": "stdout",
          "text": [
            "Extracted 100,000 lines from /content/drive/MyDrive/Colab Notebooks/ru.txt.gz\n",
            "Extracted 100,000 lines from /content/drive/MyDrive/Colab Notebooks/en.txt.gz\n"
          ]
        }
      ]
    },
    {
      "cell_type": "code",
      "source": [
        "import random\n",
        "\n",
        "def split_data(lines, train_ratio=0.8, val_ratio=0.1, test_ratio=0.1, shuffle=True, prefix=\"name\", lang = \"lang\"):\n",
        "    if shuffle:\n",
        "        print(\"Shuffling lines...\")\n",
        "        random.shuffle(lines)\n",
        "\n",
        "    n = len(lines)\n",
        "    n_train = int(n * train_ratio)\n",
        "    n_val = int(n * val_ratio)\n",
        "\n",
        "    train = lines[:n_train]\n",
        "    val = lines[n_train:n_train + n_val]\n",
        "    test = lines[n_train + n_val:]\n",
        "\n",
        "    def save(name, data):\n",
        "        with open(f\"{prefix}.{name}.txt\", \"w\", encoding=\"utf-8\") as f:\n",
        "            f.writelines(data)\n",
        "        print(f\"Saved {prefix}.{name}.txt ({len(data):,} lines)\")\n",
        "\n",
        "    save(f\"train.{lang}\", train)\n",
        "    save(f\"val.{lang}\", val)\n",
        "    save(f\"test.{lang}\", test)"
      ],
      "metadata": {
        "id": "sQBnv_Kzr6Bd"
      },
      "execution_count": 57,
      "outputs": []
    },
    {
      "cell_type": "code",
      "source": [
        "split_data(lines_ru, prefix=\"UN.en-ru\", lang = \"ru\")\n",
        "split_data(lines_en, prefix=\"UN.en-ru\", lang = \"en\")"
      ],
      "metadata": {
        "id": "H1DogTFJsOC-",
        "colab": {
          "base_uri": "https://localhost:8080/"
        },
        "outputId": "238bdd88-4bb5-438f-a2ba-737d069f30ba"
      },
      "execution_count": 61,
      "outputs": [
        {
          "output_type": "stream",
          "name": "stdout",
          "text": [
            "Shuffling lines...\n",
            "Saved UN.en-ru.train.ru.txt (80,000 lines)\n",
            "Saved UN.en-ru.val.ru.txt (10,000 lines)\n",
            "Saved UN.en-ru.test, ru.txt (10,000 lines)\n",
            "Shuffling lines...\n",
            "Saved UN.en-ru.train.en.txt (80,000 lines)\n",
            "Saved UN.en-ru.val.en.txt (10,000 lines)\n",
            "Saved UN.en-ru.test, en.txt (10,000 lines)\n"
          ]
        }
      ]
    },
    {
      "cell_type": "markdown",
      "source": [
        "## Corpus preparation"
      ],
      "metadata": {
        "id": "FWfGkPBbtEu2"
      }
    },
    {
      "cell_type": "code",
      "source": [
        "!git clone https://github.com/ymoslem/MT-Preparation.git"
      ],
      "metadata": {
        "colab": {
          "base_uri": "https://localhost:8080/"
        },
        "outputId": "7c34dca2-22a0-4a76-aff8-a27ffb6868db",
        "id": "6PFLEherd3ov"
      },
      "execution_count": null,
      "outputs": [
        {
          "output_type": "stream",
          "name": "stdout",
          "text": [
            "Cloning into 'MT-Preparation'...\n",
            "remote: Enumerating objects: 323, done.\u001b[K\n",
            "remote: Counting objects: 100% (55/55), done.\u001b[K\n",
            "remote: Compressing objects: 100% (35/35), done.\u001b[K\n",
            "remote: Total 323 (delta 35), reused 21 (delta 20), pack-reused 268 (from 2)\u001b[K\n",
            "Receiving objects: 100% (323/323), 94.95 KiB | 1.48 MiB/s, done.\n",
            "Resolving deltas: 100% (156/156), done.\n"
          ]
        }
      ]
    },
    {
      "cell_type": "code",
      "source": [
        "%cd MT-Preparation"
      ],
      "metadata": {
        "colab": {
          "base_uri": "https://localhost:8080/"
        },
        "outputId": "566d400f-d848-492f-92d2-9a48ebfa74fb",
        "id": "yXBJCxC4d3ox"
      },
      "execution_count": null,
      "outputs": [
        {
          "output_type": "stream",
          "name": "stdout",
          "text": [
            "/content/MT-Preparation\n"
          ]
        }
      ]
    },
    {
      "cell_type": "code",
      "source": [
        "!pip3 install --user -r requirements.txt"
      ],
      "metadata": {
        "colab": {
          "base_uri": "https://localhost:8080/"
        },
        "outputId": "262f9a4f-fb4c-49d8-acbb-09872d4200ee",
        "id": "9slE7yqYd3oz"
      },
      "execution_count": null,
      "outputs": [
        {
          "output_type": "stream",
          "name": "stdout",
          "text": [
            "Requirement already satisfied: numpy in /usr/local/lib/python3.12/dist-packages (from -r requirements.txt (line 1)) (2.0.2)\n",
            "Requirement already satisfied: pandas in /usr/local/lib/python3.12/dist-packages (from -r requirements.txt (line 2)) (2.2.2)\n",
            "Requirement already satisfied: sentencepiece in /usr/local/lib/python3.12/dist-packages (from -r requirements.txt (line 3)) (0.2.1)\n",
            "Requirement already satisfied: python-dateutil>=2.8.2 in /usr/local/lib/python3.12/dist-packages (from pandas->-r requirements.txt (line 2)) (2.9.0.post0)\n",
            "Requirement already satisfied: pytz>=2020.1 in /usr/local/lib/python3.12/dist-packages (from pandas->-r requirements.txt (line 2)) (2025.2)\n",
            "Requirement already satisfied: tzdata>=2022.7 in /usr/local/lib/python3.12/dist-packages (from pandas->-r requirements.txt (line 2)) (2025.2)\n",
            "Requirement already satisfied: six>=1.5 in /usr/local/lib/python3.12/dist-packages (from python-dateutil>=2.8.2->pandas->-r requirements.txt (line 2)) (1.17.0)\n"
          ]
        }
      ]
    },
    {
      "cell_type": "code",
      "source": [
        "%cd .."
      ],
      "metadata": {
        "colab": {
          "base_uri": "https://localhost:8080/"
        },
        "outputId": "e9af17c0-c91a-4635-c625-e1248356c648",
        "id": "yIeNrcMcd3o0"
      },
      "execution_count": null,
      "outputs": [
        {
          "output_type": "stream",
          "name": "stdout",
          "text": [
            "/content\n"
          ]
        }
      ]
    },
    {
      "cell_type": "code",
      "source": [
        "!ls"
      ],
      "metadata": {
        "colab": {
          "base_uri": "https://localhost:8080/"
        },
        "outputId": "1fd7ebf6-5fe0-4710-972e-dad002916603",
        "id": "Sysb_ev8d3o2"
      },
      "execution_count": null,
      "outputs": [
        {
          "output_type": "stream",
          "name": "stdout",
          "text": [
            "MT-Preparation\t\t    train.en-de.de-filtered.de.semantic.de\n",
            "sample_data\t\t    train.en-de.en\n",
            "train.en-de.de\t\t    train.en-de.en-filtered.en\n",
            "train.en-de.de-filtered.de  train.en-de.en-filtered.en.semantic.en\n"
          ]
        }
      ]
    },
    {
      "cell_type": "code",
      "source": [
        "!python3 MT-Preparation/filtering/filter.py train.en-de.en train.en-de.de en de"
      ],
      "metadata": {
        "colab": {
          "base_uri": "https://localhost:8080/"
        },
        "outputId": "63e4b32b-628f-40fd-9fe0-889aa82fe795",
        "id": "ay1lOqXvd3o3"
      },
      "execution_count": null,
      "outputs": [
        {
          "output_type": "stream",
          "name": "stdout",
          "text": [
            "Dataframe shape (rows, columns): (50000, 2)\n",
            "--- Rows with Empty Cells Deleted\t--> Rows: 49997\n",
            "--- Duplicates Deleted\t\t\t--> Rows: 49997\n",
            "--- Source-Copied Rows Deleted\t\t--> Rows: 49997\n",
            "--- Too Long Source/Target Deleted\t--> Rows: 48399\n",
            "--- Too Short Source/Target Deleted\t--> Rows: 48321\n",
            "--- HTML Removed\t\t\t--> Rows: 48321\n",
            "--- Rows will remain true-cased\t\t--> Rows: 48321\n",
            "--- Rows with Empty Cells Deleted\t--> Rows: 48315\n",
            "--- Rows Shuffled\t\t\t--> Rows: 48315\n",
            "--- Source Saved: train.en-de.en-filtered.en\n",
            "--- Target Saved: train.en-de.de-filtered.de\n"
          ]
        }
      ]
    }
  ]
}