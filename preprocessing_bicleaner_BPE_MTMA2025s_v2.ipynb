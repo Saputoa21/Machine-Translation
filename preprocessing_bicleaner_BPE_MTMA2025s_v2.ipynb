{
  "cells": [
    {
      "cell_type": "markdown",
      "metadata": {
        "id": "view-in-github",
        "colab_type": "text"
      },
      "source": [
        "<a href=\"https://colab.research.google.com/github/Saputoa21/Machine-Translation/blob/main/preprocessing_bicleaner_BPE_MTMA2025s_v2.ipynb\" target=\"_parent\"><img src=\"https://colab.research.google.com/assets/colab-badge.svg\" alt=\"Open In Colab\"/></a>"
      ]
    },
    {
      "cell_type": "markdown",
      "metadata": {
        "id": "8VtQ8m5VN9lP"
      },
      "source": [
        "# Preprocessing\n",
        "\n",
        "- Cleaning parallel corpus\n",
        "- BPE tokenization\n",
        "\n",
        "[Bicleaner](https://github.com/bitextor/bicleaner-hardrules)\n",
        "\n",
        "\n",
        "RULES:\n",
        "- no_empty,\tSentence is empty\n",
        "- not_too_long,\tSentence is more than 1024 characters long\n",
        "- not_too_short,\tSentence is less than\t3 words long\n",
        "- length_ratio,\tThe length ratio between the source sentence and target sentence (in bytes) is too low or too high\n",
        "- no_identical,\tAlphabetic content in source sentence and target sentence is identical\n",
        "- no_literals,  Unwanted literals: \"Re:\",\"{{\", \"%s\", \"}}\", \"+++\", \"***\", '=\\\"'\n",
        "- no_only_symbols,\tThe ratio of non-alphabetic characters in source sentence is more than 90%\n",
        "- no_only_numbers,\tThe ratio of numeric characters in source sentence is too high\n",
        "- no_urls,\tThere are URLs (disabled by default)\n",
        "- no_breadcrumbs,\tThere are more than 2 breadcrumb characters in the sentence\n",
        "- no_glued_words,\tThere are words in the sentence containing too many uppercased characters between lowercased characters\n",
        "- no_repeated_words, There are words repeated consecutively\n",
        "- no_unicode_noise,\tToo many characters from unwanted unicode in source sentence\n",
        "- no_space_noise,\tToo many consecutive single characters separated by spaces in the sentence (excludes digits)\n",
        "- no_paren,\tToo many parenthesis or brackets in sentence\n",
        "- no_escaped_unicode,\tThere is unescaped unicode characters in sentence\n",
        "- no_bad_encoding,\tSource sentence or target sentence contains mojibake\n",
        "- no_titles,\tAll words in source sentence or target sentence are uppercased or in titlecase\n",
        "- no_wrong_language,\tSentence is not in the desired language\n",
        "- no_porn,\tSource sentence or target sentence contains text identified as porn\n",
        "- no_number_inconsistencies,\tSentence contains different numbers in source and target (disabled by default)\n",
        "- no_script,_inconsistencies\tSentence source or target contains characters from different script/writing systems (disabled by default)\n",
        "- lm_filter,\tThe sentence pair has low fluency score from the language model"
      ]
    },
    {
      "cell_type": "code",
      "execution_count": 1,
      "metadata": {
        "colab": {
          "base_uri": "https://localhost:8080/"
        },
        "id": "txAnDpS2TBzI",
        "outputId": "8e4fbd9c-b2d8-45e2-fe82-c071a6b03db4"
      },
      "outputs": [
        {
          "output_type": "stream",
          "name": "stdout",
          "text": [
            "Reading package lists... Done\n",
            "Building dependency tree... Done\n",
            "Reading state information... Done\n",
            "libhunspell-dev is already the newest version (1.7.0-4build1).\n",
            "0 upgraded, 0 newly installed, 0 to remove and 34 not upgraded.\n",
            "Reading package lists... Done\n",
            "Building dependency tree... Done\n",
            "Reading state information... Done\n",
            "hunspell-en-us is already the newest version (1:2020.12.07-2).\n",
            "0 upgraded, 0 newly installed, 0 to remove and 34 not upgraded.\n",
            "Reading package lists... Done\n",
            "Building dependency tree... Done\n",
            "Reading state information... Done\n",
            "hunspell-de-de is already the newest version (20161207-9).\n",
            "0 upgraded, 0 newly installed, 0 to remove and 34 not upgraded.\n",
            "Requirement already satisfied: hunspell in /usr/local/lib/python3.11/dist-packages (0.5.5)\n"
          ]
        }
      ],
      "source": [
        "#install dependency libraries\n",
        "!apt install libhunspell-dev\n",
        "!apt-get install hunspell-en-us\n",
        "# hunspell-en-med ??\n",
        "!apt-get install hunspell-de-de #checking the spelling like in Word\n",
        "!pip install hunspell"
      ]
    },
    {
      "cell_type": "code",
      "execution_count": 2,
      "metadata": {
        "colab": {
          "base_uri": "https://localhost:8080/"
        },
        "id": "l0tT7uz7N37c",
        "outputId": "64862d09-2352-4c15-cba3-88305e7d5ec8"
      },
      "outputs": [
        {
          "output_type": "stream",
          "name": "stdout",
          "text": [
            "Collecting https://github.com/kpu/kenlm/archive/master.zip\n",
            "  Using cached https://github.com/kpu/kenlm/archive/master.zip\n",
            "  Installing build dependencies ... \u001b[?25l\u001b[?25hdone\n",
            "  Getting requirements to build wheel ... \u001b[?25l\u001b[?25hdone\n",
            "  Preparing metadata (pyproject.toml) ... \u001b[?25l\u001b[?25hdone\n"
          ]
        }
      ],
      "source": [
        "#install bicleaner and hard-rules 2.11\n",
        "!pip install --config-settings=\"--build-option=--max_order=7\" https://github.com/kpu/kenlm/archive/master.zip #n-grams of 7 for a language model"
      ]
    },
    {
      "cell_type": "code",
      "source": [
        "!pip list > requirements.txt #saving all versions of libraries in a text file\n",
        "!cat requirements.txt"
      ],
      "metadata": {
        "colab": {
          "base_uri": "https://localhost:8080/"
        },
        "id": "tOCvx9Csn2f5",
        "outputId": "7c4cb57a-c848-422b-bcd4-b167a6c4891e"
      },
      "execution_count": 3,
      "outputs": [
        {
          "output_type": "stream",
          "name": "stdout",
          "text": [
            "Package                               Version\n",
            "------------------------------------- -------------------\n",
            "absl-py                               1.4.0\n",
            "accelerate                            1.6.0\n",
            "aiohappyeyeballs                      2.6.1\n",
            "aiohttp                               3.11.15\n",
            "aiosignal                             1.3.2\n",
            "alabaster                             1.0.0\n",
            "albucore                              0.0.24\n",
            "albumentations                        2.0.6\n",
            "ale-py                                0.11.0\n",
            "altair                                5.5.0\n",
            "annotated-types                       0.7.0\n",
            "antlr4-python3-runtime                4.9.3\n",
            "anyio                                 4.9.0\n",
            "argon2-cffi                           23.1.0\n",
            "argon2-cffi-bindings                  21.2.0\n",
            "array_record                          0.7.2\n",
            "arviz                                 0.21.0\n",
            "astropy                               7.0.2\n",
            "astropy-iers-data                     0.2025.5.12.0.38.29\n",
            "astunparse                            1.6.3\n",
            "atpublic                              5.1\n",
            "attrs                                 25.3.0\n",
            "audioread                             3.0.1\n",
            "autograd                              1.8.0\n",
            "babel                                 2.17.0\n",
            "backcall                              0.2.0\n",
            "backports.tarfile                     1.2.0\n",
            "beautifulsoup4                        4.13.4\n",
            "betterproto                           2.0.0b6\n",
            "bigframes                             2.4.0\n",
            "bigquery-magics                       0.9.0\n",
            "bleach                                6.2.0\n",
            "blinker                               1.9.0\n",
            "blis                                  1.3.0\n",
            "blobfile                              3.0.0\n",
            "blosc2                                3.3.2\n",
            "bokeh                                 3.7.3\n",
            "Bottleneck                            1.4.2\n",
            "bqplot                                0.12.44\n",
            "branca                                0.8.1\n",
            "build                                 1.2.2.post1\n",
            "CacheControl                          0.14.3\n",
            "cachetools                            5.5.2\n",
            "catalogue                             2.0.10\n",
            "certifi                               2025.4.26\n",
            "cffi                                  1.17.1\n",
            "chardet                               5.2.0\n",
            "charset-normalizer                    3.4.2\n",
            "chex                                  0.1.89\n",
            "clarabel                              0.10.0\n",
            "click                                 8.2.0\n",
            "cloudpathlib                          0.21.0\n",
            "cloudpickle                           3.1.1\n",
            "cmake                                 3.31.6\n",
            "cmdstanpy                             1.2.5\n",
            "colorcet                              3.1.0\n",
            "colorlover                            0.3.0\n",
            "colour                                0.1.5\n",
            "community                             1.0.0b1\n",
            "confection                            0.1.5\n",
            "cons                                  0.4.6\n",
            "contourpy                             1.3.2\n",
            "cramjam                               2.10.0\n",
            "cryptography                          43.0.3\n",
            "cuda-python                           12.6.2.post1\n",
            "cudf-cu12                             25.2.1\n",
            "cudf-polars-cu12                      25.2.2\n",
            "cufflinks                             0.17.3\n",
            "cuml-cu12                             25.2.1\n",
            "cupy-cuda12x                          13.3.0\n",
            "curl_cffi                             0.10.0\n",
            "cuvs-cu12                             25.2.1\n",
            "cvxopt                                1.3.2\n",
            "cvxpy                                 1.6.5\n",
            "cycler                                0.12.1\n",
            "cyipopt                               1.5.0\n",
            "cymem                                 2.0.11\n",
            "Cython                                3.0.12\n",
            "dask                                  2024.12.1\n",
            "dask-cuda                             25.2.0\n",
            "dask-cudf-cu12                        25.2.2\n",
            "dask-expr                             1.1.21\n",
            "dataproc-spark-connect                0.7.3\n",
            "datascience                           0.17.6\n",
            "datasets                              2.14.4\n",
            "db-dtypes                             1.4.3\n",
            "dbus-python                           1.2.18\n",
            "debugpy                               1.8.0\n",
            "decorator                             4.4.2\n",
            "defusedxml                            0.7.1\n",
            "diffusers                             0.33.1\n",
            "dill                                  0.3.7\n",
            "distributed                           2024.12.1\n",
            "distributed-ucxx-cu12                 0.42.0\n",
            "distro                                1.9.0\n",
            "dlib                                  19.24.6\n",
            "dm-tree                               0.1.9\n",
            "docker-pycreds                        0.4.0\n",
            "docstring_parser                      0.16\n",
            "docutils                              0.21.2\n",
            "dopamine_rl                           4.1.2\n",
            "duckdb                                1.2.2\n",
            "earthengine-api                       1.5.15\n",
            "easydict                              1.13\n",
            "editdistance                          0.8.1\n",
            "eerepr                                0.1.2\n",
            "einops                                0.8.1\n",
            "en_core_web_sm                        3.8.0\n",
            "entrypoints                           0.4\n",
            "et_xmlfile                            2.0.0\n",
            "etils                                 1.12.2\n",
            "etuples                               0.3.9\n",
            "Farama-Notifications                  0.0.4\n",
            "fastai                                2.7.19\n",
            "fastcore                              1.7.29\n",
            "fastdownload                          0.0.7\n",
            "fastjsonschema                        2.21.1\n",
            "fastprogress                          1.0.3\n",
            "fastrlock                             0.8.3\n",
            "filelock                              3.18.0\n",
            "firebase-admin                        6.8.0\n",
            "Flask                                 3.1.1\n",
            "flatbuffers                           25.2.10\n",
            "flax                                  0.10.6\n",
            "folium                                0.19.5\n",
            "fonttools                             4.58.0\n",
            "frozendict                            2.4.6\n",
            "frozenlist                            1.6.0\n",
            "fsspec                                2025.3.2\n",
            "future                                1.0.0\n",
            "gast                                  0.6.0\n",
            "gcsfs                                 2025.3.2\n",
            "GDAL                                  3.6.4\n",
            "gdown                                 5.2.0\n",
            "geemap                                0.35.3\n",
            "geocoder                              1.38.1\n",
            "geographiclib                         2.0\n",
            "geopandas                             1.0.1\n",
            "geopy                                 2.4.1\n",
            "gin-config                            0.5.0\n",
            "gitdb                                 4.0.12\n",
            "GitPython                             3.1.44\n",
            "glob2                                 0.7\n",
            "google                                2.0.3\n",
            "google-ai-generativelanguage          0.6.15\n",
            "google-api-core                       2.24.2\n",
            "google-api-python-client              2.169.0\n",
            "google-auth                           2.38.0\n",
            "google-auth-httplib2                  0.2.0\n",
            "google-auth-oauthlib                  1.2.2\n",
            "google-cloud-aiplatform               1.92.0\n",
            "google-cloud-bigquery                 3.32.0\n",
            "google-cloud-bigquery-connection      1.18.2\n",
            "google-cloud-bigquery-storage         2.31.0\n",
            "google-cloud-core                     2.4.3\n",
            "google-cloud-dataproc                 5.18.1\n",
            "google-cloud-datastore                2.21.0\n",
            "google-cloud-firestore                2.20.2\n",
            "google-cloud-functions                1.20.3\n",
            "google-cloud-iam                      2.19.0\n",
            "google-cloud-language                 2.17.1\n",
            "google-cloud-resource-manager         1.14.2\n",
            "google-cloud-spanner                  3.54.0\n",
            "google-cloud-storage                  2.19.0\n",
            "google-cloud-translate                3.20.2\n",
            "google-colab                          1.0.0\n",
            "google-crc32c                         1.7.1\n",
            "google-genai                          1.15.0\n",
            "google-generativeai                   0.8.5\n",
            "google-pasta                          0.2.0\n",
            "google-resumable-media                2.7.2\n",
            "googleapis-common-protos              1.70.0\n",
            "googledrivedownloader                 1.1.0\n",
            "graphviz                              0.20.3\n",
            "greenlet                              3.2.2\n",
            "grpc-google-iam-v1                    0.14.2\n",
            "grpc-interceptor                      0.15.4\n",
            "grpcio                                1.71.0\n",
            "grpcio-status                         1.71.0\n",
            "grpclib                               0.4.8\n",
            "gspread                               6.2.0\n",
            "gspread-dataframe                     4.0.0\n",
            "gym                                   0.25.2\n",
            "gym-notices                           0.0.8\n",
            "gymnasium                             1.1.1\n",
            "h11                                   0.16.0\n",
            "h2                                    4.2.0\n",
            "h5netcdf                              1.6.1\n",
            "h5py                                  3.13.0\n",
            "hdbscan                               0.8.40\n",
            "hf_transfer                           0.1.9\n",
            "highspy                               1.10.0\n",
            "holidays                              0.72\n",
            "holoviews                             1.20.2\n",
            "hpack                                 4.1.0\n",
            "html5lib                              1.1\n",
            "httpcore                              1.0.9\n",
            "httpimport                            1.4.1\n",
            "httplib2                              0.22.0\n",
            "httpx                                 0.28.1\n",
            "huggingface-hub                       0.31.2\n",
            "humanize                              4.12.3\n",
            "hunspell                              0.5.5\n",
            "hyperframe                            6.1.0\n",
            "hyperopt                              0.2.7\n",
            "ibis-framework                        9.5.0\n",
            "idna                                  3.10\n",
            "imageio                               2.37.0\n",
            "imageio-ffmpeg                        0.6.0\n",
            "imagesize                             1.4.1\n",
            "imbalanced-learn                      0.13.0\n",
            "immutabledict                         4.2.1\n",
            "importlib_metadata                    8.7.0\n",
            "importlib_resources                   6.5.2\n",
            "imutils                               0.5.4\n",
            "inflect                               7.5.0\n",
            "iniconfig                             2.1.0\n",
            "intel-cmplr-lib-ur                    2025.1.1\n",
            "intel-openmp                          2025.1.1\n",
            "ipyevents                             2.0.2\n",
            "ipyfilechooser                        0.6.0\n",
            "ipykernel                             6.17.1\n",
            "ipyleaflet                            0.19.2\n",
            "ipyparallel                           8.8.0\n",
            "ipython                               7.34.0\n",
            "ipython-genutils                      0.2.0\n",
            "ipython-sql                           0.5.0\n",
            "ipytree                               0.2.2\n",
            "ipywidgets                            7.7.1\n",
            "itsdangerous                          2.2.0\n",
            "jaraco.classes                        3.4.0\n",
            "jaraco.context                        6.0.1\n",
            "jaraco.functools                      4.1.0\n",
            "jax                                   0.5.2\n",
            "jax-cuda12-pjrt                       0.5.1\n",
            "jax-cuda12-plugin                     0.5.1\n",
            "jaxlib                                0.5.1\n",
            "jeepney                               0.9.0\n",
            "jieba                                 0.42.1\n",
            "Jinja2                                3.1.6\n",
            "jiter                                 0.9.0\n",
            "joblib                                1.5.0\n",
            "jsonpatch                             1.33\n",
            "jsonpickle                            4.0.5\n",
            "jsonpointer                           3.0.0\n",
            "jsonschema                            4.23.0\n",
            "jsonschema-specifications             2025.4.1\n",
            "jupyter-client                        6.1.12\n",
            "jupyter-console                       6.1.0\n",
            "jupyter_core                          5.7.2\n",
            "jupyter_kernel_gateway                2.5.2\n",
            "jupyter-leaflet                       0.19.2\n",
            "jupyter-server                        1.16.0\n",
            "jupyterlab_pygments                   0.3.0\n",
            "jupyterlab_widgets                    3.0.15\n",
            "kaggle                                1.7.4.5\n",
            "kagglehub                             0.3.12\n",
            "kenlm                                 0.2.0\n",
            "keras                                 3.8.0\n",
            "keras-hub                             0.18.1\n",
            "keras-nlp                             0.18.1\n",
            "keyring                               25.6.0\n",
            "keyrings.google-artifactregistry-auth 1.1.2\n",
            "kiwisolver                            1.4.8\n",
            "langchain                             0.3.25\n",
            "langchain-core                        0.3.59\n",
            "langchain-text-splitters              0.3.8\n",
            "langcodes                             3.5.0\n",
            "langsmith                             0.3.42\n",
            "language_data                         1.3.0\n",
            "launchpadlib                          1.10.16\n",
            "lazr.restfulclient                    0.14.4\n",
            "lazr.uri                              1.0.6\n",
            "lazy_loader                           0.4\n",
            "libclang                              18.1.1\n",
            "libcudf-cu12                          25.2.1\n",
            "libcugraph-cu12                       25.2.0\n",
            "libcuml-cu12                          25.2.1\n",
            "libcuvs-cu12                          25.2.1\n",
            "libkvikio-cu12                        25.2.1\n",
            "libpysal                              4.13.0\n",
            "libraft-cu12                          25.2.0\n",
            "librosa                               0.11.0\n",
            "libucx-cu12                           1.18.1\n",
            "libucxx-cu12                          0.42.0\n",
            "lightgbm                              4.5.0\n",
            "linkify-it-py                         2.0.3\n",
            "llvmlite                              0.43.0\n",
            "locket                                1.0.0\n",
            "logical-unification                   0.4.6\n",
            "lxml                                  5.4.0\n",
            "Mako                                  1.1.3\n",
            "marisa-trie                           1.2.1\n",
            "Markdown                              3.8\n",
            "markdown-it-py                        3.0.0\n",
            "MarkupSafe                            3.0.2\n",
            "matplotlib                            3.10.0\n",
            "matplotlib-inline                     0.1.7\n",
            "matplotlib-venn                       1.1.2\n",
            "mdit-py-plugins                       0.4.2\n",
            "mdurl                                 0.1.2\n",
            "miniKanren                            1.0.3\n",
            "missingno                             0.5.2\n",
            "mistune                               3.1.3\n",
            "mizani                                0.13.5\n",
            "mkl                                   2025.0.1\n",
            "ml-dtypes                             0.4.1\n",
            "mlxtend                               0.23.4\n",
            "mock                                  5.2.0\n",
            "more-itertools                        10.7.0\n",
            "moviepy                               1.0.3\n",
            "mpmath                                1.3.0\n",
            "msgpack                               1.1.0\n",
            "multidict                             6.4.3\n",
            "multipledispatch                      1.0.0\n",
            "multiprocess                          0.70.15\n",
            "multitasking                          0.0.11\n",
            "murmurhash                            1.0.12\n",
            "music21                               9.3.0\n",
            "namex                                 0.0.9\n",
            "narwhals                              1.39.0\n",
            "natsort                               8.4.0\n",
            "nbclassic                             1.3.1\n",
            "nbclient                              0.10.2\n",
            "nbconvert                             7.16.6\n",
            "nbformat                              5.10.4\n",
            "ndindex                               1.9.2\n",
            "nest-asyncio                          1.6.0\n",
            "networkx                              3.4.2\n",
            "nibabel                               5.3.2\n",
            "nltk                                  3.9.1\n",
            "notebook                              6.5.7\n",
            "notebook_shim                         0.2.4\n",
            "numba                                 0.60.0\n",
            "numba-cuda                            0.2.0\n",
            "numexpr                               2.10.2\n",
            "numpy                                 1.24.0\n",
            "nvidia-cublas-cu12                    12.5.3.2\n",
            "nvidia-cuda-cupti-cu12                12.5.82\n",
            "nvidia-cuda-nvcc-cu12                 12.5.82\n",
            "nvidia-cuda-nvrtc-cu12                12.5.82\n",
            "nvidia-cuda-runtime-cu12              12.5.82\n",
            "nvidia-cudnn-cu12                     9.3.0.75\n",
            "nvidia-cufft-cu12                     11.2.3.61\n",
            "nvidia-curand-cu12                    10.3.6.82\n",
            "nvidia-cusolver-cu12                  11.6.3.83\n",
            "nvidia-cusparse-cu12                  12.5.1.3\n",
            "nvidia-cusparselt-cu12                0.6.2\n",
            "nvidia-ml-py                          12.575.51\n",
            "nvidia-nccl-cu12                      2.21.5\n",
            "nvidia-nvcomp-cu12                    4.2.0.11\n",
            "nvidia-nvjitlink-cu12                 12.5.82\n",
            "nvidia-nvtx-cu12                      12.4.127\n",
            "nvtx                                  0.2.11\n",
            "nx-cugraph-cu12                       25.2.0\n",
            "oauth2client                          4.1.3\n",
            "oauthlib                              3.2.2\n",
            "omegaconf                             2.3.0\n",
            "openai                                1.78.1\n",
            "opencv-contrib-python                 4.11.0.86\n",
            "opencv-python                         4.11.0.86\n",
            "opencv-python-headless                4.11.0.86\n",
            "openpyxl                              3.1.5\n",
            "opt_einsum                            3.4.0\n",
            "optax                                 0.2.4\n",
            "optree                                0.15.0\n",
            "orbax-checkpoint                      0.11.13\n",
            "orjson                                3.10.18\n",
            "osqp                                  1.0.4\n",
            "packaging                             24.2\n",
            "pandas                                2.2.2\n",
            "pandas-datareader                     0.10.0\n",
            "pandas-gbq                            0.28.1\n",
            "pandas-stubs                          2.2.2.240909\n",
            "pandocfilters                         1.5.1\n",
            "panel                                 1.6.3\n",
            "param                                 2.2.0\n",
            "parso                                 0.8.4\n",
            "parsy                                 2.1\n",
            "partd                                 1.4.2\n",
            "pathlib                               1.0.1\n",
            "patsy                                 1.0.1\n",
            "peewee                                3.18.1\n",
            "peft                                  0.15.2\n",
            "pexpect                               4.9.0\n",
            "pickleshare                           0.7.5\n",
            "pillow                                11.2.1\n",
            "pip                                   24.1.2\n",
            "platformdirs                          4.3.8\n",
            "plotly                                5.24.1\n",
            "plotnine                              0.14.5\n",
            "pluggy                                1.5.0\n",
            "ply                                   3.11\n",
            "polars                                1.21.0\n",
            "pooch                                 1.8.2\n",
            "portpicker                            1.5.2\n",
            "preshed                               3.0.9\n",
            "prettytable                           3.16.0\n",
            "proglog                               0.1.12\n",
            "progressbar2                          4.5.0\n",
            "prometheus_client                     0.21.1\n",
            "promise                               2.3\n",
            "prompt_toolkit                        3.0.51\n",
            "propcache                             0.3.1\n",
            "prophet                               1.1.6\n",
            "proto-plus                            1.26.1\n",
            "protobuf                              5.29.4\n",
            "psutil                                5.9.5\n",
            "psycopg2                              2.9.10\n",
            "ptyprocess                            0.7.0\n",
            "py-cpuinfo                            9.0.0\n",
            "py4j                                  0.10.9.7\n",
            "pyarrow                               18.1.0\n",
            "pyasn1                                0.6.1\n",
            "pyasn1_modules                        0.4.2\n",
            "pybind11                              2.13.6\n",
            "pycairo                               1.28.0\n",
            "pycocotools                           2.0.8\n",
            "pycparser                             2.22\n",
            "pycryptodomex                         3.22.0\n",
            "pydantic                              2.11.4\n",
            "pydantic_core                         2.33.2\n",
            "pydata-google-auth                    1.9.1\n",
            "pydot                                 3.0.4\n",
            "pydotplus                             2.0.2\n",
            "PyDrive                               1.3.1\n",
            "PyDrive2                              1.21.3\n",
            "pyerfa                                2.0.1.5\n",
            "pygame                                2.6.1\n",
            "pygit2                                1.18.0\n",
            "Pygments                              2.19.1\n",
            "PyGObject                             3.42.0\n",
            "PyJWT                                 2.10.1\n",
            "pylibcudf-cu12                        25.2.1\n",
            "pylibcugraph-cu12                     25.2.0\n",
            "pylibraft-cu12                        25.2.0\n",
            "pymc                                  5.22.0\n",
            "pymystem3                             0.2.0\n",
            "pynndescent                           0.5.13\n",
            "pynvjitlink-cu12                      0.6.0\n",
            "pynvml                                12.0.0\n",
            "pyogrio                               0.11.0\n",
            "pyomo                                 6.9.2\n",
            "PyOpenGL                              3.1.9\n",
            "pyOpenSSL                             24.2.1\n",
            "pyparsing                             3.2.3\n",
            "pyperclip                             1.9.0\n",
            "pyproj                                3.7.1\n",
            "pyproject_hooks                       1.2.0\n",
            "pyshp                                 2.3.1\n",
            "PySocks                               1.7.1\n",
            "pyspark                               3.5.1\n",
            "pytensor                              2.30.3\n",
            "pytest                                8.3.5\n",
            "python-apt                            0.0.0\n",
            "python-box                            7.3.2\n",
            "python-dateutil                       2.9.0.post0\n",
            "python-louvain                        0.16\n",
            "python-slugify                        8.0.4\n",
            "python-snappy                         0.7.3\n",
            "python-utils                          3.9.1\n",
            "pytz                                  2025.2\n",
            "pyviz_comms                           3.0.4\n",
            "PyWavelets                            1.8.0\n",
            "PyYAML                                6.0.2\n",
            "pyzmq                                 24.0.1\n",
            "raft-dask-cu12                        25.2.0\n",
            "rapids-dask-dependency                25.2.0\n",
            "ratelim                               0.1.6\n",
            "referencing                           0.36.2\n",
            "regex                                 2024.11.6\n",
            "requests                              2.32.3\n",
            "requests-oauthlib                     2.0.0\n",
            "requests-toolbelt                     1.0.0\n",
            "requirements-parser                   0.9.0\n",
            "rich                                  13.9.4\n",
            "rmm-cu12                              25.2.0\n",
            "roman-numerals-py                     3.1.0\n",
            "rpds-py                               0.24.0\n",
            "rpy2                                  3.5.17\n",
            "rsa                                   4.9.1\n",
            "safetensors                           0.5.3\n",
            "scikit-image                          0.25.2\n",
            "scikit-learn                          1.6.1\n",
            "scipy                                 1.15.3\n",
            "scooby                                0.10.1\n",
            "scs                                   3.2.7.post2\n",
            "seaborn                               0.13.2\n",
            "SecretStorage                         3.3.3\n",
            "Send2Trash                            1.8.3\n",
            "sentence-transformers                 4.1.0\n",
            "sentencepiece                         0.2.0\n",
            "sentry-sdk                            2.28.0\n",
            "setproctitle                          1.3.6\n",
            "setuptools                            75.2.0\n",
            "shap                                  0.47.2\n",
            "shapely                               2.1.0\n",
            "shellingham                           1.5.4\n",
            "simple-parsing                        0.1.7\n",
            "simplejson                            3.20.1\n",
            "simsimd                               6.2.1\n",
            "six                                   1.17.0\n",
            "sklearn-compat                        0.1.3\n",
            "sklearn-pandas                        2.2.0\n",
            "slicer                                0.0.8\n",
            "smart-open                            7.1.0\n",
            "smmap                                 5.0.2\n",
            "sniffio                               1.3.1\n",
            "snowballstemmer                       3.0.1\n",
            "sortedcontainers                      2.4.0\n",
            "soundfile                             0.13.1\n",
            "soupsieve                             2.7\n",
            "soxr                                  0.5.0.post1\n",
            "spacy                                 3.8.5\n",
            "spacy-legacy                          3.0.12\n",
            "spacy-loggers                         1.0.5\n",
            "spanner-graph-notebook                1.1.6\n",
            "Sphinx                                8.2.3\n",
            "sphinxcontrib-applehelp               2.0.0\n",
            "sphinxcontrib-devhelp                 2.0.0\n",
            "sphinxcontrib-htmlhelp                2.1.0\n",
            "sphinxcontrib-jsmath                  1.0.1\n",
            "sphinxcontrib-qthelp                  2.0.0\n",
            "sphinxcontrib-serializinghtml         2.0.0\n",
            "SQLAlchemy                            2.0.40\n",
            "sqlglot                               25.20.2\n",
            "sqlparse                              0.5.3\n",
            "srsly                                 2.5.1\n",
            "stanio                                0.5.1\n",
            "statsmodels                           0.14.4\n",
            "stringzilla                           3.12.5\n",
            "stumpy                                1.13.0\n",
            "subword-nmt                           0.3.8\n",
            "sympy                                 1.13.1\n",
            "tables                                3.10.2\n",
            "tabulate                              0.9.0\n",
            "tbb                                   2022.1.0\n",
            "tblib                                 3.1.0\n",
            "tcmlib                                1.3.0\n",
            "tenacity                              9.1.2\n",
            "tensorboard                           2.18.0\n",
            "tensorboard-data-server               0.7.2\n",
            "tensorflow                            2.18.0\n",
            "tensorflow-datasets                   4.9.8\n",
            "tensorflow_decision_forests           1.11.0\n",
            "tensorflow-hub                        0.16.1\n",
            "tensorflow-io-gcs-filesystem          0.37.1\n",
            "tensorflow-metadata                   1.17.1\n",
            "tensorflow-probability                0.25.0\n",
            "tensorflow-text                       2.18.1\n",
            "tensorstore                           0.1.74\n",
            "termcolor                             3.1.0\n",
            "terminado                             0.18.1\n",
            "text-unidecode                        1.3\n",
            "textblob                              0.19.0\n",
            "tf_keras                              2.18.0\n",
            "tf-slim                               1.1.0\n",
            "thinc                                 8.3.6\n",
            "threadpoolctl                         3.6.0\n",
            "tifffile                              2025.5.10\n",
            "tiktoken                              0.9.0\n",
            "timm                                  1.0.15\n",
            "tinycss2                              1.4.0\n",
            "tokenizers                            0.21.1\n",
            "toml                                  0.10.2\n",
            "toolz                                 0.12.1\n",
            "torch                                 2.6.0+cu124\n",
            "torchao                               0.10.0\n",
            "torchaudio                            2.6.0+cu124\n",
            "torchdata                             0.11.0\n",
            "torchsummary                          1.5.1\n",
            "torchtune                             0.6.1\n",
            "torchvision                           0.21.0+cu124\n",
            "tornado                               6.4.2\n",
            "tqdm                                  4.67.1\n",
            "traitlets                             5.7.1\n",
            "traittypes                            0.2.1\n",
            "transformers                          4.51.3\n",
            "treelite                              4.4.1\n",
            "treescope                             0.1.9\n",
            "triton                                3.2.0\n",
            "tsfresh                               0.21.0\n",
            "tweepy                                4.15.0\n",
            "typeguard                             4.4.2\n",
            "typer                                 0.15.3\n",
            "types-pytz                            2025.2.0.20250326\n",
            "types-setuptools                      80.4.0.20250511\n",
            "typing_extensions                     4.13.2\n",
            "typing-inspection                     0.4.0\n",
            "tzdata                                2025.2\n",
            "tzlocal                               5.3.1\n",
            "uc-micro-py                           1.0.3\n",
            "ucx-py-cu12                           0.42.0\n",
            "ucxx-cu12                             0.42.0\n",
            "umap-learn                            0.5.7\n",
            "umf                                   0.10.0\n",
            "uritemplate                           4.1.1\n",
            "urllib3                               2.4.0\n",
            "vega-datasets                         0.9.0\n",
            "wadllib                               1.3.6\n",
            "wandb                                 0.19.11\n",
            "wasabi                                1.1.3\n",
            "wcwidth                               0.2.13\n",
            "weasel                                0.4.1\n",
            "webcolors                             24.11.1\n",
            "webencodings                          0.5.1\n",
            "websocket-client                      1.8.0\n",
            "websockets                            15.0.1\n",
            "Werkzeug                              3.1.3\n",
            "wheel                                 0.45.1\n",
            "widgetsnbextension                    3.6.10\n",
            "wordcloud                             1.9.4\n",
            "wrapt                                 1.17.2\n",
            "wurlitzer                             3.1.1\n",
            "xarray                                2025.3.1\n",
            "xarray-einstats                       0.8.0\n",
            "xgboost                               2.1.4\n",
            "xlrd                                  2.0.1\n",
            "xxhash                                3.5.0\n",
            "xyzservices                           2025.4.0\n",
            "yarl                                  1.20.0\n",
            "ydf                                   0.11.0\n",
            "yellowbrick                           1.5\n",
            "yfinance                              0.2.61\n",
            "zict                                  3.0.0\n",
            "zipp                                  3.21.0\n",
            "zstandard                             0.23.0\n"
          ]
        }
      ]
    },
    {
      "cell_type": "code",
      "execution_count": 4,
      "metadata": {
        "colab": {
          "base_uri": "https://localhost:8080/"
        },
        "id": "hcMRjnkjPQ3C",
        "outputId": "c32fe353-8b47-422e-d082-fa4982d56e01"
      },
      "outputs": [
        {
          "output_type": "stream",
          "name": "stdout",
          "text": [
            "   500 dev.en-de\n",
            "   500 dev.en-de.de\n",
            "   500 dev.en-de.en\n",
            "  1500 total\n"
          ]
        }
      ],
      "source": [
        "#load parallel corpus\n",
        "#check number of lines\n",
        "!wc -l dev* #count (wc - count words) lines (-l) in all files starting with dev (dev*)"
      ]
    },
    {
      "cell_type": "code",
      "execution_count": 5,
      "metadata": {
        "id": "4gbBB_AKQeyO"
      },
      "outputs": [],
      "source": [
        "#bicleanaer requires parallel data into the same file with columns en-de\n",
        "!paste  dev.en-de.en dev.en-de.de > dev.en-de #combine to file line by line splitting by tab"
      ]
    },
    {
      "cell_type": "code",
      "execution_count": 6,
      "metadata": {
        "colab": {
          "base_uri": "https://localhost:8080/"
        },
        "id": "JnluwFfdSwpl",
        "outputId": "1cd943f1-6575-4e5f-fff0-85a70fa7ef06"
      },
      "outputs": [
        {
          "output_type": "stream",
          "name": "stdout",
          "text": [
            "Yevonde's most famous work was inspired by a theme party held on 5 March 1935, where guests dressed as Roman and Greek gods and goddesses.\tBesonders bekannt wurden ihre Aufnahmen von einem Fest 1935, zu dem Gäste als griechische Götter und Göttinnen verkleidet kamen.\n",
            "Mora is working on a trilogy about the IT specialist Darius Kopp, of which band I \"The Only Man on the Continent\" and Volume II \"The Monster\" have already appeared.\tTerézia Mora arbeitet an einer Trilogie um den IT-Spezialisten Darius Kopp, von der Band I „Der einzige Mann auf dem Kontinent“ und Band II „Das Ungeheuer“ bereits erschienen sind.\n",
            "The first person to enter this section was Günther J. Wolf with seven members of his ice course.\tEine erste Befahrung dieses Abschnitts gelang Günther J. Wolf mit sieben Teilnehmern seines Eiskurses.\n",
            "They were renumbered in 1970 to 100 903 and 904, and in 1973 to 199 003 and 004.\tSie wurden 1970 in 100 903 und 904, 1973 in 199 003 und 004 umgenummert.\n",
            "The grave is probably a disturbed arrangement, which was covered earlier with wood or stones.\tBei dem Grab handelt es sich wahrscheinlich um eine gestörte Anlage, die früher mit Holz oder Steinen abgedeckt war.\n",
            "Persecutions ended following John's death on 23 May 1677, at the age of 74.\tDie Verfolgung endete, als Graf Johann am 23. Mai 1677 im Alter von 74 Jahren starb.\n",
            "In celebration he wrote a book entitled Three Visits to Madagascar (1858).\tDiese Reisen beschrieb er in Three visits to Madagascar (London 1858).\n",
            "Berlinale Talents and Perspektive Deutsches Kino have joined forces to award the inaugural “Kompagnon” fellowship in 2017.\tBerlinale Talents und Perspektive Deutsches Kino vergeben gemeinsam im Jahr 2017 zum ersten Mal den „Kompagnon“-Förderpreis.\n",
            "A proposal was floated during the 1950s to relocate the monument to an alternative site in a city park in order to ease traffic congestion in downtown Lancaster.\tIn den 1950er Jahren wurde der Vorschlag verbreitet, das Denkmal an eine andere Stelle in einem Stadtpark zu versetzen, um damit eine Erleichterung der Verkehrsstauungen im Zentrum von Lancaster zu erreichen.\n",
            "\"Hrvatski kup 2006/07\" (in Croatian).\tArtikel zum LEN Cup 2006/07. (kroatisch)\n"
          ]
        }
      ],
      "source": [
        "#check output\n",
        "!head dev.en-de  #as a result we have a parallel corpus, where each source sentence (en) ha a corresponding arget sentence (de)"
      ]
    },
    {
      "cell_type": "code",
      "source": [
        "!pip install cyhunspell"
      ],
      "metadata": {
        "colab": {
          "base_uri": "https://localhost:8080/"
        },
        "id": "KmsuSkv8deFa",
        "outputId": "5e8227c3-f1b1-4fd3-ce5b-855f26c25d67"
      },
      "execution_count": 7,
      "outputs": [
        {
          "output_type": "stream",
          "name": "stdout",
          "text": [
            "Collecting cyhunspell\n",
            "  Using cached CyHunspell-1.3.4.tar.gz (2.7 MB)\n",
            "  Preparing metadata (setup.py) ... \u001b[?25l\u001b[?25hdone\n",
            "Collecting cacheman>=2.0.6 (from cyhunspell)\n",
            "  Using cached CacheMan-2.2.0-py2.py3-none-any.whl.metadata (5.8 kB)\n",
            "Requirement already satisfied: psutil>=2.1.0 in /usr/local/lib/python3.11/dist-packages (from cacheman>=2.0.6->cyhunspell) (5.9.5)\n",
            "Using cached CacheMan-2.2.0-py2.py3-none-any.whl (13 kB)\n",
            "Building wheels for collected packages: cyhunspell\n",
            "  \u001b[1;31merror\u001b[0m: \u001b[1msubprocess-exited-with-error\u001b[0m\n",
            "  \n",
            "  \u001b[31m×\u001b[0m \u001b[32mpython setup.py bdist_wheel\u001b[0m did not run successfully.\n",
            "  \u001b[31m│\u001b[0m exit code: \u001b[1;36m1\u001b[0m\n",
            "  \u001b[31m╰─>\u001b[0m See above for output.\n",
            "  \n",
            "  \u001b[1;35mnote\u001b[0m: This error originates from a subprocess, and is likely not a problem with pip.\n",
            "  Building wheel for cyhunspell (setup.py) ... \u001b[?25lerror\n",
            "\u001b[31m  ERROR: Failed building wheel for cyhunspell\u001b[0m\u001b[31m\n",
            "\u001b[0m\u001b[?25h  Running setup.py clean for cyhunspell\n",
            "Failed to build cyhunspell\n",
            "\u001b[31mERROR: ERROR: Failed to build installable wheels for some pyproject.toml based projects (cyhunspell)\u001b[0m\u001b[31m\n",
            "\u001b[0m"
          ]
        }
      ]
    },
    {
      "cell_type": "code",
      "source": [
        "!pip install numpy==1.24"
      ],
      "metadata": {
        "colab": {
          "base_uri": "https://localhost:8080/"
        },
        "id": "JhgrF-QnejwS",
        "outputId": "6da3d62b-43c8-4502-d392-e0196b761eb1"
      },
      "execution_count": 8,
      "outputs": [
        {
          "output_type": "stream",
          "name": "stdout",
          "text": [
            "Requirement already satisfied: numpy==1.24 in /usr/local/lib/python3.11/dist-packages (1.24.0)\n"
          ]
        }
      ]
    },
    {
      "cell_type": "code",
      "source": [
        "!pip install bicleaner-hardrules"
      ],
      "metadata": {
        "colab": {
          "base_uri": "https://localhost:8080/"
        },
        "id": "JX1CGcMjSnb6",
        "outputId": "848578b3-f80f-4798-82fe-3a99b0c9b2aa"
      },
      "execution_count": 9,
      "outputs": [
        {
          "output_type": "stream",
          "name": "stdout",
          "text": [
            "Collecting bicleaner-hardrules\n",
            "  Using cached bicleaner_hardrules-2.10.6-py3-none-manylinux_2_5_x86_64.manylinux1_x86_64.whl.metadata (14 kB)\n",
            "Requirement already satisfied: regex in /usr/local/lib/python3.11/dist-packages (from bicleaner-hardrules) (2024.11.6)\n",
            "Requirement already satisfied: PyYAML in /usr/local/lib/python3.11/dist-packages (from bicleaner-hardrules) (6.0.2)\n",
            "Requirement already satisfied: pytest in /usr/local/lib/python3.11/dist-packages (from bicleaner-hardrules) (8.3.5)\n",
            "Collecting toolwrapper<=3,>=1.0 (from bicleaner-hardrules)\n",
            "  Using cached toolwrapper-2.1.0.tar.gz (3.2 kB)\n",
            "  Preparing metadata (setup.py) ... \u001b[?25l\u001b[?25hdone\n",
            "Requirement already satisfied: joblib in /usr/local/lib/python3.11/dist-packages (from bicleaner-hardrules) (1.5.0)\n",
            "Collecting sacremoses==0.0.53 (from bicleaner-hardrules)\n",
            "  Using cached sacremoses-0.0.53.tar.gz (880 kB)\n",
            "  Preparing metadata (setup.py) ... \u001b[?25l\u001b[?25hdone\n",
            "Collecting fasttext-wheel==0.9.2 (from bicleaner-hardrules)\n",
            "  Using cached fasttext_wheel-0.9.2-cp311-cp311-manylinux_2_17_x86_64.manylinux2014_x86_64.whl.metadata (16 kB)\n",
            "Collecting fastspell==0.11.1 (from bicleaner-hardrules)\n",
            "  Using cached fastspell-0.11.1-py3-none-any.whl.metadata (53 kB)\n",
            "Collecting huggingface-hub<0.23,>=0.15 (from bicleaner-hardrules)\n",
            "  Using cached huggingface_hub-0.22.2-py3-none-any.whl.metadata (12 kB)\n",
            "INFO: pip is looking at multiple versions of fastspell to determine which version is compatible with other requirements. This could take a while.\n",
            "Collecting bicleaner-hardrules\n",
            "  Using cached bicleaner_hardrules-2.10.5-py3-none-manylinux_2_5_x86_64.manylinux1_x86_64.whl.metadata (14 kB)\n",
            "  Using cached bicleaner_hardrules-2.10.4-py3-none-manylinux_2_5_x86_64.manylinux1_x86_64.whl.metadata (14 kB)\n",
            "Collecting fastspell==0.11 (from bicleaner-hardrules)\n",
            "  Using cached fastspell-0.11-py3-none-any.whl.metadata (10 kB)\n",
            "Collecting bicleaner-hardrules\n",
            "  Using cached bicleaner_hardrules-2.10.3-py3-none-manylinux_2_5_x86_64.manylinux1_x86_64.whl.metadata (14 kB)\n",
            "Collecting huggingface-hub==0.15.1 (from bicleaner-hardrules)\n",
            "  Using cached huggingface_hub-0.15.1-py3-none-any.whl.metadata (8.0 kB)\n",
            "Collecting bicleaner-hardrules\n",
            "  Using cached bicleaner_hardrules-2.10.2-py3-none-manylinux_2_5_x86_64.manylinux1_x86_64.whl.metadata (14 kB)\n",
            "Collecting fastspell==0.10 (from bicleaner-hardrules)\n",
            "  Using cached fastspell-0.10-py3-none-any.whl.metadata (10 kB)\n",
            "Collecting bicleaner-hardrules\n",
            "  Using cached bicleaner_hardrules-2.9.1-py3-none-manylinux_2_5_x86_64.manylinux1_x86_64.whl.metadata (14 kB)\n",
            "Collecting fastspell==0.9.1 (from bicleaner-hardrules)\n",
            "  Using cached fastspell-0.9.1-py3-none-any.whl.metadata (10 kB)\n",
            "Collecting bicleaner-hardrules\n",
            "  Using cached bicleaner_hardrules-2.9.0-py3-none-manylinux_2_5_x86_64.manylinux1_x86_64.whl.metadata (14 kB)\n",
            "  Using cached bicleaner_hardrules-2.8.1-py3-none-manylinux_2_5_x86_64.manylinux1_x86_64.whl.metadata (13 kB)\n",
            "Collecting fastspell==0.9 (from bicleaner-hardrules)\n",
            "  Using cached fastspell-0.9.0-py3-none-any.whl.metadata (10 kB)\n",
            "INFO: pip is still looking at multiple versions of fastspell to determine which version is compatible with other requirements. This could take a while.\n",
            "Collecting bicleaner-hardrules\n",
            "  Using cached bicleaner_hardrules-2.8.0-py3-none-manylinux_2_5_x86_64.manylinux1_x86_64.whl.metadata (13 kB)\n",
            "Collecting fasttext==0.9.2 (from bicleaner-hardrules)\n",
            "  Using cached fasttext-0.9.2.tar.gz (68 kB)\n",
            "  Preparing metadata (setup.py) ... \u001b[?25l\u001b[?25hdone\n",
            "Collecting fastspell==0.8 (from bicleaner-hardrules)\n",
            "  Using cached fastspell-0.8.0-py3-none-any.whl.metadata (10 kB)\n",
            "Collecting fastspell-dictionaries==3.0 (from fastspell==0.8->bicleaner-hardrules)\n",
            "  Using cached fastspell-dictionaries-3.0.tar.gz (19.2 MB)\n",
            "  Installing build dependencies ... \u001b[?25l\u001b[?25hdone\n",
            "  Getting requirements to build wheel ... \u001b[?25l\u001b[?25hdone\n",
            "  Preparing metadata (pyproject.toml) ... \u001b[?25l\u001b[?25hdone\n",
            "Requirement already satisfied: hunspell==0.5.5 in /usr/local/lib/python3.11/dist-packages (from fastspell==0.8->bicleaner-hardrules) (0.5.5)\n",
            "Requirement already satisfied: urllib3 in /usr/local/lib/python3.11/dist-packages (from fastspell==0.8->bicleaner-hardrules) (2.4.0)\n",
            "Requirement already satisfied: pybind11>=2.2 in /usr/local/lib/python3.11/dist-packages (from fasttext==0.9.2->bicleaner-hardrules) (2.13.6)\n",
            "Requirement already satisfied: setuptools>=0.7.0 in /usr/local/lib/python3.11/dist-packages (from fasttext==0.9.2->bicleaner-hardrules) (75.2.0)\n",
            "Requirement already satisfied: numpy in /usr/local/lib/python3.11/dist-packages (from fasttext==0.9.2->bicleaner-hardrules) (1.24.0)\n",
            "Requirement already satisfied: six in /usr/local/lib/python3.11/dist-packages (from sacremoses==0.0.53->bicleaner-hardrules) (1.17.0)\n",
            "Requirement already satisfied: click in /usr/local/lib/python3.11/dist-packages (from sacremoses==0.0.53->bicleaner-hardrules) (8.2.0)\n",
            "Requirement already satisfied: tqdm in /usr/local/lib/python3.11/dist-packages (from sacremoses==0.0.53->bicleaner-hardrules) (4.67.1)\n",
            "Requirement already satisfied: iniconfig in /usr/local/lib/python3.11/dist-packages (from pytest->bicleaner-hardrules) (2.1.0)\n",
            "Requirement already satisfied: packaging in /usr/local/lib/python3.11/dist-packages (from pytest->bicleaner-hardrules) (24.2)\n",
            "Requirement already satisfied: pluggy<2,>=1.5 in /usr/local/lib/python3.11/dist-packages (from pytest->bicleaner-hardrules) (1.5.0)\n",
            "Using cached bicleaner_hardrules-2.8.0-py3-none-manylinux_2_5_x86_64.manylinux1_x86_64.whl (13.5 MB)\n",
            "Using cached fastspell-0.8.0-py3-none-any.whl (13 kB)\n",
            "Building wheels for collected packages: fasttext, sacremoses, fastspell-dictionaries, toolwrapper\n",
            "  Building wheel for fasttext (setup.py) ... \u001b[?25l\u001b[?25hdone\n",
            "  Created wheel for fasttext: filename=fasttext-0.9.2-cp311-cp311-linux_x86_64.whl size=4304105 sha256=1611d474e84329aed5ebeeaebad54d70496cbfa05f4932afbe69d46fe956bf90\n",
            "  Stored in directory: /root/.cache/pip/wheels/12/89/c9/c932d04c4dd65abe347bbb3e6f7668688753cbc585305ad8b7\n",
            "  Building wheel for sacremoses (setup.py) ... \u001b[?25l\u001b[?25hdone\n",
            "  Created wheel for sacremoses: filename=sacremoses-0.0.53-py3-none-any.whl size=895241 sha256=badad6037d9b852d978cb94bef65eb15303cb477febd81cdb2869d5b7e7e5e94\n",
            "  Stored in directory: /root/.cache/pip/wheels/11/75/c6/a82d827a00df823caf211262900d2c024f5b3a775b82b45230\n",
            "  Building wheel for fastspell-dictionaries (pyproject.toml) ... \u001b[?25l\u001b[?25hdone\n",
            "  Created wheel for fastspell-dictionaries: filename=fastspell_dictionaries-3.0-py3-none-any.whl size=19292646 sha256=7e99f3775eabaf2920a06401a90d051679e955860d8eeef6026b71d5f57a6a75\n",
            "  Stored in directory: /root/.cache/pip/wheels/e4/ad/3c/de089aa637e81883e83a41eed43f9426514fdb51d6c554bcb9\n",
            "  Building wheel for toolwrapper (setup.py) ... \u001b[?25l\u001b[?25hdone\n",
            "  Created wheel for toolwrapper: filename=toolwrapper-2.1.0-py3-none-any.whl size=3337 sha256=359fea3ba8518f2b2fb66b76cf0bbaedbda8b1978b44db03bd8fab484b867988\n",
            "  Stored in directory: /root/.cache/pip/wheels/28/b0/06/bccd361b5b8bbf1ec88b72164fa52daaaa2221865fb980dff1\n",
            "Successfully built fasttext sacremoses fastspell-dictionaries toolwrapper\n",
            "Installing collected packages: toolwrapper, sacremoses, fasttext, fastspell-dictionaries, fastspell, bicleaner-hardrules\n",
            "Successfully installed bicleaner-hardrules-2.8.0 fastspell-0.8.0 fastspell-dictionaries-3.0 fasttext-0.9.2 sacremoses-0.0.53 toolwrapper-2.1.0\n"
          ]
        }
      ]
    },
    {
      "cell_type": "code",
      "execution_count": 13,
      "metadata": {
        "colab": {
          "base_uri": "https://localhost:8080/"
        },
        "id": "KBlrSGNhRAF7",
        "outputId": "05622cb6-9431-4698-8864-d68ecbce09ad"
      },
      "outputs": [
        {
          "output_type": "stream",
          "name": "stdout",
          "text": [
            "2025-05-20 09:02:31,100 - WARNING - Downloading FastText model...\n",
            "2025-05-20 09:02:32,102 - WARNING - Metadata file not provided.\n",
            "2025-05-20 09:02:32,102 - INFO - LM filtering disabled.\n",
            "2025-05-20 09:02:32,102 - INFO - Porn removal disabled.\n",
            "2025-05-20 09:02:32,114 - INFO - Executing main program...\n",
            "2025-05-20 09:02:32,114 - INFO - Starting process\n",
            "2025-05-20 09:02:32,114 - INFO - Running 1 workers at 10000 rows per block\n",
            "2025-05-20 09:02:32,125 - INFO - Start mapping\n",
            "2025-05-20 09:02:32,131 - INFO - End mapping\n",
            "2025-05-20 09:02:33,913 - INFO - Hard rules applied. Output available in dev.en-de.classified\n",
            "2025-05-20 09:02:33,918 - INFO - Finished\n",
            "2025-05-20 09:02:33,918 - INFO - Total: 500 rows\n",
            "2025-05-20 09:02:33,918 - INFO - Elapsed time 1.80 s\n",
            "2025-05-20 09:02:33,918 - INFO - Troughput: 277 rows/s\n",
            "2025-05-20 09:02:33,919 - INFO - Program finished\n"
          ]
        }
      ],
      "source": [
        "#apply bicleaner\n",
        "#source = -s, target = -t\n",
        "#parallel corpus as input\n",
        "#parallel corpus as input\n",
        "!bicleaner-hardrules  \\\n",
        "        -s en -t de  \\\n",
        "        dev.en-de  \\\n",
        "        dev.en-de.classified\n",
        "        #saved output"
      ]
    },
    {
      "cell_type": "code",
      "execution_count": 14,
      "metadata": {
        "colab": {
          "base_uri": "https://localhost:8080/"
        },
        "id": "5z4Ql8q6RX6r",
        "outputId": "047406e0-f622-4265-a363-4757563f5ac5"
      },
      "outputs": [
        {
          "output_type": "stream",
          "name": "stdout",
          "text": [
            "Yevonde's most famous work was inspired by a theme party held on 5 March 1935, where guests dressed as Roman and Greek gods and goddesses.\tBesonders bekannt wurden ihre Aufnahmen von einem Fest 1935, zu dem Gäste als griechische Götter und Göttinnen verkleidet kamen.\t1\n",
            "Mora is working on a trilogy about the IT specialist Darius Kopp, of which band I \"The Only Man on the Continent\" and Volume II \"The Monster\" have already appeared.\tTerézia Mora arbeitet an einer Trilogie um den IT-Spezialisten Darius Kopp, von der Band I „Der einzige Mann auf dem Kontinent“ und Band II „Das Ungeheuer“ bereits erschienen sind.\t1\n",
            "The first person to enter this section was Günther J. Wolf with seven members of his ice course.\tEine erste Befahrung dieses Abschnitts gelang Günther J. Wolf mit sieben Teilnehmern seines Eiskurses.\t1\n",
            "They were renumbered in 1970 to 100 903 and 904, and in 1973 to 199 003 and 004.\tSie wurden 1970 in 100 903 und 904, 1973 in 199 003 und 004 umgenummert.\t1\n",
            "The grave is probably a disturbed arrangement, which was covered earlier with wood or stones.\tBei dem Grab handelt es sich wahrscheinlich um eine gestörte Anlage, die früher mit Holz oder Steinen abgedeckt war.\t1\n",
            "Persecutions ended following John's death on 23 May 1677, at the age of 74.\tDie Verfolgung endete, als Graf Johann am 23. Mai 1677 im Alter von 74 Jahren starb.\t1\n",
            "In celebration he wrote a book entitled Three Visits to Madagascar (1858).\tDiese Reisen beschrieb er in Three visits to Madagascar (London 1858).\t1\n",
            "Berlinale Talents and Perspektive Deutsches Kino have joined forces to award the inaugural “Kompagnon” fellowship in 2017.\tBerlinale Talents und Perspektive Deutsches Kino vergeben gemeinsam im Jahr 2017 zum ersten Mal den „Kompagnon“-Förderpreis.\t1\n",
            "A proposal was floated during the 1950s to relocate the monument to an alternative site in a city park in order to ease traffic congestion in downtown Lancaster.\tIn den 1950er Jahren wurde der Vorschlag verbreitet, das Denkmal an eine andere Stelle in einem Stadtpark zu versetzen, um damit eine Erleichterung der Verkehrsstauungen im Zentrum von Lancaster zu erreichen.\t1\n",
            "\"Hrvatski kup 2006/07\" (in Croatian).\tArtikel zum LEN Cup 2006/07. (kroatisch)\t1\n"
          ]
        }
      ],
      "source": [
        "#check file\n",
        "!head dev.en-de.classified  #1 = passed the rules, 0 = failed the rules"
      ]
    },
    {
      "cell_type": "code",
      "execution_count": 15,
      "metadata": {
        "id": "kfn6dQqlT9_g"
      },
      "outputs": [],
      "source": [
        "#select only 1\n",
        "!grep '1$' dev.en-de.classified >  dev.en-de.clean #choose only lines endling with 1, i.e. passed the rules (1$ - end of sequence)"
      ]
    },
    {
      "cell_type": "code",
      "source": [
        "!grep '0$' dev.en-de.classified >  dev.en-de.filter"
      ],
      "metadata": {
        "id": "oxZIfEAdgs5S"
      },
      "execution_count": 16,
      "outputs": []
    },
    {
      "cell_type": "code",
      "execution_count": 18,
      "metadata": {
        "colab": {
          "base_uri": "https://localhost:8080/"
        },
        "id": "YXpTRCnuVExn",
        "outputId": "5586fbe9-0c10-4bdf-ba79-9e0b34663238"
      },
      "outputs": [
        {
          "output_type": "stream",
          "name": "stdout",
          "text": [
            "500 dev.en-de.classified\n",
            "466 dev.en-de.clean\n"
          ]
        }
      ],
      "source": [
        "#check files\n",
        "!wc -l dev.en-de.classified\n",
        "!wc -l dev.en-de.clean #counting lines passed the rules"
      ]
    },
    {
      "cell_type": "code",
      "source": [
        "!wc -l dev.en-de.filter #counting lines the failed the rules"
      ],
      "metadata": {
        "colab": {
          "base_uri": "https://localhost:8080/"
        },
        "id": "F4yl9OA677Vt",
        "outputId": "ef07ee1d-45c8-4347-b356-e952f150b709"
      },
      "execution_count": 20,
      "outputs": [
        {
          "output_type": "stream",
          "name": "stdout",
          "text": [
            "34 dev.en-de.filter\n"
          ]
        }
      ]
    },
    {
      "cell_type": "code",
      "execution_count": 21,
      "metadata": {
        "colab": {
          "base_uri": "https://localhost:8080/"
        },
        "id": "Y0691acTeqKA",
        "outputId": "894c2253-88c9-4744-ed7c-fa5bb57b503c"
      },
      "outputs": [
        {
          "output_type": "stream",
          "name": "stdout",
          "text": [
            "Yevonde's most famous work was inspired by a theme party held on 5 March 1935, where guests dressed as Roman and Greek gods and goddesses.\tBesonders bekannt wurden ihre Aufnahmen von einem Fest 1935, zu dem Gäste als griechische Götter und Göttinnen verkleidet kamen.\t1\n",
            "Mora is working on a trilogy about the IT specialist Darius Kopp, of which band I \"The Only Man on the Continent\" and Volume II \"The Monster\" have already appeared.\tTerézia Mora arbeitet an einer Trilogie um den IT-Spezialisten Darius Kopp, von der Band I „Der einzige Mann auf dem Kontinent“ und Band II „Das Ungeheuer“ bereits erschienen sind.\t1\n",
            "The first person to enter this section was Günther J. Wolf with seven members of his ice course.\tEine erste Befahrung dieses Abschnitts gelang Günther J. Wolf mit sieben Teilnehmern seines Eiskurses.\t1\n",
            "They were renumbered in 1970 to 100 903 and 904, and in 1973 to 199 003 and 004.\tSie wurden 1970 in 100 903 und 904, 1973 in 199 003 und 004 umgenummert.\t1\n",
            "The grave is probably a disturbed arrangement, which was covered earlier with wood or stones.\tBei dem Grab handelt es sich wahrscheinlich um eine gestörte Anlage, die früher mit Holz oder Steinen abgedeckt war.\t1\n",
            "Persecutions ended following John's death on 23 May 1677, at the age of 74.\tDie Verfolgung endete, als Graf Johann am 23. Mai 1677 im Alter von 74 Jahren starb.\t1\n",
            "In celebration he wrote a book entitled Three Visits to Madagascar (1858).\tDiese Reisen beschrieb er in Three visits to Madagascar (London 1858).\t1\n",
            "Berlinale Talents and Perspektive Deutsches Kino have joined forces to award the inaugural “Kompagnon” fellowship in 2017.\tBerlinale Talents und Perspektive Deutsches Kino vergeben gemeinsam im Jahr 2017 zum ersten Mal den „Kompagnon“-Förderpreis.\t1\n",
            "A proposal was floated during the 1950s to relocate the monument to an alternative site in a city park in order to ease traffic congestion in downtown Lancaster.\tIn den 1950er Jahren wurde der Vorschlag verbreitet, das Denkmal an eine andere Stelle in einem Stadtpark zu versetzen, um damit eine Erleichterung der Verkehrsstauungen im Zentrum von Lancaster zu erreichen.\t1\n",
            "\"Hrvatski kup 2006/07\" (in Croatian).\tArtikel zum LEN Cup 2006/07. (kroatisch)\t1\n",
            "The melody speaks so to the Cossack guard that he promises the two Hungarians that he'll release them, if only he can receive the violin in exchange for their freedom.\tDiese rührt einen der kosakischen Wächter so sehr an, dass er den beiden Ungarn verspricht, sie in Freiheit zu entlassen, wenn er im Gegenzug dafür die Geige erhalte.\t1\n",
            "It has a fast impetuous flight.\tSie haben einen sehr schnellen Flug.\t1\n",
            "The Economist journalist Tim Judah defined OBC as \"Italy's top website for, as its name suggests, Balkan and Caucasus affairs\".\tJournalist Tim Judah vom Magazin The Economist nannte OBC die „Italienische Top-Website für Balkan und Kaukasus Angelegenheiten“.\t1\n",
            "The group combines reggaeton rhythms with more traditional forms of Cuban music.\tDie Gruppe kombiniert Reggaeton mit traditionellen Elementen der kubanischen Musik.\t1\n",
            "For a discussion, see the talk page.\tZum Geburtsdatum – siehe Diskussionsseite.\t1\n",
            "This letter may Renates life admittedly only so long protected until the Sicherheitsdienst mercilessly intervenes.\tDieses Schreiben schützt Renates Leben freilich nur so lange, bis der Sicherheitsdienst gnadenlos eingreift.\t1\n",
            "From 1889, the island of Labuan was also part of the company administrative territory.\tAb 1889 war auch die Insel Labuan zeitweilig Teil des Verwaltungsgebietes.\t1\n",
            "Two areas of historic buildings adjacent to the district, on Main and North Bridge streets, were not included because they were meant to be razed as well.\tZwei Blöcke mit historischen Gebäuden an Main und North Bridge Street wurden ursprünglich ausgespart, weil sie ebenfalls dem Erdboden gleichgemacht werden sollten.\t1\n",
            "This period also saw several portraits of Sam Salz, including a watercolor by James Ensor, a pastel by Édouard Vuillard, and a photograph of August Sander.\tIn dieser Zeit entstanden verschiedene Porträts von Sam Salz, wie ein Aquarell von James Ensor, ein Pastell von Édouard Vuillard und eine Fotografie von August Sander.\t1\n",
            "Thomas Mann characterized his book Zahl and Gesicht as \"hair-splitting and precious;\" the Swiss playwright Friedrich Dürrenmatt reported that for him a meeting Kassner had \"broken Kassner's spell.\"\tThomas Mann bezeichnete sein Buch Zahl und Gesicht als „spitzfindig und preziös“; Friedrich Dürrenmatt berichtete, eine persönliche Begegnung mit Kassner habe diesen für ihn vollkommen „entzaubert“.\t1\n",
            "In these broadcasts interesting personalities are introduced, Romani and Sinti music is played and they talk about current happenings and projects of Ketani Association.\tIn diesen Sendungen werden interessante Persönlichkeiten vorgestellt, Sinti- und Roma Musik gespielt und über das laufende Geschehen und Projekte des Verein Ketani gesprochen.\t1\n",
            "From there he sent his brother a number of specimens, including the dodo and the Rodrigues solitaire, both already extinct.\tVon dort aus sendete er seinem Bruder verschiedene Exemplare diverser Vögel, unter anderem die bereits ausgestorbenen Dodo (Dronte) und Rodrigues-Solitär.\t1\n",
            "Pierre-Marie Dupuy (born October 5, 1946 in Paris) is a French jurist.\tPierre-Marie Dupuy (* 5. Oktober 1946 in Paris) ist ein französischer Jurist.\t1\n",
            "In 1887, the Castle Yacht Club was established just beside the castle along the spit.\t1887 wurde der Castle Yacht Club gegründet und siedelte sich direkt neben der Burg, entlang des Spits, an.\t1\n",
            "The film was overseen by Mimran Schur Pictures, with the aid of producer Holly Wiersma.\tDer Film wurde von Mimran Schur Pictures betreut, unter der Hilfe der Filmproduzentin Holly Wiersma.\t1\n",
            "Lehman Brothers Collection.\tDie Trilogie LEHMAN BROTHERS.\t1\n",
            "This performance was also included on the 2001 compilation album Morning Glory: The Tim Buckley Anthology.\tDiese Version erschien 2001 nach Buckleys Tod auf dem Album Morning Glory: The Tim Buckley Anthology.\t1\n",
            "The listed building has 830 seats in the Grand House, 120 in the locksmith and 60 in the refreshment room.\tDas unter Denkmalschutz stehende Gebäude verfügt über 830 Plätze im Großen Haus, 120 in der Schlosserei sowie 60 im Erfrischungsraum.\t1\n",
            "In April 2010, the newspaper CozyCot as launched, as a 25-pages free monthly publication with a print run of 200,000.\tIm April 2010 wurde eine Zeitung namens CozyCot als eine 25-seitige kostenlose monatliche Veröffentlichung mit einer Auflage von 200.000 herausgegeben.\t1\n",
            "A branch of the Butler family, the Toler-Aylwards resided at Shankill until 1991 and some still live in the area of Kilkenny.\tEin Zweig der Familie Butler, die Toler-Aylwards, wohnten bis 1991 auf Shankill Castle und einige davon wohnen noch immer im County Kilkenny.\t1\n",
            "This coating method also was used in the restoration and repair of ceramics.\tDieses Beschichtungsverfahren wurde auch bei der Restaurierung und Reparatur von Keramiken verwendet.\t1\n",
            "Anuradha Dullewe Wijeyeratne (third son) entered into active politics in 1988 as a United National Party Member of the Sabaragamuwa Provincial Council in Ratnapura.\tAnuradha Dullewe Wijeyeratne (der dritte Sohn) ging 1988 in die Politik als Mitglied der United National Party und Abgeordneter im Sabaragamuwa Provincial Council in Ratnapura.\t1\n",
            "Within the city limits, US 6 follows Denver's 6th Avenue (known as \"6th Avenue Freeway\").\tInnerhalb der Stadt führt der Highway 6 über die 6th Avenue (auch 6th Avenue Freeway genannt).\t1\n",
            "The painter Thomas Gainsborough lived and worked in Ipswich.\tDie Maler John Constable und Thomas Gainsborough lebten und arbeiteten in Ipswich.\t1\n",
            "The original pressing did not include The Follow; the film was removed from the BMW Films website.\tDie ursprüngliche DVD beinhaltete nicht The Follow, der Film wurde auch von der BMW-Webseite entfernt.\t1\n",
            "Her official online biography notes that she is \"a second generation American of Italian descent\" and that \"Her maternal grandfather, Domenico Mallozzi, was an active anarchist, and associate of Carlo Tresca and Emma Goldman.\"\tIn ihrer offiziellen Online-Biografie gibt sie an, dass ihr Großvater mütterlicherseits, Domenico Mallozzi, ein aktiver Anarchist gewesen sei und mit Carlo Tresca und Emma Goldman zusammengearbeitet habe.\t1\n",
            "When not campaigning abroad, John spent much of his time at Kenilworth and Leicester, and used Kenilworth even more after 1395 when his health began to decline.\tWenn er nicht mit Feldzügen im Ausland beschäftigt war, verbrachte John viel Zeit auf Kenilworth Castle und in Leicester und nutzte Kenilworth Castle in der Zeit nach 1395, als seine Gesundheit zunehmend nachließ, sogar noch mehr.\t1\n",
            "More recent excavations in 1999 and 2001 by ARCUS, Sheffield University's archaeological research and consultancy unit, revealed the castle to have been much larger than had been thought: among the largest medieval castles in England.\tSpäter, in den Jahren 1999 und 2001 entdeckte ARCUS, die Archäologieuntersuchungs- und -beratungseinheit der Universität Sheffield, dass die Burg sehr viel größer war, als sie gedacht hatten: Sie muss eine der größten mittelalterlichen Burgen in England gewesen sein.\t1\n",
            "In all, Anger held 15 patents, many of them for work at the Ernest O. Lawrence Radiation Laboratory.\tInsgesamt hielt Anger 15 Patente, viele von diesen für seine Arbeit am Lawrence Berkeley National Laboratory.\t1\n",
            "At the event, May credited the work of Fawcett not only achieving votes for women but for allowing her and other female MPs to take their positions in Parliament.\tIm Rahmen der Feierlichkeiten würdigte Theresa May die Verdienste Fawcetts nicht nur um das Frauenwahlrecht, sondern auch, dass sie und weitere weibliche Abgeordnete Positionen im Parlament einnehmen konnten.\t1\n",
            "In 1801, the conference sent McKendree to oversee the church's efforts in Southeastern Ohio, Kentucky, Tennessee, and western Virginia and part of Illinois.\t1801 entsandte ihn die Conference, die Projekte der Kirche in Südost-Ohio, Kentucky, Tennessee und dem westlichen Virginia und in Illinois zu besuchen.\t1\n",
            "Nordring station itself was constructed above ground on a viaduct to compensate for the costs of the underground route at the Spittelmarkt and for the Spree tunnel near the Klosterstraße station.\tDer Bahnhof Nordring selbst war oberirdisch auf einem Viadukt gebaut worden, um die Kosten der unterirdischen Strecke beim Spittelmarkt und für den Spreetunnel in der Nähe des Bahnhofs Klosterstraße zu kompensieren.\t1\n",
            "In 1857 William Vincent Wallace organized the Wallace Pianoforte Company based on the promise of Driggs' subsequent patents, but it only appears in city directories for two years.\t1857 organisierte William Vincent Wallace die Wallace Pianoforte Company, basierend auf dem Versprechen der Benutzbarkeit von Driggs Patenten, aber das Unternehmen erschien in den städtischen Adressverzeichnissen nur zwei Jahre lang.\t1\n",
            "This loss of available staff represented about 40 percent of a workforce of 319 people.\tDies entsprach bei einem Personalbestand von 319 Personen rund 40 Prozent.\t1\n",
            "The prince's gratitude to the builder who shaped the appearance of Doberan so much, was thin; Severin died in poverty and oblivion in Bad Doberan, where he is buried at an unknown location.\tDes Fürsten Dank für den Baumeister, der das Gesicht Doberans wesentlich prägte, war sehr gering; Severin starb in Armut und Vergessenheit in Bad Doberan, wo er an unbekannter Stelle beigesetzt ist.\t1\n",
            "Subsequently, its still open ends are linked with each other to obtain two closed rings.\tAnschließend werden dessen noch offene Enden verknüpft und man erhält zwei miteinander verschlossene Ringe.\t1\n",
            "Due to pressure from the Imperial Army during the war, the performance of jazz music was temporarily halted in Japan.\tWährend des Krieges wurde durch den Druck der kaiserlichen Armee das Auftreten der Jazz-Musik vorübergehend angehalten.\t1\n",
            "The west range is now roofless, the internal floor is also gone, and the large windows have been blocked up.\tDer Westflügel ist heute seines Daches beraubt, die Zwischendecken existieren ebenfalls nicht mehr und die großen Fenster wurden zugemauert.\t1\n",
            "He simply had to do what he believed to be right.\tOssebaar sagte, dass er tun sollte, was er für richtig meine.\t1\n",
            "How many images should be in a light field?\tWie viele Gedanken haben auf einer Seite Platz?\t1\n"
          ]
        }
      ],
      "source": [
        "!head -n 50 dev.en-de.clean"
      ]
    },
    {
      "cell_type": "code",
      "source": [
        "!head -n 50 dev.en-de.filter"
      ],
      "metadata": {
        "colab": {
          "base_uri": "https://localhost:8080/"
        },
        "id": "Drg37FJdi9HX",
        "outputId": "11fba368-d215-4822-f859-0b1e8aea529d"
      },
      "execution_count": null,
      "outputs": [
        {
          "output_type": "stream",
          "name": "stdout",
          "text": [
            "He was an editor of the journals: Zeitschrift für Tropenmedizin, the Zentralblatt für Bakteriologie and the Zeitschrift für Parasitenkunde.\tFerner war er Herausgeber der Zeitschrift für Tropenmedizin, dem Zentralblatt für Bakteriologie und der Zeitschrift für Parasitenkunde.\t0\n",
            "\"Das Himmelreich zu Erlangen – offen aus Tradition?\"\tDas Himmelreich zu Erlangen – offen aus Tradition?\t0\n",
            "\"Wörterbuch zur Sprache und Kultur der Twareg\".\tPrasse: Wörterbuch zur Sprache und Kultur der Twareg.\t0\n",
            "Sensors and Actuators B: Chemical.\tIn: Sensors and Actuators B: Chemical.\t0\n",
            "The Daily Courier.\tIn: The Daily Courier.\t0\n",
            "Competitivitat de l´economia catalana en l´horitzó 2010: Effectes macroeconòmics del dèfiit fiscal amb l´Estat espanyol (Competitivity of the Catalan economy in the horizon 2010: Macroeconomic effects of the fiscal deficit with the Spanish State) - 2003 Polítiques públiques: Una visió renovada (Public politics: An updated perspective) - 2004 L´espoli fiscal.\tCompetitivitat de l´economia catalana en l´horitzó 2010: Efectes macroeconòmics del dèfiit fiscal amb l´Estat espanyol (Die Konkurrenzfähigkeit der katalanischen Wirtschaft im Horizon 2010: Macrowirtschaftliche Effecte des spanischen Streuersystems) - 2003 Polítiques públiques: Una visió renovada (Staatliche Politik: Eine neue Lackschicht) - 2004 L´espoli fiscal.\t0\n",
            "Pages 395 & 396.\tS. 395 & 396.\t0\n",
            "La Croisade vue par les Arabes.\tDie Kreuzzüge aus Sicht der Araber.\t0\n",
            "Jus Suffragii.\tIn: Jus Suffragii.\t0\n",
            "Bestseller.\tBestseller.\t0\n",
            "Bluenose: A Canadian Icon.\tIn: Bluenose: A Canadian Icon.\t0\n",
            "Gustaw Herling-Grudziński – \"Inny świat.\tGustaw Herling-Grudziński: Welt ohne Erbarmen.\t0\n",
            "The H - Open.\tIn: The H Open.\t0\n",
            "Vie d'agricola.\tVie d’Agricola.\t0\n",
            "In Pintchman, Tracy; Sherma, Rita D. Woman and Goddess in Hinduism: Reinterpretations and Re-envisionings.\tIn: Tracy Pintchman und Rira D. Sherma: Woman and Goddess in Hinduism: Reinterpretations and Re-envisionings.\t0\n",
            "City Administration Münchberg, Münchberg 1963.\tStadt Münchberg, Münchberg 1963.\t0\n",
            "(\"Nun breite stolze Schwingen aus\" de:Adolf Holst), 5.\t(\"Nun breite stolze Schwingen aus\" Adolf Holst), 5.\t0\n",
            "In 1976 the Preßnitz Dam (vodní nádrž Přisečnice) was completed.\t1976 war der Bau der Trinkwassertalsperre Preßnitz (vodní nádrž Přisečnice) abgeschlossen.\t0\n",
            "Die Neukery mat die Appelboom .\tSchuster, bleib bei deinen Äpfeln.\t0\n",
            "Barcelona, Aymà Edicions, 1958 (volume II in Spanish of Mathematics of History).\tVom Servilismus zur Demokratie), Barcelona, Aymà edicions, 1958 (Band 2 auf Spanisch von Die Mathematik der Geschichte).\t0\n",
            "Mission and Spacecraft Library\tIn: The Mission and Spacecraft Library.\t0\n",
            "Vorbericht über die Ausgrabungen am römischen Tempel (1986–1992).\tVorbericht über die Ausgrabungen am römischen Tempel (1986–1992).\t0\n",
            "\"Singapore Infopedia\"\tIn: Singapore Infopedia.\t0\n",
            "Karasek, Erika/Tietmeyer, Elisabeth (1999): „Das Museum Europäischer Kulturen: Entstehung – Realität – Zukunft, in: Karasek, u.a.\tErika Karasek, Elisabeth Tietmeyer: Das Museum Europäischer Kulturen: Entstehung – Realität – Zukunft.\t0\n",
            "WWE News and Results, RAW and Smackdown Results, Impact News, ROH News.\tIn: WWE News and Results, RAW and Smackdown Results, Impact News, ROH News.\t0\n",
            "International Journal of Group Tensions.\tIn: International Journal of Group Tensions.\t0\n",
            "Archaeologische Mitteilungen aus Iran und Turan vol.\tIn: Archäologische Mitteilungen aus Iran und Turan.\t0\n",
            "Dipholo, Kabelo.\tKabeleins Serienlexikon. kabeleins.de.\t0\n",
            "\"Hawaiis dunkle Seite\".\tHawaiis dunkle Seite.\t0\n",
            "Singapore Statutes Online.\tIn: Singapore Statues Online.\t0\n",
            "\"Women, Fashion & Power\".\tFashion, Sex & Power“).\t0\n",
            "The European Journal of Turkish Studies, Thematic Issue N°1 Gecekondu\tIn: European Journal of Turkish Studies, Thematic Issue N°5, Absatz 10: online.\t0\n",
            "J Chromatogr Sci.\tIn: J Chromatogr Sci.\t0\n",
            "\"Münchner Freiheit\".\tMünchner Freiheit.\t0\n"
          ]
        }
      ]
    },
    {
      "cell_type": "code",
      "execution_count": 22,
      "metadata": {
        "id": "YvsQZcpjWiNH"
      },
      "outputs": [],
      "source": [
        "# split file into columns\n",
        "!cut -f1 dev.en-de.clean > dev.en-de.clean.en #select only lines from the first part of the files\n",
        "!cut -f2 dev.en-de.clean > dev.en-de.clean.de #select only lines from the second part of the files"
      ]
    },
    {
      "cell_type": "code",
      "execution_count": 23,
      "metadata": {
        "colab": {
          "base_uri": "https://localhost:8080/"
        },
        "id": "4_lRHmB6WvK-",
        "outputId": "21320f9d-be66-45e6-ef2f-2613ea0d5f6b"
      },
      "outputs": [
        {
          "output_type": "stream",
          "name": "stdout",
          "text": [
            "466 dev.en-de.clean.en\n",
            "466 dev.en-de.clean.de\n"
          ]
        }
      ],
      "source": [
        "#check files\n",
        "!wc -l dev.en-de.clean.en\n",
        "!wc -l dev.en-de.clean.de"
      ]
    },
    {
      "cell_type": "markdown",
      "metadata": {
        "id": "Xh0_xBj0d1lS"
      },
      "source": [
        "# TODO BICLEAN\n",
        "  - Training data 500k, dev 5k, and test 5k\n",
        "  - clean it with hard rules\n",
        "\n",
        "\n",
        "*paper: https://aclanthology.org/2020.eamt-1.31.pdf\n",
        "\n",
        "\n",
        "Comment from me:\n",
        "I have used the data from Moodle with the following number of lines:\n",
        "train 50K, test 500, dev 500"
      ]
    },
    {
      "cell_type": "markdown",
      "source": [
        "## Test set"
      ],
      "metadata": {
        "id": "eIWY4Xik8-Hs"
      }
    },
    {
      "cell_type": "code",
      "source": [
        "!wc -l test*"
      ],
      "metadata": {
        "colab": {
          "base_uri": "https://localhost:8080/"
        },
        "id": "2R91HZny8ydO",
        "outputId": "fcd2fb85-794c-474e-d841-94baf7cf499e"
      },
      "execution_count": 24,
      "outputs": [
        {
          "output_type": "stream",
          "name": "stdout",
          "text": [
            "   500 test.en-de.de\n",
            "   500 test.en-de.en\n",
            "  1000 total\n"
          ]
        }
      ]
    },
    {
      "cell_type": "code",
      "execution_count": 25,
      "metadata": {
        "id": "016LJK5s9NuD"
      },
      "outputs": [],
      "source": [
        "#bicleanaer requires parallel data into the same file with columns en-de\n",
        "!paste  test.en-de.en test.en-de.de > test.en-de #combine to file line by line splitting by tab"
      ]
    },
    {
      "cell_type": "code",
      "execution_count": 26,
      "metadata": {
        "colab": {
          "base_uri": "https://localhost:8080/"
        },
        "outputId": "aee7278a-d133-425a-b6bc-bb432044e385",
        "id": "1FExFzK19Nui"
      },
      "outputs": [
        {
          "output_type": "stream",
          "name": "stdout",
          "text": [
            "49:1 Scherzo in G minor op.\t49 Nr. 1 Scherzo g-Moll op.\n",
            "The ECF used to publish a newsletter Chess Moves, which was free to members.\tDie ECF gibt die Schachzeitschrift Chess Moves heraus, die für Mitglieder kostenlos ist.\n",
            "News on May 4, 2010.\tNews am 4. Mai 2010.\n",
            "Cape Barren, with the other islands in the Furneaux Group, are a popular destination for sea kayakers who attempt the crossing of Bass Strait from the Australian mainland at Wilsons Promontory, Victoria to the Tasmanian mainland.\tCape Barren ist wie auch die anderen Inseln der Furneaux-Gruppe ein beliebtes Ziel für Seekayak-Fahrer, die die Bass Strait von Wilsons Promontory in Australien nach Tasmanien überqueren.\n",
            "The work is articulated in a single movement, and comprises an ensemble consisting of two violins, a cello, a piano, a flute, and a piccolo, which was recorded in Russia by soloists of the Moscow Philharmonic Orchestra barely two days after its opening.\tDie Komposition ist in einen Satz für ein Ensemble für zwei Violinen, einem Cello, einem Piano, einer Flöte und einer Piccoloflöte gegliedert, das schon zwei Tage nach seinem Erscheinen in Russland von Solisten des Moskauer Philharmonischen Orchesters vertont worden ist.\n",
            "The base is reported to host several MQ-9 Reaper drones, based on satellite imagery.\tDie Basis soll mehrere MQ-9 Reaper Drohnen beherbergen, dies lässt sich auf Satellitenbildern erkennen.\n",
            "Some 80,000 people are hospitalized there every year, and another 600,000 are treated in its outpatient clinics and medical institutes.\tRund 75.000 Menschen werden hier jährlich eingeliefert und weitere 500.000 werden in den ambulanten Kliniken und medizinischen Instituten behandelt.\n",
            "Being situated on the city foothills (1700 metres above sea level), Niavaran has a cooler climate all year round compared to the rest of Tehran, and excellent vantage points.\tAm Fuße des Elburs-Gebirges in einer Höhe von 1700 m gelegen, hat Niāvarān ein kühleres Klima im Vergleich zum übrigen Teheran mit hervorragenden Aussichtsplätzen.\n",
            "He has a weekly Internet radio show 'Chess Talk with John Watson' on Chess.FM, the radio arm of the Internet Chess Club (ICC).\tDarüber hinaus moderiert Watson die wöchentliche Radiosendung im Internet „Chess Talk with John Watson“ auf Chess.FM, dem Radiosender des Internet Chess Club (ICC).\n",
            "She played with Riccardo Del Fra on the album \"A Sip of Your Touch\" (1989), and, with his band, on a live album at the Montreux Jazz Festival 1991.\tSie nahm mit Riccardo Del Fra das Album „A Sip of Your Touch“ (1989) und mit eigener Band ein Live-Album beim Montreux Jazz Festival 1991 auf.\n"
          ]
        }
      ],
      "source": [
        "#check output\n",
        "!head test.en-de  #as a result we have a parallel corpus, where each source sentence (en) ha a corresponding arget sentence (de)"
      ]
    },
    {
      "cell_type": "code",
      "execution_count": 27,
      "metadata": {
        "colab": {
          "base_uri": "https://localhost:8080/"
        },
        "outputId": "8604612e-0f44-404e-a5cb-148620a141d6",
        "id": "cPjRP4V-9Nuj"
      },
      "outputs": [
        {
          "output_type": "stream",
          "name": "stdout",
          "text": [
            "2025-05-20 09:10:43,216 - WARNING - Metadata file not provided.\n",
            "2025-05-20 09:10:43,217 - INFO - LM filtering disabled.\n",
            "2025-05-20 09:10:43,217 - INFO - Porn removal disabled.\n",
            "2025-05-20 09:10:43,232 - INFO - Executing main program...\n",
            "2025-05-20 09:10:43,232 - INFO - Starting process\n",
            "2025-05-20 09:10:43,232 - INFO - Running 1 workers at 10000 rows per block\n",
            "2025-05-20 09:10:43,243 - INFO - Start mapping\n",
            "2025-05-20 09:10:43,248 - INFO - End mapping\n",
            "2025-05-20 09:10:45,865 - INFO - Hard rules applied. Output available in test.en-de.classified\n",
            "2025-05-20 09:10:45,872 - INFO - Finished\n",
            "2025-05-20 09:10:45,872 - INFO - Total: 500 rows\n",
            "2025-05-20 09:10:45,872 - INFO - Elapsed time 2.64 s\n",
            "2025-05-20 09:10:45,872 - INFO - Troughput: 189 rows/s\n",
            "2025-05-20 09:10:45,872 - INFO - Program finished\n"
          ]
        }
      ],
      "source": [
        "#apply bicleaner\n",
        "#source = -s, target = -t\n",
        "#parallel corpus as input\n",
        "#parallel corpus as input\n",
        "!bicleaner-hardrules  \\\n",
        "        -s en -t de  \\\n",
        "        test.en-de  \\\n",
        "        test.en-de.classified\n",
        "        #saved output"
      ]
    },
    {
      "cell_type": "code",
      "execution_count": 28,
      "metadata": {
        "colab": {
          "base_uri": "https://localhost:8080/"
        },
        "outputId": "b25747fb-e0f1-459e-eb13-eb74b4e3be5f",
        "id": "hz8thtsV9Nuk"
      },
      "outputs": [
        {
          "output_type": "stream",
          "name": "stdout",
          "text": [
            "49:1 Scherzo in G minor op.\t49 Nr. 1 Scherzo g-Moll op.\t0\n",
            "The ECF used to publish a newsletter Chess Moves, which was free to members.\tDie ECF gibt die Schachzeitschrift Chess Moves heraus, die für Mitglieder kostenlos ist.\t1\n",
            "News on May 4, 2010.\tNews am 4. Mai 2010.\t0\n",
            "Cape Barren, with the other islands in the Furneaux Group, are a popular destination for sea kayakers who attempt the crossing of Bass Strait from the Australian mainland at Wilsons Promontory, Victoria to the Tasmanian mainland.\tCape Barren ist wie auch die anderen Inseln der Furneaux-Gruppe ein beliebtes Ziel für Seekayak-Fahrer, die die Bass Strait von Wilsons Promontory in Australien nach Tasmanien überqueren.\t1\n",
            "The work is articulated in a single movement, and comprises an ensemble consisting of two violins, a cello, a piano, a flute, and a piccolo, which was recorded in Russia by soloists of the Moscow Philharmonic Orchestra barely two days after its opening.\tDie Komposition ist in einen Satz für ein Ensemble für zwei Violinen, einem Cello, einem Piano, einer Flöte und einer Piccoloflöte gegliedert, das schon zwei Tage nach seinem Erscheinen in Russland von Solisten des Moskauer Philharmonischen Orchesters vertont worden ist.\t1\n",
            "The base is reported to host several MQ-9 Reaper drones, based on satellite imagery.\tDie Basis soll mehrere MQ-9 Reaper Drohnen beherbergen, dies lässt sich auf Satellitenbildern erkennen.\t1\n",
            "Some 80,000 people are hospitalized there every year, and another 600,000 are treated in its outpatient clinics and medical institutes.\tRund 75.000 Menschen werden hier jährlich eingeliefert und weitere 500.000 werden in den ambulanten Kliniken und medizinischen Instituten behandelt.\t1\n",
            "Being situated on the city foothills (1700 metres above sea level), Niavaran has a cooler climate all year round compared to the rest of Tehran, and excellent vantage points.\tAm Fuße des Elburs-Gebirges in einer Höhe von 1700 m gelegen, hat Niāvarān ein kühleres Klima im Vergleich zum übrigen Teheran mit hervorragenden Aussichtsplätzen.\t1\n",
            "He has a weekly Internet radio show 'Chess Talk with John Watson' on Chess.FM, the radio arm of the Internet Chess Club (ICC).\tDarüber hinaus moderiert Watson die wöchentliche Radiosendung im Internet „Chess Talk with John Watson“ auf Chess.FM, dem Radiosender des Internet Chess Club (ICC).\t1\n",
            "She played with Riccardo Del Fra on the album \"A Sip of Your Touch\" (1989), and, with his band, on a live album at the Montreux Jazz Festival 1991.\tSie nahm mit Riccardo Del Fra das Album „A Sip of Your Touch“ (1989) und mit eigener Band ein Live-Album beim Montreux Jazz Festival 1991 auf.\t1\n"
          ]
        }
      ],
      "source": [
        "#check file\n",
        "!head test.en-de.classified  #1 = passed the rules, 0 = failed the rules"
      ]
    },
    {
      "cell_type": "code",
      "execution_count": 29,
      "metadata": {
        "id": "gdDfm4iY9Nul"
      },
      "outputs": [],
      "source": [
        "#select only 1\n",
        "!grep '1$' test.en-de.classified >  test.en-de.clean #choose only lines endling with 1, i.e. passed the rules (1$ - end of sequence)"
      ]
    },
    {
      "cell_type": "code",
      "source": [
        "!grep '0$' test.en-de.classified > test.en-de.filter"
      ],
      "metadata": {
        "id": "KOOxnVLb9Nul"
      },
      "execution_count": 31,
      "outputs": []
    },
    {
      "cell_type": "code",
      "execution_count": 32,
      "metadata": {
        "colab": {
          "base_uri": "https://localhost:8080/"
        },
        "outputId": "c3a7f64c-d3af-4f13-89a8-bf4ef07d6a82",
        "id": "EtbkuOuR9Num"
      },
      "outputs": [
        {
          "output_type": "stream",
          "name": "stdout",
          "text": [
            "500 test.en-de.classified\n",
            "467 test.en-de.clean\n"
          ]
        }
      ],
      "source": [
        "#check files\n",
        "!wc -l test.en-de.classified\n",
        "!wc -l test.en-de.clean #counting lines passed the rules"
      ]
    },
    {
      "cell_type": "code",
      "source": [
        "!wc -l test.en-de.filter #counting lines the failed the rules"
      ],
      "metadata": {
        "colab": {
          "base_uri": "https://localhost:8080/"
        },
        "outputId": "6299ac9c-eba2-4a1f-838a-cb7fdc9c3470",
        "id": "qcmfwn1D9Num"
      },
      "execution_count": 33,
      "outputs": [
        {
          "output_type": "stream",
          "name": "stdout",
          "text": [
            "33 test.en-de.filter\n"
          ]
        }
      ]
    },
    {
      "cell_type": "code",
      "execution_count": 34,
      "metadata": {
        "colab": {
          "base_uri": "https://localhost:8080/"
        },
        "outputId": "bcc1ad92-b68d-4821-910a-860f4f8bc996",
        "id": "LthNR_N99Nuq"
      },
      "outputs": [
        {
          "output_type": "stream",
          "name": "stdout",
          "text": [
            "The ECF used to publish a newsletter Chess Moves, which was free to members.\tDie ECF gibt die Schachzeitschrift Chess Moves heraus, die für Mitglieder kostenlos ist.\t1\n",
            "Cape Barren, with the other islands in the Furneaux Group, are a popular destination for sea kayakers who attempt the crossing of Bass Strait from the Australian mainland at Wilsons Promontory, Victoria to the Tasmanian mainland.\tCape Barren ist wie auch die anderen Inseln der Furneaux-Gruppe ein beliebtes Ziel für Seekayak-Fahrer, die die Bass Strait von Wilsons Promontory in Australien nach Tasmanien überqueren.\t1\n",
            "The work is articulated in a single movement, and comprises an ensemble consisting of two violins, a cello, a piano, a flute, and a piccolo, which was recorded in Russia by soloists of the Moscow Philharmonic Orchestra barely two days after its opening.\tDie Komposition ist in einen Satz für ein Ensemble für zwei Violinen, einem Cello, einem Piano, einer Flöte und einer Piccoloflöte gegliedert, das schon zwei Tage nach seinem Erscheinen in Russland von Solisten des Moskauer Philharmonischen Orchesters vertont worden ist.\t1\n",
            "The base is reported to host several MQ-9 Reaper drones, based on satellite imagery.\tDie Basis soll mehrere MQ-9 Reaper Drohnen beherbergen, dies lässt sich auf Satellitenbildern erkennen.\t1\n",
            "Some 80,000 people are hospitalized there every year, and another 600,000 are treated in its outpatient clinics and medical institutes.\tRund 75.000 Menschen werden hier jährlich eingeliefert und weitere 500.000 werden in den ambulanten Kliniken und medizinischen Instituten behandelt.\t1\n",
            "Being situated on the city foothills (1700 metres above sea level), Niavaran has a cooler climate all year round compared to the rest of Tehran, and excellent vantage points.\tAm Fuße des Elburs-Gebirges in einer Höhe von 1700 m gelegen, hat Niāvarān ein kühleres Klima im Vergleich zum übrigen Teheran mit hervorragenden Aussichtsplätzen.\t1\n",
            "He has a weekly Internet radio show 'Chess Talk with John Watson' on Chess.FM, the radio arm of the Internet Chess Club (ICC).\tDarüber hinaus moderiert Watson die wöchentliche Radiosendung im Internet „Chess Talk with John Watson“ auf Chess.FM, dem Radiosender des Internet Chess Club (ICC).\t1\n",
            "She played with Riccardo Del Fra on the album \"A Sip of Your Touch\" (1989), and, with his band, on a live album at the Montreux Jazz Festival 1991.\tSie nahm mit Riccardo Del Fra das Album „A Sip of Your Touch“ (1989) und mit eigener Band ein Live-Album beim Montreux Jazz Festival 1991 auf.\t1\n",
            "In 1881, the BME received a concession to build the line, but it was completed on 1 September 1882 shortly after the takeover of the BME by the PSE.\t1881 erhielt die BME die Konzession, fertiggestellt wurde die Strecke aber erst am 1. September 1882 kurz nach der vollständigen Übernahme der BME durch die PSE.\t1\n",
            "At daybreak on 8 August, six Japanese infiltrators hiding under the porch of the former British colonial headquarters shot and killed three Marines.\tBei Tagesanbruch des 8. August erschossen sechs japanische Soldaten, die sich bei den Angriffen der vergangenen Nacht im ehemaligen britischen Kolonialhauptquartier der Insel versteckt hatten, drei Marines.\t1\n",
            "Appropriate to the late broadcasting hours, the show typically included rather quiet pieces by John Fahey or Ry Cooder, but also Kevin Coyne or Neil Young.\tDas waren in den ersten Jahren, der späten Stunde angemessen, eher ruhige Stücke etwa von John Fahey oder Ry Cooder, aber auch Kevin Coyne oder Neil Young.\t1\n",
            "It is therefore no wonder that most of them went to bigger cities like San Antonio or Houston after the Civil War and the phenomenon of \"Latin Settlements\" gradually disappeared.\tDaher zogen die meisten nach dem Bürgerkrieg in größere Städte wie San Antonio oder Houston weiter und die „Latin Settlements“ verfielen langsam.\t1\n",
            "For some old folks it was called Persiaran Keliling.\tEs geschah, was einige die Wende der Wende nannten.\t1\n",
            "He originally concentrated on small wood carvings and his early commissions were mostly for Roman Catholic churches.\tKelly konzentrierte sich ursprünglich auf kleine Holzschnitzereien, und seine ersten Aufträge waren überwiegend für katholische Kirchen.\t1\n",
            "Emperor Constantine the Great (around 288-337) had to build a large church there and the work of excavation of its remains began in 1933.\tKaiser Konstantin der Große (um 288 – 337) hatte den Bau einer großen Kirche angeordnet, die Ausgrabungsarbeiten begannen 1933.\t1\n",
            "By 2005, however, the Society had become more and more inactive and ultimately dissolved.\tBis zum Jahr 2005 wurde die Gesellschaft jedoch zunehmend inaktiv und löste sich schließlich auf.\t1\n",
            "The prize was given to Children In Conflict with the Law (CICL).\t1995 wurde das Projekt Children in Conflict with the Law (CICL) gegründet.\t1\n",
            "ABC Family has approved a series pilot from Jennifer Lopez's production company, Nuyorican, about a lesbian couple and their diverse family\".\tABC Family hat einen Serienpiloten von Jennifer Lopez’ Produktionsstudio Nuyorican bestellt, über ein lesbisches Paar und ihre zusammengewürfelte Familie.\t1\n",
            "\"Mr. Sandman\" \"Hello, Dolly!\"\tHello, Dolly! steht für: Hello, Dolly!\t1\n",
            "Oma Skat is played like a normal Skat game, except that the third player is a hidden stack of cards (the \"Oma\" or \"grandmother\") from which, in each round, the top card is revealed.\tGespielt wird wie beim normalen Skatspiel, wobei jedoch der dritte Mitspieler ein verdeckter Kartenstapel (die „Oma“) ist, von dem jeweils in jeder Runde die oberste Karte aufgedeckt wird.\t1\n",
            "The British plenipotentiaries William Huskisson and Stratford Canning on 29 June pressed instead for a permanent line along the 49° parallel west until the main branch of the Columbia River.\tDie britischen Bevollmächtigten William Huskisson und Stratford Canning preschten stattdessen am 29. Juni mit einer dauerhaften Grenze entlang des 49. Breitengrades bis zum Hauptstrom des Columbia River vor.\t1\n",
            "Ngata remained extremely diligent in his work, and was noted for his tirelessness.\tNgata blieb weiter sehr umtriebig und war für seine Unermüdlichkeit bekannt.\t1\n",
            "To the east and south lies the Umbalkees, which climbs to a height of 3,400 metres; to the west is the Lahner Kees which extends far into the summit region.\tIm Osten und Süden liegt das bis auf eine Höhe von 3400 Meter reichende Umbalkees, im Westen schließlich das bis in die Gipfelregion hinaufragende Lahner Kees.\t1\n",
            "The Cape Henry Memorial is within Joint Expeditionary Base East, but is an isolated unit of Colonial National Historical Park.\tDas Cape Henry Memorial liegt auf dem Gelände des Armee-Stützpunktes Fort Story, ist aber selbst eine Außenstelle des Colonial National Historical Park.\t1\n",
            "He was the first non-American to do so.\tEr war der erste Nicht-Amerikaner, dem dies gelang.\t1\n",
            "According to media reports, Hofmaier was the German champion in apparatus gymnastics.\tMedienberichten zufolge war Hofmaier Deutscher Meister im Geräteturnen.\t1\n",
            "Reports of a rich land led the Portuguese to decide the area was important enough to include in a comprehensive map of the New World.\tBerichte über reiche Länder führten dazu, dass die Portugiesen die Gegend für bedeutend genug hielten, sie in eine umfassende Karte der Neuen Welt mit aufzunehmen.\t1\n",
            "Borča was mentioned for the first time in 1375 under name Barcsa (or Bercse).\tBorča wurde im Jahre 1375 unter dem Namen Barcsa (oder Bercse) erstmals erwähnt.\t1\n",
            "The bastion and the weapon towers show that, in the late Middle Ages, considerable modifications to the castle were carried out and the lords of the castle took account of the introduction of firearms and cannon.\tDie Bastion und die Geschütztürme zeigen, dass im ausgehenden Mittelalter wesentliche Umbauten an der Burg erfolgten und die Burgherren damit der Einführung von Feuerwaffen Rechnung trugen.\t1\n",
            "Advertising in the Sunday Sport was once the responsibility of Sullivan's protegee Karren Brady (now the life peer Baroness Brady), who later became managing director of Birmingham City Football Club and vice chairman of West Ham United.\tDie Werbung in der Publikation wurde von Sullivans Protegé Karren Brady verwaltet, die später Leitende Direktorin des Birmingham City Football Club und Vizevorsitzende des West Ham United F.C. wurde.\t1\n",
            "In 1873, the Butter and Cheese Exchange opened on the street, not far from where dairy products arrived daily at the freight railroad terminals.\t1873 ließ sich die Butter and Cheese Exchange an der Straße nieder, nicht weit entfernt von der Stelle, wo täglich die Milchprodukte an den Güterbahnhöfen ankamen.\t1\n",
            "He played five games for Bermuda at the 1990 ICC Trophy, during which he took 11 wickets at an average of 16.81.\tEr nahm während der ICC Trophy 1990 für Bermuda an fünf Spielen teil, in denen er elf Wickets mit einem Durchschnitt von 16,81 erzielte.\t1\n",
            "Israel agreed in principle to allow the return of all of Palestinian refugees because the Israelis wanted United Nations membership, which required the settlement of the refugee problem.\tIsrael stimmte prinzipiell der Rückkehr aller palästinensischen Flüchtlinge zu, weil die Israelis die Mitgliedschaft in den United Nations anstrebten, wozu die Lösung des Flüchtlingsproblems erforderlich war.\t1\n",
            "Another vendor, Klickads, Inc D/B/A Brokers NYC, owned by Lala Wang sued in 2007 to be included in the list of firms permitted to participate in the Gateway.\tEin anderer Anbieter, Klickads Inc. D/B/A Brokers NYC, im Besitz von Lala Wang, klagte 2007 um auch in die Liste der zum Zugang auf die Liste autorisierten Firmen aufgenommen zu werden.\t1\n",
            "Each coloured division was assigned an admiral, who in turn had command over a vice admiral and a rear admiral.\tJedes farbige Geschwader hatte einen Admiral, der das Kommando über einen Vice Admiral und einen Rear Admiral hatte.\t1\n",
            "Dibnah met his second wife Susan Lorenz—a 28-year-old administrator—at a steam rally in Cheshire.\tDibnah lernte seine zweite Frau Susan (Sue) Lorenz, eine 28-jährige Sekretärin, auf einer Dampfmaschinen-Rallye in Cheshire kennen.\t1\n",
            "The image of the Boognish is the band's logo.\tDer Buffalo Man ist das Logo der Band.\t1\n",
            "It included self-produced tracks as well as collaborations from Eißfeldt 65, Glammerlicious, Milan and DJ Dynamite and featuring Eißfeldt 65 (also known as Hans Werner Votz), DJ Mad an den Cuts, Illo, Paolo 77, D-Flame and Das Bo.\tDieses beinhaltet Produktionen von Dennis Lisk selbst, Eißfeldt 65, Glammerlicious, Milan und DJ Dynamite und Features von Eißfeldt 65 (auch als Hans Werner Votz), DJ Mad an den Cuts, Illo, Paolo 77, D-Flame und Das Bo.\t1\n",
            "Many prisoners who rotted in his dungeon were cared for and encouraged by the young, kindhearted Kätterli.\tViele Gefangene, die im Burgverlies schmorten, wurden vom heranwachsenden, herzensguten Kätterli gepflegt und aufgemuntert.\t1\n",
            "In a survey conducted by the Lippische Landeszeitung at the end of 2009, Princess Pauline was elected as the most significant figure in the history of Lippe, with 28 percent of the votes cast.\tIn einer Umfrage der Lippischen Landeszeitung Ende 2009 wurde Pauline Fürstin zur Lippe als bedeutendste Persönlichkeit in Lippe mit 28 Prozent der eingesandten Stimmen gewählt.\t1\n",
            "In this business, he had to help after school.\tIn diesem Geschäft musste er nach der Schule aushelfen.\t1\n",
            "Furthermore, Blienert was a member of the German-Polish, the German-Dutch and the German-Korean parliamentary groups.\tFerner war Blienert Mitglied in der deutsch-polnischen, der deutsch-niederländischen und der deutsch-koreanischen Parlamentariergruppe.\t1\n",
            "By estimating the scopes of massacres, and determining the rate of kidnappings, rapes, and killings, psychosocial programmes can be implemented to lower the suicide rate and increase the sense of security in a population.\tIndem man das Ausmaß potentieller Massaker abschätzt und die Rate der Entführungen, Vergewaltigungen und Tötungen ermittelt, hat man eine empirische Basis für psychosoziale Programme zur Senkung der Selbstmordrate und zur Stärkung des Sicherheitsgefühls in der Bevölkerung.\t1\n",
            "The facilities developed for the generation of water power have been placed under protection since 1978 as cultural monuments.\tDie zur Erzeugung von Wasserkraft entstandenen Anlagen stehen seit 1978 als Kulturdenkmal unter Denkmalschutz.\t1\n",
            "The same passage was the basis for the 1630 hymn \"Nun danket all Gott\" by Martin Rinckart, and several compositions of the 17th century.\tDerselbe Abschnitt lag auch dem Lied Nun danket alle Gott zugrunde, das Martin Rinckart 1630 verfasst hatte, sowie zahlreichen weiteren Werken des 17. Jahrhunderts.\t1\n",
            "The role of Lumley Castle in University College's history is still commemorated by students in the biannual 'Lumley Run'.\tDer Rolle von Lumley Castle in der Geschichte des University College wird von den Studenten auch heute noch mit dem alle zwei Jahre veranstalteten „Lumley Run“ gedacht.\t1\n",
            "Prostitution in Austria is legal and regulated.\tDie Prostitution in Österreich ist legal und gesetzlich geregelt.\t1\n",
            "In the Catskills, it has long been informal DEC policy to treat all Wild Forest lands above 3,100 feet (944.9 m) in elevation as de facto wilderness.\tNach der Politik der DEC werden alle Gipfel über 3.100 feet (944 m) Höhe als de facto Wilderness behandelt.\t1\n",
            "He worked, for some twenty years, as the vizir of Yusuf Ibn Tashfin.\tSpäter war er für etwa zwanzig Jahre Wesir des Yusuf ibn Taschfin.\t1\n",
            "This system was designed to give all South Africans equal rights.\tDarin wurden unter anderem gleiche Rechte für alle Bevölkerungsgruppen Südafrikas gefordert.\t1\n"
          ]
        }
      ],
      "source": [
        "!head -n 50 test.en-de.clean"
      ]
    },
    {
      "cell_type": "code",
      "source": [
        "!head -n 50 test.en-de.filter #print the first 50 lines from the file"
      ],
      "metadata": {
        "colab": {
          "base_uri": "https://localhost:8080/"
        },
        "outputId": "befde73b-85d8-4c52-b9d6-1a73df3490e1",
        "id": "px7Rf_ou9Nur"
      },
      "execution_count": 35,
      "outputs": [
        {
          "output_type": "stream",
          "name": "stdout",
          "text": [
            "49:1 Scherzo in G minor op.\t49 Nr. 1 Scherzo g-Moll op.\t0\n",
            "News on May 4, 2010.\tNews am 4. Mai 2010.\t0\n",
            "Financial Markets and Portfolio Management.\tIn: Financial Markets and Portfolio Management.\t0\n",
            "Die Übersetzung der englischen Kurzfassung besorgte Jost Benedum, Institut für Geschichte der Medizin der Justus-Liebig-Universität Gießen.\tDie Übersetzung der englischen Kurzfassung besorgte Jost Benedum, Institut für Geschichte der Medizin der Justus-Liebig-Universität Gießen.\t0\n",
            "(Vienna: Triton, 2001).\t(Wien: Triton, 2001).\t0\n",
            "Amtsgericht Dresden, Aktenzeichen: VR 7750.\tVereinsregister des Amtsgerichts Dresden, Blatt VR 7750.\t0\n",
            "Why sue?\tWarum Lio?\t0\n",
            "Sudamericana (October 2005).\tSudamericana (Oktober 2005).\t0\n",
            "11 (Gassenhauer-Trio), Johannes Brahms his Klarinettentrio op.\t11 (Gassenhauer-Trio) schrieb, Johannes Brahms sein Klarinettentrio op.\t0\n",
            "\"Handbuch der historischen Buchbestände in Deutschland, Österreich und Europa (Fabian-Handbuch): Dombibliothek\".\tHandbuch der historischen Buchbestände in Deutschland, Österreich und Europa (Fabian-Handbuch): Universitaetsbibliothek (Bonn).\t0\n",
            "The song is a rising chick-pea-pea-pea.\tDer Ruf klingt wie ein ansteigendes „chick-pea-pea-pea“.\t0\n",
            "Oil & Gas 360.\tIn: Oil & Gas 360.\t0\n",
            "Vom Kalten Krieg zur Deutschen Einheit.\tVom Kalten Krieg zur deutschen Einheit.\t0\n",
            "Schellack, S. 168–180 Simon, S. 26 mit weiterführender Literatur, sowie Schellack, S. 274.\tSchellack, S. 133.136 f. Schellack, S. 168–180 Simon, S. 26 mit weiterführender Literatur, sowie Schellack, S. 274.\t0\n",
            "Toshiba Science Museum.\tIn: Toshiba Science Museum.\t0\n",
            "Hofstra University, New York.\tIn: Hofstra University, New York.\t0\n",
            "Helmert/Usczek: Europäische Befreiungskriege 1808 bis 1814/15, Berlin 1986 Riehn 1991, pp. 159.\tHelmert/Usczeck: Europäische Befreiungskriege 1808 bis 1814/15. Militärverlag der DDR, Berlin 1986, S. 185.\t0\n",
            "Delta Delta Delta was founded by Sarah Ida Shaw, Eleanor Dorcas Pond, Florence Isabelle Stewart, and Isabel Morgan Breed at Boston University.\tGründerinnen der ΔΔΔ sind Sarah Ida Shaw, Eleanor Dorcas Pond, Florence Isabelle Stewart und Isabel Morgan Breed.\t0\n",
            "Journal of UFO Studies, n.s.\tIn: Journal of UFO Studies. n.s.\t0\n",
            "Alexander Fol: \"Die thrakische Orphik oder Zwei Wege zur Unsterblichkeit\", in Die Thraker.\tAlexander Fol: Die thrakische Orphik oder zwei Wege zur Unsterblichkeit, In: Die Thraker.\t0\n",
            "\"EXTENDING FIRE PROTECTION\".\tÜberholung von Brandschutzmaßnahmen.)\t0\n",
            "Least expensive?\tZu teuer?\t0\n",
            "U.N. gateway page: \"International Year of Languages\" ICVWiki page on \"World Network for Linguistic Diversity\" (Maaya) which includes a calendar of events for IYL Support for International Year of Languages 2008 Jostes, Brigitte (2012): Anno 2008: Internationales Sprachenjahr und internationale Fragen der sprachlichen Bildung.\tUnesco Deutschland Internationales Jahr der Sprachen 2008 ICVWiki page on \"World Network for Linguistic Diversity\" (Maaya) which includes a calendar of events for IYL Support for International Year of Languages 2008 Jostes, Brigitte (2012): Anno 2008: Internationales Sprachenjahr und internationale Fragen der sprachlichen Bildung.\t0\n",
            "Fresno Bee, February 16, 1998.\tFresno Bee, Februar 16, 1998.\t0\n",
            "Die Prostitution des Mannes.\tDie Prostitution des Mannes.\t0\n",
            "I Sekt., Diss.\tI Sekt., Diss.\t0\n",
            "Griechischer Geist aus Basler Pressen\tGriechischer Geist aus Basler Pressen.\t0\n",
            "DESIDOC Journal of Library & Information Technology.\tIn: DESIDOC Journal of Library & Information Technology.\t0\n",
            "Lonely Island Publishing, München 2011, ISBN 3000353380.\tLonely Island Publishing, München 2011, ISBN 3000353380.\t0\n",
            "Die Aufklärung im Rahmen des neuzeitlichen Rationalismus.\tDie Aufklärung im Rahmen des neuzeitlichen Rationalismus.\t0\n",
            "Scientia Agriculturae Bohemica.\tIn: Scientia Agriculturae Bohemica.\t0\n",
            "Following this pattern, several hypothetical bodies were given names: Vulcan for a planet within the orbit of Mercury; Phaeton for a planet between Mars and Jupiter that was believed to be the precursor of the asteroids; Themis for a moon of Saturn; and Persephone, and several other names, for a trans-Plutonian planet.)\tGemäß diesem Muster wurden mehreren hypothetischen Himmelskörpern Namen gegeben: Vulkan für einen Planeten innerhalb der Merkurbahn; Phaeton für einen Planeten zwischen Mars und Jupiter, von dem angenommen wurde, er sei der Vorgänger der Asteroiden; Themis für einen Saturnmond; und Persephone sowie mehrere andere Namen für einen transplutonischen Planeten.\t0\n",
            "Acta Hydrochimica et Hydrobiologica.\tIn: Acta Hydrochimica et Hydrobiologica.\t0\n"
          ]
        }
      ]
    },
    {
      "cell_type": "code",
      "execution_count": 36,
      "metadata": {
        "id": "HwnRkQV59Nus"
      },
      "outputs": [],
      "source": [
        "# split file into columns\n",
        "!cut -f1 test.en-de.clean > test.en-de.clean.en #select only lines from the first part of the files\n",
        "!cut -f2 test.en-de.clean > test.en-de.clean.de #select only lines from the second part of the files"
      ]
    },
    {
      "cell_type": "code",
      "execution_count": 37,
      "metadata": {
        "colab": {
          "base_uri": "https://localhost:8080/"
        },
        "outputId": "fc9fe177-5d80-4a72-9a4b-c36f46935268",
        "id": "TzxrlCP79Nus"
      },
      "outputs": [
        {
          "output_type": "stream",
          "name": "stdout",
          "text": [
            "467 test.en-de.clean.en\n",
            "467 test.en-de.clean.de\n"
          ]
        }
      ],
      "source": [
        "#check files\n",
        "!wc -l test.en-de.clean.en\n",
        "!wc -l test.en-de.clean.de"
      ]
    },
    {
      "cell_type": "markdown",
      "source": [
        "## Training set"
      ],
      "metadata": {
        "id": "FledBKiU-HLS"
      }
    },
    {
      "cell_type": "code",
      "source": [
        "!wc -l train*"
      ],
      "metadata": {
        "outputId": "4fae7da6-617e-4597-92c9-6705b6150e46",
        "colab": {
          "base_uri": "https://localhost:8080/"
        },
        "id": "4lxeROJ4-NTG"
      },
      "execution_count": 38,
      "outputs": [
        {
          "output_type": "stream",
          "name": "stdout",
          "text": [
            "   50000 train.en-de.de\n",
            "   50000 train.en-de.en\n",
            "  100000 total\n"
          ]
        }
      ]
    },
    {
      "cell_type": "code",
      "execution_count": 39,
      "metadata": {
        "id": "bT5kIMXN-NTH"
      },
      "outputs": [],
      "source": [
        "#bicleanaer requires parallel data into the same file with columns en-de\n",
        "!paste  train.en-de.en train.en-de.de > train.en-de #combine to file line by line splitting by tab"
      ]
    },
    {
      "cell_type": "code",
      "execution_count": 40,
      "metadata": {
        "colab": {
          "base_uri": "https://localhost:8080/"
        },
        "outputId": "a3026426-7cbe-494b-c768-8843eb9222b3",
        "id": "7NkBuoQQ-NTI"
      },
      "outputs": [
        {
          "output_type": "stream",
          "name": "stdout",
          "text": [
            "A recent analysis by Apaldetti et al. (2011) suggests that Gongxianosaurus was more basal than Vulcanodon, Tazoudasaurus and Isanosaurus, but more derived than the early sauropods Antetonitrus, Lessemsaurus, Blikanasaurus, Camelotia and Melanorosaurus.\tEine neuere Analyse von Cecilia Apaldetti und Kollegen (2011) lässt darauf schließen, dass Gongxianosaurus basaler (ursprünglicher) war als Vulcanodon, Tazoudasaurus und Isanosaurus, aber stärker abgeleitet (fortgeschrittener) als die frühen Sauropoden Antetonitrus, Lessemsaurus, Blikanasaurus, Camelotia und Melanorosaurus.\n",
            "Reichhart also carried out executions in Cologne, Frankfurt-Preungesheim, Berlin-Plötzensee, Brandenburg-Görden and Breslau, where central execution sites had also been constructed.\tReichhart vollzog vertretungsweise auch Hinrichtungen in Köln, Frankfurt-Preungesheim, Berlin-Plötzensee, Brandenburg-Görden und Breslau, wo ebenfalls zentrale Hinrichtungsstätten eingerichtet worden waren.\n",
            "Uphold the right of all, without discrimination, to a natural and social environment supportive of human dignity, bodily health and spiritual well-being, with special attention to the rights of indigenous peoples and minorities.\tAm Recht aller – ohne Ausnahme – auf eine natürliche und soziale Umwelt festhalten, welche Menschenwürde, körperliche Gesundheit und spirituelles Wohlergehen unterstützt.\n",
            "Schinkel was not mentioned, however, in a document published in 1828 on the \"Construction Designs of the Prussian State\", in which town planner, August Adolph Günther, cites the lighthouse as a \"design by the Royal Main Construction Agency.\"\tSchinkel wurde jedoch in einem 1828 erschienenen Druckwerk über die „Bauausführungen des Preußischen Staates“ nicht erwähnt, in welchem der Oberbaurat August Adolph Günther den Leuchtturm einen „Entwurf der Königl.\n",
            "In the same zoo, of which Lord Black was one of the directors, the monkey Bimbo had escaped once and was only caught after a lengthy hunt.\tIm selben Zoo, dessen Ko-Direktor Lord Black war, war Bimbo ausgebrochen und erst nach einer vielbeachteten Jagd wieder eingefangen worden.\n",
            "Raphael asks another angel to bring Saint Peter to them, so that Peter can judge Barontius.\tRaphael bittet einen anderen Engel, Petrus zu holen, damit dieser sein Urteil über Barontus fällen kann.\n",
            "Grüningen completed the conquest of Kurland and built a number of castles, including Goldingen (Kuldīga) and Amboten (Embūte).\tGrüningen vollendete die Eroberung von Kurland und baute eine Anzahl von Burgen, so in Goldingen (Kuldīga) und Amboten (Embūte).\n",
            "Next to Normal was first produced Off-Broadway at the Second Stage Theatre from January 16 through March 16, 2008, directed by Greif, with Anthony Rapp as assistant director and musical staging by Sergio Trujillo.\tNext to Normal wurde am Off-Broadway unter seinem heutigen Namen im Second Stage Theatre gespielt (vom 16. Januar bis zum 16. März 2008; Regie: Michael Greif, mit Anthony Rapp als Regieassistent und unter der musikalischen Leitung von Sergio Trujillo).\n",
            "The 38 movements of this pattern refer to his birthplace on the 38th degree latitude.\tDie 38 Bewegungen dieses Formlaufs sollen an seinen Geburtsort Gangneung in der Nähe des 38. Breitengrad erinnern.\n",
            "The starting point was the question of whether every finite complex reflection group is a Weyl group of an object analogous to a finite group of the Lie type.\tAusgangspunkt war die Frage, ob jede endliche komplexe Spiegelungsgruppe eine Weylgruppe eines Objekts analog zu einer endlichen Gruppe vom Lietyp ist.\n"
          ]
        }
      ],
      "source": [
        "#check output\n",
        "!head train.en-de  #as a result we have a parallel corpus, where each source sentence (en) ha a corresponding arget sentence (de)"
      ]
    },
    {
      "cell_type": "code",
      "execution_count": 43,
      "metadata": {
        "colab": {
          "base_uri": "https://localhost:8080/"
        },
        "outputId": "5365c443-8bdc-472b-fb98-9d91a42ffd17",
        "id": "pD-7skYd-NTK"
      },
      "outputs": [
        {
          "output_type": "stream",
          "name": "stdout",
          "text": [
            "2025-05-20 09:18:38,237 - WARNING - Metadata file not provided.\n",
            "2025-05-20 09:18:38,237 - INFO - LM filtering disabled.\n",
            "2025-05-20 09:18:38,237 - INFO - Porn removal disabled.\n",
            "2025-05-20 09:18:38,258 - INFO - Executing main program...\n",
            "2025-05-20 09:18:38,259 - INFO - Starting process\n",
            "2025-05-20 09:18:38,259 - INFO - Running 1 workers at 10000 rows per block\n",
            "2025-05-20 09:18:38,274 - INFO - Start mapping\n",
            "2025-05-20 09:18:38,452 - INFO - End mapping\n",
            "2025-05-20 09:19:57,926 - INFO - Hard rules applied. Output available in train.en-de.classified\n",
            "2025-05-20 09:19:57,930 - INFO - Finished\n",
            "2025-05-20 09:19:57,930 - INFO - Total: 50000 rows\n",
            "2025-05-20 09:19:57,930 - INFO - Elapsed time 79.67 s\n",
            "2025-05-20 09:19:57,930 - INFO - Troughput: 627 rows/s\n",
            "2025-05-20 09:19:57,931 - INFO - Program finished\n"
          ]
        }
      ],
      "source": [
        "#apply bicleaner\n",
        "#source = -s, target = -t\n",
        "#parallel corpus as input\n",
        "#parallel corpus as input\n",
        "!bicleaner-hardrules  \\\n",
        "        -s en -t de  \\\n",
        "        train.en-de  \\\n",
        "        train.en-de.classified\n",
        "        #saved output"
      ]
    },
    {
      "cell_type": "code",
      "execution_count": 44,
      "metadata": {
        "colab": {
          "base_uri": "https://localhost:8080/"
        },
        "outputId": "b564f202-7854-4e8a-b376-624c18114100",
        "id": "bSBnF9Wo-NTL"
      },
      "outputs": [
        {
          "output_type": "stream",
          "name": "stdout",
          "text": [
            "A recent analysis by Apaldetti et al. (2011) suggests that Gongxianosaurus was more basal than Vulcanodon, Tazoudasaurus and Isanosaurus, but more derived than the early sauropods Antetonitrus, Lessemsaurus, Blikanasaurus, Camelotia and Melanorosaurus.\tEine neuere Analyse von Cecilia Apaldetti und Kollegen (2011) lässt darauf schließen, dass Gongxianosaurus basaler (ursprünglicher) war als Vulcanodon, Tazoudasaurus und Isanosaurus, aber stärker abgeleitet (fortgeschrittener) als die frühen Sauropoden Antetonitrus, Lessemsaurus, Blikanasaurus, Camelotia und Melanorosaurus.\t1\n",
            "Reichhart also carried out executions in Cologne, Frankfurt-Preungesheim, Berlin-Plötzensee, Brandenburg-Görden and Breslau, where central execution sites had also been constructed.\tReichhart vollzog vertretungsweise auch Hinrichtungen in Köln, Frankfurt-Preungesheim, Berlin-Plötzensee, Brandenburg-Görden und Breslau, wo ebenfalls zentrale Hinrichtungsstätten eingerichtet worden waren.\t1\n",
            "Uphold the right of all, without discrimination, to a natural and social environment supportive of human dignity, bodily health and spiritual well-being, with special attention to the rights of indigenous peoples and minorities.\tAm Recht aller – ohne Ausnahme – auf eine natürliche und soziale Umwelt festhalten, welche Menschenwürde, körperliche Gesundheit und spirituelles Wohlergehen unterstützt.\t1\n",
            "Schinkel was not mentioned, however, in a document published in 1828 on the \"Construction Designs of the Prussian State\", in which town planner, August Adolph Günther, cites the lighthouse as a \"design by the Royal Main Construction Agency.\"\tSchinkel wurde jedoch in einem 1828 erschienenen Druckwerk über die „Bauausführungen des Preußischen Staates“ nicht erwähnt, in welchem der Oberbaurat August Adolph Günther den Leuchtturm einen „Entwurf der Königl.\t1\n",
            "In the same zoo, of which Lord Black was one of the directors, the monkey Bimbo had escaped once and was only caught after a lengthy hunt.\tIm selben Zoo, dessen Ko-Direktor Lord Black war, war Bimbo ausgebrochen und erst nach einer vielbeachteten Jagd wieder eingefangen worden.\t1\n",
            "Raphael asks another angel to bring Saint Peter to them, so that Peter can judge Barontius.\tRaphael bittet einen anderen Engel, Petrus zu holen, damit dieser sein Urteil über Barontus fällen kann.\t1\n",
            "Grüningen completed the conquest of Kurland and built a number of castles, including Goldingen (Kuldīga) and Amboten (Embūte).\tGrüningen vollendete die Eroberung von Kurland und baute eine Anzahl von Burgen, so in Goldingen (Kuldīga) und Amboten (Embūte).\t1\n",
            "Next to Normal was first produced Off-Broadway at the Second Stage Theatre from January 16 through March 16, 2008, directed by Greif, with Anthony Rapp as assistant director and musical staging by Sergio Trujillo.\tNext to Normal wurde am Off-Broadway unter seinem heutigen Namen im Second Stage Theatre gespielt (vom 16. Januar bis zum 16. März 2008; Regie: Michael Greif, mit Anthony Rapp als Regieassistent und unter der musikalischen Leitung von Sergio Trujillo).\t1\n",
            "The 38 movements of this pattern refer to his birthplace on the 38th degree latitude.\tDie 38 Bewegungen dieses Formlaufs sollen an seinen Geburtsort Gangneung in der Nähe des 38. Breitengrad erinnern.\t1\n",
            "The starting point was the question of whether every finite complex reflection group is a Weyl group of an object analogous to a finite group of the Lie type.\tAusgangspunkt war die Frage, ob jede endliche komplexe Spiegelungsgruppe eine Weylgruppe eines Objekts analog zu einer endlichen Gruppe vom Lietyp ist.\t1\n"
          ]
        }
      ],
      "source": [
        "#check file\n",
        "!head train.en-de.classified  #1 = passed the rules, 0 = failed the rules"
      ]
    },
    {
      "cell_type": "code",
      "source": [
        "!wc -l train.en-de.classified"
      ],
      "metadata": {
        "colab": {
          "base_uri": "https://localhost:8080/"
        },
        "id": "XgxMa521_bH7",
        "outputId": "af25d542-008a-4846-d4a3-7f8e5ad2c1ee"
      },
      "execution_count": 45,
      "outputs": [
        {
          "output_type": "stream",
          "name": "stdout",
          "text": [
            "50000 train.en-de.classified\n"
          ]
        }
      ]
    },
    {
      "cell_type": "code",
      "execution_count": 46,
      "metadata": {
        "id": "cikSNjIL-NTM"
      },
      "outputs": [],
      "source": [
        "#select only 1\n",
        "!grep '1$' train.en-de.classified >  train.en-de.clean #choose only lines endling with 1, i.e. passed the rules (1$ - end of sequence)"
      ]
    },
    {
      "cell_type": "code",
      "source": [
        "!grep '0$' train.en-de.classified > train.en-de.filter"
      ],
      "metadata": {
        "id": "6Rz_jYWJ-NTN"
      },
      "execution_count": 47,
      "outputs": []
    },
    {
      "cell_type": "code",
      "execution_count": 49,
      "metadata": {
        "colab": {
          "base_uri": "https://localhost:8080/"
        },
        "outputId": "0d06d2d6-fb02-4f0e-cac8-7c3ab7f1c538",
        "id": "eU7Bt7GT-NTN"
      },
      "outputs": [
        {
          "output_type": "stream",
          "name": "stdout",
          "text": [
            "50000 train.en-de.classified\n",
            "46612 train.en-de.clean\n"
          ]
        }
      ],
      "source": [
        "#check files\n",
        "!wc -l train.en-de.classified\n",
        "!wc -l train.en-de.clean #counting lines passed the rules"
      ]
    },
    {
      "cell_type": "code",
      "source": [
        "!wc -l train.en-de.filter #counting lines the failed the rules"
      ],
      "metadata": {
        "colab": {
          "base_uri": "https://localhost:8080/"
        },
        "outputId": "d789413f-b749-4b1e-dd12-456482c8d169",
        "id": "82SX8Z1E-NTO"
      },
      "execution_count": 50,
      "outputs": [
        {
          "output_type": "stream",
          "name": "stdout",
          "text": [
            "3388 train.en-de.filter\n"
          ]
        }
      ]
    },
    {
      "cell_type": "code",
      "execution_count": 51,
      "metadata": {
        "colab": {
          "base_uri": "https://localhost:8080/"
        },
        "outputId": "bc04f2c2-3be7-46fc-bffb-cbde6d0bc9fe",
        "id": "SVkyRlOT-NTP"
      },
      "outputs": [
        {
          "output_type": "stream",
          "name": "stdout",
          "text": [
            "A recent analysis by Apaldetti et al. (2011) suggests that Gongxianosaurus was more basal than Vulcanodon, Tazoudasaurus and Isanosaurus, but more derived than the early sauropods Antetonitrus, Lessemsaurus, Blikanasaurus, Camelotia and Melanorosaurus.\tEine neuere Analyse von Cecilia Apaldetti und Kollegen (2011) lässt darauf schließen, dass Gongxianosaurus basaler (ursprünglicher) war als Vulcanodon, Tazoudasaurus und Isanosaurus, aber stärker abgeleitet (fortgeschrittener) als die frühen Sauropoden Antetonitrus, Lessemsaurus, Blikanasaurus, Camelotia und Melanorosaurus.\t1\n",
            "Reichhart also carried out executions in Cologne, Frankfurt-Preungesheim, Berlin-Plötzensee, Brandenburg-Görden and Breslau, where central execution sites had also been constructed.\tReichhart vollzog vertretungsweise auch Hinrichtungen in Köln, Frankfurt-Preungesheim, Berlin-Plötzensee, Brandenburg-Görden und Breslau, wo ebenfalls zentrale Hinrichtungsstätten eingerichtet worden waren.\t1\n",
            "Uphold the right of all, without discrimination, to a natural and social environment supportive of human dignity, bodily health and spiritual well-being, with special attention to the rights of indigenous peoples and minorities.\tAm Recht aller – ohne Ausnahme – auf eine natürliche und soziale Umwelt festhalten, welche Menschenwürde, körperliche Gesundheit und spirituelles Wohlergehen unterstützt.\t1\n",
            "Schinkel was not mentioned, however, in a document published in 1828 on the \"Construction Designs of the Prussian State\", in which town planner, August Adolph Günther, cites the lighthouse as a \"design by the Royal Main Construction Agency.\"\tSchinkel wurde jedoch in einem 1828 erschienenen Druckwerk über die „Bauausführungen des Preußischen Staates“ nicht erwähnt, in welchem der Oberbaurat August Adolph Günther den Leuchtturm einen „Entwurf der Königl.\t1\n",
            "In the same zoo, of which Lord Black was one of the directors, the monkey Bimbo had escaped once and was only caught after a lengthy hunt.\tIm selben Zoo, dessen Ko-Direktor Lord Black war, war Bimbo ausgebrochen und erst nach einer vielbeachteten Jagd wieder eingefangen worden.\t1\n",
            "Raphael asks another angel to bring Saint Peter to them, so that Peter can judge Barontius.\tRaphael bittet einen anderen Engel, Petrus zu holen, damit dieser sein Urteil über Barontus fällen kann.\t1\n",
            "Grüningen completed the conquest of Kurland and built a number of castles, including Goldingen (Kuldīga) and Amboten (Embūte).\tGrüningen vollendete die Eroberung von Kurland und baute eine Anzahl von Burgen, so in Goldingen (Kuldīga) und Amboten (Embūte).\t1\n",
            "Next to Normal was first produced Off-Broadway at the Second Stage Theatre from January 16 through March 16, 2008, directed by Greif, with Anthony Rapp as assistant director and musical staging by Sergio Trujillo.\tNext to Normal wurde am Off-Broadway unter seinem heutigen Namen im Second Stage Theatre gespielt (vom 16. Januar bis zum 16. März 2008; Regie: Michael Greif, mit Anthony Rapp als Regieassistent und unter der musikalischen Leitung von Sergio Trujillo).\t1\n",
            "The 38 movements of this pattern refer to his birthplace on the 38th degree latitude.\tDie 38 Bewegungen dieses Formlaufs sollen an seinen Geburtsort Gangneung in der Nähe des 38. Breitengrad erinnern.\t1\n",
            "The starting point was the question of whether every finite complex reflection group is a Weyl group of an object analogous to a finite group of the Lie type.\tAusgangspunkt war die Frage, ob jede endliche komplexe Spiegelungsgruppe eine Weylgruppe eines Objekts analog zu einer endlichen Gruppe vom Lietyp ist.\t1\n",
            "Sentences are short.\tDie Sätze sind kurz.\t1\n",
            "The Aberdeen City Architect, John Smith was commissioned to undertake an extensive re-design of the castle in the 1820s.\tDer Architekt der Stadt Aberdeen, John Smith wurde in den 1820er-Jahren beauftragt, die Burg grundlegend umzugestalten.\t1\n",
            "The Prince sues Brand for libel and clears his name; Brand is sentenced to 18 months in prison.\tDer Fürst verklagt Brand wegen Verleumdung und kann seinen Namen reinwaschen, Brand wird zu einer 18-monatigen Haftstrafe verurteilt.\t1\n",
            "In a Munich tax roll dated 1428, a “pernawin” is listed as a member of his royal household, which is probably a reference to Agnes Bernauer.\tIn einer auf 1428 datierten Münchner Steuerliste wird bereits eine pernawin als Mitglied seines Hofstaats genannt, bei der es sich wahrscheinlich um Agnes Bernauer handelt.\t1\n",
            "Some of well-known Thai Buddhist temples in the district are: Wat Traimit (วัดไตรมิตรวิทยารามวรวิหาร) is known for its giant Buddha image made from solid gold and weighing about 5.5 tonnes.\tIn diesem Distrikt gibt es einige berühmte thailändische buddhistische Tempel (Wat): Wat Traimit (วัดไตรมิตรวิทยารามวรวิหาร) ist bekannt durch seine riesige Buddha-Statue, die vermutlich aus 5,5 t massivem Gold besteht.\t1\n",
            "SIS Swedish Standards Institute is the Swedish domestic member of ISO.\tSwedish Standards Institute, SIS ist eines von drei schwedischen Normungsorganen.\t1\n",
            "Dick completed the screenplay within a month, but Gorin never filmed it.\tDick stellte es sogar innerhalb eines Monats fertig, aber eine Verfilmung durch Gorin kam nie zustande.\t1\n",
            "They get their energy from the field of the reader.\tDie Energie dafür liefert das Strahlungsfeld des Readers.\t1\n",
            "The time of her Prague artistic activity (1851 to 1855) remained unforgotten for a long time.\tDie Zeit ihres Prager künstlerischen Wirkens (1851 bis 1855) blieb lange unvergessen.\t1\n",
            "During this time he also exhibited and won the Lampi-Preis for model drawing in 1836.\tAb dieser Zeit beteiligte er sich auch an Ausstellungen und gewann 1836 den Lampi-Preis für Modellzeichnen.\t1\n",
            "The members are the three rappers Tarek, Nico and Maxim.\tSie besteht aus den Rappern Tarek, Maxim und Nico.\t1\n",
            "Between 1966-68 Lord and Lady Monk Bretton had Raymond Erith re-model a Queen Anne house his great-grandfather, Sir John Dodson, had acquired near Barcombe from the family of Percy Bysshe Shelley.\tVon 1966 bis 1968 ließen Lord und Lady Monk Bretton von dem Architekten Raymond Erith ein Haus aus der Zeit von Queen Anne umbauen, welches Dodsons Urgroßvater Sir John Dodson von der Familie des britischen Dichters Percy Bysshe Shelley erworben hatte.\t1\n",
            "On April 20, 2004, Shi received a document from Communist Party authorities which instructed journalists not to report on the upcoming fifteenth anniversary of the \"June 4th event\", the Tiananmen Square massacre.\tAm 20. April 2004 erhielt Shi Tao ein Dokument von Behörden der Kommunistischen Partei, das Journalisten anwies, nicht über den bevorstehenden fünfzehnten Jahrestag der „4. Juni-Veranstaltung“, dem Tian’anmen-Massaker, zu berichten.\t1\n",
            "It includes the central stations of Duisburg, Oberhausen, Gelsenkirchen, Dortmund and Wanne-Eickel and the regionally important stations of Essen-Altenessen and Herne.\tAn ihr liegen die Hauptbahnhöfe von Duisburg, Oberhausen, Gelsenkirchen, Wanne-Eickel und Dortmund sowie die regional bedeutsamen Bahnhöfe Essen-Altenessen und Herne.\t1\n",
            "Through volcanic activity because of thermal expansion this continent broke, so that the new continents were drifting away from each other because of further expansion of the rip-zones, where now the oceans lie.Alfred Wegener saw similarities to his own theory, but did not support Mantovani's earth-expansion hypothesis.\tDurch vulkanische Tätigkeit aufgrund von Wärmeausdehnung brach dieser Kontinent auseinander, wobei sich die neu entstandenen Kontinente immer weiter voneinander entfernten, da die Aufrisszonen immer weiter expandierten und heute den Bereich der Ozeane bilden.Alfred Wegener sah Ähnlichkeiten zu seiner eigenen Theorie der Kontinentaldrift und anerkannte Mantovani als einen seiner Vorgänger, er erwähnte jedoch Mantovanis Erdexpansionshypothese nicht.\t1\n",
            "In 2003, the two brands were incorporated under the name Focal-JMlab for home products, before being renamed as just Focal in 2005 for all product sectors.\t2003 wurden die beiden Marken unter dem Namen Focal-JMlab für den Home-Sektor zusammengeführt, bevor 2005 für alle Produkte der Markenname Focal übernommen wurde.\t1\n",
            "Immediately after the founding of the Austrian Lotteries, Stickler was appointed to the board in 1986.\tStickler wurde direkt nach der Gründung der Österreichischen Lotterien 1986 in deren Vorstand berufen.\t1\n",
            "The Republican forces dispatched to Toledo consisted of approximately 8,000 men of the militias of the FAI, CNT and the UGT.\tDie republikanischen Kräfte beliefen sich auf etwa 8000 Milizionäre der FAI, CNT und UGT.\t1\n",
            "Upon Weaver's death on April 6, 2015, Talley was recognized as the oldest living person in the world.\tNach dem Tod von Weaver am 6. April 2015 wurde Talley die älteste lebende Person sowohl der USA als auch der Welt.\t1\n",
            "He served at the basilica of St. Acisclus in Córdoba.\tEr diente in der Basilika von Acisclus in Córdoba.\t1\n",
            "This allowed many prominent Berliners to participate in the opening trip, including the Prussian minister for public works, Karl von Thielen.\tDiese hieß so, weil viele Berliner Persönlichkeiten an der Eröffnungsfahrt teilnahmen, unter anderem auch der preußische Minister für öffentliche Arbeiten, Karl von Thielen.\t1\n",
            "In 1942, a branch of the company opened in Zurich under the name \"Fretz & Wasmuth\".\tEine Nebenlinie des Verlags existierte ab 1942 in Zürich unter dem Firmennamen „Fretz & Wasmuth“.\t1\n",
            "During Byzantine times, Thera as a diocesan town was again more frequently mentioned; up into the 5th century it was the only urban settlement on the island of Santorini.\tIn byzantinischer Zeit wurde sie dann als Bischofssitz wieder häufiger erwähnt und war bis ins 5. Jahrhundert die einzige städtische Siedlung auf der Insel Santorin.\t1\n",
            "Levon Ekmekjian was captured and placed in Ankara's Mamak Prison.\tLevon Ekmekdschian wurde gefangen genommen und in das Militärgefängnis Mamak in Ankara verbracht.\t1\n",
            "\"Opaque Chinese oil group makes clear gains in former Soviet bloc\".\tAbgerufen am 10. März 2019. \"Opaque Chinese oil group makes clear gains in former Soviet bloc\".\t1\n",
            "Rare books and non-circulation videos can be viewed here as well.\tDie Rara und die nicht ausleihbaren Video- und Filmdokumente können hier eingesehen werden.\t1\n",
            "Gruffydd's head and the figurehead of his ship were sent to Harold.\tSeinen Kopf sandte man zusammen mit der Galionsfigur seines Schiffes an Harold.\t1\n",
            "Thanks in no small part to Chauncy's life and work, by 1804 a liberal Christian view was the dominant one in Boston.\tNicht zuletzt aufgrund von Chauncys Leben und Werk war in Boston ab 1804 eine liberale christliche Sicht vorherrschend.\t1\n",
            "The colors indicate the political party or coalition of each President at Election Day.\tDie Farben geben Aufschluss über die politische Partei- oder Koalitionszugehörigkeit jedes Präsidenten zum Zeitpunkt des Wahltages oder während der Amtszeit.\t1\n",
            "Among other things, they designed aircraft hangars for Heathrow and Gatwick airports.\tSie entwarfen unter anderem Flugzeughangare für die Flughäfen Heathrow und Gatwick.\t1\n",
            "Had the Essen westwork—a masterpiece of Ottonian construction—first been built under Theophanu, it would have been built later than one of the masterpieces of the succeeding Romanesque style, St Maria im Kapitol in Cologne (which was built by Theophanu's sister Ida).\tWäre das Essener Westwerk – ein Höhepunkt ottonischer Baukunst – erst unter Theophanu entstanden, wäre es später entstanden als einer der Höhepunkte der eigentlich späteren Romanik, St. Maria im Kapitol in Köln (deren Bauherrin Theophanus Schwester Ida war).\t1\n",
            "Later, he came into contact with the superintendent of Jewish communities in the County of Mark, Ansel Hertz.\tEinige Zeit später kam er in das Haus des liberalen Obervorstehers der jüdischen Gemeinden in der Grafschaft Mark Anschel Hertz.\t1\n",
            "It is the W-most of the three aligned ponds lying south of the east part of Hoffman Ledge.\tEr ist der westlichste dreier aufgereihter Tümpel südlich des östlichen Teils des Hoffman Ledge.\t1\n",
            "As the system was passive, unlike H2S, there were no return signals which could give away the bombers' positions to night fighters.\tDa es sich im Gegensatz zum H2S um ein passives System handelte, wurden auch keine Signale zurückgeleitet, welche die Position der Bomber hätten verraten können.\t1\n",
            "In 1940, Cain returned to the United States to study architecture at Princeton University.\t1940 kehrte Cain in die Vereinigten Staaten zurück, um an der Princeton University Architektur zu studieren.\t1\n",
            "Nevertheless, Joachim Frederick refused to acknowledge his nephew's eligibility to inherit.\tDoch Joachim Friedrich weigerte sich weiter, die Sukzessionsfähigkeit seines Neffen anzuerkennen.\t1\n",
            "Two portals provide access to the building, one from the west and one from the south.\tZwei Portale bieten Zugang zu dem Gebäude, eines aus dem Westen und eines aus dem Süden.\t1\n",
            "She received an honorary degree from Simon Fraser University in 1978, and an honorary Doctor of Music degree from the University of Victoria in 1986.\tSie erhielt 1978 ein Ehrendiplom der Simon Fraser University und 1986 einen Ehrendoktor der Musik der University of Victoria.\t1\n",
            "Whitby's colleagues suggested they were a victim of national issues playing out in the local elections, but still commentators suggest the upcoming 2012 Local Elections could be the last for the coalition.\tWhitbys Kollegen sahen sich als Opfer von nationalen Angelegenheiten, aber Kommentare gehen davon, dass die Kommunalwahl 2012 die letzte für die derzeitige Koalition wird.\t1\n",
            "They referred to him as Irish, because he was part of the Simpson Chain team, just like Tom Linton, John Dunlop Lumsden und C. Happle.\tAls Ire galt er deshalb, weil er zu einem Team der britischen Firma Simpson Chain gehörte, wie auch Tom Linton, John Dunlop Lumsden und C. Happle.\t1\n"
          ]
        }
      ],
      "source": [
        "!head -n 50 train.en-de.clean"
      ]
    },
    {
      "cell_type": "code",
      "source": [
        "!head -n 50 train.en-de.filter #print the first 50 lines from the file"
      ],
      "metadata": {
        "colab": {
          "base_uri": "https://localhost:8080/"
        },
        "outputId": "a0fcab9b-57e1-4c18-9b5f-b40fdbc73cf4",
        "id": "BkDKJ229-NTP"
      },
      "execution_count": 52,
      "outputs": [
        {
          "output_type": "stream",
          "name": "stdout",
          "text": [
            "Lawyers Who Lead.\tAnwaltsunternehmen führen.\t0\n",
            "World Health Organization Monograph Series.\tIn: World Health Organization Monograph.\t0\n",
            "Josef Breinbauer: Otto von Lonsdorf.\tJosef Breinbauer: Otto von Lonsdorf.\t0\n",
            "Am Vorabend des Grauens: Studien zum Spannungsfeld Politik, Literatur, Film in Deutschland und Polen in den 30er Jahren des 20.\tStudien zum Spannungsfeld Politik – Literatur – Film in Deutschland und Polen in den 30er Jahren des 20. Jahrhunderts.\t0\n",
            "In: Türkiye Diyanet Vakfi Ansiklopedisi Islam.\tIn: Türkiye Diyanet Vakfi Islam Ansiklopedisi.\t0\n",
            "Preußen im Bundestag 1851–1859 Ein Achtundvierziger.\tPreußen im Bundestag 1851–1859 Ein Achtundvierziger.\t0\n",
            "Gillespie, William: Karl Ritter.\tWilliam Gillespie: Karl Ritter.\t0\n",
            "(Prime Books) The Year's Best Australian Science Fiction and Fantasy Vol.2, Bill Congreve & Michelle Marquardt (eds.)\t(Prime Books) The Year's Best Australian Science Fiction and Fantasy Vol.2, Bill Congreve & Michelle Marquardt (Hrsg.)\t0\n",
            "A Überrumpelungsspiel .\tEin Überrumpelungsspiel.\t0\n",
            "French comedian and political activist Dieudonné M'bala M'bala likened himself to Amedy Coulibaly on Facebook, commenting that \"I feel like Charlie Coulibaly.\"\tDer französische Komiker und politische Aktivist Dieudonné verglich sich auf Facebook mit Coulibaly und meinte: „Ich fühle mich wie Charlie Coulibaly.“ Daraufhin wurde er festgenommen und von der französischen Polizei verhört.\t0\n",
            "Z-Wave Alliance.\tIn: Z-Wave Alliance.\t0\n",
            "A Biography\"), 1903 Carmen Sylva, a biography, 1903 Maria, Fürstin Mutter zu Wied, Prinzessin zu Nassau.\tEin Lebensbild, 1903 Carmen Sylva, Biographie, 1903 Maria, Fürstin Mutter zu Wied, Prinzessin zu Nassau.\t0\n",
            "The signatories were elected to the Council of Lithuania by the Vilnius Conference in September 1917 and entrusted with the mission of establishing an independent Lithuanian state.\tLietuvos Taryba), der von der Vilniusser Konferenz im September 1917 gewählt worden war, mit dem Auftrag, die Unabhängigkeit Litauens zu realisieren.\t0\n",
            "\"Johann Christoph Schwab\".\tJohann Christoph Schwab.\t0\n",
            "Dostojewski und Tolstoi, 1892 Der Mensch und sein Ziel, 1914 Von der innern Not unseres Zeitalters.\tBern 1890 (Dissertation) Dostojewski und Tolstoi, 1892 Der Mensch und sein Ziel, 1914 Von der innern Not unseres Zeitalters.\t0\n",
            "Ministerium für Handel und Volkswirthschaft) for a route first running east from Innsbruck to Hall and then after a bend back to the west largely in tunnels up to Seefeld.\tMinisterium für Handel und Volkswirthschaft ein Projekt vorgelegt, welches eine Trassierung von Innsbruck zuerst nach Hall und dann nach einer Kehre vorwiegend in Tunneln bis nach Seefeld vorsah.\t0\n",
            "EcoBusinessPartnership Projects The know-how developed under the EcoBusinessPlan Vienna has meet with great interest at an international level!\tEcoBusinessPartnership-Projekte Das im Rahmen des ÖkoBusinessPlans Wien erarbeitete Know-how stößt auf reges internationales Interesse!\t0\n",
            "The International Journal of the Addictions, June 1971\tThe International Journal of the Addictions, Juni 1971.\t0\n",
            "Griswold became a member of the Sons of Liberty, who publicly protested the Stamp Act.\tSons of Liberty), die öffentlich gegen den Stamp Act protestierten.\t0\n",
            "Ueber die Entstehung der Glandula pituitaria.\tÜber die Entstehung der Glandula pituitaria.\t0\n",
            "In: Limes XVIII: proceedings of the XVIIIth International Congress of Roman Frontier Studies.\tIn: Limes XVIII. Proceedings of the XVIIIth Congress of Roman Frontier Studies.\t0\n",
            "Mehr Hamvatansalam\tMehr zu Schlaflignanen\t0\n",
            "Grove Press, 2001, ISBN 0802138292 Thomas Joseph Tunney und Paul Merrick Hollister: Throttled!\tGrove Press, 2001, ISBN 0802138292 Thomas Joseph Tunney und Paul Merrick Hollister: Throttled!\t0\n",
            "He showed his potential to become an eventual offensive force when he scored a season-high 19 points in an NCAA Tournament first-round win over San Diego State, hitting 8-of-11 shots, including three three-pointers.\tEr zeigte das nötige Potenzial, um eine Offensivwaffe des Teams zu werden, bei seinen 19 Punkten in der ersten Runde des NCAA Division I Basketball Championship–Tournaments gegen die San Diego State University, wo er acht seiner elf Würfe, unter anderem drei Dreier, traf.\t0\n",
            "Scottish Archive Network.\tIn: Scottish Archive Network.\t0\n",
            "In: Ecology 86, 2005.\tIn: Ecology 86, 2005.\t0\n",
            "Proceedings of the Committee on Jewish Law and Standards of the Conservative Movement 1927-1970.\tÜbersetzt von Edward Levin, umfassendeste Rechtssammlung). Proceedings of the Committee on Jewish Law and Standards of the Conservative Movement 1927–1970.\t0\n",
            "Letter to the Wilmington Board of Health.\tIn: Letter to the Wilmington Board of Health.\t0\n",
            "Saltbox Developers Discuss Tin Can.\tIn: Saltbox Developers Discuss Tin Can.\t0\n",
            "The Missa brevis in F major, Hob.\tDie Missa brevis in F (Hob.\t0\n",
            "\"Made in Marseille\".\tIn: Made in Marseille.\t0\n",
            "Gründung und Vorgeschichte des Familienunternehmens Dieffenbacher Maschinen und Anlagen.\tGerhard Dieffenbacher: Gründung und Vorgeschichte des Familienunternehmens Dieffenbacher Maschinen und Anlagen.\t0\n",
            "Die Schweiz vom Paläolithikum bis zum frühen Mittelalter.\tIn: Die Schweiz vom Paläolithikum bis zum frühen Mittelalter.\t0\n",
            "Erhard Kiehnbaum: „Ich gestehe, die Herrschaft der fluchwürdigen ‚Demokratie‘ dieses Landes macht mich betrübt …“.\tErhard Kiehnbaum: „Ich gestehe, die Herrschaft der fluchwürdigen ‚Demokratie‘ dieses Landes macht mich betrübt …“.\t0\n",
            "1977), moderator and actress Wolfgang Hartmann: Zu den frühen urkundlichen Erwähnungen von Michelstadt im Odenwald.\tWolfgang Hartmann: Zu den frühen urkundlichen Erwähnungen von Michelstadt im Odenwald.\t0\n",
            "\"Das Platzen der Stoffluftschiffe\" .\tDas Platzen der Stoffluftschiffe.\t0\n",
            "Akten zur Auswärtigen Politik der Bundesrepublik Deutschland.\tAkten zur auswärtigen Politik der Bundesrepublik Deutschland.\t0\n",
            "Okereke explained the album title, saying \"as a boxer, you have to rely on nobody else but yourself to achieve what it is you want to achieve.\tDie Wahl des Albumtitels begründet Okereke mit den Worten „As a boxer, you have to rely on nobody else but yourself to achieve what it is you want to achieve.\t0\n",
            "The increase in rapes can be attributed, in large part, to the playing out of such scenes in video games.\"\tDer Anstieg an Vergewaltigungen kann zu großen Teilen dem nachahmen solcher Szenen in Videospielen zugeordnet werden“).\t0\n",
            "Compend Contin Educ Dent.\tIn: Compend Contin Educ Dent.\t0\n",
            "The Transcendentalists: An Anthology.\t(Hrsg.): The Transcendentalists: An Anthology.\t0\n",
            "Bernd Alois Zimmermann: Initiale.\tBernd Alois Zimmermann: Initiale.\t0\n",
            "1977 Jürgen Maehder, Klangfarbe als Bauelement des musikalischen Satzes – Zur Kritik des Instrumentationsbegriffes, Ph. D. dissertation, Bern 1977.\tJürgen Maehder: Klangfarbe als Bauelement des musikalischen Satzes ─ Zur Kritik des Instrumentationsbegriffes, Dissertation Universität Bern 1977 (Privatdruck).\t0\n",
            "Fränkische Nachrichten: Stipendiatin aus den USA: Zwei Mütter und eine Patin für Kaitlyn.\tFränkische Nachrichten: Stipendiatin aus den USA: Zwei Mütter und eine Patin für Kaitlyn.\t0\n",
            "The Eurovision Times.\tIn: The Eurovision Times.\t0\n",
            "7th meeting.\tDie siebte Begegnung.\t0\n",
            "Other Places.\tUnd andere Orte.\t0\n",
            "J Manipulative Physiol Ther.\tIn: J Manipulative Physiol Ther.\t0\n",
            "Examples are the Abendgymnasium, the Aufbaugymnasium and the Wirtschaftsgymnasium.\tTypische Beispiele sind das Abendgymnasium, das Aufbaugymnasium und das Wirtschaftsgymnasium.\t0\n",
            "Stop the presses!)\tIn: Stop the Presses!.\t0\n"
          ]
        }
      ]
    },
    {
      "cell_type": "code",
      "execution_count": 53,
      "metadata": {
        "id": "CBpWzJCC-NTQ"
      },
      "outputs": [],
      "source": [
        "# split file into columns\n",
        "!cut -f1 train.en-de.clean > train.en-de.clean.en #select only lines from the first part of the files\n",
        "!cut -f2 train.en-de.clean > train.en-de.clean.de #select only lines from the second part of the files"
      ]
    },
    {
      "cell_type": "code",
      "execution_count": 54,
      "metadata": {
        "colab": {
          "base_uri": "https://localhost:8080/"
        },
        "outputId": "e8f3da36-5d36-42a8-c024-a03744c79285",
        "id": "hbBj1upr-NTR"
      },
      "outputs": [
        {
          "output_type": "stream",
          "name": "stdout",
          "text": [
            "46612 train.en-de.clean.en\n",
            "46612 train.en-de.clean.de\n"
          ]
        }
      ],
      "source": [
        "#check files\n",
        "!wc -l train.en-de.clean.en\n",
        "!wc -l train.en-de.clean.de"
      ]
    },
    {
      "cell_type": "code",
      "source": [
        "from google.colab import files\n",
        "\n",
        "files.download('train.en-de')\n",
        "files.download('train.en-de.classified')\n",
        "files.download('train.en-de.filter')\n",
        "files.download('train.en-de.clean')\n",
        "files.download('train.en-de.clean.de')\n",
        "files.download('train.en-de.clean.en')"
      ],
      "metadata": {
        "colab": {
          "base_uri": "https://localhost:8080/",
          "height": 17
        },
        "id": "-RjQ8hd5Afma",
        "outputId": "5870031d-f1f3-4646-bb02-b8ee2c4b8dcf"
      },
      "execution_count": 55,
      "outputs": [
        {
          "output_type": "display_data",
          "data": {
            "text/plain": [
              "<IPython.core.display.Javascript object>"
            ],
            "application/javascript": [
              "\n",
              "    async function download(id, filename, size) {\n",
              "      if (!google.colab.kernel.accessAllowed) {\n",
              "        return;\n",
              "      }\n",
              "      const div = document.createElement('div');\n",
              "      const label = document.createElement('label');\n",
              "      label.textContent = `Downloading \"${filename}\": `;\n",
              "      div.appendChild(label);\n",
              "      const progress = document.createElement('progress');\n",
              "      progress.max = size;\n",
              "      div.appendChild(progress);\n",
              "      document.body.appendChild(div);\n",
              "\n",
              "      const buffers = [];\n",
              "      let downloaded = 0;\n",
              "\n",
              "      const channel = await google.colab.kernel.comms.open(id);\n",
              "      // Send a message to notify the kernel that we're ready.\n",
              "      channel.send({})\n",
              "\n",
              "      for await (const message of channel.messages) {\n",
              "        // Send a message to notify the kernel that we're ready.\n",
              "        channel.send({})\n",
              "        if (message.buffers) {\n",
              "          for (const buffer of message.buffers) {\n",
              "            buffers.push(buffer);\n",
              "            downloaded += buffer.byteLength;\n",
              "            progress.value = downloaded;\n",
              "          }\n",
              "        }\n",
              "      }\n",
              "      const blob = new Blob(buffers, {type: 'application/binary'});\n",
              "      const a = document.createElement('a');\n",
              "      a.href = window.URL.createObjectURL(blob);\n",
              "      a.download = filename;\n",
              "      div.appendChild(a);\n",
              "      a.click();\n",
              "      div.remove();\n",
              "    }\n",
              "  "
            ]
          },
          "metadata": {}
        },
        {
          "output_type": "display_data",
          "data": {
            "text/plain": [
              "<IPython.core.display.Javascript object>"
            ],
            "application/javascript": [
              "download(\"download_7605f423-65ac-4891-8d46-105500edbf60\", \"train.en-de\", 12379530)"
            ]
          },
          "metadata": {}
        },
        {
          "output_type": "display_data",
          "data": {
            "text/plain": [
              "<IPython.core.display.Javascript object>"
            ],
            "application/javascript": [
              "\n",
              "    async function download(id, filename, size) {\n",
              "      if (!google.colab.kernel.accessAllowed) {\n",
              "        return;\n",
              "      }\n",
              "      const div = document.createElement('div');\n",
              "      const label = document.createElement('label');\n",
              "      label.textContent = `Downloading \"${filename}\": `;\n",
              "      div.appendChild(label);\n",
              "      const progress = document.createElement('progress');\n",
              "      progress.max = size;\n",
              "      div.appendChild(progress);\n",
              "      document.body.appendChild(div);\n",
              "\n",
              "      const buffers = [];\n",
              "      let downloaded = 0;\n",
              "\n",
              "      const channel = await google.colab.kernel.comms.open(id);\n",
              "      // Send a message to notify the kernel that we're ready.\n",
              "      channel.send({})\n",
              "\n",
              "      for await (const message of channel.messages) {\n",
              "        // Send a message to notify the kernel that we're ready.\n",
              "        channel.send({})\n",
              "        if (message.buffers) {\n",
              "          for (const buffer of message.buffers) {\n",
              "            buffers.push(buffer);\n",
              "            downloaded += buffer.byteLength;\n",
              "            progress.value = downloaded;\n",
              "          }\n",
              "        }\n",
              "      }\n",
              "      const blob = new Blob(buffers, {type: 'application/binary'});\n",
              "      const a = document.createElement('a');\n",
              "      a.href = window.URL.createObjectURL(blob);\n",
              "      a.download = filename;\n",
              "      div.appendChild(a);\n",
              "      a.click();\n",
              "      div.remove();\n",
              "    }\n",
              "  "
            ]
          },
          "metadata": {}
        },
        {
          "output_type": "display_data",
          "data": {
            "text/plain": [
              "<IPython.core.display.Javascript object>"
            ],
            "application/javascript": [
              "download(\"download_6c3fb215-49cb-4f82-abf7-9041132d73b8\", \"train.en-de.classified\", 12479530)"
            ]
          },
          "metadata": {}
        },
        {
          "output_type": "display_data",
          "data": {
            "text/plain": [
              "<IPython.core.display.Javascript object>"
            ],
            "application/javascript": [
              "\n",
              "    async function download(id, filename, size) {\n",
              "      if (!google.colab.kernel.accessAllowed) {\n",
              "        return;\n",
              "      }\n",
              "      const div = document.createElement('div');\n",
              "      const label = document.createElement('label');\n",
              "      label.textContent = `Downloading \"${filename}\": `;\n",
              "      div.appendChild(label);\n",
              "      const progress = document.createElement('progress');\n",
              "      progress.max = size;\n",
              "      div.appendChild(progress);\n",
              "      document.body.appendChild(div);\n",
              "\n",
              "      const buffers = [];\n",
              "      let downloaded = 0;\n",
              "\n",
              "      const channel = await google.colab.kernel.comms.open(id);\n",
              "      // Send a message to notify the kernel that we're ready.\n",
              "      channel.send({})\n",
              "\n",
              "      for await (const message of channel.messages) {\n",
              "        // Send a message to notify the kernel that we're ready.\n",
              "        channel.send({})\n",
              "        if (message.buffers) {\n",
              "          for (const buffer of message.buffers) {\n",
              "            buffers.push(buffer);\n",
              "            downloaded += buffer.byteLength;\n",
              "            progress.value = downloaded;\n",
              "          }\n",
              "        }\n",
              "      }\n",
              "      const blob = new Blob(buffers, {type: 'application/binary'});\n",
              "      const a = document.createElement('a');\n",
              "      a.href = window.URL.createObjectURL(blob);\n",
              "      a.download = filename;\n",
              "      div.appendChild(a);\n",
              "      a.click();\n",
              "      div.remove();\n",
              "    }\n",
              "  "
            ]
          },
          "metadata": {}
        },
        {
          "output_type": "display_data",
          "data": {
            "text/plain": [
              "<IPython.core.display.Javascript object>"
            ],
            "application/javascript": [
              "download(\"download_4c25f89e-3716-4ad6-a48c-b6042996d76f\", \"train.en-de.filter\", 433774)"
            ]
          },
          "metadata": {}
        },
        {
          "output_type": "display_data",
          "data": {
            "text/plain": [
              "<IPython.core.display.Javascript object>"
            ],
            "application/javascript": [
              "\n",
              "    async function download(id, filename, size) {\n",
              "      if (!google.colab.kernel.accessAllowed) {\n",
              "        return;\n",
              "      }\n",
              "      const div = document.createElement('div');\n",
              "      const label = document.createElement('label');\n",
              "      label.textContent = `Downloading \"${filename}\": `;\n",
              "      div.appendChild(label);\n",
              "      const progress = document.createElement('progress');\n",
              "      progress.max = size;\n",
              "      div.appendChild(progress);\n",
              "      document.body.appendChild(div);\n",
              "\n",
              "      const buffers = [];\n",
              "      let downloaded = 0;\n",
              "\n",
              "      const channel = await google.colab.kernel.comms.open(id);\n",
              "      // Send a message to notify the kernel that we're ready.\n",
              "      channel.send({})\n",
              "\n",
              "      for await (const message of channel.messages) {\n",
              "        // Send a message to notify the kernel that we're ready.\n",
              "        channel.send({})\n",
              "        if (message.buffers) {\n",
              "          for (const buffer of message.buffers) {\n",
              "            buffers.push(buffer);\n",
              "            downloaded += buffer.byteLength;\n",
              "            progress.value = downloaded;\n",
              "          }\n",
              "        }\n",
              "      }\n",
              "      const blob = new Blob(buffers, {type: 'application/binary'});\n",
              "      const a = document.createElement('a');\n",
              "      a.href = window.URL.createObjectURL(blob);\n",
              "      a.download = filename;\n",
              "      div.appendChild(a);\n",
              "      a.click();\n",
              "      div.remove();\n",
              "    }\n",
              "  "
            ]
          },
          "metadata": {}
        },
        {
          "output_type": "display_data",
          "data": {
            "text/plain": [
              "<IPython.core.display.Javascript object>"
            ],
            "application/javascript": [
              "download(\"download_2eacddbe-879a-45cc-9f26-d856cdde35d2\", \"train.en-de.clean\", 12045756)"
            ]
          },
          "metadata": {}
        },
        {
          "output_type": "display_data",
          "data": {
            "text/plain": [
              "<IPython.core.display.Javascript object>"
            ],
            "application/javascript": [
              "\n",
              "    async function download(id, filename, size) {\n",
              "      if (!google.colab.kernel.accessAllowed) {\n",
              "        return;\n",
              "      }\n",
              "      const div = document.createElement('div');\n",
              "      const label = document.createElement('label');\n",
              "      label.textContent = `Downloading \"${filename}\": `;\n",
              "      div.appendChild(label);\n",
              "      const progress = document.createElement('progress');\n",
              "      progress.max = size;\n",
              "      div.appendChild(progress);\n",
              "      document.body.appendChild(div);\n",
              "\n",
              "      const buffers = [];\n",
              "      let downloaded = 0;\n",
              "\n",
              "      const channel = await google.colab.kernel.comms.open(id);\n",
              "      // Send a message to notify the kernel that we're ready.\n",
              "      channel.send({})\n",
              "\n",
              "      for await (const message of channel.messages) {\n",
              "        // Send a message to notify the kernel that we're ready.\n",
              "        channel.send({})\n",
              "        if (message.buffers) {\n",
              "          for (const buffer of message.buffers) {\n",
              "            buffers.push(buffer);\n",
              "            downloaded += buffer.byteLength;\n",
              "            progress.value = downloaded;\n",
              "          }\n",
              "        }\n",
              "      }\n",
              "      const blob = new Blob(buffers, {type: 'application/binary'});\n",
              "      const a = document.createElement('a');\n",
              "      a.href = window.URL.createObjectURL(blob);\n",
              "      a.download = filename;\n",
              "      div.appendChild(a);\n",
              "      a.click();\n",
              "      div.remove();\n",
              "    }\n",
              "  "
            ]
          },
          "metadata": {}
        },
        {
          "output_type": "display_data",
          "data": {
            "text/plain": [
              "<IPython.core.display.Javascript object>"
            ],
            "application/javascript": [
              "download(\"download_85473c36-1663-41f9-8831-f82f6ebe34b2\", \"train.en-de.clean.de\", 6268837)"
            ]
          },
          "metadata": {}
        },
        {
          "output_type": "display_data",
          "data": {
            "text/plain": [
              "<IPython.core.display.Javascript object>"
            ],
            "application/javascript": [
              "\n",
              "    async function download(id, filename, size) {\n",
              "      if (!google.colab.kernel.accessAllowed) {\n",
              "        return;\n",
              "      }\n",
              "      const div = document.createElement('div');\n",
              "      const label = document.createElement('label');\n",
              "      label.textContent = `Downloading \"${filename}\": `;\n",
              "      div.appendChild(label);\n",
              "      const progress = document.createElement('progress');\n",
              "      progress.max = size;\n",
              "      div.appendChild(progress);\n",
              "      document.body.appendChild(div);\n",
              "\n",
              "      const buffers = [];\n",
              "      let downloaded = 0;\n",
              "\n",
              "      const channel = await google.colab.kernel.comms.open(id);\n",
              "      // Send a message to notify the kernel that we're ready.\n",
              "      channel.send({})\n",
              "\n",
              "      for await (const message of channel.messages) {\n",
              "        // Send a message to notify the kernel that we're ready.\n",
              "        channel.send({})\n",
              "        if (message.buffers) {\n",
              "          for (const buffer of message.buffers) {\n",
              "            buffers.push(buffer);\n",
              "            downloaded += buffer.byteLength;\n",
              "            progress.value = downloaded;\n",
              "          }\n",
              "        }\n",
              "      }\n",
              "      const blob = new Blob(buffers, {type: 'application/binary'});\n",
              "      const a = document.createElement('a');\n",
              "      a.href = window.URL.createObjectURL(blob);\n",
              "      a.download = filename;\n",
              "      div.appendChild(a);\n",
              "      a.click();\n",
              "      div.remove();\n",
              "    }\n",
              "  "
            ]
          },
          "metadata": {}
        },
        {
          "output_type": "display_data",
          "data": {
            "text/plain": [
              "<IPython.core.display.Javascript object>"
            ],
            "application/javascript": [
              "download(\"download_08d25538-466c-4e31-bb58-ecf7db73b0ad\", \"train.en-de.clean.en\", 5683695)"
            ]
          },
          "metadata": {}
        }
      ]
    },
    {
      "cell_type": "markdown",
      "metadata": {
        "id": "6SLekEylW2tP"
      },
      "source": [
        "# BPE\n",
        "\n",
        "from [subword-nmt](https://github.com/rsennrich/subword-nmt)"
      ]
    },
    {
      "cell_type": "code",
      "execution_count": 56,
      "metadata": {
        "colab": {
          "base_uri": "https://localhost:8080/"
        },
        "id": "muSRThoacuLK",
        "outputId": "70667c35-a6d5-4d17-ee98-57a334934910"
      },
      "outputs": [
        {
          "output_type": "stream",
          "name": "stdout",
          "text": [
            "Requirement already satisfied: subword-nmt in /usr/local/lib/python3.11/dist-packages (0.3.8)\n",
            "Requirement already satisfied: mock in /usr/local/lib/python3.11/dist-packages (from subword-nmt) (5.2.0)\n",
            "Requirement already satisfied: tqdm in /usr/local/lib/python3.11/dist-packages (from subword-nmt) (4.67.1)\n"
          ]
        }
      ],
      "source": [
        "#install subword nmt\n",
        "!pip install subword-nmt #==0.3.8"
      ]
    },
    {
      "cell_type": "code",
      "execution_count": 57,
      "metadata": {
        "colab": {
          "base_uri": "https://localhost:8080/"
        },
        "id": "UPf6crJXc1l5",
        "outputId": "88dd680e-64b4-4184-ac2a-b272dc9d9089"
      },
      "outputs": [
        {
          "output_type": "stream",
          "name": "stdout",
          "text": [
            "100% 16000/16000 [01:45<00:00, 151.20it/s]\n"
          ]
        }
      ],
      "source": [
        "#learn bpe model\n",
        "!subword-nmt learn-joint-bpe-and-vocab --input train.en-de.en train.en-de.de -s 16000 -o train.bpe --write-vocabulary train.vocab.en train.vocab.de\n",
        "#learn a vocabulary with 16000 for bith languages"
      ]
    },
    {
      "cell_type": "code",
      "execution_count": 60,
      "metadata": {
        "id": "qf-vm6Wdecd6"
      },
      "outputs": [],
      "source": [
        "#apply bpe source\n",
        "!subword-nmt apply-bpe -c train.bpe < dev.en-de.en > dev.en-de.bpe.en #apply the learned bpe vocabulary to the corpus (en)"
      ]
    },
    {
      "cell_type": "code",
      "execution_count": 61,
      "metadata": {
        "colab": {
          "base_uri": "https://localhost:8080/"
        },
        "id": "eb37Y9j3aeMF",
        "outputId": "01484154-6b25-4c5a-e856-ed1113c82f1b"
      },
      "outputs": [
        {
          "output_type": "stream",
          "name": "stdout",
          "text": [
            "Y@@ ev@@ on@@ de@@ 's most famous work was inspired by a theme party held on 5 March 193@@ 5, where gu@@ ests d@@ ressed as Roman and Greek god@@ s and god@@ dess@@ es.\n",
            "Mor@@ a is working on a tr@@ il@@ og@@ y about the IT special@@ ist D@@ ari@@ us K@@ opp@@ , of which band I \"The Only Man on the Contin@@ ent@@ \" and Vol@@ ume II \"The Mon@@ ster@@ \" have already appear@@ ed.\n",
            "The first person to enter this section was Gün@@ ther J. Wol@@ f with seven members of his ice cour@@ se.\n",
            "They were ren@@ um@@ ber@@ ed in 1970 to 100 90@@ 3 and 90@@ 4, and in 1973 to 19@@ 9 00@@ 3 and 00@@ 4.\n",
            "The grave is probably a dist@@ ur@@ bed arrange@@ ment, which was covered earlier with wood or ston@@ es.\n",
            "Per@@ sec@@ u@@ tions ended following John@@ 's death on 23 May 167@@ 7, at the age of 7@@ 4.\n",
            "In celeb@@ ration he wrote a book entitled Three Vis@@ its to Mad@@ ag@@ as@@ car (185@@ 8).\n",
            "Berlin@@ ale Tal@@ ents and Per@@ spek@@ tive Deutsch@@ es Kin@@ o have joined forces to award the inaug@@ ural “@@ Komp@@ agn@@ on@@ ” f@@ ell@@ ow@@ ship in 201@@ 7.\n",
            "A proposal was flo@@ ated during the 1950s to re@@ loc@@ ate the monument to an alternative site in a city park in order to ease traffic con@@ gest@@ ion in down@@ town Lanc@@ ast@@ er.\n",
            "\"@@ H@@ r@@ vat@@ ski k@@ up 200@@ 6/@@ 0@@ 7@@ \" (in Croati@@ an@@ ).\n"
          ]
        }
      ],
      "source": [
        "#check out bpe\n",
        "!head dev.en-de.bpe.en"
      ]
    },
    {
      "cell_type": "code",
      "execution_count": null,
      "metadata": {
        "id": "gpHlfe26KKBd"
      },
      "outputs": [],
      "source": [
        "#apply bpe source\n",
        "!subword-nmt apply-bpe -c train.bpe < dev.en-de.de > dev.en-de.bpe.de #apply the learned bpe vocabulary to the corpus (en)"
      ]
    },
    {
      "cell_type": "code",
      "execution_count": null,
      "metadata": {
        "colab": {
          "base_uri": "https://localhost:8080/"
        },
        "outputId": "01484154-6b25-4c5a-e856-ed1113c82f1b",
        "id": "_cSN4Y-FKKBe"
      },
      "outputs": [
        {
          "output_type": "stream",
          "name": "stdout",
          "text": [
            "Y@@ ev@@ on@@ de@@ 's most famous work was inspired by a theme party held on 5 March 193@@ 5, where gu@@ ests d@@ ressed as Roman and Greek god@@ s and god@@ dess@@ es.\n",
            "Mor@@ a is working on a tr@@ il@@ og@@ y about the IT special@@ ist D@@ ari@@ us K@@ opp@@ , of which band I \"The Only Man on the Contin@@ ent@@ \" and Vol@@ ume II \"The Mon@@ ster@@ \" have already appear@@ ed.\n",
            "The first person to enter this section was Gün@@ ther J. Wol@@ f with seven members of his ice cour@@ se.\n",
            "They were ren@@ um@@ ber@@ ed in 1970 to 100 90@@ 3 and 90@@ 4, and in 1973 to 19@@ 9 00@@ 3 and 00@@ 4.\n",
            "The grave is probably a dist@@ ur@@ bed arrange@@ ment, which was covered earlier with wood or ston@@ es.\n",
            "Per@@ sec@@ u@@ tions ended following John@@ 's death on 23 May 167@@ 7, at the age of 7@@ 4.\n",
            "In celeb@@ ration he wrote a book entitled Three Vis@@ its to Mad@@ ag@@ as@@ car (185@@ 8).\n",
            "Berlin@@ ale Tal@@ ents and Per@@ spek@@ tive Deutsch@@ es Kin@@ o have joined forces to award the inaug@@ ural “@@ Komp@@ agn@@ on@@ ” f@@ ell@@ ow@@ ship in 201@@ 7.\n",
            "A proposal was flo@@ ated during the 1950s to re@@ loc@@ ate the monument to an alternative site in a city park in order to ease traffic con@@ gest@@ ion in down@@ town Lanc@@ ast@@ er.\n",
            "\"@@ H@@ r@@ vat@@ ski k@@ up 200@@ 6/@@ 0@@ 7@@ \" (in Croati@@ an@@ ).\n"
          ]
        }
      ],
      "source": [
        "#check out bpe\n",
        "!head dev.en-de.bpe.de"
      ]
    },
    {
      "cell_type": "markdown",
      "source": [
        "## Apply on the test set"
      ],
      "metadata": {
        "id": "YVCrLRMjKBA6"
      }
    },
    {
      "cell_type": "code",
      "execution_count": null,
      "metadata": {
        "id": "Sq3skdl4KjBv"
      },
      "outputs": [],
      "source": [
        "#apply bpe source\n",
        "!subword-nmt apply-bpe -c train.bpe < test.en-de.en > test.en-de.bpe.en #apply the learned bpe vocabulary to the corpus (en)"
      ]
    },
    {
      "cell_type": "code",
      "source": [
        "#apply bpe source\n",
        "!subword-nmt apply-bpe -c train.bpe < test.en-de.en > test.en-de.bpe.de #apply the learned bpe vocabulary to the corpus (en)"
      ],
      "metadata": {
        "id": "XTbhKVYFKldP"
      },
      "execution_count": null,
      "outputs": []
    },
    {
      "cell_type": "markdown",
      "metadata": {
        "id": "72Iw6D4xbq53"
      },
      "source": [
        "# TODO BPE\n",
        "\n",
        "- Train bpe model with the training data\n",
        "- Apply on training, dev, and test\n",
        "\n",
        "**NOTE:** to get original segmentation use\n",
        "\n",
        "\n",
        "```\n",
        "!sed -r 's/(@@ )|(@@ ?$)//g' < file_in > file_out\n",
        "```\n",
        "\n"
      ]
    },
    {
      "cell_type": "markdown",
      "source": [
        "## Learning BPE from clean training data (50k)"
      ],
      "metadata": {
        "id": "CQ35_vklD762"
      }
    },
    {
      "cell_type": "code",
      "execution_count": 65,
      "metadata": {
        "colab": {
          "base_uri": "https://localhost:8080/"
        },
        "outputId": "3299032f-ccce-48e2-b765-21cda22af298",
        "id": "zrZqs-XvEDri"
      },
      "outputs": [
        {
          "output_type": "stream",
          "name": "stdout",
          "text": [
            "100% 50000/50000 [05:26<00:00, 153.11it/s]\n"
          ]
        }
      ],
      "source": [
        "#learn bpe model\n",
        "!subword-nmt learn-joint-bpe-and-vocab --input train.en-de.clean.en train.en-de.clean.de -s 50000 -o train.clean.bpe --write-vocabulary train.vocab.clean.en train.vocab.clean.de\n",
        "#learn a vocabulary with 50k clean for both languages"
      ]
    },
    {
      "cell_type": "markdown",
      "source": [
        "### Apply on the dev set"
      ],
      "metadata": {
        "id": "bfwQEMtLEmZk"
      }
    },
    {
      "cell_type": "code",
      "execution_count": 66,
      "metadata": {
        "id": "pK-WcZDJEDrj"
      },
      "outputs": [],
      "source": [
        "#apply bpe source\n",
        "!subword-nmt apply-bpe -c train.clean.bpe < dev.en-de.clean.en > dev.en-de.clean.bpe.en #apply the learned bpe vocabulary to the corpus (en)"
      ]
    },
    {
      "cell_type": "code",
      "source": [
        "!subword-nmt apply-bpe -c train.clean.bpe < dev.en-de.clean.de > dev.en-de.clean.bpe.de"
      ],
      "metadata": {
        "id": "I81sXGQREbxm"
      },
      "execution_count": 67,
      "outputs": []
    },
    {
      "cell_type": "code",
      "execution_count": 68,
      "metadata": {
        "colab": {
          "base_uri": "https://localhost:8080/"
        },
        "outputId": "c26e9c14-5429-47ed-cf4d-18166805e34c",
        "id": "mI_iPA8KEDrk"
      },
      "outputs": [
        {
          "output_type": "stream",
          "name": "stdout",
          "text": [
            "Y@@ ev@@ on@@ de's most famous work was inspired by a theme party held on 5 March 1935, where guests dressed as Roman and Greek gods and god@@ dess@@ es.\n",
            "Mor@@ a is working on a trilogy about the IT specialist Darius Kopp@@ , of which band I \"The Only Man on the Contin@@ ent@@ \" and Volume II \"The Mon@@ ster@@ \" have already appear@@ ed.\n",
            "The first person to enter this section was Günther J. Wolf with seven members of his ice cour@@ se.\n",
            "They were ren@@ umber@@ ed in 1970 to 100 90@@ 3 and 90@@ 4, and in 1973 to 199 00@@ 3 and 00@@ 4.\n",
            "The grave is probably a distur@@ bed arrange@@ ment, which was covered earlier with wood or ston@@ es.\n",
            "Per@@ sec@@ u@@ tions ended following John's death on 23 May 167@@ 7, at the age of 7@@ 4.\n",
            "In celebration he wrote a book entitled Three Vis@@ its to Madagas@@ car (185@@ 8).\n",
            "Berlin@@ ale Tal@@ ents and Perspektive Deutsches Kino have joined forces to award the inaugural “@@ Komp@@ agn@@ on@@ ” fel@@ low@@ ship in 2017.\n",
            "A proposal was flo@@ ated during the 1950s to re@@ locate the monument to an alternative site in a city park in order to ease traffic congest@@ ion in downtown Lanc@@ ast@@ er.\n",
            "\"H@@ r@@ vat@@ ski k@@ up 200@@ 6/@@ 0@@ 7@@ \" (in Croati@@ an).\n"
          ]
        }
      ],
      "source": [
        "#check out bpe\n",
        "!head dev.en-de.clean.bpe.en"
      ]
    },
    {
      "cell_type": "code",
      "source": [
        "#check out bpe\n",
        "!head dev.en-de.clean.bpe.de"
      ],
      "metadata": {
        "colab": {
          "base_uri": "https://localhost:8080/"
        },
        "id": "OR3pkxM_Kxtu",
        "outputId": "c8b4c084-f975-42bd-a6a9-b6dc86ce8178"
      },
      "execution_count": 69,
      "outputs": [
        {
          "output_type": "stream",
          "name": "stdout",
          "text": [
            "Besonders bekannt wurden ihre Aufnahmen von einem Fest 1935, zu dem Gäste als griechische Götter und Gött@@ innen verklei@@ det kamen.\n",
            "Ter@@ é@@ zia Mor@@ a arbeitet an einer Trilogie um den IT-@@ Spezi@@ alisten Darius Kopp@@ , von der Band I „Der einzige Mann auf dem Kontin@@ ent@@ “ und Band II „Das Unge@@ heu@@ er“ bereits erschienen sind.\n",
            "Eine erste Be@@ fahr@@ ung dieses Abschnit@@ ts gelang Günther J. Wolf mit sieben Teilnehmern seines Eis@@ kur@@ ses.\n",
            "Sie wurden 1970 in 100 90@@ 3 und 90@@ 4, 1973 in 199 00@@ 3 und 00@@ 4 um@@ gen@@ um@@ mer@@ t.\n",
            "Bei dem Grab handelt es sich wahrscheinlich um eine gest@@ ör@@ te An@@ lage, die früher mit Holz oder Steinen abge@@ deckt war.\n",
            "Die Verfolgung endete, als Graf Johann am 23. Mai 167@@ 7 im Alter von 74 Jahren starb.\n",
            "Diese Reisen beschrieb er in Three visits to Madagas@@ car (@@ London 185@@ 8).\n",
            "Berlin@@ ale Tal@@ ents und Perspektive Deutsches Kino vergeben gemeinsam im Jahr 2017 zum ersten Mal den „@@ Komp@@ agn@@ on@@ “@@ -F@@ örder@@ pre@@ is.\n",
            "In den 1950er Jahren wurde der Vorschlag verbreit@@ et, das Denkmal an eine andere Stelle in einem Stadt@@ park zu versetz@@ en, um damit eine Er@@ leich@@ terung der Verkehrs@@ stau@@ ungen im Zentrum von Lancaster zu erreichen.\n",
            "Artikel zum LE@@ N Cup 200@@ 6/@@ 0@@ 7. (@@ kro@@ at@@ isch)\n"
          ]
        }
      ]
    },
    {
      "cell_type": "markdown",
      "source": [
        "### Apply on the test set"
      ],
      "metadata": {
        "id": "V0aA4EsMEsKZ"
      }
    },
    {
      "cell_type": "code",
      "execution_count": 70,
      "metadata": {
        "id": "yMaCzqXiEsKa"
      },
      "outputs": [],
      "source": [
        "#apply bpe source\n",
        "!subword-nmt apply-bpe -c train.clean.bpe < test.en-de.clean.en > test.en-de.clean.bpe.en #apply the learned bpe vocabulary to the corpus (en)"
      ]
    },
    {
      "cell_type": "code",
      "source": [
        "!subword-nmt apply-bpe -c train.clean.bpe < test.en-de.clean.de > test.en-de.clean.bpe.de #apply the learned bpe vocabulary to the corpus (en)"
      ],
      "metadata": {
        "id": "ckaHyzoLKVyu"
      },
      "execution_count": 71,
      "outputs": []
    },
    {
      "cell_type": "code",
      "source": [
        "#check out bpe\n",
        "!head test.en-de.clean.bpe.en"
      ],
      "metadata": {
        "colab": {
          "base_uri": "https://localhost:8080/"
        },
        "id": "5HSOmhxdK5MK",
        "outputId": "7b6ca9f3-cc6d-406f-91e1-4c514bea499a"
      },
      "execution_count": 72,
      "outputs": [
        {
          "output_type": "stream",
          "name": "stdout",
          "text": [
            "The EC@@ F used to publish a news@@ letter Chess Mov@@ es, which was free to members.\n",
            "Cape Bar@@ ren, with the other islands in the Fur@@ ne@@ aux Group, are a popular destination for sea k@@ ay@@ akers who attempt the crossing of Bass Strait from the Australian mainland at Wil@@ sons Pro@@ mon@@ tor@@ y, Victoria to the Tasmanian main@@ land.\n",
            "The work is articulated in a single movement, and comprises an ensemble consisting of two viol@@ ins, a cel@@ lo, a piano, a flu@@ te, and a pic@@ col@@ o, which was recorded in Russia by solo@@ ists of the Moscow Philharmonic Orchestra bar@@ ely two days after its open@@ ing.\n",
            "The base is reported to host several M@@ Q-@@ 9 Re@@ ap@@ er d@@ ron@@ es, based on satellite imag@@ ery.\n",
            "Some 80,000 people are hospit@@ alized there every year, and another 600@@ ,000 are treated in its out@@ patient clin@@ ics and medical instit@@ utes.\n",
            "Being situated on the city footh@@ ills (17@@ 00 metres above sea level@@ ), Ni@@ avar@@ an has a cool@@ er climate all year round compared to the rest of Te@@ hr@@ an, and excellent v@@ ant@@ age points.\n",
            "He has a weekly Internet radio show '@@ Chess Talk with John Wat@@ son@@ ' on Ch@@ ess@@ .@@ F@@ M, the radio arm of the Internet Chess Club (IC@@ C).\n",
            "She played with Ric@@ car@@ do Del F@@ ra on the album \"A Si@@ p of Your Touch@@ \" (198@@ 9), and, with his band, on a live album at the Montre@@ ux Jazz Festival 1991.\n",
            "In 188@@ 1, the BM@@ E received a concession to build the line, but it was completed on 1 September 1882 shortly after the takeover of the BM@@ E by the PS@@ E.\n",
            "At day@@ break on 8 August, six Japanese in@@ fil@@ trat@@ ors hiding under the por@@ ch of the former British colonial headquarters shot and killed three Mar@@ ines.\n"
          ]
        }
      ]
    },
    {
      "cell_type": "code",
      "source": [
        "#check out bpe\n",
        "!head test.en-de.clean.bpe.de"
      ],
      "metadata": {
        "colab": {
          "base_uri": "https://localhost:8080/"
        },
        "id": "tok55GNmK7CF",
        "outputId": "91ccdaeb-fdd6-439c-8e9c-8625e43a7b10"
      },
      "execution_count": 73,
      "outputs": [
        {
          "output_type": "stream",
          "name": "stdout",
          "text": [
            "Die EC@@ F gibt die Schach@@ zeitschrift Chess Mov@@ es heraus, die für Mitglieder kostenlos ist.\n",
            "Cape Bar@@ ren ist wie auch die anderen Inseln der Fur@@ ne@@ au@@ x-@@ Gruppe ein beliebtes Ziel für Se@@ ek@@ ay@@ ak-@@ Fahr@@ er, die die Bass Strait von Wil@@ sons Pro@@ mon@@ tory in Australien nach Tasman@@ ien überqu@@ eren.\n",
            "Die Komposition ist in einen Satz für ein Ensemble für zwei Viol@@ inen, einem Cel@@ lo, einem Pian@@ o, einer Flö@@ te und einer Pic@@ col@@ o@@ fl@@ ö@@ te ge@@ glie@@ der@@ t, das schon zwei Tage nach seinem Erscheinen in Russland von Soli@@ sten des Moskauer Philharmon@@ ischen Orchest@@ ers verton@@ t worden ist.\n",
            "Die Basis soll mehrere M@@ Q-@@ 9 Re@@ ap@@ er Dro@@ hnen beherberg@@ en, dies lässt sich auf Satellit@@ enbil@@ dern erkennen.\n",
            "Rund 7@@ 5.000 Menschen werden hier jährlich eingel@@ iefert und weitere 500@@ .000 werden in den amb@@ ul@@ anten Klin@@ iken und medizinischen Institu@@ ten behandelt.\n",
            "Am Fuße des El@@ bur@@ s-@@ Gebirges in einer Höhe von 1700 m gelegen, hat Ni@@ ā@@ var@@ ān ein küh@@ ler@@ es Klima im Vergleich zum übrigen Teher@@ an mit hervorragen@@ den Aus@@ sicht@@ spl@@ ätz@@ en.\n",
            "Darüber hinaus moder@@ iert Watson die wöchentliche Radios@@ endung im Internet „@@ Chess Talk with John Wat@@ son@@ “ auf Ch@@ ess@@ .@@ F@@ M, dem Radiosender des Internet Chess Club (IC@@ C).\n",
            "Sie nahm mit Ric@@ car@@ do Del F@@ ra das Album „@@ A Si@@ p of Your Touch@@ “ (198@@ 9) und mit eigener Band ein Live-@@ Album beim Montre@@ ux Jazz Festival 1991 auf.\n",
            "1881 erhielt die BM@@ E die Konz@@ ession, fertiggestellt wurde die Strecke aber erst am 1. September 1882 kurz nach der vollständigen Übernahme der BM@@ E durch die PS@@ E.\n",
            "Bei Tages@@ an@@ bruch des 8. August erschossen sechs japanische Soldaten, die sich bei den Angriffen der vergangenen Nacht im ehemaligen britischen Kolonial@@ haupt@@ quarti@@ er der Insel versteck@@ t hatten, drei Mar@@ ines.\n"
          ]
        }
      ]
    },
    {
      "cell_type": "code",
      "source": [
        "from google.colab import files\n",
        "\n",
        "files.download('train.clean.bpe')\n",
        "\n",
        "files.download('train.vocab.clean.en')\n",
        "files.download('train.vocab.clean.de')\n",
        "\n",
        "files.download('test.en-de.clean.bpe.en')\n",
        "files.download('test.en-de.clean.bpe.de')\n",
        "\n",
        "files.download('dev.en-de.clean.bpe.en')\n",
        "files.download('dev.en-de.clean.bpe.de')\n",
        "\n",
        "files.download('train.en-de.clean.bpe.en')\n",
        "files.download('train.en-de.clean.bpe.de')"
      ],
      "metadata": {
        "id": "0XAJqckbKRIP"
      },
      "execution_count": null,
      "outputs": []
    },
    {
      "cell_type": "markdown",
      "source": [
        "### Apply on the train set"
      ],
      "metadata": {
        "id": "urXV0cyYLDvk"
      }
    },
    {
      "cell_type": "code",
      "source": [
        "!subword-nmt apply-bpe -c train.clean.bpe < train.en-de.clean.en > train.en-de.clean.bpe.en"
      ],
      "metadata": {
        "id": "UW7kcJ5KLIke"
      },
      "execution_count": 74,
      "outputs": []
    },
    {
      "cell_type": "code",
      "source": [
        "!subword-nmt apply-bpe -c train.clean.bpe < train.en-de.clean.de > train.en-de.clean.bpe.de"
      ],
      "metadata": {
        "id": "Hm72NwraEsKa"
      },
      "execution_count": 75,
      "outputs": []
    },
    {
      "cell_type": "code",
      "execution_count": 76,
      "metadata": {
        "colab": {
          "base_uri": "https://localhost:8080/"
        },
        "outputId": "90af65d3-c9ba-4e42-dd7a-4fad4afe253d",
        "id": "m3MuOSU2EsKa"
      },
      "outputs": [
        {
          "output_type": "stream",
          "name": "stdout",
          "text": [
            "A recent analysis by Ap@@ al@@ de@@ tti et al. (201@@ 1) suggests that Gong@@ x@@ ian@@ osaurus was more bas@@ al than Vul@@ can@@ od@@ on, T@@ az@@ ou@@ das@@ aurus and Is@@ an@@ osaur@@ us, but more derived than the early saur@@ opo@@ ds Ant@@ et@@ onit@@ rus, Less@@ em@@ saur@@ us, B@@ lik@@ anas@@ aur@@ us, Cam@@ elo@@ tia and Mel@@ an@@ or@@ osaurus.\n",
            "Reich@@ hart also carried out execu@@ tions in Cologne, Frankfurt-@@ Pre@@ unges@@ heim, Berlin-@@ Pl@@ ötz@@ en@@ see, Branden@@ burg@@ -G@@ ör@@ den and Breslau, where central execution sites had also been constructed.\n",
            "U@@ ph@@ old the right of all, without discrimin@@ ation, to a natural and social environment suppor@@ tive of human dign@@ ity, bo@@ di@@ ly health and spiritual well-@@ being, with special attention to the rights of indigenous peoples and minor@@ ities.\n",
            "Sch@@ in@@ kel was not mention@@ ed, however, in a document published in 1828 on the \"@@ Construction Designs of the Prussian Stat@@ e\", in which town plann@@ er, August Adolph Gün@@ ther, c@@ ites the ligh@@ thouse as a \"@@ design by the Royal Main Construction Agen@@ cy@@ .\"\n",
            "In the same z@@ oo@@ , of which Lord Black was one of the direc@@ tors, the mon@@ key Bim@@ bo had escaped once and was only caught after a lengthy hun@@ t.\n",
            "Rapha@@ el asks another an@@ gel to bring Saint Peter to them, so that Peter can judge Baron@@ ti@@ us.\n",
            "Grün@@ ingen completed the conquest of Kur@@ land and built a number of cast@@ les, including Gold@@ ingen (@@ Kul@@ d@@ ī@@ g@@ a) and Am@@ boten (@@ Em@@ b@@ ū@@ te).\n",
            "Next to Normal was first produced Off-Broad@@ way at the Second Stage Theatre from January 16 through March 16, 2008, directed by Greif@@ , with Anthony Rap@@ p as assistant director and musical st@@ aging by Ser@@ gio Tru@@ j@@ il@@ lo.\n",
            "The 38 movements of this pattern refer to his birthplace on the 38@@ th degree lat@@ itude.\n",
            "The starting point was the question of whether every finite complex refle@@ ction group is a We@@ yl group of an object analogous to a finite group of the L@@ ie type.\n"
          ]
        }
      ],
      "source": [
        "#check out bpe\n",
        "!head train.en-de.clean.bpe.en"
      ]
    },
    {
      "cell_type": "code",
      "source": [
        "#check out bpe\n",
        "!head train.en-de.clean.bpe.de"
      ],
      "metadata": {
        "colab": {
          "base_uri": "https://localhost:8080/"
        },
        "id": "Qnsuv585LO3t",
        "outputId": "d7a9053c-0989-4fc3-a1d5-e0b54e37ae79"
      },
      "execution_count": 77,
      "outputs": [
        {
          "output_type": "stream",
          "name": "stdout",
          "text": [
            "Eine neuere Analyse von Cec@@ ili@@ a Ap@@ al@@ de@@ tti und Kollegen (201@@ 1) lässt darauf schließen, dass Gong@@ x@@ ian@@ osaurus bas@@ aler (@@ ursprüng@@ lich@@ er) war als Vul@@ can@@ od@@ on, T@@ az@@ ou@@ das@@ aurus und Is@@ an@@ osaur@@ us, aber stärker abgeleitet (@@ fortgeschrit@@ ten@@ er) als die frühen Saur@@ op@@ oden Ant@@ et@@ onit@@ rus, Less@@ em@@ saur@@ us, B@@ lik@@ anas@@ aur@@ us, Cam@@ elo@@ tia und Mel@@ an@@ or@@ osaurus.\n",
            "Reich@@ hart voll@@ zog vertre@@ t@@ ungsweise auch Hin@@ richtungen in Köln, Frankfurt-@@ Pre@@ unges@@ heim, Berlin-@@ Pl@@ ötz@@ en@@ see, Branden@@ burg@@ -G@@ ör@@ den und Breslau, wo ebenfalls zentrale Hin@@ richt@@ ungs@@ stätten eingerichtet worden waren.\n",
            "Am Recht aller – ohne Ausnahme – auf eine natürliche und soziale Umwelt f@@ esth@@ alten, welche Menschen@@ würde, körper@@ liche Gesundheit und spiritu@@ elles Woh@@ ler@@ gehen unterstützt.\n",
            "Sch@@ in@@ kel wurde jedoch in einem 1828 erschienenen Druck@@ werk über die „@@ Bau@@ aus@@ führungen des Preußischen Staat@@ es“ nicht erwähnt, in welchem der Ober@@ b@@ aur@@ at August Adolph Günther den Leucht@@ turm einen „@@ Entwurf der König@@ l.\n",
            "Im selben Zoo@@ , dessen Ko@@ -@@ Direktor Lord Black war, war Bim@@ bo aus@@ gebrochen und erst nach einer viel@@ beacht@@ eten Jagd wieder ein@@ gefangen worden.\n",
            "Rapha@@ el bittet einen anderen Engel, Petrus zu hol@@ en, damit dieser sein Urteil über Bar@@ ont@@ us fällen kann.\n",
            "Grün@@ ingen vollendete die Eroberung von Kur@@ land und baute eine Anzahl von Burgen, so in Gold@@ ingen (@@ Kul@@ d@@ ī@@ g@@ a) und Am@@ boten (@@ Em@@ b@@ ū@@ te).\n",
            "Next to Normal wurde am Off-Broad@@ way unter seinem heutigen Namen im Second Stage Theatre gespielt (@@ vom 16. Januar bis zum 16. März 200@@ 8; Regie: Michael Greif@@ , mit Anthony Rap@@ p als Regie@@ assistent und unter der musikalischen Leitung von Ser@@ gio Tru@@ j@@ illo@@ ).\n",
            "Die 38 Bewegungen dieses Form@@ lauf@@ s sollen an seinen Geburtsort Gang@@ ne@@ ung in der Nähe des 3@@ 8. Breit@@ eng@@ rad erinnern.\n",
            "Ausgangspunkt war die Frage, ob jede end@@ liche komplexe Spiegel@@ ungs@@ gruppe eine We@@ yl@@ gruppe eines Objek@@ ts analog zu einer end@@ lichen Gruppe vom Li@@ et@@ yp ist.\n"
          ]
        }
      ]
    },
    {
      "cell_type": "code",
      "source": [
        "from google.colab import files\n",
        "\n",
        "files.download('train.clean.bpe')\n",
        "\n",
        "files.download('train.vocab.clean.en')\n",
        "files.download('train.vocab.clean.de')\n",
        "\n",
        "files.download('test.en-de.clean.bpe.en')\n",
        "files.download('test.en-de.clean.bpe.de')\n",
        "\n",
        "files.download('dev.en-de.clean.bpe.en')\n",
        "files.download('dev.en-de.clean.bpe.de')\n",
        "\n",
        "files.download('train.en-de.clean.bpe.en')\n",
        "files.download('train.en-de.clean.bpe.de')"
      ],
      "metadata": {
        "colab": {
          "base_uri": "https://localhost:8080/",
          "height": 17
        },
        "id": "eLUEb4CnIUiz",
        "outputId": "9ae56c87-4c07-46b8-c76d-0b63a93eb82d"
      },
      "execution_count": 78,
      "outputs": [
        {
          "output_type": "display_data",
          "data": {
            "text/plain": [
              "<IPython.core.display.Javascript object>"
            ],
            "application/javascript": [
              "\n",
              "    async function download(id, filename, size) {\n",
              "      if (!google.colab.kernel.accessAllowed) {\n",
              "        return;\n",
              "      }\n",
              "      const div = document.createElement('div');\n",
              "      const label = document.createElement('label');\n",
              "      label.textContent = `Downloading \"${filename}\": `;\n",
              "      div.appendChild(label);\n",
              "      const progress = document.createElement('progress');\n",
              "      progress.max = size;\n",
              "      div.appendChild(progress);\n",
              "      document.body.appendChild(div);\n",
              "\n",
              "      const buffers = [];\n",
              "      let downloaded = 0;\n",
              "\n",
              "      const channel = await google.colab.kernel.comms.open(id);\n",
              "      // Send a message to notify the kernel that we're ready.\n",
              "      channel.send({})\n",
              "\n",
              "      for await (const message of channel.messages) {\n",
              "        // Send a message to notify the kernel that we're ready.\n",
              "        channel.send({})\n",
              "        if (message.buffers) {\n",
              "          for (const buffer of message.buffers) {\n",
              "            buffers.push(buffer);\n",
              "            downloaded += buffer.byteLength;\n",
              "            progress.value = downloaded;\n",
              "          }\n",
              "        }\n",
              "      }\n",
              "      const blob = new Blob(buffers, {type: 'application/binary'});\n",
              "      const a = document.createElement('a');\n",
              "      a.href = window.URL.createObjectURL(blob);\n",
              "      a.download = filename;\n",
              "      div.appendChild(a);\n",
              "      a.click();\n",
              "      div.remove();\n",
              "    }\n",
              "  "
            ]
          },
          "metadata": {}
        },
        {
          "output_type": "display_data",
          "data": {
            "text/plain": [
              "<IPython.core.display.Javascript object>"
            ],
            "application/javascript": [
              "download(\"download_213875c3-6266-4648-9f03-5103d49b8952\", \"train.clean.bpe\", 532480)"
            ]
          },
          "metadata": {}
        },
        {
          "output_type": "display_data",
          "data": {
            "text/plain": [
              "<IPython.core.display.Javascript object>"
            ],
            "application/javascript": [
              "\n",
              "    async function download(id, filename, size) {\n",
              "      if (!google.colab.kernel.accessAllowed) {\n",
              "        return;\n",
              "      }\n",
              "      const div = document.createElement('div');\n",
              "      const label = document.createElement('label');\n",
              "      label.textContent = `Downloading \"${filename}\": `;\n",
              "      div.appendChild(label);\n",
              "      const progress = document.createElement('progress');\n",
              "      progress.max = size;\n",
              "      div.appendChild(progress);\n",
              "      document.body.appendChild(div);\n",
              "\n",
              "      const buffers = [];\n",
              "      let downloaded = 0;\n",
              "\n",
              "      const channel = await google.colab.kernel.comms.open(id);\n",
              "      // Send a message to notify the kernel that we're ready.\n",
              "      channel.send({})\n",
              "\n",
              "      for await (const message of channel.messages) {\n",
              "        // Send a message to notify the kernel that we're ready.\n",
              "        channel.send({})\n",
              "        if (message.buffers) {\n",
              "          for (const buffer of message.buffers) {\n",
              "            buffers.push(buffer);\n",
              "            downloaded += buffer.byteLength;\n",
              "            progress.value = downloaded;\n",
              "          }\n",
              "        }\n",
              "      }\n",
              "      const blob = new Blob(buffers, {type: 'application/binary'});\n",
              "      const a = document.createElement('a');\n",
              "      a.href = window.URL.createObjectURL(blob);\n",
              "      a.download = filename;\n",
              "      div.appendChild(a);\n",
              "      a.click();\n",
              "      div.remove();\n",
              "    }\n",
              "  "
            ]
          },
          "metadata": {}
        },
        {
          "output_type": "display_data",
          "data": {
            "text/plain": [
              "<IPython.core.display.Javascript object>"
            ],
            "application/javascript": [
              "download(\"download_d0c9973d-b971-47a8-868b-09f67ee56618\", \"train.vocab.clean.en\", 355239)"
            ]
          },
          "metadata": {}
        },
        {
          "output_type": "display_data",
          "data": {
            "text/plain": [
              "<IPython.core.display.Javascript object>"
            ],
            "application/javascript": [
              "\n",
              "    async function download(id, filename, size) {\n",
              "      if (!google.colab.kernel.accessAllowed) {\n",
              "        return;\n",
              "      }\n",
              "      const div = document.createElement('div');\n",
              "      const label = document.createElement('label');\n",
              "      label.textContent = `Downloading \"${filename}\": `;\n",
              "      div.appendChild(label);\n",
              "      const progress = document.createElement('progress');\n",
              "      progress.max = size;\n",
              "      div.appendChild(progress);\n",
              "      document.body.appendChild(div);\n",
              "\n",
              "      const buffers = [];\n",
              "      let downloaded = 0;\n",
              "\n",
              "      const channel = await google.colab.kernel.comms.open(id);\n",
              "      // Send a message to notify the kernel that we're ready.\n",
              "      channel.send({})\n",
              "\n",
              "      for await (const message of channel.messages) {\n",
              "        // Send a message to notify the kernel that we're ready.\n",
              "        channel.send({})\n",
              "        if (message.buffers) {\n",
              "          for (const buffer of message.buffers) {\n",
              "            buffers.push(buffer);\n",
              "            downloaded += buffer.byteLength;\n",
              "            progress.value = downloaded;\n",
              "          }\n",
              "        }\n",
              "      }\n",
              "      const blob = new Blob(buffers, {type: 'application/binary'});\n",
              "      const a = document.createElement('a');\n",
              "      a.href = window.URL.createObjectURL(blob);\n",
              "      a.download = filename;\n",
              "      div.appendChild(a);\n",
              "      a.click();\n",
              "      div.remove();\n",
              "    }\n",
              "  "
            ]
          },
          "metadata": {}
        },
        {
          "output_type": "display_data",
          "data": {
            "text/plain": [
              "<IPython.core.display.Javascript object>"
            ],
            "application/javascript": [
              "download(\"download_b24c095e-16d4-4f66-b8aa-1640de8a3918\", \"train.vocab.clean.de\", 424674)"
            ]
          },
          "metadata": {}
        },
        {
          "output_type": "display_data",
          "data": {
            "text/plain": [
              "<IPython.core.display.Javascript object>"
            ],
            "application/javascript": [
              "\n",
              "    async function download(id, filename, size) {\n",
              "      if (!google.colab.kernel.accessAllowed) {\n",
              "        return;\n",
              "      }\n",
              "      const div = document.createElement('div');\n",
              "      const label = document.createElement('label');\n",
              "      label.textContent = `Downloading \"${filename}\": `;\n",
              "      div.appendChild(label);\n",
              "      const progress = document.createElement('progress');\n",
              "      progress.max = size;\n",
              "      div.appendChild(progress);\n",
              "      document.body.appendChild(div);\n",
              "\n",
              "      const buffers = [];\n",
              "      let downloaded = 0;\n",
              "\n",
              "      const channel = await google.colab.kernel.comms.open(id);\n",
              "      // Send a message to notify the kernel that we're ready.\n",
              "      channel.send({})\n",
              "\n",
              "      for await (const message of channel.messages) {\n",
              "        // Send a message to notify the kernel that we're ready.\n",
              "        channel.send({})\n",
              "        if (message.buffers) {\n",
              "          for (const buffer of message.buffers) {\n",
              "            buffers.push(buffer);\n",
              "            downloaded += buffer.byteLength;\n",
              "            progress.value = downloaded;\n",
              "          }\n",
              "        }\n",
              "      }\n",
              "      const blob = new Blob(buffers, {type: 'application/binary'});\n",
              "      const a = document.createElement('a');\n",
              "      a.href = window.URL.createObjectURL(blob);\n",
              "      a.download = filename;\n",
              "      div.appendChild(a);\n",
              "      a.click();\n",
              "      div.remove();\n",
              "    }\n",
              "  "
            ]
          },
          "metadata": {}
        },
        {
          "output_type": "display_data",
          "data": {
            "text/plain": [
              "<IPython.core.display.Javascript object>"
            ],
            "application/javascript": [
              "download(\"download_0b1f2ac5-78e6-4da9-9279-a91b3e43d642\", \"test.en-de.clean.bpe.en\", 64521)"
            ]
          },
          "metadata": {}
        },
        {
          "output_type": "display_data",
          "data": {
            "text/plain": [
              "<IPython.core.display.Javascript object>"
            ],
            "application/javascript": [
              "\n",
              "    async function download(id, filename, size) {\n",
              "      if (!google.colab.kernel.accessAllowed) {\n",
              "        return;\n",
              "      }\n",
              "      const div = document.createElement('div');\n",
              "      const label = document.createElement('label');\n",
              "      label.textContent = `Downloading \"${filename}\": `;\n",
              "      div.appendChild(label);\n",
              "      const progress = document.createElement('progress');\n",
              "      progress.max = size;\n",
              "      div.appendChild(progress);\n",
              "      document.body.appendChild(div);\n",
              "\n",
              "      const buffers = [];\n",
              "      let downloaded = 0;\n",
              "\n",
              "      const channel = await google.colab.kernel.comms.open(id);\n",
              "      // Send a message to notify the kernel that we're ready.\n",
              "      channel.send({})\n",
              "\n",
              "      for await (const message of channel.messages) {\n",
              "        // Send a message to notify the kernel that we're ready.\n",
              "        channel.send({})\n",
              "        if (message.buffers) {\n",
              "          for (const buffer of message.buffers) {\n",
              "            buffers.push(buffer);\n",
              "            downloaded += buffer.byteLength;\n",
              "            progress.value = downloaded;\n",
              "          }\n",
              "        }\n",
              "      }\n",
              "      const blob = new Blob(buffers, {type: 'application/binary'});\n",
              "      const a = document.createElement('a');\n",
              "      a.href = window.URL.createObjectURL(blob);\n",
              "      a.download = filename;\n",
              "      div.appendChild(a);\n",
              "      a.click();\n",
              "      div.remove();\n",
              "    }\n",
              "  "
            ]
          },
          "metadata": {}
        },
        {
          "output_type": "display_data",
          "data": {
            "text/plain": [
              "<IPython.core.display.Javascript object>"
            ],
            "application/javascript": [
              "download(\"download_6341dfbf-a09f-42df-9020-4977e0c256c6\", \"test.en-de.clean.bpe.de\", 71717)"
            ]
          },
          "metadata": {}
        },
        {
          "output_type": "display_data",
          "data": {
            "text/plain": [
              "<IPython.core.display.Javascript object>"
            ],
            "application/javascript": [
              "\n",
              "    async function download(id, filename, size) {\n",
              "      if (!google.colab.kernel.accessAllowed) {\n",
              "        return;\n",
              "      }\n",
              "      const div = document.createElement('div');\n",
              "      const label = document.createElement('label');\n",
              "      label.textContent = `Downloading \"${filename}\": `;\n",
              "      div.appendChild(label);\n",
              "      const progress = document.createElement('progress');\n",
              "      progress.max = size;\n",
              "      div.appendChild(progress);\n",
              "      document.body.appendChild(div);\n",
              "\n",
              "      const buffers = [];\n",
              "      let downloaded = 0;\n",
              "\n",
              "      const channel = await google.colab.kernel.comms.open(id);\n",
              "      // Send a message to notify the kernel that we're ready.\n",
              "      channel.send({})\n",
              "\n",
              "      for await (const message of channel.messages) {\n",
              "        // Send a message to notify the kernel that we're ready.\n",
              "        channel.send({})\n",
              "        if (message.buffers) {\n",
              "          for (const buffer of message.buffers) {\n",
              "            buffers.push(buffer);\n",
              "            downloaded += buffer.byteLength;\n",
              "            progress.value = downloaded;\n",
              "          }\n",
              "        }\n",
              "      }\n",
              "      const blob = new Blob(buffers, {type: 'application/binary'});\n",
              "      const a = document.createElement('a');\n",
              "      a.href = window.URL.createObjectURL(blob);\n",
              "      a.download = filename;\n",
              "      div.appendChild(a);\n",
              "      a.click();\n",
              "      div.remove();\n",
              "    }\n",
              "  "
            ]
          },
          "metadata": {}
        },
        {
          "output_type": "display_data",
          "data": {
            "text/plain": [
              "<IPython.core.display.Javascript object>"
            ],
            "application/javascript": [
              "download(\"download_07376039-c2db-49e0-9d8d-296ce3fd9383\", \"dev.en-de.clean.bpe.en\", 64006)"
            ]
          },
          "metadata": {}
        },
        {
          "output_type": "display_data",
          "data": {
            "text/plain": [
              "<IPython.core.display.Javascript object>"
            ],
            "application/javascript": [
              "\n",
              "    async function download(id, filename, size) {\n",
              "      if (!google.colab.kernel.accessAllowed) {\n",
              "        return;\n",
              "      }\n",
              "      const div = document.createElement('div');\n",
              "      const label = document.createElement('label');\n",
              "      label.textContent = `Downloading \"${filename}\": `;\n",
              "      div.appendChild(label);\n",
              "      const progress = document.createElement('progress');\n",
              "      progress.max = size;\n",
              "      div.appendChild(progress);\n",
              "      document.body.appendChild(div);\n",
              "\n",
              "      const buffers = [];\n",
              "      let downloaded = 0;\n",
              "\n",
              "      const channel = await google.colab.kernel.comms.open(id);\n",
              "      // Send a message to notify the kernel that we're ready.\n",
              "      channel.send({})\n",
              "\n",
              "      for await (const message of channel.messages) {\n",
              "        // Send a message to notify the kernel that we're ready.\n",
              "        channel.send({})\n",
              "        if (message.buffers) {\n",
              "          for (const buffer of message.buffers) {\n",
              "            buffers.push(buffer);\n",
              "            downloaded += buffer.byteLength;\n",
              "            progress.value = downloaded;\n",
              "          }\n",
              "        }\n",
              "      }\n",
              "      const blob = new Blob(buffers, {type: 'application/binary'});\n",
              "      const a = document.createElement('a');\n",
              "      a.href = window.URL.createObjectURL(blob);\n",
              "      a.download = filename;\n",
              "      div.appendChild(a);\n",
              "      a.click();\n",
              "      div.remove();\n",
              "    }\n",
              "  "
            ]
          },
          "metadata": {}
        },
        {
          "output_type": "display_data",
          "data": {
            "text/plain": [
              "<IPython.core.display.Javascript object>"
            ],
            "application/javascript": [
              "download(\"download_4abd6275-71ff-49f7-99c9-7d9f49685b12\", \"dev.en-de.clean.bpe.de\", 72465)"
            ]
          },
          "metadata": {}
        },
        {
          "output_type": "display_data",
          "data": {
            "text/plain": [
              "<IPython.core.display.Javascript object>"
            ],
            "application/javascript": [
              "\n",
              "    async function download(id, filename, size) {\n",
              "      if (!google.colab.kernel.accessAllowed) {\n",
              "        return;\n",
              "      }\n",
              "      const div = document.createElement('div');\n",
              "      const label = document.createElement('label');\n",
              "      label.textContent = `Downloading \"${filename}\": `;\n",
              "      div.appendChild(label);\n",
              "      const progress = document.createElement('progress');\n",
              "      progress.max = size;\n",
              "      div.appendChild(progress);\n",
              "      document.body.appendChild(div);\n",
              "\n",
              "      const buffers = [];\n",
              "      let downloaded = 0;\n",
              "\n",
              "      const channel = await google.colab.kernel.comms.open(id);\n",
              "      // Send a message to notify the kernel that we're ready.\n",
              "      channel.send({})\n",
              "\n",
              "      for await (const message of channel.messages) {\n",
              "        // Send a message to notify the kernel that we're ready.\n",
              "        channel.send({})\n",
              "        if (message.buffers) {\n",
              "          for (const buffer of message.buffers) {\n",
              "            buffers.push(buffer);\n",
              "            downloaded += buffer.byteLength;\n",
              "            progress.value = downloaded;\n",
              "          }\n",
              "        }\n",
              "      }\n",
              "      const blob = new Blob(buffers, {type: 'application/binary'});\n",
              "      const a = document.createElement('a');\n",
              "      a.href = window.URL.createObjectURL(blob);\n",
              "      a.download = filename;\n",
              "      div.appendChild(a);\n",
              "      a.click();\n",
              "      div.remove();\n",
              "    }\n",
              "  "
            ]
          },
          "metadata": {}
        },
        {
          "output_type": "display_data",
          "data": {
            "text/plain": [
              "<IPython.core.display.Javascript object>"
            ],
            "application/javascript": [
              "download(\"download_b9280487-576b-4247-9e80-def3fd04385b\", \"train.en-de.clean.bpe.en\", 6375012)"
            ]
          },
          "metadata": {}
        },
        {
          "output_type": "display_data",
          "data": {
            "text/plain": [
              "<IPython.core.display.Javascript object>"
            ],
            "application/javascript": [
              "\n",
              "    async function download(id, filename, size) {\n",
              "      if (!google.colab.kernel.accessAllowed) {\n",
              "        return;\n",
              "      }\n",
              "      const div = document.createElement('div');\n",
              "      const label = document.createElement('label');\n",
              "      label.textContent = `Downloading \"${filename}\": `;\n",
              "      div.appendChild(label);\n",
              "      const progress = document.createElement('progress');\n",
              "      progress.max = size;\n",
              "      div.appendChild(progress);\n",
              "      document.body.appendChild(div);\n",
              "\n",
              "      const buffers = [];\n",
              "      let downloaded = 0;\n",
              "\n",
              "      const channel = await google.colab.kernel.comms.open(id);\n",
              "      // Send a message to notify the kernel that we're ready.\n",
              "      channel.send({})\n",
              "\n",
              "      for await (const message of channel.messages) {\n",
              "        // Send a message to notify the kernel that we're ready.\n",
              "        channel.send({})\n",
              "        if (message.buffers) {\n",
              "          for (const buffer of message.buffers) {\n",
              "            buffers.push(buffer);\n",
              "            downloaded += buffer.byteLength;\n",
              "            progress.value = downloaded;\n",
              "          }\n",
              "        }\n",
              "      }\n",
              "      const blob = new Blob(buffers, {type: 'application/binary'});\n",
              "      const a = document.createElement('a');\n",
              "      a.href = window.URL.createObjectURL(blob);\n",
              "      a.download = filename;\n",
              "      div.appendChild(a);\n",
              "      a.click();\n",
              "      div.remove();\n",
              "    }\n",
              "  "
            ]
          },
          "metadata": {}
        },
        {
          "output_type": "display_data",
          "data": {
            "text/plain": [
              "<IPython.core.display.Javascript object>"
            ],
            "application/javascript": [
              "download(\"download_9dfe2b21-553c-492a-a645-75760729e3fe\", \"train.en-de.clean.bpe.de\", 7239973)"
            ]
          },
          "metadata": {}
        }
      ]
    }
  ],
  "metadata": {
    "colab": {
      "provenance": [],
      "collapsed_sections": [
        "8VtQ8m5VN9lP"
      ],
      "include_colab_link": true
    },
    "gpuClass": "standard",
    "kernelspec": {
      "display_name": "Python 3",
      "name": "python3"
    },
    "language_info": {
      "name": "python"
    }
  },
  "nbformat": 4,
  "nbformat_minor": 0
}